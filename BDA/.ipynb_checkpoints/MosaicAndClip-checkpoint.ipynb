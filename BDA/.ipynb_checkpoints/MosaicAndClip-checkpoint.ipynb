{
 "cells": [
  {
   "cell_type": "code",
   "execution_count": null,
   "id": "6a8c77b8-9e9e-4e6d-839a-e115c7322237",
   "metadata": {},
   "outputs": [],
   "source": [
    "# Mosaic images\n",
    "\n",
    "# This code doesn't work.\n",
    "from rasterio.plot import show\n",
    "from rasterio.merge import merge\n",
    "import rasterio as rio\n",
    "from pathlib import Path\n",
    "path = Path('Pre-event')\n",
    "Path('output').mkdir(parents=True, exist_ok=True)\n",
    "output_path = 'output/mosaic_output.tif'\n",
    "\n",
    "raster_files = list(path.iterdir())\n",
    "raster_to_mosiac = []\n",
    "\n",
    "for p in raster_files:\n",
    "    raster = rio.open(p)\n",
    "    raster_to_mosiac.append(raster)\n",
    "    \n",
    "\n",
    "mosaic, output = merge(raster_to_mosiac)\n",
    "\n",
    "output_meta = raster.meta.copy()\n",
    "output_meta.update(\n",
    "    {\"driver\": \"GTiff\",\n",
    "        \"height\": mosaic.shape[1],\n",
    "        \"width\": mosaic.shape[2],\n",
    "        \"transform\": output,\n",
    "    }\n",
    ")\n",
    "\n",
    "with rio.open(output_path, \"w\", **output_meta) as m:\n",
    "    m.write(mosaic)"
   ]
  }
 ],
 "metadata": {
  "environment": {
   "kernel": "conda-root-py",
   "name": "workbench-notebooks.m111",
   "type": "gcloud",
   "uri": "gcr.io/deeplearning-platform-release/workbench-notebooks:m111"
  },
  "kernelspec": {
   "display_name": "Python 3",
   "language": "python",
   "name": "conda-root-py"
  },
  "language_info": {
   "codemirror_mode": {
    "name": "ipython",
    "version": 3
   },
   "file_extension": ".py",
   "mimetype": "text/x-python",
   "name": "python",
   "nbconvert_exporter": "python",
   "pygments_lexer": "ipython3",
   "version": "3.10.12"
  }
 },
 "nbformat": 4,
 "nbformat_minor": 5
}
