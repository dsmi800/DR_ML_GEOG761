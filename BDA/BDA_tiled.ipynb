{
 "cells": [
  {
   "cell_type": "code",
   "execution_count": null,
   "id": "4b351dff-e6db-4b10-98cd-8d48ba6cd256",
   "metadata": {},
   "outputs": [],
   "source": [
    "!pip install changeos"
   ]
  },
  {
   "cell_type": "code",
   "execution_count": null,
   "id": "219822f3-9567-4605-aed5-7d20fc046f42",
   "metadata": {},
   "outputs": [],
   "source": [
    "import rasterio\n",
    "import numpy as np\n",
    "import changeos"
   ]
  },
  {
   "cell_type": "code",
   "execution_count": 11,
   "id": "ce2c4f03-f69b-420a-b9d9-c4cbf48687cc",
   "metadata": {},
   "outputs": [
    {
     "name": "stdout",
     "output_type": "stream",
     "text": [
      "<PIL.Image.Image image mode=L size=1024x1024 at 0x7F60E50B4190>\n"
     ]
    }
   ],
   "source": [
    "# read in the tiled TIFF files as 3 dimension RGB numpy files\n",
    "    \n",
    "import rasterio\n",
    "from PIL import Image\n",
    "\n",
    "# Open the GeoTIFF file\n",
    "with rasterio.open('pre_vrt_tiled_v2.tif') as src:\n",
    "    \n",
    "    # Read the first tile (assuming it's a 3-channel RGB image)\n",
    "    tile = src.read(1, window=((0, src.block_shapes[0][0]), (0, src.block_shapes[1][0])))\n",
    "\n",
    "    # Convert the tile to a 3-channel (RGB) image\n",
    "    pre_tile_rgb = Image.fromarray(tile)\n",
    "    \n",
    "\n",
    "print(pre_tile_rgb)\n",
    " "
   ]
  },
  {
   "cell_type": "code",
   "execution_count": 14,
   "id": "76d5bb9a-e1f2-455a-af47-f12e648b92b7",
   "metadata": {},
   "outputs": [
    {
     "name": "stdout",
     "output_type": "stream",
     "text": [
      "(1024, 1024, 3)\n"
     ]
    }
   ],
   "source": [
    "import numpy as np\n",
    "\n",
    "# Convert the PIL image to a NumPy array\n",
    "pre_tile_array = np.array(pre_tile_rgb)\n",
    "\n",
    "# Create an empty 3-channel (RGB) array with the same dimensions\n",
    "pre_rgb_array = np.empty((pre_tile_array.shape[0], pre_tile_array.shape[1], 3), dtype=np.uint8)\n",
    "\n",
    "# Copy the grayscale channel to all three RGB channels\n",
    "pre_rgb_array[:,:,0] = pre_tile_array\n",
    "pre_rgb_array[:,:,1] = pre_tile_array\n",
    "pre_rgb_array[:,:,2] = pre_tile_array\n",
    "\n",
    "# Check the shape of the RGB array\n",
    "print(pre_rgb_array.shape)"
   ]
  },
  {
   "cell_type": "code",
   "execution_count": 15,
   "id": "c0a22be4-3fde-488c-8b63-ab4dd5d462a3",
   "metadata": {},
   "outputs": [
    {
     "name": "stdout",
     "output_type": "stream",
     "text": [
      "<PIL.Image.Image image mode=L size=1024x1024 at 0x7F60E50724D0>\n"
     ]
    }
   ],
   "source": [
    "# read in the tiled TIFF files as 3 dimension RGB numpy files\n",
    "    \n",
    "import rasterio\n",
    "from PIL import Image\n",
    "\n",
    "# Open the GeoTIFF file\n",
    "with rasterio.open('post_vrt_tiled_v2.tif') as src:\n",
    "    # Read the first tile (assuming it's a 3-channel RGB image)\n",
    "    \n",
    "    tile = src.read(1, window=((0, src.block_shapes[0][0]), (0, src.block_shapes[1][0])))\n",
    "\n",
    "    # Convert the tile to a 3-channel (RGB) image\n",
    "    post_tile_rgb = Image.fromarray(tile)\n",
    "    \n",
    "\n",
    "print(post_tile_rgb)\n",
    " "
   ]
  },
  {
   "cell_type": "code",
   "execution_count": 16,
   "id": "7721d7dc-10d6-417b-92b7-617f61b34e8a",
   "metadata": {},
   "outputs": [
    {
     "name": "stdout",
     "output_type": "stream",
     "text": [
      "(1024, 1024, 3)\n"
     ]
    }
   ],
   "source": [
    "import numpy as np\n",
    "\n",
    "# Convert the PIL image to a NumPy array\n",
    "post_tile_array = np.array(post_tile_rgb)\n",
    "\n",
    "# Create an empty 3-channel (RGB) array with the same dimensions\n",
    "post_rgb_array = np.empty((post_tile_array.shape[0], post_tile_array.shape[1], 3), dtype=np.uint8)\n",
    "\n",
    "# Copy the grayscale channel to all three RGB channels\n",
    "post_rgb_array[:,:,0] = post_tile_array\n",
    "post_rgb_array[:,:,1] = post_tile_array\n",
    "post_rgb_array[:,:,2] = post_tile_array\n",
    "\n",
    "# Check the shape of the RGB array\n",
    "print(post_rgb_array.shape)"
   ]
  },
  {
   "cell_type": "code",
   "execution_count": 18,
   "id": "4e361698-7353-4ae5-b95e-825f838dfb11",
   "metadata": {},
   "outputs": [
    {
     "data": {
      "image/png": "[encoded data removed]",
      "text/plain": [
       "<Figure size 640x480 with 2 Axes>"
      ]
     },
     "metadata": {},
     "output_type": "display_data"
    }
   ],
   "source": [
    "# constructing ChangeOS model\n",
    "\n",
    "import changeos\n",
    "# support 'changeos_r18', 'changeos_r34', 'changeos_r50', 'changeos_r101'\n",
    "model = changeos.from_name('changeos_r101') # take 'changeos_r101' as example\n",
    "\n",
    "\n",
    "pre_disaster_image = pre_rgb_array\n",
    "post_disaster_image = post_rgb_array\n",
    "\n",
    "# model inference\n",
    "loc, dam = model(pre_disaster_image, post_disaster_image)\n",
    "\n",
    "# put color map on raw prediction\n",
    "loc, dam = changeos.visualize(loc, dam)\n",
    "\n",
    "# visualize by matplotlib\n",
    "import matplotlib.pyplot as plt\n",
    "plt.subplot(121)\n",
    "plt.imshow(loc)\n",
    "plt.subplot(122)\n",
    "plt.imshow(dam)\n",
    "plt.show()"
   ]
  },
  {
   "cell_type": "code",
   "execution_count": null,
   "id": "bf04382d-93de-42d2-90ec-b5cc2aa7aec3",
   "metadata": {},
   "outputs": [],
   "source": [
    "#set up visualize of the tiles in RGB\n",
    "# Pre / Post\n",
    "\n",
    "\n",
    "\n"
   ]
  },
  {
   "cell_type": "code",
   "execution_count": null,
   "id": "e3a4c531-a4cd-4779-82d5-98cd70df0de7",
   "metadata": {},
   "outputs": [],
   "source": [
    "# Change visualize approach to something way better\n",
    "\n",
    "\n",
    "\n"
   ]
  },
  {
   "cell_type": "code",
   "execution_count": null,
   "id": "1b6faa10-b1ad-4b54-bf96-169dcd48b5bf",
   "metadata": {},
   "outputs": [],
   "source": [
    "# Okay so that works!!!! No damage detected in that tile (which is correct!!!!)"
   ]
  },
  {
   "cell_type": "code",
   "execution_count": null,
   "id": "58832c1f-bd44-44d4-82d4-83f9e060766a",
   "metadata": {},
   "outputs": [],
   "source": [
    "#Now:\n",
    "\"\"\"\n",
    "Create a for loop for each tile in the mosaics that:\n",
    " ---- gets the tiles\n",
    " ---- converts to 3D numpy array \n",
    " ---- apply BDA (changeos)\n",
    " ---- save the dam and loc variables\n",
    " ---- append each tiled dam and loc to a new numpy array for the entire AOI (IDK if this will work)\n",
    " ---- visualize the full AOI "
   ]
  },
  {
   "cell_type": "markdown",
   "id": "37d485c0-a6bd-47ce-8e17-d4f72316bafa",
   "metadata": {},
   "source": [
    "BDA for entire AOI without using the Tiles!"
   ]
  },
  {
   "cell_type": "code",
   "execution_count": 2,
   "id": "f7d54989-cb3f-4199-899b-489686840ad8",
   "metadata": {},
   "outputs": [
    {
     "name": "stdout",
     "output_type": "stream",
     "text": [
      "<PIL.Image.Image image mode=L size=99328x82944 at 0x7F583133BC70>\n",
      "(82944, 99328, 3)\n"
     ]
    }
   ],
   "source": [
    "# RUN BDA for entire AOI\n",
    "\n",
    "# read in the tiled TIFF files as 3 dimension RGB numpy files\n",
    "    \n",
    "import rasterio\n",
    "from PIL import Image\n",
    "import numpy as np\n",
    "\n",
    "# Open the GeoTIFF file\n",
    "with rasterio.open('pre_vrt_tiled_v2.tif') as src:\n",
    "    \n",
    "    # Read the first tile (assuming it's a 3-channel RGB image)\n",
    "    tile = src.read(1)\n",
    "\n",
    "    # Convert the tile to a 3-channel (RGB) image\n",
    "    pre_tile_rgb = Image.fromarray(tile)\n",
    "    \n",
    "\n",
    "print(pre_tile_rgb)\n",
    "\n",
    "\n",
    "# Convert the PIL image to a NumPy array\n",
    "pre_tile_array = np.array(pre_tile_rgb)\n",
    "\n",
    "# Create an empty 3-channel (RGB) array with the same dimensions\n",
    "pre_rgb_array = np.empty((pre_tile_array.shape[0], pre_tile_array.shape[1], 3), dtype=np.uint8)\n",
    "\n",
    "# Copy the grayscale channel to all three RGB channels\n",
    "pre_rgb_array[:,:,0] = pre_tile_array\n",
    "pre_rgb_array[:,:,1] = pre_tile_array\n",
    "pre_rgb_array[:,:,2] = pre_tile_array\n",
    "\n",
    "# Check the shape of the RGB array\n",
    "print(pre_rgb_array.shape)\n",
    " "
   ]
  },
  {
   "cell_type": "code",
   "execution_count": 3,
   "id": "69ab932d-37ab-456a-a042-c82f6725f8e4",
   "metadata": {},
   "outputs": [
    {
     "name": "stdout",
     "output_type": "stream",
     "text": [
      "<PIL.Image.Image image mode=L size=99328x82944 at 0x7F5838E4BFA0>\n",
      "(82944, 99328, 3)\n"
     ]
    }
   ],
   "source": [
    "# read in the tiled TIFF files as 3 dimension RGB numpy files\n",
    "    \n",
    "import rasterio\n",
    "from PIL import Image\n",
    "\n",
    "# Open the GeoTIFF file\n",
    "with rasterio.open('post_vrt_tiled_v2.tif') as src:\n",
    "    # Read the first tile (assuming it's a 3-channel RGB image)\n",
    "    \n",
    "    tile = src.read(1)\n",
    "\n",
    "    # Convert the tile to a 3-channel (RGB) image\n",
    "    post_tile_rgb = Image.fromarray(tile)\n",
    "    \n",
    "\n",
    "print(post_tile_rgb)\n",
    "\n",
    "import numpy as np\n",
    "\n",
    "# Convert the PIL image to a NumPy array\n",
    "post_tile_array = np.array(post_tile_rgb)\n",
    "\n",
    "# Create an empty 3-channel (RGB) array with the same dimensions\n",
    "post_rgb_array = np.empty((post_tile_array.shape[0], post_tile_array.shape[1], 3), dtype=np.uint8)\n",
    "\n",
    "# Copy the grayscale channel to all three RGB channels\n",
    "post_rgb_array[:,:,0] = post_tile_array\n",
    "post_rgb_array[:,:,1] = post_tile_array\n",
    "post_rgb_array[:,:,2] = post_tile_array\n",
    "\n",
    "# Check the shape of the RGB array\n",
    "print(post_rgb_array.shape)\n",
    " "
   ]
  },
  {
   "cell_type": "code",
   "execution_count": null,
   "id": "9b6450c6-2d3c-41ec-812d-b8fa931af105",
   "metadata": {},
   "outputs": [],
   "source": [
    "# constructing ChangeOS model for the entire AOI\n",
    "\n",
    "import changeos\n",
    "# support 'changeos_r18', 'changeos_r34', 'changeos_r50', 'changeos_r101'\n",
    "model = changeos.from_name('changeos_r101') # take 'changeos_r101' as example\n",
    "\n",
    "\n",
    "pre_disaster_image = pre_rgb_array\n",
    "post_disaster_image = post_rgb_array\n",
    "\n",
    "# model inference\n",
    "loc, dam = model(pre_disaster_image, post_disaster_image)\n",
    "\n",
    "# put color map on raw prediction\n",
    "loc, dam = changeos.visualize(loc, dam)\n",
    "\n",
    "# visualize by matplotlib\n",
    "import matplotlib.pyplot as plt\n",
    "plt.subplot(121)\n",
    "plt.imshow(loc)\n",
    "plt.subplot(122)\n",
    "plt.imshow(dam)\n",
    "plt.show()"
   ]
  },
  {
   "cell_type": "code",
   "execution_count": null,
   "id": "d00bb11c-3bf7-49a6-85ba-8fa4827c763a",
   "metadata": {},
   "outputs": [],
   "source": []
  }
 ],
 "metadata": {
  "environment": {
   "kernel": "conda-env-pytorch-pytorch",
   "name": "workbench-notebooks.m111",
   "type": "gcloud",
   "uri": "gcr.io/deeplearning-platform-release/workbench-notebooks:m111"
  },
  "kernelspec": {
   "display_name": "PyTorch 1-13",
   "language": "python",
   "name": "conda-env-pytorch-pytorch"
  },
  "language_info": {
   "codemirror_mode": {
    "name": "ipython",
    "version": 3
   },
   "file_extension": ".py",
   "mimetype": "text/x-python",
   "name": "python",
   "nbconvert_exporter": "python",
   "pygments_lexer": "ipython3",
   "version": "3.10.12"
  }
 },
 "nbformat": 4,
 "nbformat_minor": 5
}
