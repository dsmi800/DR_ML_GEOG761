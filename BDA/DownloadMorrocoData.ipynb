{
 "cells": [
  {
   "cell_type": "markdown",
   "id": "176518c1",
   "metadata": {},
   "source": [
    "[![image](https://jupyterlite.rtfd.io/en/latest/_static/badge.svg)](https://demo.leafmap.org/lab/index.html?path=notebooks/69_turkey_earthquake.ipynb)\n",
    "[![image](https://studiolab.sagemaker.aws/studiolab.svg)](https://studiolab.sagemaker.aws/import/github/opengeos/leafmap/blob/master/examples/notebooks/69_turkey_earthquake.ipynb)\n",
    "[![image](https://img.shields.io/badge/Open-Planetary%20Computer-black?style=flat&logo=microsoft)](https://pccompute.westeurope.cloudapp.azure.com/compute/hub/user-redirect/git-pull?repo=https://github.com/opengeos/leafmap&urlpath=lab/tree/leafmap/examples/notebooks/69_turkey_earthquake.ipynb&branch=master)\n",
    "[![image](https://colab.research.google.com/assets/colab-badge.svg)](https://githubtocolab.com/opengeos/leafmap/blob/master/examples/notebooks/69_turkey_earthquake.ipynb)\n",
    "[![image](https://mybinder.org/badge_logo.svg)](https://gishub.org/leafmap-binder)\n",
    "\n",
    "**Visualizing Maxar Open Data for the 2023 Turkey-Syria Earthquake**\n",
    "\n",
    "The [Maxar Open Data Program](https://www.maxar.com/open-data) provides pre- and post-event high-resolution satellite imagery in support of emergency planning, risk assessment, monitoring of staging areas and emergency response, damage assessment, and recovery. Check out the links below for more information.\n",
    "- [Maxar Open Data Program](https://www.maxar.com/open-data)\n",
    "- [Maxar Open Data on AWS](https://registry.opendata.aws/maxar-open-data/)\n",
    "- [Maxar Open Data on STAC Index](https://stacindex.org/catalogs/maxar-open-data-catalog-ard-format#/)\n",
    "- [Maxar Open Data on STAC Browser](https://radiantearth.github.io/stac-browser/#/external/maxar-opendata.s3.amazonaws.com/events/catalog.json?.language=en)\n",
    "- [Maxar Open Data in CSV, GeoJSON, and MosaicJSON formats](https://github.com/giswqs/maxar-open-data)\n",
    "\n",
    "This notebook shows how to visualize and download the Maxar Open Data for the 2023 Turkey Earthquake using leafmap.\n",
    "\n",
    "First, install libraries and import modules."
   ]
  },
  {
   "cell_type": "code",
   "execution_count": null,
   "id": "fbeec97c-98b5-4bbf-aeef-526092458ccc",
   "metadata": {},
   "outputs": [],
   "source": [
    "See: https://colab.research.google.com/github/opengeos/leafmap/blob/master/examples/notebooks/69_turkey_earthquake.ipynb#scrollTo=RjBT5Ichv9-s"
   ]
  },
  {
   "cell_type": "code",
   "execution_count": 1,
   "id": "88a03618",
   "metadata": {},
   "outputs": [
    {
     "name": "stdout",
     "output_type": "stream",
     "text": [
      "Requirement already satisfied: leafmap in /opt/conda/lib/python3.10/site-packages (0.25.2)\n",
      "Requirement already satisfied: geopandas in /opt/conda/lib/python3.10/site-packages (0.14.0)\n",
      "Requirement already satisfied: bqplot in /opt/conda/lib/python3.10/site-packages (from leafmap) (0.12.40)\n",
      "Requirement already satisfied: colour in /opt/conda/lib/python3.10/site-packages (from leafmap) (0.1.5)\n",
      "Requirement already satisfied: folium in /opt/conda/lib/python3.10/site-packages (from leafmap) (0.14.0)\n",
      "Requirement already satisfied: gdown in /opt/conda/lib/python3.10/site-packages (from leafmap) (4.7.1)\n",
      "Requirement already satisfied: geojson in /opt/conda/lib/python3.10/site-packages (from leafmap) (3.0.1)\n",
      "Requirement already satisfied: ipyevents in /opt/conda/lib/python3.10/site-packages (from leafmap) (2.0.2)\n",
      "Requirement already satisfied: ipyfilechooser in /opt/conda/lib/python3.10/site-packages (from leafmap) (0.6.0)\n",
      "Requirement already satisfied: ipyleaflet in /opt/conda/lib/python3.10/site-packages (from leafmap) (0.17.4)\n",
      "Requirement already satisfied: ipywidgets in /opt/conda/lib/python3.10/site-packages (from leafmap) (8.1.0)\n",
      "Requirement already satisfied: matplotlib in /opt/conda/lib/python3.10/site-packages (from leafmap) (3.7.2)\n",
      "Requirement already satisfied: numpy in /opt/conda/lib/python3.10/site-packages (from leafmap) (1.23.5)\n",
      "Requirement already satisfied: pandas in /opt/conda/lib/python3.10/site-packages (from leafmap) (2.0.3)\n",
      "Requirement already satisfied: pyshp in /opt/conda/lib/python3.10/site-packages (from leafmap) (2.3.1)\n",
      "Requirement already satisfied: pystac-client in /opt/conda/lib/python3.10/site-packages (from leafmap) (0.7.5)\n",
      "Requirement already satisfied: python-box in /opt/conda/lib/python3.10/site-packages (from leafmap) (7.1.1)\n",
      "Requirement already satisfied: scooby in /opt/conda/lib/python3.10/site-packages (from leafmap) (0.7.2)\n",
      "Requirement already satisfied: whiteboxgui in /opt/conda/lib/python3.10/site-packages (from leafmap) (2.3.0)\n",
      "Requirement already satisfied: xyzservices in /opt/conda/lib/python3.10/site-packages (from leafmap) (2023.7.0)\n",
      "Requirement already satisfied: fiona>=1.8.21 in /opt/conda/lib/python3.10/site-packages (from geopandas) (1.9.4.post1)\n",
      "Requirement already satisfied: packaging in /opt/conda/lib/python3.10/site-packages (from geopandas) (23.1)\n",
      "Requirement already satisfied: pyproj>=3.3.0 in /opt/conda/lib/python3.10/site-packages (from geopandas) (3.6.0)\n",
      "Requirement already satisfied: shapely>=1.8.0 in /opt/conda/lib/python3.10/site-packages (from geopandas) (2.0.1)\n",
      "Requirement already satisfied: attrs>=19.2.0 in /opt/conda/lib/python3.10/site-packages (from fiona>=1.8.21->geopandas) (23.1.0)\n",
      "Requirement already satisfied: certifi in /opt/conda/lib/python3.10/site-packages (from fiona>=1.8.21->geopandas) (2023.7.22)\n",
      "Requirement already satisfied: click~=8.0 in /opt/conda/lib/python3.10/site-packages (from fiona>=1.8.21->geopandas) (8.1.7)\n",
      "Requirement already satisfied: click-plugins>=1.0 in /opt/conda/lib/python3.10/site-packages (from fiona>=1.8.21->geopandas) (1.1.1)\n",
      "Requirement already satisfied: cligj>=0.5 in /opt/conda/lib/python3.10/site-packages (from fiona>=1.8.21->geopandas) (0.7.2)\n",
      "Requirement already satisfied: six in /opt/conda/lib/python3.10/site-packages (from fiona>=1.8.21->geopandas) (1.16.0)\n",
      "Requirement already satisfied: python-dateutil>=2.8.2 in /opt/conda/lib/python3.10/site-packages (from pandas->leafmap) (2.8.2)\n",
      "Requirement already satisfied: pytz>=2020.1 in /opt/conda/lib/python3.10/site-packages (from pandas->leafmap) (2023.3)\n",
      "Requirement already satisfied: tzdata>=2022.1 in /opt/conda/lib/python3.10/site-packages (from pandas->leafmap) (2023.3)\n",
      "Requirement already satisfied: traitlets>=4.3.0 in /opt/conda/lib/python3.10/site-packages (from bqplot->leafmap) (5.9.0)\n",
      "Requirement already satisfied: traittypes>=0.0.6 in /opt/conda/lib/python3.10/site-packages (from bqplot->leafmap) (0.2.1)\n",
      "Requirement already satisfied: comm>=0.1.3 in /opt/conda/lib/python3.10/site-packages (from ipywidgets->leafmap) (0.1.4)\n",
      "Requirement already satisfied: ipython>=6.1.0 in /opt/conda/lib/python3.10/site-packages (from ipywidgets->leafmap) (8.14.0)\n",
      "Requirement already satisfied: widgetsnbextension~=4.0.7 in /opt/conda/lib/python3.10/site-packages (from ipywidgets->leafmap) (4.0.8)\n",
      "Requirement already satisfied: jupyterlab-widgets~=3.0.7 in /opt/conda/lib/python3.10/site-packages (from ipywidgets->leafmap) (3.0.8)\n",
      "Requirement already satisfied: branca>=0.6.0 in /opt/conda/lib/python3.10/site-packages (from folium->leafmap) (0.6.0)\n",
      "Requirement already satisfied: jinja2>=2.9 in /opt/conda/lib/python3.10/site-packages (from folium->leafmap) (3.1.2)\n",
      "Requirement already satisfied: requests in /opt/conda/lib/python3.10/site-packages (from folium->leafmap) (2.31.0)\n",
      "Requirement already satisfied: filelock in /opt/conda/lib/python3.10/site-packages (from gdown->leafmap) (3.12.2)\n",
      "Requirement already satisfied: tqdm in /opt/conda/lib/python3.10/site-packages (from gdown->leafmap) (4.66.1)\n",
      "Requirement already satisfied: beautifulsoup4 in /opt/conda/lib/python3.10/site-packages (from gdown->leafmap) (4.12.2)\n",
      "Requirement already satisfied: contourpy>=1.0.1 in /opt/conda/lib/python3.10/site-packages (from matplotlib->leafmap) (1.1.0)\n",
      "Requirement already satisfied: cycler>=0.10 in /opt/conda/lib/python3.10/site-packages (from matplotlib->leafmap) (0.11.0)\n",
      "Requirement already satisfied: fonttools>=4.22.0 in /opt/conda/lib/python3.10/site-packages (from matplotlib->leafmap) (4.42.1)\n",
      "Requirement already satisfied: kiwisolver>=1.0.1 in /opt/conda/lib/python3.10/site-packages (from matplotlib->leafmap) (1.4.4)\n",
      "Requirement already satisfied: pillow>=6.2.0 in /opt/conda/lib/python3.10/site-packages (from matplotlib->leafmap) (10.0.0)\n",
      "Requirement already satisfied: pyparsing<3.1,>=2.3.1 in /opt/conda/lib/python3.10/site-packages (from matplotlib->leafmap) (3.0.9)\n",
      "Requirement already satisfied: pystac[validation]>=1.8.2 in /opt/conda/lib/python3.10/site-packages (from pystac-client->leafmap) (1.8.3)\n",
      "Requirement already satisfied: ipytree in /opt/conda/lib/python3.10/site-packages (from whiteboxgui->leafmap) (0.2.2)\n",
      "Requirement already satisfied: whitebox in /opt/conda/lib/python3.10/site-packages (from whiteboxgui->leafmap) (2.3.1)\n",
      "Requirement already satisfied: backcall in /opt/conda/lib/python3.10/site-packages (from ipython>=6.1.0->ipywidgets->leafmap) (0.2.0)\n",
      "Requirement already satisfied: decorator in /opt/conda/lib/python3.10/site-packages (from ipython>=6.1.0->ipywidgets->leafmap) (5.1.1)\n",
      "Requirement already satisfied: jedi>=0.16 in /opt/conda/lib/python3.10/site-packages (from ipython>=6.1.0->ipywidgets->leafmap) (0.19.0)\n",
      "Requirement already satisfied: matplotlib-inline in /opt/conda/lib/python3.10/site-packages (from ipython>=6.1.0->ipywidgets->leafmap) (0.1.6)\n",
      "Requirement already satisfied: pickleshare in /opt/conda/lib/python3.10/site-packages (from ipython>=6.1.0->ipywidgets->leafmap) (0.7.5)\n",
      "Requirement already satisfied: prompt-toolkit!=3.0.37,<3.1.0,>=3.0.30 in /opt/conda/lib/python3.10/site-packages (from ipython>=6.1.0->ipywidgets->leafmap) (3.0.39)\n",
      "Requirement already satisfied: pygments>=2.4.0 in /opt/conda/lib/python3.10/site-packages (from ipython>=6.1.0->ipywidgets->leafmap) (2.16.1)\n",
      "Requirement already satisfied: stack-data in /opt/conda/lib/python3.10/site-packages (from ipython>=6.1.0->ipywidgets->leafmap) (0.6.2)\n",
      "Requirement already satisfied: pexpect>4.3 in /opt/conda/lib/python3.10/site-packages (from ipython>=6.1.0->ipywidgets->leafmap) (4.8.0)\n",
      "Requirement already satisfied: MarkupSafe>=2.0 in /opt/conda/lib/python3.10/site-packages (from jinja2>=2.9->folium->leafmap) (2.1.3)\n",
      "Requirement already satisfied: jsonschema<4.18,>=4.0.1 in /opt/conda/lib/python3.10/site-packages (from pystac[validation]>=1.8.2->pystac-client->leafmap) (4.17.3)\n",
      "Requirement already satisfied: charset-normalizer<4,>=2 in /opt/conda/lib/python3.10/site-packages (from requests->folium->leafmap) (3.2.0)\n",
      "Requirement already satisfied: idna<4,>=2.5 in /opt/conda/lib/python3.10/site-packages (from requests->folium->leafmap) (3.4)\n",
      "Requirement already satisfied: urllib3<3,>=1.21.1 in /opt/conda/lib/python3.10/site-packages (from requests->folium->leafmap) (1.26.16)\n",
      "Requirement already satisfied: soupsieve>1.2 in /opt/conda/lib/python3.10/site-packages (from beautifulsoup4->gdown->leafmap) (2.3.2.post1)\n",
      "Requirement already satisfied: PySocks!=1.5.7,>=1.5.6 in /opt/conda/lib/python3.10/site-packages (from requests->folium->leafmap) (1.7.1)\n",
      "Requirement already satisfied: parso<0.9.0,>=0.8.3 in /opt/conda/lib/python3.10/site-packages (from jedi>=0.16->ipython>=6.1.0->ipywidgets->leafmap) (0.8.3)\n",
      "Requirement already satisfied: pyrsistent!=0.17.0,!=0.17.1,!=0.17.2,>=0.14.0 in /opt/conda/lib/python3.10/site-packages (from jsonschema<4.18,>=4.0.1->pystac[validation]>=1.8.2->pystac-client->leafmap) (0.19.3)\n",
      "Requirement already satisfied: ptyprocess>=0.5 in /opt/conda/lib/python3.10/site-packages (from pexpect>4.3->ipython>=6.1.0->ipywidgets->leafmap) (0.7.0)\n",
      "Requirement already satisfied: wcwidth in /opt/conda/lib/python3.10/site-packages (from prompt-toolkit!=3.0.37,<3.1.0,>=3.0.30->ipython>=6.1.0->ipywidgets->leafmap) (0.2.6)\n",
      "Requirement already satisfied: executing>=1.2.0 in /opt/conda/lib/python3.10/site-packages (from stack-data->ipython>=6.1.0->ipywidgets->leafmap) (1.2.0)\n",
      "Requirement already satisfied: asttokens>=2.1.0 in /opt/conda/lib/python3.10/site-packages (from stack-data->ipython>=6.1.0->ipywidgets->leafmap) (2.2.1)\n",
      "Requirement already satisfied: pure-eval in /opt/conda/lib/python3.10/site-packages (from stack-data->ipython>=6.1.0->ipywidgets->leafmap) (0.2.2)\n"
     ]
    }
   ],
   "source": [
    "!pip install -U leafmap geopandas"
   ]
  },
  {
   "cell_type": "code",
   "execution_count": 19,
   "id": "db3ea3b2",
   "metadata": {},
   "outputs": [],
   "source": [
    "import leafmap\n",
    "import geopandas as gpd"
   ]
  },
  {
   "cell_type": "markdown",
   "id": "3919d0a7",
   "metadata": {},
   "source": [
    "Retrieve all collections from the Maxar Open Data STAC catalog. Each collection represents a single event."
   ]
  },
  {
   "cell_type": "code",
   "execution_count": 20,
   "id": "a534fb62",
   "metadata": {},
   "outputs": [
    {
     "data": {
      "text/plain": [
       "['BayofBengal-Cyclone-Mocha-May-23',\n",
       " 'Emilia-Romagna-Italy-flooding-may23',\n",
       " 'Gambia-flooding-8-11-2022',\n",
       " 'Hurricane-Fiona-9-19-2022',\n",
       " 'Hurricane-Ian-9-26-2022',\n",
       " 'Hurricane-Idalia-Florida-Aug23',\n",
       " 'Indonesia-Earthquake22',\n",
       " 'Kahramanmaras-turkey-earthquake-23',\n",
       " 'Kalehe-DRC-Flooding-5-8-23',\n",
       " 'Libya-Floods-Sept-2023',\n",
       " 'Marshall-Fire-21-Update',\n",
       " 'Maui-Hawaii-fires-Aug-23',\n",
       " 'McDougallCreekWildfire-BC-Canada-Aug-23',\n",
       " 'Morocco-Earthquake-Sept-2023',\n",
       " 'NWT-Canada-Aug-23',\n",
       " 'New-Zealand-Flooding22',\n",
       " 'New-Zealand-Flooding23',\n",
       " 'Sudan-flooding-8-22-2022',\n",
       " 'afghanistan-earthquake22',\n",
       " 'cyclone-emnati22',\n",
       " 'ghana-explosion22',\n",
       " 'kentucky-flooding-7-29-2022',\n",
       " 'pakistan-flooding22',\n",
       " 'shovi-georgia-landslide-8Aug23',\n",
       " 'southafrica-flooding22',\n",
       " 'tonga-volcano21',\n",
       " 'volcano-indonesia21',\n",
       " 'yellowstone-flooding22']"
      ]
     },
     "execution_count": 20,
     "metadata": {},
     "output_type": "execute_result"
    }
   ],
   "source": [
    "leafmap.maxar_collections()"
   ]
  },
  {
   "cell_type": "markdown",
   "id": "19c63169",
   "metadata": {},
   "source": [
    "The collection ID for the 2023 Turkey Earthquake is `Kahramanmaras-turkey-earthquake-23`. We can get the footprints ([geojson](https://github.com/giswqs/maxar-open-data/blob/master/datasets/Kahramanmaras-turkey-earthquake-23.geojson), [tsv](https://github.com/giswqs/maxar-open-data/blob/master/datasets/Kahramanmaras-turkey-earthquake-23.tsv)) of the event from the [Maxar Open Data GitHub repo](https://github.com/giswqs/maxar-open-data):"
   ]
  },
  {
   "cell_type": "code",
   "execution_count": 21,
   "id": "36932f26",
   "metadata": {},
   "outputs": [
    {
     "data": {
      "text/plain": [
       "'https://raw.githubusercontent.com/giswqs/maxar-open-data/master/datasets/Morocco-Earthquake-Sept-2023.geojson'"
      ]
     },
     "execution_count": 21,
     "metadata": {},
     "output_type": "execute_result"
    }
   ],
   "source": [
    "collection = 'Morocco-Earthquake-Sept-2023'\n",
    "url = leafmap.maxar_collection_url(collection, dtype='geojson')\n",
    "url"
   ]
  },
  {
   "cell_type": "markdown",
   "id": "5569f626",
   "metadata": {},
   "source": [
    "Let's find out how many images are available for the event:"
   ]
  },
  {
   "cell_type": "code",
   "execution_count": 22,
   "id": "fdcccc9e",
   "metadata": {},
   "outputs": [
    {
     "name": "stdout",
     "output_type": "stream",
     "text": [
      "Total number of images: 8724\n"
     ]
    },
    {
     "data": {
      "text/html": [
       "<div>\n",
       "<style scoped>\n",
       "    .dataframe tbody tr th:only-of-type {\n",
       "        vertical-align: middle;\n",
       "    }\n",
       "\n",
       "    .dataframe tbody tr th {\n",
       "        vertical-align: top;\n",
       "    }\n",
       "\n",
       "    .dataframe thead th {\n",
       "        text-align: right;\n",
       "    }\n",
       "</style>\n",
       "<table border=\"1\" class=\"dataframe\">\n",
       "  <thead>\n",
       "    <tr style=\"text-align: right;\">\n",
       "      <th></th>\n",
       "      <th>datetime</th>\n",
       "      <th>platform</th>\n",
       "      <th>gsd</th>\n",
       "      <th>ard_metadata_version</th>\n",
       "      <th>catalog_id</th>\n",
       "      <th>utm_zone</th>\n",
       "      <th>quadkey</th>\n",
       "      <th>view:off_nadir</th>\n",
       "      <th>view:azimuth</th>\n",
       "      <th>view:incidence_angle</th>\n",
       "      <th>view:sun_azimuth</th>\n",
       "      <th>view:sun_elevation</th>\n",
       "      <th>proj:epsg</th>\n",
       "      <th>grid:code</th>\n",
       "      <th>proj:bbox</th>\n",
       "      <th>tile:data_area</th>\n",
       "      <th>tile:clouds_area</th>\n",
       "      <th>tile:clouds_percent</th>\n",
       "      <th>visual</th>\n",
       "      <th>geometry</th>\n",
       "    </tr>\n",
       "  </thead>\n",
       "  <tbody>\n",
       "    <tr>\n",
       "      <th>0</th>\n",
       "      <td>2010-06-02 11:32:07+00:00</td>\n",
       "      <td>WV02</td>\n",
       "      <td>0.48</td>\n",
       "      <td>0.0.1</td>\n",
       "      <td>1030050003F8D200</td>\n",
       "      <td>29</td>\n",
       "      <td>120200221320</td>\n",
       "      <td>10.0</td>\n",
       "      <td>11.3</td>\n",
       "      <td>78.8</td>\n",
       "      <td>123.4</td>\n",
       "      <td>73.7</td>\n",
       "      <td>32629</td>\n",
       "      <td>MXRA-Z29-120200221320</td>\n",
       "      <td>562803.5149712368,3564843.75,565156.25,3569617...</td>\n",
       "      <td>9.1</td>\n",
       "      <td>0.0</td>\n",
       "      <td>0</td>\n",
       "      <td>https://maxar-opendata.s3.amazonaws.com/events...</td>\n",
       "      <td>POLYGON ((-8.30855 32.21831, -8.33296 32.21844...</td>\n",
       "    </tr>\n",
       "    <tr>\n",
       "      <th>1</th>\n",
       "      <td>2010-06-02 11:32:07+00:00</td>\n",
       "      <td>WV02</td>\n",
       "      <td>0.48</td>\n",
       "      <td>0.0.1</td>\n",
       "      <td>1030050003F8D200</td>\n",
       "      <td>29</td>\n",
       "      <td>120200221321</td>\n",
       "      <td>9.9</td>\n",
       "      <td>10.0</td>\n",
       "      <td>78.9</td>\n",
       "      <td>123.4</td>\n",
       "      <td>73.7</td>\n",
       "      <td>32629</td>\n",
       "      <td>MXRA-Z29-120200221321</td>\n",
       "      <td>564843.75,3564843.75,570156.25,3568178.758727665</td>\n",
       "      <td>10.2</td>\n",
       "      <td>0.0</td>\n",
       "      <td>0</td>\n",
       "      <td>https://maxar-opendata.s3.amazonaws.com/events...</td>\n",
       "      <td>POLYGON ((-8.25550 32.21801, -8.31187 32.21833...</td>\n",
       "    </tr>\n",
       "    <tr>\n",
       "      <th>2</th>\n",
       "      <td>2010-06-02 11:32:07+00:00</td>\n",
       "      <td>WV02</td>\n",
       "      <td>0.48</td>\n",
       "      <td>0.0.1</td>\n",
       "      <td>1030050003F8D200</td>\n",
       "      <td>29</td>\n",
       "      <td>120200221330</td>\n",
       "      <td>9.9</td>\n",
       "      <td>7.9</td>\n",
       "      <td>78.9</td>\n",
       "      <td>123.4</td>\n",
       "      <td>73.7</td>\n",
       "      <td>32629</td>\n",
       "      <td>MXRA-Z29-120200221330</td>\n",
       "      <td>569843.75,3564843.75,575156.25,3566305.569489086</td>\n",
       "      <td>7.6</td>\n",
       "      <td>0.0</td>\n",
       "      <td>0</td>\n",
       "      <td>https://maxar-opendata.s3.amazonaws.com/events...</td>\n",
       "      <td>POLYGON ((-8.20244 32.21769, -8.25881 32.21803...</td>\n",
       "    </tr>\n",
       "    <tr>\n",
       "      <th>3</th>\n",
       "      <td>2010-06-02 11:32:07+00:00</td>\n",
       "      <td>WV02</td>\n",
       "      <td>0.48</td>\n",
       "      <td>0.0.1</td>\n",
       "      <td>1030050003F8D200</td>\n",
       "      <td>29</td>\n",
       "      <td>120200221331</td>\n",
       "      <td>9.8</td>\n",
       "      <td>6.0</td>\n",
       "      <td>79.0</td>\n",
       "      <td>123.4</td>\n",
       "      <td>73.7</td>\n",
       "      <td>32629</td>\n",
       "      <td>MXRA-Z29-120200221331</td>\n",
       "      <td>574843.75,3564843.75,579508.3618164062,3566259...</td>\n",
       "      <td>6.4</td>\n",
       "      <td>0.0</td>\n",
       "      <td>0</td>\n",
       "      <td>https://maxar-opendata.s3.amazonaws.com/events...</td>\n",
       "      <td>POLYGON ((-8.15626 32.21739, -8.20576 32.21771...</td>\n",
       "    </tr>\n",
       "    <tr>\n",
       "      <th>4</th>\n",
       "      <td>2010-06-02 11:32:08+00:00</td>\n",
       "      <td>WV02</td>\n",
       "      <td>0.48</td>\n",
       "      <td>0.0.1</td>\n",
       "      <td>1030050003F8D200</td>\n",
       "      <td>29</td>\n",
       "      <td>120200221322</td>\n",
       "      <td>10.1</td>\n",
       "      <td>10.8</td>\n",
       "      <td>78.7</td>\n",
       "      <td>123.2</td>\n",
       "      <td>73.7</td>\n",
       "      <td>32629</td>\n",
       "      <td>MXRA-Z29-120200221322</td>\n",
       "      <td>562852.783203125,3559843.75,565156.25,3565156.25</td>\n",
       "      <td>12.0</td>\n",
       "      <td>0.0</td>\n",
       "      <td>0</td>\n",
       "      <td>https://maxar-opendata.s3.amazonaws.com/events...</td>\n",
       "      <td>POLYGON ((-8.33298 32.22126, -8.33266 32.17333...</td>\n",
       "    </tr>\n",
       "  </tbody>\n",
       "</table>\n",
       "</div>"
      ],
      "text/plain": [
       "                   datetime platform   gsd ard_metadata_version  \\\n",
       "0 2010-06-02 11:32:07+00:00     WV02  0.48                0.0.1   \n",
       "1 2010-06-02 11:32:07+00:00     WV02  0.48                0.0.1   \n",
       "2 2010-06-02 11:32:07+00:00     WV02  0.48                0.0.1   \n",
       "3 2010-06-02 11:32:07+00:00     WV02  0.48                0.0.1   \n",
       "4 2010-06-02 11:32:08+00:00     WV02  0.48                0.0.1   \n",
       "\n",
       "         catalog_id  utm_zone       quadkey  view:off_nadir  view:azimuth  \\\n",
       "0  1030050003F8D200        29  120200221320            10.0          11.3   \n",
       "1  1030050003F8D200        29  120200221321             9.9          10.0   \n",
       "2  1030050003F8D200        29  120200221330             9.9           7.9   \n",
       "3  1030050003F8D200        29  120200221331             9.8           6.0   \n",
       "4  1030050003F8D200        29  120200221322            10.1          10.8   \n",
       "\n",
       "   view:incidence_angle  view:sun_azimuth  view:sun_elevation  proj:epsg  \\\n",
       "0                  78.8             123.4                73.7      32629   \n",
       "1                  78.9             123.4                73.7      32629   \n",
       "2                  78.9             123.4                73.7      32629   \n",
       "3                  79.0             123.4                73.7      32629   \n",
       "4                  78.7             123.2                73.7      32629   \n",
       "\n",
       "               grid:code                                          proj:bbox  \\\n",
       "0  MXRA-Z29-120200221320  562803.5149712368,3564843.75,565156.25,3569617...   \n",
       "1  MXRA-Z29-120200221321   564843.75,3564843.75,570156.25,3568178.758727665   \n",
       "2  MXRA-Z29-120200221330   569843.75,3564843.75,575156.25,3566305.569489086   \n",
       "3  MXRA-Z29-120200221331  574843.75,3564843.75,579508.3618164062,3566259...   \n",
       "4  MXRA-Z29-120200221322   562852.783203125,3559843.75,565156.25,3565156.25   \n",
       "\n",
       "   tile:data_area  tile:clouds_area  tile:clouds_percent  \\\n",
       "0             9.1               0.0                    0   \n",
       "1            10.2               0.0                    0   \n",
       "2             7.6               0.0                    0   \n",
       "3             6.4               0.0                    0   \n",
       "4            12.0               0.0                    0   \n",
       "\n",
       "                                              visual  \\\n",
       "0  https://maxar-opendata.s3.amazonaws.com/events...   \n",
       "1  https://maxar-opendata.s3.amazonaws.com/events...   \n",
       "2  https://maxar-opendata.s3.amazonaws.com/events...   \n",
       "3  https://maxar-opendata.s3.amazonaws.com/events...   \n",
       "4  https://maxar-opendata.s3.amazonaws.com/events...   \n",
       "\n",
       "                                            geometry  \n",
       "0  POLYGON ((-8.30855 32.21831, -8.33296 32.21844...  \n",
       "1  POLYGON ((-8.25550 32.21801, -8.31187 32.21833...  \n",
       "2  POLYGON ((-8.20244 32.21769, -8.25881 32.21803...  \n",
       "3  POLYGON ((-8.15626 32.21739, -8.20576 32.21771...  \n",
       "4  POLYGON ((-8.33298 32.22126, -8.33266 32.17333...  "
      ]
     },
     "execution_count": 22,
     "metadata": {},
     "output_type": "execute_result"
    }
   ],
   "source": [
    "gdf = gpd.read_file(url)\n",
    "print(f'Total number of images: {len(gdf)}')\n",
    "gdf.head()"
   ]
  },
  {
   "cell_type": "markdown",
   "id": "fb8aa807",
   "metadata": {},
   "source": [
    "Visualize the footprints of the images on the map:"
   ]
  },
  {
   "cell_type": "code",
   "execution_count": 23,
   "id": "28505cf1",
   "metadata": {},
   "outputs": [
    {
     "data": {
      "application/vnd.jupyter.widget-view+json": {
       "model_id": "1e71071da39244cf92cc0fa8e6edc41b",
       "version_major": 2,
       "version_minor": 0
      },
      "text/plain": [
       "Map(center=[20, 0], controls=(ZoomControl(options=['position', 'zoom_in_text', 'zoom_in_title', 'zoom_out_text…"
      ]
     },
     "execution_count": 23,
     "metadata": {},
     "output_type": "execute_result"
    }
   ],
   "source": [
    "m = leafmap.Map()\n",
    "m.add_gdf(gdf, layer_name='Footprints')\n",
    "m"
   ]
  },
  {
   "cell_type": "markdown",
   "id": "cf2b375d",
   "metadata": {},
   "source": [
    "The earthquake started on February 6, 2023. We can use the `start_date` and `end_date` parameters to filter the images by date. Set `end_date` to `2023-02-06` to get all images captured before the earthquake:"
   ]
  },
  {
   "cell_type": "code",
   "execution_count": 24,
   "id": "aa2a682b",
   "metadata": {},
   "outputs": [
    {
     "name": "stdout",
     "output_type": "stream",
     "text": [
      "Total number of pre-event images: 8239\n"
     ]
    },
    {
     "data": {
      "text/html": [
       "<div>\n",
       "<style scoped>\n",
       "    .dataframe tbody tr th:only-of-type {\n",
       "        vertical-align: middle;\n",
       "    }\n",
       "\n",
       "    .dataframe tbody tr th {\n",
       "        vertical-align: top;\n",
       "    }\n",
       "\n",
       "    .dataframe thead th {\n",
       "        text-align: right;\n",
       "    }\n",
       "</style>\n",
       "<table border=\"1\" class=\"dataframe\">\n",
       "  <thead>\n",
       "    <tr style=\"text-align: right;\">\n",
       "      <th></th>\n",
       "      <th>datetime</th>\n",
       "      <th>platform</th>\n",
       "      <th>gsd</th>\n",
       "      <th>ard_metadata_version</th>\n",
       "      <th>catalog_id</th>\n",
       "      <th>utm_zone</th>\n",
       "      <th>quadkey</th>\n",
       "      <th>view:off_nadir</th>\n",
       "      <th>view:azimuth</th>\n",
       "      <th>view:incidence_angle</th>\n",
       "      <th>view:sun_azimuth</th>\n",
       "      <th>view:sun_elevation</th>\n",
       "      <th>proj:epsg</th>\n",
       "      <th>grid:code</th>\n",
       "      <th>proj:bbox</th>\n",
       "      <th>tile:data_area</th>\n",
       "      <th>tile:clouds_area</th>\n",
       "      <th>tile:clouds_percent</th>\n",
       "      <th>visual</th>\n",
       "      <th>geometry</th>\n",
       "    </tr>\n",
       "  </thead>\n",
       "  <tbody>\n",
       "    <tr>\n",
       "      <th>0</th>\n",
       "      <td>2010-06-02 11:32:07+00:00</td>\n",
       "      <td>WV02</td>\n",
       "      <td>0.48</td>\n",
       "      <td>0.0.1</td>\n",
       "      <td>1030050003F8D200</td>\n",
       "      <td>29</td>\n",
       "      <td>120200221320</td>\n",
       "      <td>10.0</td>\n",
       "      <td>11.3</td>\n",
       "      <td>78.8</td>\n",
       "      <td>123.4</td>\n",
       "      <td>73.7</td>\n",
       "      <td>32629</td>\n",
       "      <td>MXRA-Z29-120200221320</td>\n",
       "      <td>562803.5149712368,3564843.75,565156.25,3569617...</td>\n",
       "      <td>9.1</td>\n",
       "      <td>0.0</td>\n",
       "      <td>0</td>\n",
       "      <td>https://maxar-opendata.s3.amazonaws.com/events...</td>\n",
       "      <td>POLYGON ((-8.30855 32.21831, -8.33296 32.21844...</td>\n",
       "    </tr>\n",
       "    <tr>\n",
       "      <th>1</th>\n",
       "      <td>2010-06-02 11:32:07+00:00</td>\n",
       "      <td>WV02</td>\n",
       "      <td>0.48</td>\n",
       "      <td>0.0.1</td>\n",
       "      <td>1030050003F8D200</td>\n",
       "      <td>29</td>\n",
       "      <td>120200221321</td>\n",
       "      <td>9.9</td>\n",
       "      <td>10.0</td>\n",
       "      <td>78.9</td>\n",
       "      <td>123.4</td>\n",
       "      <td>73.7</td>\n",
       "      <td>32629</td>\n",
       "      <td>MXRA-Z29-120200221321</td>\n",
       "      <td>564843.75,3564843.75,570156.25,3568178.758727665</td>\n",
       "      <td>10.2</td>\n",
       "      <td>0.0</td>\n",
       "      <td>0</td>\n",
       "      <td>https://maxar-opendata.s3.amazonaws.com/events...</td>\n",
       "      <td>POLYGON ((-8.25550 32.21801, -8.31187 32.21833...</td>\n",
       "    </tr>\n",
       "    <tr>\n",
       "      <th>2</th>\n",
       "      <td>2010-06-02 11:32:07+00:00</td>\n",
       "      <td>WV02</td>\n",
       "      <td>0.48</td>\n",
       "      <td>0.0.1</td>\n",
       "      <td>1030050003F8D200</td>\n",
       "      <td>29</td>\n",
       "      <td>120200221330</td>\n",
       "      <td>9.9</td>\n",
       "      <td>7.9</td>\n",
       "      <td>78.9</td>\n",
       "      <td>123.4</td>\n",
       "      <td>73.7</td>\n",
       "      <td>32629</td>\n",
       "      <td>MXRA-Z29-120200221330</td>\n",
       "      <td>569843.75,3564843.75,575156.25,3566305.569489086</td>\n",
       "      <td>7.6</td>\n",
       "      <td>0.0</td>\n",
       "      <td>0</td>\n",
       "      <td>https://maxar-opendata.s3.amazonaws.com/events...</td>\n",
       "      <td>POLYGON ((-8.20244 32.21769, -8.25881 32.21803...</td>\n",
       "    </tr>\n",
       "    <tr>\n",
       "      <th>3</th>\n",
       "      <td>2010-06-02 11:32:07+00:00</td>\n",
       "      <td>WV02</td>\n",
       "      <td>0.48</td>\n",
       "      <td>0.0.1</td>\n",
       "      <td>1030050003F8D200</td>\n",
       "      <td>29</td>\n",
       "      <td>120200221331</td>\n",
       "      <td>9.8</td>\n",
       "      <td>6.0</td>\n",
       "      <td>79.0</td>\n",
       "      <td>123.4</td>\n",
       "      <td>73.7</td>\n",
       "      <td>32629</td>\n",
       "      <td>MXRA-Z29-120200221331</td>\n",
       "      <td>574843.75,3564843.75,579508.3618164062,3566259...</td>\n",
       "      <td>6.4</td>\n",
       "      <td>0.0</td>\n",
       "      <td>0</td>\n",
       "      <td>https://maxar-opendata.s3.amazonaws.com/events...</td>\n",
       "      <td>POLYGON ((-8.15626 32.21739, -8.20576 32.21771...</td>\n",
       "    </tr>\n",
       "    <tr>\n",
       "      <th>4</th>\n",
       "      <td>2010-06-02 11:32:08+00:00</td>\n",
       "      <td>WV02</td>\n",
       "      <td>0.48</td>\n",
       "      <td>0.0.1</td>\n",
       "      <td>1030050003F8D200</td>\n",
       "      <td>29</td>\n",
       "      <td>120200221322</td>\n",
       "      <td>10.1</td>\n",
       "      <td>10.8</td>\n",
       "      <td>78.7</td>\n",
       "      <td>123.2</td>\n",
       "      <td>73.7</td>\n",
       "      <td>32629</td>\n",
       "      <td>MXRA-Z29-120200221322</td>\n",
       "      <td>562852.783203125,3559843.75,565156.25,3565156.25</td>\n",
       "      <td>12.0</td>\n",
       "      <td>0.0</td>\n",
       "      <td>0</td>\n",
       "      <td>https://maxar-opendata.s3.amazonaws.com/events...</td>\n",
       "      <td>POLYGON ((-8.33298 32.22126, -8.33266 32.17333...</td>\n",
       "    </tr>\n",
       "  </tbody>\n",
       "</table>\n",
       "</div>"
      ],
      "text/plain": [
       "                   datetime platform   gsd ard_metadata_version  \\\n",
       "0 2010-06-02 11:32:07+00:00     WV02  0.48                0.0.1   \n",
       "1 2010-06-02 11:32:07+00:00     WV02  0.48                0.0.1   \n",
       "2 2010-06-02 11:32:07+00:00     WV02  0.48                0.0.1   \n",
       "3 2010-06-02 11:32:07+00:00     WV02  0.48                0.0.1   \n",
       "4 2010-06-02 11:32:08+00:00     WV02  0.48                0.0.1   \n",
       "\n",
       "         catalog_id  utm_zone       quadkey  view:off_nadir  view:azimuth  \\\n",
       "0  1030050003F8D200        29  120200221320            10.0          11.3   \n",
       "1  1030050003F8D200        29  120200221321             9.9          10.0   \n",
       "2  1030050003F8D200        29  120200221330             9.9           7.9   \n",
       "3  1030050003F8D200        29  120200221331             9.8           6.0   \n",
       "4  1030050003F8D200        29  120200221322            10.1          10.8   \n",
       "\n",
       "   view:incidence_angle  view:sun_azimuth  view:sun_elevation  proj:epsg  \\\n",
       "0                  78.8             123.4                73.7      32629   \n",
       "1                  78.9             123.4                73.7      32629   \n",
       "2                  78.9             123.4                73.7      32629   \n",
       "3                  79.0             123.4                73.7      32629   \n",
       "4                  78.7             123.2                73.7      32629   \n",
       "\n",
       "               grid:code                                          proj:bbox  \\\n",
       "0  MXRA-Z29-120200221320  562803.5149712368,3564843.75,565156.25,3569617...   \n",
       "1  MXRA-Z29-120200221321   564843.75,3564843.75,570156.25,3568178.758727665   \n",
       "2  MXRA-Z29-120200221330   569843.75,3564843.75,575156.25,3566305.569489086   \n",
       "3  MXRA-Z29-120200221331  574843.75,3564843.75,579508.3618164062,3566259...   \n",
       "4  MXRA-Z29-120200221322   562852.783203125,3559843.75,565156.25,3565156.25   \n",
       "\n",
       "   tile:data_area  tile:clouds_area  tile:clouds_percent  \\\n",
       "0             9.1               0.0                    0   \n",
       "1            10.2               0.0                    0   \n",
       "2             7.6               0.0                    0   \n",
       "3             6.4               0.0                    0   \n",
       "4            12.0               0.0                    0   \n",
       "\n",
       "                                              visual  \\\n",
       "0  https://maxar-opendata.s3.amazonaws.com/events...   \n",
       "1  https://maxar-opendata.s3.amazonaws.com/events...   \n",
       "2  https://maxar-opendata.s3.amazonaws.com/events...   \n",
       "3  https://maxar-opendata.s3.amazonaws.com/events...   \n",
       "4  https://maxar-opendata.s3.amazonaws.com/events...   \n",
       "\n",
       "                                            geometry  \n",
       "0  POLYGON ((-8.30855 32.21831, -8.33296 32.21844...  \n",
       "1  POLYGON ((-8.25550 32.21801, -8.31187 32.21833...  \n",
       "2  POLYGON ((-8.20244 32.21769, -8.25881 32.21803...  \n",
       "3  POLYGON ((-8.15626 32.21739, -8.20576 32.21771...  \n",
       "4  POLYGON ((-8.33298 32.22126, -8.33266 32.17333...  "
      ]
     },
     "execution_count": 24,
     "metadata": {},
     "output_type": "execute_result"
    }
   ],
   "source": [
    "pre_event = leafmap.maxar_search(collection, end_date='2023-09-08')\n",
    "print(f'Total number of pre-event images: {len(pre_event)}')\n",
    "pre_event.head()"
   ]
  },
  {
   "cell_type": "markdown",
   "id": "2b5d8f3a",
   "metadata": {},
   "source": [
    "Set the `start_date` to `2023-02-06` to get all images captured after the earthquake:"
   ]
  },
  {
   "cell_type": "code",
   "execution_count": 25,
   "id": "6022d0fb",
   "metadata": {},
   "outputs": [
    {
     "name": "stdout",
     "output_type": "stream",
     "text": [
      "Total number of post-event images: 485\n"
     ]
    },
    {
     "data": {
      "text/html": [
       "<div>\n",
       "<style scoped>\n",
       "    .dataframe tbody tr th:only-of-type {\n",
       "        vertical-align: middle;\n",
       "    }\n",
       "\n",
       "    .dataframe tbody tr th {\n",
       "        vertical-align: top;\n",
       "    }\n",
       "\n",
       "    .dataframe thead th {\n",
       "        text-align: right;\n",
       "    }\n",
       "</style>\n",
       "<table border=\"1\" class=\"dataframe\">\n",
       "  <thead>\n",
       "    <tr style=\"text-align: right;\">\n",
       "      <th></th>\n",
       "      <th>datetime</th>\n",
       "      <th>platform</th>\n",
       "      <th>gsd</th>\n",
       "      <th>ard_metadata_version</th>\n",
       "      <th>catalog_id</th>\n",
       "      <th>utm_zone</th>\n",
       "      <th>quadkey</th>\n",
       "      <th>view:off_nadir</th>\n",
       "      <th>view:azimuth</th>\n",
       "      <th>view:incidence_angle</th>\n",
       "      <th>view:sun_azimuth</th>\n",
       "      <th>view:sun_elevation</th>\n",
       "      <th>proj:epsg</th>\n",
       "      <th>grid:code</th>\n",
       "      <th>proj:bbox</th>\n",
       "      <th>tile:data_area</th>\n",
       "      <th>tile:clouds_area</th>\n",
       "      <th>tile:clouds_percent</th>\n",
       "      <th>visual</th>\n",
       "      <th>geometry</th>\n",
       "    </tr>\n",
       "  </thead>\n",
       "  <tbody>\n",
       "    <tr>\n",
       "      <th>8239</th>\n",
       "      <td>2023-09-10 11:25:14+00:00</td>\n",
       "      <td>WV03</td>\n",
       "      <td>0.36</td>\n",
       "      <td>0.0.1</td>\n",
       "      <td>1040050057DC8500</td>\n",
       "      <td>29</td>\n",
       "      <td>120202010220</td>\n",
       "      <td>24.4</td>\n",
       "      <td>339.6</td>\n",
       "      <td>63.1</td>\n",
       "      <td>147.2</td>\n",
       "      <td>59.6</td>\n",
       "      <td>32629</td>\n",
       "      <td>MXRA-Z29-120202010220</td>\n",
       "      <td>582861.0229492188,3489837.0361328125,585156.25...</td>\n",
       "      <td>0.5</td>\n",
       "      <td>0.0</td>\n",
       "      <td>0</td>\n",
       "      <td>https://maxar-opendata.s3.amazonaws.com/events...</td>\n",
       "      <td>POLYGON ((-8.12706 31.54339, -8.10289 31.54323...</td>\n",
       "    </tr>\n",
       "    <tr>\n",
       "      <th>8240</th>\n",
       "      <td>2023-09-10 11:25:14+00:00</td>\n",
       "      <td>WV03</td>\n",
       "      <td>0.36</td>\n",
       "      <td>0.0.1</td>\n",
       "      <td>1040050057DC8500</td>\n",
       "      <td>29</td>\n",
       "      <td>120202010221</td>\n",
       "      <td>24.5</td>\n",
       "      <td>339.3</td>\n",
       "      <td>62.9</td>\n",
       "      <td>147.2</td>\n",
       "      <td>59.6</td>\n",
       "      <td>32629</td>\n",
       "      <td>MXRA-Z29-120202010221</td>\n",
       "      <td>584843.75,3489463.5009765625,590156.25,3490156.25</td>\n",
       "      <td>2.6</td>\n",
       "      <td>0.0</td>\n",
       "      <td>0</td>\n",
       "      <td>https://maxar-opendata.s3.amazonaws.com/events...</td>\n",
       "      <td>POLYGON ((-8.10618 31.54325, -8.10620 31.54060...</td>\n",
       "    </tr>\n",
       "    <tr>\n",
       "      <th>8241</th>\n",
       "      <td>2023-09-10 11:25:14+00:00</td>\n",
       "      <td>WV03</td>\n",
       "      <td>0.37</td>\n",
       "      <td>0.0.1</td>\n",
       "      <td>1040050057DC8500</td>\n",
       "      <td>29</td>\n",
       "      <td>120202010230</td>\n",
       "      <td>24.7</td>\n",
       "      <td>338.4</td>\n",
       "      <td>62.7</td>\n",
       "      <td>147.2</td>\n",
       "      <td>59.6</td>\n",
       "      <td>32629</td>\n",
       "      <td>MXRA-Z29-120202010230</td>\n",
       "      <td>589843.75,3489083.251953125,595156.25,3490156.25</td>\n",
       "      <td>4.6</td>\n",
       "      <td>0.0</td>\n",
       "      <td>0</td>\n",
       "      <td>https://maxar-opendata.s3.amazonaws.com/events...</td>\n",
       "      <td>POLYGON ((-8.05351 31.54287, -8.05357 31.53683...</td>\n",
       "    </tr>\n",
       "    <tr>\n",
       "      <th>8242</th>\n",
       "      <td>2023-09-10 11:25:14+00:00</td>\n",
       "      <td>WV03</td>\n",
       "      <td>0.37</td>\n",
       "      <td>0.0.1</td>\n",
       "      <td>1040050057DC8500</td>\n",
       "      <td>29</td>\n",
       "      <td>120202010231</td>\n",
       "      <td>24.7</td>\n",
       "      <td>337.8</td>\n",
       "      <td>62.7</td>\n",
       "      <td>147.2</td>\n",
       "      <td>59.6</td>\n",
       "      <td>32629</td>\n",
       "      <td>MXRA-Z29-120202010231</td>\n",
       "      <td>594843.75,3488886.1083984375,597709.0454101562...</td>\n",
       "      <td>3.3</td>\n",
       "      <td>0.0</td>\n",
       "      <td>0</td>\n",
       "      <td>https://maxar-opendata.s3.amazonaws.com/events...</td>\n",
       "      <td>POLYGON ((-8.00084 31.54247, -8.00094 31.53301...</td>\n",
       "    </tr>\n",
       "    <tr>\n",
       "      <th>8243</th>\n",
       "      <td>2023-09-10 11:25:15+00:00</td>\n",
       "      <td>WV03</td>\n",
       "      <td>0.36</td>\n",
       "      <td>0.0.1</td>\n",
       "      <td>1040050057DC8500</td>\n",
       "      <td>29</td>\n",
       "      <td>120202010200</td>\n",
       "      <td>23.7</td>\n",
       "      <td>338.8</td>\n",
       "      <td>63.9</td>\n",
       "      <td>147.2</td>\n",
       "      <td>59.5</td>\n",
       "      <td>32629</td>\n",
       "      <td>MXRA-Z29-120202010200</td>\n",
       "      <td>582868.65234375,3494843.75,585156.25,3500156.25</td>\n",
       "      <td>12.1</td>\n",
       "      <td>0.0</td>\n",
       "      <td>0</td>\n",
       "      <td>https://maxar-opendata.s3.amazonaws.com/events...</td>\n",
       "      <td>POLYGON ((-8.12613 31.63361, -8.10202 31.63344...</td>\n",
       "    </tr>\n",
       "  </tbody>\n",
       "</table>\n",
       "</div>"
      ],
      "text/plain": [
       "                      datetime platform   gsd ard_metadata_version  \\\n",
       "8239 2023-09-10 11:25:14+00:00     WV03  0.36                0.0.1   \n",
       "8240 2023-09-10 11:25:14+00:00     WV03  0.36                0.0.1   \n",
       "8241 2023-09-10 11:25:14+00:00     WV03  0.37                0.0.1   \n",
       "8242 2023-09-10 11:25:14+00:00     WV03  0.37                0.0.1   \n",
       "8243 2023-09-10 11:25:15+00:00     WV03  0.36                0.0.1   \n",
       "\n",
       "            catalog_id  utm_zone       quadkey  view:off_nadir  view:azimuth  \\\n",
       "8239  1040050057DC8500        29  120202010220            24.4         339.6   \n",
       "8240  1040050057DC8500        29  120202010221            24.5         339.3   \n",
       "8241  1040050057DC8500        29  120202010230            24.7         338.4   \n",
       "8242  1040050057DC8500        29  120202010231            24.7         337.8   \n",
       "8243  1040050057DC8500        29  120202010200            23.7         338.8   \n",
       "\n",
       "      view:incidence_angle  view:sun_azimuth  view:sun_elevation  proj:epsg  \\\n",
       "8239                  63.1             147.2                59.6      32629   \n",
       "8240                  62.9             147.2                59.6      32629   \n",
       "8241                  62.7             147.2                59.6      32629   \n",
       "8242                  62.7             147.2                59.6      32629   \n",
       "8243                  63.9             147.2                59.5      32629   \n",
       "\n",
       "                  grid:code  \\\n",
       "8239  MXRA-Z29-120202010220   \n",
       "8240  MXRA-Z29-120202010221   \n",
       "8241  MXRA-Z29-120202010230   \n",
       "8242  MXRA-Z29-120202010231   \n",
       "8243  MXRA-Z29-120202010200   \n",
       "\n",
       "                                              proj:bbox  tile:data_area  \\\n",
       "8239  582861.0229492188,3489837.0361328125,585156.25...             0.5   \n",
       "8240  584843.75,3489463.5009765625,590156.25,3490156.25             2.6   \n",
       "8241   589843.75,3489083.251953125,595156.25,3490156.25             4.6   \n",
       "8242  594843.75,3488886.1083984375,597709.0454101562...             3.3   \n",
       "8243    582868.65234375,3494843.75,585156.25,3500156.25            12.1   \n",
       "\n",
       "      tile:clouds_area  tile:clouds_percent  \\\n",
       "8239               0.0                    0   \n",
       "8240               0.0                    0   \n",
       "8241               0.0                    0   \n",
       "8242               0.0                    0   \n",
       "8243               0.0                    0   \n",
       "\n",
       "                                                 visual  \\\n",
       "8239  https://maxar-opendata.s3.amazonaws.com/events...   \n",
       "8240  https://maxar-opendata.s3.amazonaws.com/events...   \n",
       "8241  https://maxar-opendata.s3.amazonaws.com/events...   \n",
       "8242  https://maxar-opendata.s3.amazonaws.com/events...   \n",
       "8243  https://maxar-opendata.s3.amazonaws.com/events...   \n",
       "\n",
       "                                               geometry  \n",
       "8239  POLYGON ((-8.12706 31.54339, -8.10289 31.54323...  \n",
       "8240  POLYGON ((-8.10618 31.54325, -8.10620 31.54060...  \n",
       "8241  POLYGON ((-8.05351 31.54287, -8.05357 31.53683...  \n",
       "8242  POLYGON ((-8.00084 31.54247, -8.00094 31.53301...  \n",
       "8243  POLYGON ((-8.12613 31.63361, -8.10202 31.63344...  "
      ]
     },
     "execution_count": 25,
     "metadata": {},
     "output_type": "execute_result"
    }
   ],
   "source": [
    "post_event = leafmap.maxar_search(collection, start_date='2023-09-08')\n",
    "print(f'Total number of post-event images: {len(post_event)}')\n",
    "post_event.head()"
   ]
  },
  {
   "cell_type": "markdown",
   "id": "fc432870-7183-4dec-a673-7b78d0c446b5",
   "metadata": {},
   "source": [
    "Define region for image download (select a small region for this test purpose)"
   ]
  },
  {
   "cell_type": "code",
   "execution_count": 26,
   "id": "768f91ae-2fbe-43d0-9099-410d9cce2386",
   "metadata": {},
   "outputs": [],
   "source": [
    "bbox = m.user_roi_bounds()\n",
    "if bbox is None:\n",
    "    bbox = [-9.1132, 30.2923, -9.0078, 30.8499]"
   ]
  },
  {
   "cell_type": "code",
   "execution_count": 27,
   "id": "b93893bc-5ec7-4691-b88b-98fc1636b6b2",
   "metadata": {},
   "outputs": [
    {
     "name": "stdout",
     "output_type": "stream",
     "text": [
      "Total number of pre-event images in the selected region: 191\n"
     ]
    },
    {
     "data": {
      "text/html": [
       "<div>\n",
       "<style scoped>\n",
       "    .dataframe tbody tr th:only-of-type {\n",
       "        vertical-align: middle;\n",
       "    }\n",
       "\n",
       "    .dataframe tbody tr th {\n",
       "        vertical-align: top;\n",
       "    }\n",
       "\n",
       "    .dataframe thead th {\n",
       "        text-align: right;\n",
       "    }\n",
       "</style>\n",
       "<table border=\"1\" class=\"dataframe\">\n",
       "  <thead>\n",
       "    <tr style=\"text-align: right;\">\n",
       "      <th></th>\n",
       "      <th>datetime</th>\n",
       "      <th>platform</th>\n",
       "      <th>gsd</th>\n",
       "      <th>ard_metadata_version</th>\n",
       "      <th>catalog_id</th>\n",
       "      <th>utm_zone</th>\n",
       "      <th>quadkey</th>\n",
       "      <th>view:off_nadir</th>\n",
       "      <th>view:azimuth</th>\n",
       "      <th>view:incidence_angle</th>\n",
       "      <th>view:sun_azimuth</th>\n",
       "      <th>view:sun_elevation</th>\n",
       "      <th>proj:epsg</th>\n",
       "      <th>grid:code</th>\n",
       "      <th>proj:bbox</th>\n",
       "      <th>tile:data_area</th>\n",
       "      <th>tile:clouds_area</th>\n",
       "      <th>tile:clouds_percent</th>\n",
       "      <th>visual</th>\n",
       "      <th>geometry</th>\n",
       "    </tr>\n",
       "  </thead>\n",
       "  <tbody>\n",
       "    <tr>\n",
       "      <th>1202</th>\n",
       "      <td>2018-07-23 11:54:02+00:00</td>\n",
       "      <td>WV03</td>\n",
       "      <td>0.33</td>\n",
       "      <td>0.0.1</td>\n",
       "      <td>10400100406FA800</td>\n",
       "      <td>29</td>\n",
       "      <td>031313131312</td>\n",
       "      <td>16.0</td>\n",
       "      <td>276.4</td>\n",
       "      <td>72.4</td>\n",
       "      <td>131.4</td>\n",
       "      <td>74.7</td>\n",
       "      <td>32629</td>\n",
       "      <td>MXRA-Z29-031313131312</td>\n",
       "      <td>491387.02392578125,3409843.75,495156.25,341515...</td>\n",
       "      <td>19.9</td>\n",
       "      <td>0.0</td>\n",
       "      <td>0</td>\n",
       "      <td>https://maxar-opendata.s3.amazonaws.com/events...</td>\n",
       "      <td>POLYGON ((-9.09010 30.86962, -9.05067 30.86964...</td>\n",
       "    </tr>\n",
       "    <tr>\n",
       "      <th>1203</th>\n",
       "      <td>2018-07-23 11:54:02+00:00</td>\n",
       "      <td>WV03</td>\n",
       "      <td>0.33</td>\n",
       "      <td>0.0.1</td>\n",
       "      <td>10400100406FA800</td>\n",
       "      <td>29</td>\n",
       "      <td>031313131313</td>\n",
       "      <td>16.3</td>\n",
       "      <td>276.3</td>\n",
       "      <td>72.0</td>\n",
       "      <td>131.4</td>\n",
       "      <td>74.7</td>\n",
       "      <td>32629</td>\n",
       "      <td>MXRA-Z29-031313131313</td>\n",
       "      <td>494843.75,3409843.75,500156.25,3415156.25</td>\n",
       "      <td>28.2</td>\n",
       "      <td>19.0</td>\n",
       "      <td>67</td>\n",
       "      <td>https://maxar-opendata.s3.amazonaws.com/events...</td>\n",
       "      <td>POLYGON ((-9.05394 30.86964, -9.05391 30.82170...</td>\n",
       "    </tr>\n",
       "    <tr>\n",
       "      <th>1208</th>\n",
       "      <td>2018-07-23 11:54:03+00:00</td>\n",
       "      <td>WV03</td>\n",
       "      <td>0.33</td>\n",
       "      <td>0.0.1</td>\n",
       "      <td>10400100406FA800</td>\n",
       "      <td>29</td>\n",
       "      <td>031313131330</td>\n",
       "      <td>16.1</td>\n",
       "      <td>276.3</td>\n",
       "      <td>72.3</td>\n",
       "      <td>131.2</td>\n",
       "      <td>74.8</td>\n",
       "      <td>32629</td>\n",
       "      <td>MXRA-Z29-031313131330</td>\n",
       "      <td>491376.03759765625,3404843.75,495156.25,341015...</td>\n",
       "      <td>19.9</td>\n",
       "      <td>3.2</td>\n",
       "      <td>16</td>\n",
       "      <td>https://maxar-opendata.s3.amazonaws.com/events...</td>\n",
       "      <td>POLYGON ((-9.08981 30.82450, -9.05065 30.82452...</td>\n",
       "    </tr>\n",
       "    <tr>\n",
       "      <th>1209</th>\n",
       "      <td>2018-07-23 11:54:03+00:00</td>\n",
       "      <td>WV03</td>\n",
       "      <td>0.33</td>\n",
       "      <td>0.0.1</td>\n",
       "      <td>10400100406FA800</td>\n",
       "      <td>29</td>\n",
       "      <td>031313131331</td>\n",
       "      <td>16.5</td>\n",
       "      <td>276.2</td>\n",
       "      <td>71.9</td>\n",
       "      <td>131.2</td>\n",
       "      <td>74.8</td>\n",
       "      <td>32629</td>\n",
       "      <td>MXRA-Z29-031313131331</td>\n",
       "      <td>494843.75,3404843.75,500156.25,3410156.25</td>\n",
       "      <td>28.2</td>\n",
       "      <td>3.4</td>\n",
       "      <td>12</td>\n",
       "      <td>https://maxar-opendata.s3.amazonaws.com/events...</td>\n",
       "      <td>POLYGON ((-9.05391 30.82452, -9.05389 30.77659...</td>\n",
       "    </tr>\n",
       "    <tr>\n",
       "      <th>1212</th>\n",
       "      <td>2018-07-23 11:54:04+00:00</td>\n",
       "      <td>WV03</td>\n",
       "      <td>0.33</td>\n",
       "      <td>0.0.1</td>\n",
       "      <td>10400100406FA800</td>\n",
       "      <td>29</td>\n",
       "      <td>031313131332</td>\n",
       "      <td>16.2</td>\n",
       "      <td>276.1</td>\n",
       "      <td>72.2</td>\n",
       "      <td>131.2</td>\n",
       "      <td>74.8</td>\n",
       "      <td>32629</td>\n",
       "      <td>MXRA-Z29-031313131332</td>\n",
       "      <td>491235.65673828125,3399843.75,495156.25,340515...</td>\n",
       "      <td>20.4</td>\n",
       "      <td>3.5</td>\n",
       "      <td>17</td>\n",
       "      <td>https://maxar-opendata.s3.amazonaws.com/events...</td>\n",
       "      <td>POLYGON ((-9.09013 30.77939, -9.05062 30.77941...</td>\n",
       "    </tr>\n",
       "  </tbody>\n",
       "</table>\n",
       "</div>"
      ],
      "text/plain": [
       "                      datetime platform   gsd ard_metadata_version  \\\n",
       "1202 2018-07-23 11:54:02+00:00     WV03  0.33                0.0.1   \n",
       "1203 2018-07-23 11:54:02+00:00     WV03  0.33                0.0.1   \n",
       "1208 2018-07-23 11:54:03+00:00     WV03  0.33                0.0.1   \n",
       "1209 2018-07-23 11:54:03+00:00     WV03  0.33                0.0.1   \n",
       "1212 2018-07-23 11:54:04+00:00     WV03  0.33                0.0.1   \n",
       "\n",
       "            catalog_id  utm_zone       quadkey  view:off_nadir  view:azimuth  \\\n",
       "1202  10400100406FA800        29  031313131312            16.0         276.4   \n",
       "1203  10400100406FA800        29  031313131313            16.3         276.3   \n",
       "1208  10400100406FA800        29  031313131330            16.1         276.3   \n",
       "1209  10400100406FA800        29  031313131331            16.5         276.2   \n",
       "1212  10400100406FA800        29  031313131332            16.2         276.1   \n",
       "\n",
       "      view:incidence_angle  view:sun_azimuth  view:sun_elevation  proj:epsg  \\\n",
       "1202                  72.4             131.4                74.7      32629   \n",
       "1203                  72.0             131.4                74.7      32629   \n",
       "1208                  72.3             131.2                74.8      32629   \n",
       "1209                  71.9             131.2                74.8      32629   \n",
       "1212                  72.2             131.2                74.8      32629   \n",
       "\n",
       "                  grid:code  \\\n",
       "1202  MXRA-Z29-031313131312   \n",
       "1203  MXRA-Z29-031313131313   \n",
       "1208  MXRA-Z29-031313131330   \n",
       "1209  MXRA-Z29-031313131331   \n",
       "1212  MXRA-Z29-031313131332   \n",
       "\n",
       "                                              proj:bbox  tile:data_area  \\\n",
       "1202  491387.02392578125,3409843.75,495156.25,341515...            19.9   \n",
       "1203          494843.75,3409843.75,500156.25,3415156.25            28.2   \n",
       "1208  491376.03759765625,3404843.75,495156.25,341015...            19.9   \n",
       "1209          494843.75,3404843.75,500156.25,3410156.25            28.2   \n",
       "1212  491235.65673828125,3399843.75,495156.25,340515...            20.4   \n",
       "\n",
       "      tile:clouds_area  tile:clouds_percent  \\\n",
       "1202               0.0                    0   \n",
       "1203              19.0                   67   \n",
       "1208               3.2                   16   \n",
       "1209               3.4                   12   \n",
       "1212               3.5                   17   \n",
       "\n",
       "                                                 visual  \\\n",
       "1202  https://maxar-opendata.s3.amazonaws.com/events...   \n",
       "1203  https://maxar-opendata.s3.amazonaws.com/events...   \n",
       "1208  https://maxar-opendata.s3.amazonaws.com/events...   \n",
       "1209  https://maxar-opendata.s3.amazonaws.com/events...   \n",
       "1212  https://maxar-opendata.s3.amazonaws.com/events...   \n",
       "\n",
       "                                               geometry  \n",
       "1202  POLYGON ((-9.09010 30.86962, -9.05067 30.86964...  \n",
       "1203  POLYGON ((-9.05394 30.86964, -9.05391 30.82170...  \n",
       "1208  POLYGON ((-9.08981 30.82450, -9.05065 30.82452...  \n",
       "1209  POLYGON ((-9.05391 30.82452, -9.05389 30.77659...  \n",
       "1212  POLYGON ((-9.09013 30.77939, -9.05062 30.77941...  "
      ]
     },
     "execution_count": 27,
     "metadata": {},
     "output_type": "execute_result"
    }
   ],
   "source": [
    "pre_event = leafmap.maxar_search(collection, bbox=bbox, end_date='2023-09-08')\n",
    "print(f'Total number of pre-event images in the selected region: {len(pre_event)}')\n",
    "pre_event.head()"
   ]
  },
  {
   "cell_type": "code",
   "execution_count": 28,
   "id": "b083cd89-4db0-431e-bbbd-726f3c829bbc",
   "metadata": {},
   "outputs": [
    {
     "name": "stdout",
     "output_type": "stream",
     "text": [
      "Total number of post-event images in the selected region: 8\n"
     ]
    },
    {
     "data": {
      "text/html": [
       "<div>\n",
       "<style scoped>\n",
       "    .dataframe tbody tr th:only-of-type {\n",
       "        vertical-align: middle;\n",
       "    }\n",
       "\n",
       "    .dataframe tbody tr th {\n",
       "        vertical-align: top;\n",
       "    }\n",
       "\n",
       "    .dataframe thead th {\n",
       "        text-align: right;\n",
       "    }\n",
       "</style>\n",
       "<table border=\"1\" class=\"dataframe\">\n",
       "  <thead>\n",
       "    <tr style=\"text-align: right;\">\n",
       "      <th></th>\n",
       "      <th>datetime</th>\n",
       "      <th>platform</th>\n",
       "      <th>gsd</th>\n",
       "      <th>ard_metadata_version</th>\n",
       "      <th>catalog_id</th>\n",
       "      <th>utm_zone</th>\n",
       "      <th>quadkey</th>\n",
       "      <th>view:off_nadir</th>\n",
       "      <th>view:azimuth</th>\n",
       "      <th>view:incidence_angle</th>\n",
       "      <th>view:sun_azimuth</th>\n",
       "      <th>view:sun_elevation</th>\n",
       "      <th>proj:epsg</th>\n",
       "      <th>grid:code</th>\n",
       "      <th>proj:bbox</th>\n",
       "      <th>tile:data_area</th>\n",
       "      <th>tile:clouds_area</th>\n",
       "      <th>tile:clouds_percent</th>\n",
       "      <th>visual</th>\n",
       "      <th>geometry</th>\n",
       "    </tr>\n",
       "  </thead>\n",
       "  <tbody>\n",
       "    <tr>\n",
       "      <th>8534</th>\n",
       "      <td>2023-09-10 11:46:24+00:00</td>\n",
       "      <td>WV02</td>\n",
       "      <td>0.83</td>\n",
       "      <td>0.0.1</td>\n",
       "      <td>10300100ECC53700</td>\n",
       "      <td>29</td>\n",
       "      <td>031313133131</td>\n",
       "      <td>41.5</td>\n",
       "      <td>234.2</td>\n",
       "      <td>42.0</td>\n",
       "      <td>154.6</td>\n",
       "      <td>62.3</td>\n",
       "      <td>32629</td>\n",
       "      <td>MXRA-Z29-031313133131</td>\n",
       "      <td>497536.92626953125,3384843.75,500156.25,338652...</td>\n",
       "      <td>3.2</td>\n",
       "      <td>0.0</td>\n",
       "      <td>0</td>\n",
       "      <td>https://maxar-opendata.s3.amazonaws.com/events...</td>\n",
       "      <td>POLYGON ((-8.99837 30.61125, -8.99837 30.59612...</td>\n",
       "    </tr>\n",
       "    <tr>\n",
       "      <th>8535</th>\n",
       "      <td>2023-09-10 11:46:24+00:00</td>\n",
       "      <td>WV02</td>\n",
       "      <td>0.82</td>\n",
       "      <td>0.0.1</td>\n",
       "      <td>10300100ECC53700</td>\n",
       "      <td>29</td>\n",
       "      <td>031313133133</td>\n",
       "      <td>41.5</td>\n",
       "      <td>234.2</td>\n",
       "      <td>42.1</td>\n",
       "      <td>154.6</td>\n",
       "      <td>62.3</td>\n",
       "      <td>32629</td>\n",
       "      <td>MXRA-Z29-031313133133</td>\n",
       "      <td>497552.18505859375,3379843.75,500156.25,338515...</td>\n",
       "      <td>13.6</td>\n",
       "      <td>0.0</td>\n",
       "      <td>0</td>\n",
       "      <td>https://maxar-opendata.s3.amazonaws.com/events...</td>\n",
       "      <td>POLYGON ((-9.02553 30.59894, -8.99837 30.59894...</td>\n",
       "    </tr>\n",
       "    <tr>\n",
       "      <th>8544</th>\n",
       "      <td>2023-09-10 11:46:25+00:00</td>\n",
       "      <td>WV02</td>\n",
       "      <td>0.82</td>\n",
       "      <td>0.0.1</td>\n",
       "      <td>10300100ECC53700</td>\n",
       "      <td>29</td>\n",
       "      <td>031313133311</td>\n",
       "      <td>41.4</td>\n",
       "      <td>234.4</td>\n",
       "      <td>42.1</td>\n",
       "      <td>154.6</td>\n",
       "      <td>62.3</td>\n",
       "      <td>32629</td>\n",
       "      <td>MXRA-Z29-031313133311</td>\n",
       "      <td>497612.60986328125,3374843.75,500156.25,338015...</td>\n",
       "      <td>13.3</td>\n",
       "      <td>0.0</td>\n",
       "      <td>0</td>\n",
       "      <td>https://maxar-opendata.s3.amazonaws.com/events...</td>\n",
       "      <td>POLYGON ((-9.02489 30.55382, -8.99837 30.55383...</td>\n",
       "    </tr>\n",
       "    <tr>\n",
       "      <th>8545</th>\n",
       "      <td>2023-09-10 11:46:25+00:00</td>\n",
       "      <td>WV02</td>\n",
       "      <td>0.82</td>\n",
       "      <td>0.0.1</td>\n",
       "      <td>10300100ECC53700</td>\n",
       "      <td>29</td>\n",
       "      <td>031313133313</td>\n",
       "      <td>41.4</td>\n",
       "      <td>234.6</td>\n",
       "      <td>42.2</td>\n",
       "      <td>154.6</td>\n",
       "      <td>62.3</td>\n",
       "      <td>32629</td>\n",
       "      <td>MXRA-Z29-031313133313</td>\n",
       "      <td>497663.26904296875,3369843.75,500156.25,337515...</td>\n",
       "      <td>13.1</td>\n",
       "      <td>0.0</td>\n",
       "      <td>0</td>\n",
       "      <td>https://maxar-opendata.s3.amazonaws.com/events...</td>\n",
       "      <td>POLYGON ((-9.02435 30.50870, -8.99837 30.50871...</td>\n",
       "    </tr>\n",
       "    <tr>\n",
       "      <th>8546</th>\n",
       "      <td>2023-09-10 11:46:25+00:00</td>\n",
       "      <td>WV02</td>\n",
       "      <td>0.82</td>\n",
       "      <td>0.0.1</td>\n",
       "      <td>10300100ECC53700</td>\n",
       "      <td>29</td>\n",
       "      <td>031313133331</td>\n",
       "      <td>41.4</td>\n",
       "      <td>234.8</td>\n",
       "      <td>42.2</td>\n",
       "      <td>154.6</td>\n",
       "      <td>62.4</td>\n",
       "      <td>32629</td>\n",
       "      <td>MXRA-Z29-031313133331</td>\n",
       "      <td>497604.3701171875,3364843.75,500156.25,3370156.25</td>\n",
       "      <td>13.1</td>\n",
       "      <td>0.0</td>\n",
       "      <td>0</td>\n",
       "      <td>https://maxar-opendata.s3.amazonaws.com/events...</td>\n",
       "      <td>POLYGON ((-9.02396 30.46358, -8.99837 30.46359...</td>\n",
       "    </tr>\n",
       "  </tbody>\n",
       "</table>\n",
       "</div>"
      ],
      "text/plain": [
       "                      datetime platform   gsd ard_metadata_version  \\\n",
       "8534 2023-09-10 11:46:24+00:00     WV02  0.83                0.0.1   \n",
       "8535 2023-09-10 11:46:24+00:00     WV02  0.82                0.0.1   \n",
       "8544 2023-09-10 11:46:25+00:00     WV02  0.82                0.0.1   \n",
       "8545 2023-09-10 11:46:25+00:00     WV02  0.82                0.0.1   \n",
       "8546 2023-09-10 11:46:25+00:00     WV02  0.82                0.0.1   \n",
       "\n",
       "            catalog_id  utm_zone       quadkey  view:off_nadir  view:azimuth  \\\n",
       "8534  10300100ECC53700        29  031313133131            41.5         234.2   \n",
       "8535  10300100ECC53700        29  031313133133            41.5         234.2   \n",
       "8544  10300100ECC53700        29  031313133311            41.4         234.4   \n",
       "8545  10300100ECC53700        29  031313133313            41.4         234.6   \n",
       "8546  10300100ECC53700        29  031313133331            41.4         234.8   \n",
       "\n",
       "      view:incidence_angle  view:sun_azimuth  view:sun_elevation  proj:epsg  \\\n",
       "8534                  42.0             154.6                62.3      32629   \n",
       "8535                  42.1             154.6                62.3      32629   \n",
       "8544                  42.1             154.6                62.3      32629   \n",
       "8545                  42.2             154.6                62.3      32629   \n",
       "8546                  42.2             154.6                62.4      32629   \n",
       "\n",
       "                  grid:code  \\\n",
       "8534  MXRA-Z29-031313133131   \n",
       "8535  MXRA-Z29-031313133133   \n",
       "8544  MXRA-Z29-031313133311   \n",
       "8545  MXRA-Z29-031313133313   \n",
       "8546  MXRA-Z29-031313133331   \n",
       "\n",
       "                                              proj:bbox  tile:data_area  \\\n",
       "8534  497536.92626953125,3384843.75,500156.25,338652...             3.2   \n",
       "8535  497552.18505859375,3379843.75,500156.25,338515...            13.6   \n",
       "8544  497612.60986328125,3374843.75,500156.25,338015...            13.3   \n",
       "8545  497663.26904296875,3369843.75,500156.25,337515...            13.1   \n",
       "8546  497604.3701171875,3364843.75,500156.25,3370156.25            13.1   \n",
       "\n",
       "      tile:clouds_area  tile:clouds_percent  \\\n",
       "8534               0.0                    0   \n",
       "8535               0.0                    0   \n",
       "8544               0.0                    0   \n",
       "8545               0.0                    0   \n",
       "8546               0.0                    0   \n",
       "\n",
       "                                                 visual  \\\n",
       "8534  https://maxar-opendata.s3.amazonaws.com/events...   \n",
       "8535  https://maxar-opendata.s3.amazonaws.com/events...   \n",
       "8544  https://maxar-opendata.s3.amazonaws.com/events...   \n",
       "8545  https://maxar-opendata.s3.amazonaws.com/events...   \n",
       "8546  https://maxar-opendata.s3.amazonaws.com/events...   \n",
       "\n",
       "                                               geometry  \n",
       "8534  POLYGON ((-8.99837 30.61125, -8.99837 30.59612...  \n",
       "8535  POLYGON ((-9.02553 30.59894, -8.99837 30.59894...  \n",
       "8544  POLYGON ((-9.02489 30.55382, -8.99837 30.55383...  \n",
       "8545  POLYGON ((-9.02435 30.50870, -8.99837 30.50871...  \n",
       "8546  POLYGON ((-9.02396 30.46358, -8.99837 30.46359...  "
      ]
     },
     "execution_count": 28,
     "metadata": {},
     "output_type": "execute_result"
    }
   ],
   "source": [
    "post_event = leafmap.maxar_search(collection, bbox=bbox, start_date='2023-09-08')\n",
    "print(f'Total number of post-event images in the selected region: {len(post_event)}')\n",
    "post_event.head()"
   ]
  },
  {
   "cell_type": "markdown",
   "id": "30630c99",
   "metadata": {},
   "source": [
    "Get download links for the pre-event and post-event images:"
   ]
  },
  {
   "cell_type": "code",
   "execution_count": 29,
   "id": "4d7d616d",
   "metadata": {},
   "outputs": [],
   "source": [
    "pre_images = pre_event['visual'].tolist()\n",
    "post_images = post_event['visual'].tolist()"
   ]
  },
  {
   "cell_type": "markdown",
   "id": "3b285698",
   "metadata": {},
   "source": [
    "Download the pre-event and post-event images:"
   ]
  },
  {
   "cell_type": "code",
   "execution_count": 30,
   "id": "07759a4b",
   "metadata": {},
   "outputs": [
    {
     "name": "stdout",
     "output_type": "stream",
     "text": [
      "Downloading 001 out of 191: 10400100406FA800/031313131312.tif\n"
     ]
    },
    {
     "name": "stderr",
     "output_type": "stream",
     "text": [
      "Downloading...\n",
      "From: https://maxar-opendata.s3.amazonaws.com/events/Morocco-Earthquake-Sept-2023/ard/29/031313131312/2018-07-23/10400100406FA800-visual.tif\n",
      "To: /home/jupyter/10400100406FA800/031313131312.tif\n",
      "100%|██████████| 35.7M/35.7M [00:02<00:00, 12.6MB/s]\n"
     ]
    },
    {
     "name": "stdout",
     "output_type": "stream",
     "text": [
      "Downloading 002 out of 191: 10400100406FA800/031313131313.tif\n"
     ]
    },
    {
     "name": "stderr",
     "output_type": "stream",
     "text": [
      "Downloading...\n",
      "From: https://maxar-opendata.s3.amazonaws.com/events/Morocco-Earthquake-Sept-2023/ard/29/031313131313/2018-07-23/10400100406FA800-visual.tif\n",
      "To: /home/jupyter/10400100406FA800/031313131313.tif\n",
      "100%|██████████| 42.6M/42.6M [00:03<00:00, 13.4MB/s]\n"
     ]
    },
    {
     "name": "stdout",
     "output_type": "stream",
     "text": [
      "Downloading 003 out of 191: 10400100406FA800/031313131330.tif\n"
     ]
    },
    {
     "name": "stderr",
     "output_type": "stream",
     "text": [
      "Downloading...\n",
      "From: https://maxar-opendata.s3.amazonaws.com/events/Morocco-Earthquake-Sept-2023/ard/29/031313131330/2018-07-23/10400100406FA800-visual.tif\n",
      "To: /home/jupyter/10400100406FA800/031313131330.tif\n",
      "100%|██████████| 37.2M/37.2M [00:02<00:00, 13.2MB/s]\n"
     ]
    },
    {
     "name": "stdout",
     "output_type": "stream",
     "text": [
      "Downloading 004 out of 191: 10400100406FA800/031313131331.tif\n"
     ]
    },
    {
     "name": "stderr",
     "output_type": "stream",
     "text": [
      "Downloading...\n",
      "From: https://maxar-opendata.s3.amazonaws.com/events/Morocco-Earthquake-Sept-2023/ard/29/031313131331/2018-07-23/10400100406FA800-visual.tif\n",
      "To: /home/jupyter/10400100406FA800/031313131331.tif\n",
      "100%|██████████| 53.8M/53.8M [00:03<00:00, 14.2MB/s]\n"
     ]
    },
    {
     "name": "stdout",
     "output_type": "stream",
     "text": [
      "Downloading 005 out of 191: 10400100406FA800/031313131332.tif\n"
     ]
    },
    {
     "name": "stderr",
     "output_type": "stream",
     "text": [
      "Downloading...\n",
      "From: https://maxar-opendata.s3.amazonaws.com/events/Morocco-Earthquake-Sept-2023/ard/29/031313131332/2018-07-23/10400100406FA800-visual.tif\n",
      "To: /home/jupyter/10400100406FA800/031313131332.tif\n",
      "100%|██████████| 43.4M/43.4M [00:03<00:00, 13.2MB/s]\n"
     ]
    },
    {
     "name": "stdout",
     "output_type": "stream",
     "text": [
      "Downloading 006 out of 191: 10400100406FA800/031313131333.tif\n"
     ]
    },
    {
     "name": "stderr",
     "output_type": "stream",
     "text": [
      "Downloading...\n",
      "From: https://maxar-opendata.s3.amazonaws.com/events/Morocco-Earthquake-Sept-2023/ard/29/031313131333/2018-07-23/10400100406FA800-visual.tif\n",
      "To: /home/jupyter/10400100406FA800/031313131333.tif\n",
      "100%|██████████| 72.4M/72.4M [00:04<00:00, 15.4MB/s]\n"
     ]
    },
    {
     "name": "stdout",
     "output_type": "stream",
     "text": [
      "Downloading 007 out of 191: 10400100406FA800/031313133110.tif\n"
     ]
    },
    {
     "name": "stderr",
     "output_type": "stream",
     "text": [
      "Downloading...\n",
      "From: https://maxar-opendata.s3.amazonaws.com/events/Morocco-Earthquake-Sept-2023/ard/29/031313133110/2018-07-23/10400100406FA800-visual.tif\n",
      "To: /home/jupyter/10400100406FA800/031313133110.tif\n",
      "100%|██████████| 55.2M/55.2M [00:03<00:00, 14.6MB/s]\n"
     ]
    },
    {
     "name": "stdout",
     "output_type": "stream",
     "text": [
      "Downloading 008 out of 191: 10400100406FA800/031313133111.tif\n"
     ]
    },
    {
     "name": "stderr",
     "output_type": "stream",
     "text": [
      "Downloading...\n",
      "From: https://maxar-opendata.s3.amazonaws.com/events/Morocco-Earthquake-Sept-2023/ard/29/031313133111/2018-07-23/10400100406FA800-visual.tif\n",
      "To: /home/jupyter/10400100406FA800/031313133111.tif\n",
      "100%|██████████| 70.1M/70.1M [00:05<00:00, 13.5MB/s]\n"
     ]
    },
    {
     "name": "stdout",
     "output_type": "stream",
     "text": [
      "Downloading 009 out of 191: 10400100406FA800/031313133112.tif\n"
     ]
    },
    {
     "name": "stderr",
     "output_type": "stream",
     "text": [
      "Downloading...\n",
      "From: https://maxar-opendata.s3.amazonaws.com/events/Morocco-Earthquake-Sept-2023/ard/29/031313133112/2018-07-23/10400100406FA800-visual.tif\n",
      "To: /home/jupyter/10400100406FA800/031313133112.tif\n",
      "100%|██████████| 57.3M/57.3M [00:03<00:00, 14.4MB/s]\n"
     ]
    },
    {
     "name": "stdout",
     "output_type": "stream",
     "text": [
      "Downloading 010 out of 191: 10400100406FA800/031313133113.tif\n"
     ]
    },
    {
     "name": "stderr",
     "output_type": "stream",
     "text": [
      "Downloading...\n",
      "From: https://maxar-opendata.s3.amazonaws.com/events/Morocco-Earthquake-Sept-2023/ard/29/031313133113/2018-07-23/10400100406FA800-visual.tif\n",
      "To: /home/jupyter/10400100406FA800/031313133113.tif\n",
      "100%|██████████| 68.3M/68.3M [00:04<00:00, 15.1MB/s]\n"
     ]
    },
    {
     "name": "stdout",
     "output_type": "stream",
     "text": [
      "Downloading 011 out of 191: 10400100406FA800/031313133130.tif\n"
     ]
    },
    {
     "name": "stderr",
     "output_type": "stream",
     "text": [
      "Downloading...\n",
      "From: https://maxar-opendata.s3.amazonaws.com/events/Morocco-Earthquake-Sept-2023/ard/29/031313133130/2018-07-23/10400100406FA800-visual.tif\n",
      "To: /home/jupyter/10400100406FA800/031313133130.tif\n",
      "100%|██████████| 48.5M/48.5M [00:03<00:00, 13.4MB/s]\n"
     ]
    },
    {
     "name": "stdout",
     "output_type": "stream",
     "text": [
      "Downloading 012 out of 191: 10400100406FA800/031313133131.tif\n"
     ]
    },
    {
     "name": "stderr",
     "output_type": "stream",
     "text": [
      "Downloading...\n",
      "From: https://maxar-opendata.s3.amazonaws.com/events/Morocco-Earthquake-Sept-2023/ard/29/031313133131/2018-07-23/10400100406FA800-visual.tif\n",
      "To: /home/jupyter/10400100406FA800/031313133131.tif\n",
      "100%|██████████| 66.9M/66.9M [00:04<00:00, 15.1MB/s]\n"
     ]
    },
    {
     "name": "stdout",
     "output_type": "stream",
     "text": [
      "Downloading 013 out of 191: 10400100406FA800/031313133132.tif\n"
     ]
    },
    {
     "name": "stderr",
     "output_type": "stream",
     "text": [
      "Downloading...\n",
      "From: https://maxar-opendata.s3.amazonaws.com/events/Morocco-Earthquake-Sept-2023/ard/29/031313133132/2018-07-23/10400100406FA800-visual.tif\n",
      "To: /home/jupyter/10400100406FA800/031313133132.tif\n",
      "100%|██████████| 34.8M/34.8M [00:02<00:00, 12.8MB/s]\n"
     ]
    },
    {
     "name": "stdout",
     "output_type": "stream",
     "text": [
      "Downloading 014 out of 191: 10400100406FA800/031313133133.tif\n"
     ]
    },
    {
     "name": "stderr",
     "output_type": "stream",
     "text": [
      "Downloading...\n",
      "From: https://maxar-opendata.s3.amazonaws.com/events/Morocco-Earthquake-Sept-2023/ard/29/031313133133/2018-07-23/10400100406FA800-visual.tif\n",
      "To: /home/jupyter/10400100406FA800/031313133133.tif\n",
      "100%|██████████| 56.7M/56.7M [00:03<00:00, 14.4MB/s]\n"
     ]
    },
    {
     "name": "stdout",
     "output_type": "stream",
     "text": [
      "Downloading 015 out of 191: 10400100406FA800/031313133310.tif\n"
     ]
    },
    {
     "name": "stderr",
     "output_type": "stream",
     "text": [
      "Downloading...\n",
      "From: https://maxar-opendata.s3.amazonaws.com/events/Morocco-Earthquake-Sept-2023/ard/29/031313133310/2018-07-23/10400100406FA800-visual.tif\n",
      "To: /home/jupyter/10400100406FA800/031313133310.tif\n",
      "100%|██████████| 35.7M/35.7M [00:02<00:00, 12.4MB/s]\n"
     ]
    },
    {
     "name": "stdout",
     "output_type": "stream",
     "text": [
      "Downloading 016 out of 191: 10400100406FA800/031313133311.tif\n"
     ]
    },
    {
     "name": "stderr",
     "output_type": "stream",
     "text": [
      "Downloading...\n",
      "From: https://maxar-opendata.s3.amazonaws.com/events/Morocco-Earthquake-Sept-2023/ard/29/031313133311/2018-07-23/10400100406FA800-visual.tif\n",
      "To: /home/jupyter/10400100406FA800/031313133311.tif\n",
      "100%|██████████| 59.8M/59.8M [00:03<00:00, 15.0MB/s]\n"
     ]
    },
    {
     "name": "stdout",
     "output_type": "stream",
     "text": [
      "Downloading 017 out of 191: 10400100406FA800/031313133312.tif\n"
     ]
    },
    {
     "name": "stderr",
     "output_type": "stream",
     "text": [
      "Downloading...\n",
      "From: https://maxar-opendata.s3.amazonaws.com/events/Morocco-Earthquake-Sept-2023/ard/29/031313133312/2018-07-23/10400100406FA800-visual.tif\n",
      "To: /home/jupyter/10400100406FA800/031313133312.tif\n",
      "100%|██████████| 28.2M/28.2M [00:02<00:00, 11.2MB/s]\n"
     ]
    },
    {
     "name": "stdout",
     "output_type": "stream",
     "text": [
      "Downloading 018 out of 191: 10400100406FA800/031313133313.tif\n"
     ]
    },
    {
     "name": "stderr",
     "output_type": "stream",
     "text": [
      "Downloading...\n",
      "From: https://maxar-opendata.s3.amazonaws.com/events/Morocco-Earthquake-Sept-2023/ard/29/031313133313/2018-07-23/10400100406FA800-visual.tif\n",
      "To: /home/jupyter/10400100406FA800/031313133313.tif\n",
      "100%|██████████| 62.0M/62.0M [00:04<00:00, 15.2MB/s]\n"
     ]
    },
    {
     "name": "stdout",
     "output_type": "stream",
     "text": [
      "Downloading 019 out of 191: 10400100406FA800/031313133330.tif\n"
     ]
    },
    {
     "name": "stderr",
     "output_type": "stream",
     "text": [
      "Downloading...\n",
      "From: https://maxar-opendata.s3.amazonaws.com/events/Morocco-Earthquake-Sept-2023/ard/29/031313133330/2018-07-23/10400100406FA800-visual.tif\n",
      "To: /home/jupyter/10400100406FA800/031313133330.tif\n",
      "100%|██████████| 22.4M/22.4M [00:02<00:00, 10.0MB/s]\n"
     ]
    },
    {
     "name": "stdout",
     "output_type": "stream",
     "text": [
      "Downloading 020 out of 191: 10400100406FA800/031313133331.tif\n"
     ]
    },
    {
     "name": "stderr",
     "output_type": "stream",
     "text": [
      "Downloading...\n",
      "From: https://maxar-opendata.s3.amazonaws.com/events/Morocco-Earthquake-Sept-2023/ard/29/031313133331/2018-07-23/10400100406FA800-visual.tif\n",
      "To: /home/jupyter/10400100406FA800/031313133331.tif\n",
      "100%|██████████| 43.3M/43.3M [00:03<00:00, 10.9MB/s]\n"
     ]
    },
    {
     "name": "stdout",
     "output_type": "stream",
     "text": [
      "Downloading 021 out of 191: 10400100406FA800/031313133332.tif\n"
     ]
    },
    {
     "name": "stderr",
     "output_type": "stream",
     "text": [
      "Downloading...\n",
      "From: https://maxar-opendata.s3.amazonaws.com/events/Morocco-Earthquake-Sept-2023/ard/29/031313133332/2018-07-23/10400100406FA800-visual.tif\n",
      "To: /home/jupyter/10400100406FA800/031313133332.tif\n",
      "100%|██████████| 25.1M/25.1M [00:02<00:00, 11.4MB/s]\n"
     ]
    },
    {
     "name": "stdout",
     "output_type": "stream",
     "text": [
      "Downloading 022 out of 191: 10400100406FA800/031313133333.tif\n"
     ]
    },
    {
     "name": "stderr",
     "output_type": "stream",
     "text": [
      "Downloading...\n",
      "From: https://maxar-opendata.s3.amazonaws.com/events/Morocco-Earthquake-Sept-2023/ard/29/031313133333/2018-07-23/10400100406FA800-visual.tif\n",
      "To: /home/jupyter/10400100406FA800/031313133333.tif\n",
      "100%|██████████| 41.6M/41.6M [00:03<00:00, 13.2MB/s]\n"
     ]
    },
    {
     "name": "stdout",
     "output_type": "stream",
     "text": [
      "Downloading 023 out of 191: 10400100406FA800/031313311110.tif\n"
     ]
    },
    {
     "name": "stderr",
     "output_type": "stream",
     "text": [
      "Downloading...\n",
      "From: https://maxar-opendata.s3.amazonaws.com/events/Morocco-Earthquake-Sept-2023/ard/29/031313311110/2018-07-23/10400100406FA800-visual.tif\n",
      "To: /home/jupyter/10400100406FA800/031313311110.tif\n",
      "100%|██████████| 42.9M/42.9M [00:03<00:00, 13.4MB/s]\n"
     ]
    },
    {
     "name": "stdout",
     "output_type": "stream",
     "text": [
      "Downloading 024 out of 191: 10400100406FA800/031313311111.tif\n"
     ]
    },
    {
     "name": "stderr",
     "output_type": "stream",
     "text": [
      "Downloading...\n",
      "From: https://maxar-opendata.s3.amazonaws.com/events/Morocco-Earthquake-Sept-2023/ard/29/031313311111/2018-07-23/10400100406FA800-visual.tif\n",
      "To: /home/jupyter/10400100406FA800/031313311111.tif\n",
      "100%|██████████| 50.3M/50.3M [00:03<00:00, 14.0MB/s]\n"
     ]
    },
    {
     "name": "stdout",
     "output_type": "stream",
     "text": [
      "Downloading 025 out of 191: 10400100406FA800/031313311112.tif\n"
     ]
    },
    {
     "name": "stderr",
     "output_type": "stream",
     "text": [
      "Downloading...\n",
      "From: https://maxar-opendata.s3.amazonaws.com/events/Morocco-Earthquake-Sept-2023/ard/29/031313311112/2018-07-23/10400100406FA800-visual.tif\n",
      "To: /home/jupyter/10400100406FA800/031313311112.tif\n",
      "100%|██████████| 28.2M/28.2M [00:02<00:00, 10.6MB/s]\n"
     ]
    },
    {
     "name": "stdout",
     "output_type": "stream",
     "text": [
      "Downloading 026 out of 191: 10400100406FA800/031313311113.tif\n"
     ]
    },
    {
     "name": "stderr",
     "output_type": "stream",
     "text": [
      "Downloading...\n",
      "From: https://maxar-opendata.s3.amazonaws.com/events/Morocco-Earthquake-Sept-2023/ard/29/031313311113/2018-07-23/10400100406FA800-visual.tif\n",
      "To: /home/jupyter/10400100406FA800/031313311113.tif\n",
      "100%|██████████| 10.7M/10.7M [00:01<00:00, 7.31MB/s]\n"
     ]
    },
    {
     "name": "stdout",
     "output_type": "stream",
     "text": [
      "Downloading 027 out of 191: 1040010040D30400/031313311103.tif\n"
     ]
    },
    {
     "name": "stderr",
     "output_type": "stream",
     "text": [
      "Downloading...\n",
      "From: https://maxar-opendata.s3.amazonaws.com/events/Morocco-Earthquake-Sept-2023/ard/29/031313311103/2018-07-23/1040010040D30400-visual.tif\n",
      "To: /home/jupyter/1040010040D30400/031313311103.tif\n",
      "100%|██████████| 56.7M/56.7M [00:03<00:00, 14.3MB/s]\n"
     ]
    },
    {
     "name": "stdout",
     "output_type": "stream",
     "text": [
      "Downloading 028 out of 191: 1040010040D30400/031313311112.tif\n"
     ]
    },
    {
     "name": "stderr",
     "output_type": "stream",
     "text": [
      "Downloading...\n",
      "From: https://maxar-opendata.s3.amazonaws.com/events/Morocco-Earthquake-Sept-2023/ard/29/031313311112/2018-07-23/1040010040D30400-visual.tif\n",
      "To: /home/jupyter/1040010040D30400/031313311112.tif\n",
      "100%|██████████| 42.6M/42.6M [00:03<00:00, 10.7MB/s]\n"
     ]
    },
    {
     "name": "stdout",
     "output_type": "stream",
     "text": [
      "Downloading 029 out of 191: 1040010040D30400/031313311101.tif\n"
     ]
    },
    {
     "name": "stderr",
     "output_type": "stream",
     "text": [
      "Downloading...\n",
      "From: https://maxar-opendata.s3.amazonaws.com/events/Morocco-Earthquake-Sept-2023/ard/29/031313311101/2018-07-23/1040010040D30400-visual.tif\n",
      "To: /home/jupyter/1040010040D30400/031313311101.tif\n",
      "100%|██████████| 69.2M/69.2M [00:04<00:00, 15.4MB/s]\n"
     ]
    },
    {
     "name": "stdout",
     "output_type": "stream",
     "text": [
      "Downloading 030 out of 191: 1040010040D30400/031313311110.tif\n"
     ]
    },
    {
     "name": "stderr",
     "output_type": "stream",
     "text": [
      "Downloading...\n",
      "From: https://maxar-opendata.s3.amazonaws.com/events/Morocco-Earthquake-Sept-2023/ard/29/031313311110/2018-07-23/1040010040D30400-visual.tif\n",
      "To: /home/jupyter/1040010040D30400/031313311110.tif\n",
      "100%|██████████| 59.7M/59.7M [00:04<00:00, 14.5MB/s]\n"
     ]
    },
    {
     "name": "stdout",
     "output_type": "stream",
     "text": [
      "Downloading 031 out of 191: 1040010040D30400/031313133323.tif\n"
     ]
    },
    {
     "name": "stderr",
     "output_type": "stream",
     "text": [
      "Downloading...\n",
      "From: https://maxar-opendata.s3.amazonaws.com/events/Morocco-Earthquake-Sept-2023/ard/29/031313133323/2018-07-23/1040010040D30400-visual.tif\n",
      "To: /home/jupyter/1040010040D30400/031313133323.tif\n",
      "100%|██████████| 54.5M/54.5M [00:03<00:00, 14.3MB/s]\n"
     ]
    },
    {
     "name": "stdout",
     "output_type": "stream",
     "text": [
      "Downloading 032 out of 191: 1040010040D30400/031313133332.tif\n"
     ]
    },
    {
     "name": "stderr",
     "output_type": "stream",
     "text": [
      "Downloading...\n",
      "From: https://maxar-opendata.s3.amazonaws.com/events/Morocco-Earthquake-Sept-2023/ard/29/031313133332/2018-07-23/1040010040D30400-visual.tif\n",
      "To: /home/jupyter/1040010040D30400/031313133332.tif\n",
      "100%|██████████| 37.9M/37.9M [00:03<00:00, 12.6MB/s]\n"
     ]
    },
    {
     "name": "stdout",
     "output_type": "stream",
     "text": [
      "Downloading 033 out of 191: 1040010040D30400/031313133303.tif\n"
     ]
    },
    {
     "name": "stderr",
     "output_type": "stream",
     "text": [
      "Downloading...\n",
      "From: https://maxar-opendata.s3.amazonaws.com/events/Morocco-Earthquake-Sept-2023/ard/29/031313133303/2018-07-23/1040010040D30400-visual.tif\n",
      "To: /home/jupyter/1040010040D30400/031313133303.tif\n",
      "100%|██████████| 47.5M/47.5M [00:03<00:00, 14.1MB/s]\n"
     ]
    },
    {
     "name": "stdout",
     "output_type": "stream",
     "text": [
      "Downloading 034 out of 191: 1040010040D30400/031313133312.tif\n"
     ]
    },
    {
     "name": "stderr",
     "output_type": "stream",
     "text": [
      "Downloading...\n",
      "From: https://maxar-opendata.s3.amazonaws.com/events/Morocco-Earthquake-Sept-2023/ard/29/031313133312/2018-07-23/1040010040D30400-visual.tif\n",
      "To: /home/jupyter/1040010040D30400/031313133312.tif\n",
      "100%|██████████| 34.5M/34.5M [00:02<00:00, 12.9MB/s]\n"
     ]
    },
    {
     "name": "stdout",
     "output_type": "stream",
     "text": [
      "Downloading 035 out of 191: 1040010040D30400/031313133321.tif\n"
     ]
    },
    {
     "name": "stderr",
     "output_type": "stream",
     "text": [
      "Downloading...\n",
      "From: https://maxar-opendata.s3.amazonaws.com/events/Morocco-Earthquake-Sept-2023/ard/29/031313133321/2018-07-23/1040010040D30400-visual.tif\n",
      "To: /home/jupyter/1040010040D30400/031313133321.tif\n",
      "100%|██████████| 52.6M/52.6M [00:03<00:00, 13.8MB/s]\n"
     ]
    },
    {
     "name": "stdout",
     "output_type": "stream",
     "text": [
      "Downloading 036 out of 191: 1040010040D30400/031313133330.tif\n"
     ]
    },
    {
     "name": "stderr",
     "output_type": "stream",
     "text": [
      "Downloading...\n",
      "From: https://maxar-opendata.s3.amazonaws.com/events/Morocco-Earthquake-Sept-2023/ard/29/031313133330/2018-07-23/1040010040D30400-visual.tif\n",
      "To: /home/jupyter/1040010040D30400/031313133330.tif\n",
      "100%|██████████| 40.5M/40.5M [00:03<00:00, 12.8MB/s]\n"
     ]
    },
    {
     "name": "stdout",
     "output_type": "stream",
     "text": [
      "Downloading 037 out of 191: 1040010040D30400/031313133301.tif\n"
     ]
    },
    {
     "name": "stderr",
     "output_type": "stream",
     "text": [
      "Downloading...\n",
      "From: https://maxar-opendata.s3.amazonaws.com/events/Morocco-Earthquake-Sept-2023/ard/29/031313133301/2018-07-23/1040010040D30400-visual.tif\n",
      "To: /home/jupyter/1040010040D30400/031313133301.tif\n",
      "100%|██████████| 46.7M/46.7M [00:03<00:00, 13.4MB/s]\n"
     ]
    },
    {
     "name": "stdout",
     "output_type": "stream",
     "text": [
      "Downloading 038 out of 191: 1040010040D30400/031313133310.tif\n"
     ]
    },
    {
     "name": "stderr",
     "output_type": "stream",
     "text": [
      "Downloading...\n",
      "From: https://maxar-opendata.s3.amazonaws.com/events/Morocco-Earthquake-Sept-2023/ard/29/031313133310/2018-07-23/1040010040D30400-visual.tif\n",
      "To: /home/jupyter/1040010040D30400/031313133310.tif\n",
      "100%|██████████| 45.3M/45.3M [00:03<00:00, 13.5MB/s]\n"
     ]
    },
    {
     "name": "stdout",
     "output_type": "stream",
     "text": [
      "Downloading 039 out of 191: 1040010040D30400/031313133123.tif\n"
     ]
    },
    {
     "name": "stderr",
     "output_type": "stream",
     "text": [
      "Downloading...\n",
      "From: https://maxar-opendata.s3.amazonaws.com/events/Morocco-Earthquake-Sept-2023/ard/29/031313133123/2018-07-23/1040010040D30400-visual.tif\n",
      "To: /home/jupyter/1040010040D30400/031313133123.tif\n",
      "100%|██████████| 47.9M/47.9M [00:04<00:00, 10.3MB/s]\n"
     ]
    },
    {
     "name": "stdout",
     "output_type": "stream",
     "text": [
      "Downloading 040 out of 191: 1040010040D30400/031313133130.tif\n"
     ]
    },
    {
     "name": "stderr",
     "output_type": "stream",
     "text": [
      "Downloading...\n",
      "From: https://maxar-opendata.s3.amazonaws.com/events/Morocco-Earthquake-Sept-2023/ard/29/031313133130/2018-07-23/1040010040D30400-visual.tif\n",
      "To: /home/jupyter/1040010040D30400/031313133130.tif\n",
      "100%|██████████| 64.5M/64.5M [00:04<00:00, 15.0MB/s]\n"
     ]
    },
    {
     "name": "stdout",
     "output_type": "stream",
     "text": [
      "Downloading 041 out of 191: 1040010040D30400/031313133132.tif\n"
     ]
    },
    {
     "name": "stderr",
     "output_type": "stream",
     "text": [
      "Downloading...\n",
      "From: https://maxar-opendata.s3.amazonaws.com/events/Morocco-Earthquake-Sept-2023/ard/29/031313133132/2018-07-23/1040010040D30400-visual.tif\n",
      "To: /home/jupyter/1040010040D30400/031313133132.tif\n",
      "100%|██████████| 49.3M/49.3M [00:03<00:00, 14.3MB/s]\n"
     ]
    },
    {
     "name": "stdout",
     "output_type": "stream",
     "text": [
      "Downloading 042 out of 191: 1040010040D30400/031313133103.tif\n"
     ]
    },
    {
     "name": "stderr",
     "output_type": "stream",
     "text": [
      "Downloading...\n",
      "From: https://maxar-opendata.s3.amazonaws.com/events/Morocco-Earthquake-Sept-2023/ard/29/031313133103/2018-07-23/1040010040D30400-visual.tif\n",
      "To: /home/jupyter/1040010040D30400/031313133103.tif\n",
      "100%|██████████| 73.6M/73.6M [00:04<00:00, 15.4MB/s]\n"
     ]
    },
    {
     "name": "stdout",
     "output_type": "stream",
     "text": [
      "Downloading 043 out of 191: 1040010040D30400/031313133112.tif\n"
     ]
    },
    {
     "name": "stderr",
     "output_type": "stream",
     "text": [
      "Downloading...\n",
      "From: https://maxar-opendata.s3.amazonaws.com/events/Morocco-Earthquake-Sept-2023/ard/29/031313133112/2018-07-23/1040010040D30400-visual.tif\n",
      "To: /home/jupyter/1040010040D30400/031313133112.tif\n",
      "100%|██████████| 69.8M/69.8M [00:04<00:00, 15.1MB/s]\n"
     ]
    },
    {
     "name": "stdout",
     "output_type": "stream",
     "text": [
      "Downloading 044 out of 191: 1040010040D30400/031313133121.tif\n"
     ]
    },
    {
     "name": "stderr",
     "output_type": "stream",
     "text": [
      "Downloading...\n",
      "From: https://maxar-opendata.s3.amazonaws.com/events/Morocco-Earthquake-Sept-2023/ard/29/031313133121/2018-07-23/1040010040D30400-visual.tif\n",
      "To: /home/jupyter/1040010040D30400/031313133121.tif\n",
      "100%|██████████| 72.4M/72.4M [00:04<00:00, 14.5MB/s]\n"
     ]
    },
    {
     "name": "stdout",
     "output_type": "stream",
     "text": [
      "Downloading 045 out of 191: 1040010040D30400/031313133101.tif\n"
     ]
    },
    {
     "name": "stderr",
     "output_type": "stream",
     "text": [
      "Downloading...\n",
      "From: https://maxar-opendata.s3.amazonaws.com/events/Morocco-Earthquake-Sept-2023/ard/29/031313133101/2018-07-23/1040010040D30400-visual.tif\n",
      "To: /home/jupyter/1040010040D30400/031313133101.tif\n",
      "100%|██████████| 69.5M/69.5M [00:04<00:00, 15.0MB/s]\n"
     ]
    },
    {
     "name": "stdout",
     "output_type": "stream",
     "text": [
      "Downloading 046 out of 191: 1040010040D30400/031313133110.tif\n"
     ]
    },
    {
     "name": "stderr",
     "output_type": "stream",
     "text": [
      "Downloading...\n",
      "From: https://maxar-opendata.s3.amazonaws.com/events/Morocco-Earthquake-Sept-2023/ard/29/031313133110/2018-07-23/1040010040D30400-visual.tif\n",
      "To: /home/jupyter/1040010040D30400/031313133110.tif\n",
      "100%|██████████| 65.1M/65.1M [00:04<00:00, 14.8MB/s]\n"
     ]
    },
    {
     "name": "stdout",
     "output_type": "stream",
     "text": [
      "Downloading 047 out of 191: 1040010040D30400/031313131321.tif\n"
     ]
    },
    {
     "name": "stderr",
     "output_type": "stream",
     "text": [
      "Downloading...\n",
      "From: https://maxar-opendata.s3.amazonaws.com/events/Morocco-Earthquake-Sept-2023/ard/29/031313131321/2018-07-23/1040010040D30400-visual.tif\n",
      "To: /home/jupyter/1040010040D30400/031313131321.tif\n",
      "100%|██████████| 63.1M/63.1M [00:04<00:00, 15.0MB/s]\n"
     ]
    },
    {
     "name": "stdout",
     "output_type": "stream",
     "text": [
      "Downloading 048 out of 191: 1040010040D30400/031313131323.tif\n"
     ]
    },
    {
     "name": "stderr",
     "output_type": "stream",
     "text": [
      "Downloading...\n",
      "From: https://maxar-opendata.s3.amazonaws.com/events/Morocco-Earthquake-Sept-2023/ard/29/031313131323/2018-07-23/1040010040D30400-visual.tif\n",
      "To: /home/jupyter/1040010040D30400/031313131323.tif\n",
      "100%|██████████| 63.9M/63.9M [00:06<00:00, 10.2MB/s]\n"
     ]
    },
    {
     "name": "stdout",
     "output_type": "stream",
     "text": [
      "Downloading 049 out of 191: 1040010040D30400/031313131330.tif\n"
     ]
    },
    {
     "name": "stderr",
     "output_type": "stream",
     "text": [
      "Downloading...\n",
      "From: https://maxar-opendata.s3.amazonaws.com/events/Morocco-Earthquake-Sept-2023/ard/29/031313131330/2018-07-23/1040010040D30400-visual.tif\n",
      "To: /home/jupyter/1040010040D30400/031313131330.tif\n",
      "100%|██████████| 45.2M/45.2M [00:03<00:00, 13.5MB/s]\n"
     ]
    },
    {
     "name": "stdout",
     "output_type": "stream",
     "text": [
      "Downloading 050 out of 191: 1040010040D30400/031313131332.tif\n"
     ]
    },
    {
     "name": "stderr",
     "output_type": "stream",
     "text": [
      "Downloading...\n",
      "From: https://maxar-opendata.s3.amazonaws.com/events/Morocco-Earthquake-Sept-2023/ard/29/031313131332/2018-07-23/1040010040D30400-visual.tif\n",
      "To: /home/jupyter/1040010040D30400/031313131332.tif\n",
      "100%|██████████| 56.7M/56.7M [00:03<00:00, 14.5MB/s]\n"
     ]
    },
    {
     "name": "stdout",
     "output_type": "stream",
     "text": [
      "Downloading 051 out of 191: 1040010040D30400/031313131303.tif\n"
     ]
    },
    {
     "name": "stderr",
     "output_type": "stream",
     "text": [
      "Downloading...\n",
      "From: https://maxar-opendata.s3.amazonaws.com/events/Morocco-Earthquake-Sept-2023/ard/29/031313131303/2018-07-23/1040010040D30400-visual.tif\n",
      "To: /home/jupyter/1040010040D30400/031313131303.tif\n",
      "100%|██████████| 67.5M/67.5M [00:04<00:00, 14.6MB/s]\n"
     ]
    },
    {
     "name": "stdout",
     "output_type": "stream",
     "text": [
      "Downloading 052 out of 191: 1040010040D30400/031313131312.tif\n"
     ]
    },
    {
     "name": "stderr",
     "output_type": "stream",
     "text": [
      "Downloading...\n",
      "From: https://maxar-opendata.s3.amazonaws.com/events/Morocco-Earthquake-Sept-2023/ard/29/031313131312/2018-07-23/1040010040D30400-visual.tif\n",
      "To: /home/jupyter/1040010040D30400/031313131312.tif\n",
      "100%|██████████| 51.9M/51.9M [00:03<00:00, 13.7MB/s]\n"
     ]
    },
    {
     "name": "stdout",
     "output_type": "stream",
     "text": [
      "Downloading 053 out of 191: 104001003FAD9700/031313131313.tif\n"
     ]
    },
    {
     "name": "stderr",
     "output_type": "stream",
     "text": [
      "Downloading...\n",
      "From: https://maxar-opendata.s3.amazonaws.com/events/Morocco-Earthquake-Sept-2023/ard/29/031313131313/2018-07-29/104001003FAD9700-visual.tif\n",
      "To: /home/jupyter/104001003FAD9700/031313131313.tif\n",
      "100%|██████████| 26.5M/26.5M [00:02<00:00, 11.2MB/s]\n"
     ]
    },
    {
     "name": "stdout",
     "output_type": "stream",
     "text": [
      "Downloading 054 out of 191: 104001003FAD9700/031313131331.tif\n"
     ]
    },
    {
     "name": "stderr",
     "output_type": "stream",
     "text": [
      "Downloading...\n",
      "From: https://maxar-opendata.s3.amazonaws.com/events/Morocco-Earthquake-Sept-2023/ard/29/031313131331/2018-07-29/104001003FAD9700-visual.tif\n",
      "To: /home/jupyter/104001003FAD9700/031313131331.tif\n",
      "100%|██████████| 29.1M/29.1M [00:02<00:00, 11.9MB/s]\n"
     ]
    },
    {
     "name": "stdout",
     "output_type": "stream",
     "text": [
      "Downloading 055 out of 191: 104001003FAD9700/031313131333.tif\n"
     ]
    },
    {
     "name": "stderr",
     "output_type": "stream",
     "text": [
      "Downloading...\n",
      "From: https://maxar-opendata.s3.amazonaws.com/events/Morocco-Earthquake-Sept-2023/ard/29/031313131333/2018-07-29/104001003FAD9700-visual.tif\n",
      "To: /home/jupyter/104001003FAD9700/031313131333.tif\n",
      "100%|██████████| 33.6M/33.6M [00:02<00:00, 12.4MB/s]\n"
     ]
    },
    {
     "name": "stdout",
     "output_type": "stream",
     "text": [
      "Downloading 056 out of 191: 104001003FAD9700/031313133111.tif\n"
     ]
    },
    {
     "name": "stderr",
     "output_type": "stream",
     "text": [
      "Downloading...\n",
      "From: https://maxar-opendata.s3.amazonaws.com/events/Morocco-Earthquake-Sept-2023/ard/29/031313133111/2018-07-29/104001003FAD9700-visual.tif\n",
      "To: /home/jupyter/104001003FAD9700/031313133111.tif\n",
      "100%|██████████| 32.6M/32.6M [00:02<00:00, 12.3MB/s]\n"
     ]
    },
    {
     "name": "stdout",
     "output_type": "stream",
     "text": [
      "Downloading 057 out of 191: 104001003FAD9700/031313133113.tif\n"
     ]
    },
    {
     "name": "stderr",
     "output_type": "stream",
     "text": [
      "Downloading...\n",
      "From: https://maxar-opendata.s3.amazonaws.com/events/Morocco-Earthquake-Sept-2023/ard/29/031313133113/2018-07-29/104001003FAD9700-visual.tif\n",
      "To: /home/jupyter/104001003FAD9700/031313133113.tif\n",
      "100%|██████████| 34.0M/34.0M [00:02<00:00, 12.6MB/s]\n"
     ]
    },
    {
     "name": "stdout",
     "output_type": "stream",
     "text": [
      "Downloading 058 out of 191: 104001003FAD9700/031313133131.tif\n"
     ]
    },
    {
     "name": "stderr",
     "output_type": "stream",
     "text": [
      "Downloading...\n",
      "From: https://maxar-opendata.s3.amazonaws.com/events/Morocco-Earthquake-Sept-2023/ard/29/031313133131/2018-07-29/104001003FAD9700-visual.tif\n",
      "To: /home/jupyter/104001003FAD9700/031313133131.tif\n",
      "100%|██████████| 30.9M/30.9M [00:02<00:00, 12.3MB/s]\n"
     ]
    },
    {
     "name": "stdout",
     "output_type": "stream",
     "text": [
      "Downloading 059 out of 191: 104001003FAD9700/031313133133.tif\n"
     ]
    },
    {
     "name": "stderr",
     "output_type": "stream",
     "text": [
      "Downloading...\n",
      "From: https://maxar-opendata.s3.amazonaws.com/events/Morocco-Earthquake-Sept-2023/ard/29/031313133133/2018-07-29/104001003FAD9700-visual.tif\n",
      "To: /home/jupyter/104001003FAD9700/031313133133.tif\n",
      "100%|██████████| 23.1M/23.1M [00:02<00:00, 10.6MB/s]\n"
     ]
    },
    {
     "name": "stdout",
     "output_type": "stream",
     "text": [
      "Downloading 060 out of 191: 104001003FAD9700/031313133311.tif\n"
     ]
    },
    {
     "name": "stderr",
     "output_type": "stream",
     "text": [
      "Downloading...\n",
      "From: https://maxar-opendata.s3.amazonaws.com/events/Morocco-Earthquake-Sept-2023/ard/29/031313133311/2018-07-29/104001003FAD9700-visual.tif\n",
      "To: /home/jupyter/104001003FAD9700/031313133311.tif\n",
      "100%|██████████| 24.6M/24.6M [00:02<00:00, 11.3MB/s]\n"
     ]
    },
    {
     "name": "stdout",
     "output_type": "stream",
     "text": [
      "Downloading 061 out of 191: 104001003FAD9700/031313133313.tif\n"
     ]
    },
    {
     "name": "stderr",
     "output_type": "stream",
     "text": [
      "Downloading...\n",
      "From: https://maxar-opendata.s3.amazonaws.com/events/Morocco-Earthquake-Sept-2023/ard/29/031313133313/2018-07-29/104001003FAD9700-visual.tif\n",
      "To: /home/jupyter/104001003FAD9700/031313133313.tif\n",
      "100%|██████████| 28.1M/28.1M [00:02<00:00, 11.3MB/s]\n"
     ]
    },
    {
     "name": "stdout",
     "output_type": "stream",
     "text": [
      "Downloading 062 out of 191: 104001003FAD9700/031313133331.tif\n"
     ]
    },
    {
     "name": "stderr",
     "output_type": "stream",
     "text": [
      "Downloading...\n",
      "From: https://maxar-opendata.s3.amazonaws.com/events/Morocco-Earthquake-Sept-2023/ard/29/031313133331/2018-07-29/104001003FAD9700-visual.tif\n",
      "To: /home/jupyter/104001003FAD9700/031313133331.tif\n",
      "100%|██████████| 25.0M/25.0M [00:02<00:00, 11.5MB/s]\n"
     ]
    },
    {
     "name": "stdout",
     "output_type": "stream",
     "text": [
      "Downloading 063 out of 191: 104001003FAD9700/031313133333.tif\n"
     ]
    },
    {
     "name": "stderr",
     "output_type": "stream",
     "text": [
      "Downloading...\n",
      "From: https://maxar-opendata.s3.amazonaws.com/events/Morocco-Earthquake-Sept-2023/ard/29/031313133333/2018-07-29/104001003FAD9700-visual.tif\n",
      "To: /home/jupyter/104001003FAD9700/031313133333.tif\n",
      "100%|██████████| 26.4M/26.4M [00:02<00:00, 11.0MB/s]\n"
     ]
    },
    {
     "name": "stdout",
     "output_type": "stream",
     "text": [
      "Downloading 064 out of 191: 104001003FAD9700/031313311111.tif\n"
     ]
    },
    {
     "name": "stderr",
     "output_type": "stream",
     "text": [
      "Downloading...\n",
      "From: https://maxar-opendata.s3.amazonaws.com/events/Morocco-Earthquake-Sept-2023/ard/29/031313311111/2018-07-29/104001003FAD9700-visual.tif\n",
      "To: /home/jupyter/104001003FAD9700/031313311111.tif\n",
      "100%|██████████| 25.4M/25.4M [00:02<00:00, 11.4MB/s]\n"
     ]
    },
    {
     "name": "stdout",
     "output_type": "stream",
     "text": [
      "Downloading 065 out of 191: 104001003FAD9700/031313311113.tif\n"
     ]
    },
    {
     "name": "stderr",
     "output_type": "stream",
     "text": [
      "Downloading...\n",
      "From: https://maxar-opendata.s3.amazonaws.com/events/Morocco-Earthquake-Sept-2023/ard/29/031313311113/2018-07-29/104001003FAD9700-visual.tif\n",
      "To: /home/jupyter/104001003FAD9700/031313311113.tif\n",
      "100%|██████████| 3.79M/3.79M [00:01<00:00, 3.50MB/s]\n"
     ]
    },
    {
     "name": "stdout",
     "output_type": "stream",
     "text": [
      "Downloading 066 out of 191: 04eddade/031313311103.tif\n"
     ]
    },
    {
     "name": "stderr",
     "output_type": "stream",
     "text": [
      "Downloading...\n",
      "From: https://maxar-opendata.s3.amazonaws.com/events/Morocco-Earthquake-Sept-2023/ard/29/031313311103/2018-08-31/04eddade-a2dc-4d16-8710-fb764d318766-inv-visual.tif\n",
      "To: /home/jupyter/04eddade/031313311103.tif\n",
      "100%|██████████| 74.3M/74.3M [00:04<00:00, 15.3MB/s]\n"
     ]
    },
    {
     "name": "stdout",
     "output_type": "stream",
     "text": [
      "Downloading 067 out of 191: 04eddade/031313311112.tif\n"
     ]
    },
    {
     "name": "stderr",
     "output_type": "stream",
     "text": [
      "Downloading...\n",
      "From: https://maxar-opendata.s3.amazonaws.com/events/Morocco-Earthquake-Sept-2023/ard/29/031313311112/2018-08-31/04eddade-a2dc-4d16-8710-fb764d318766-inv-visual.tif\n",
      "To: /home/jupyter/04eddade/031313311112.tif\n",
      "100%|██████████| 49.1M/49.1M [00:03<00:00, 14.4MB/s]\n"
     ]
    },
    {
     "name": "stdout",
     "output_type": "stream",
     "text": [
      "Downloading 068 out of 191: 04eddade/031313311113.tif\n"
     ]
    },
    {
     "name": "stderr",
     "output_type": "stream",
     "text": [
      "Downloading...\n",
      "From: https://maxar-opendata.s3.amazonaws.com/events/Morocco-Earthquake-Sept-2023/ard/29/031313311113/2018-08-31/04eddade-a2dc-4d16-8710-fb764d318766-inv-visual.tif\n",
      "To: /home/jupyter/04eddade/031313311113.tif\n",
      "100%|██████████| 16.0M/16.0M [00:01<00:00, 9.06MB/s]\n"
     ]
    },
    {
     "name": "stdout",
     "output_type": "stream",
     "text": [
      "Downloading 069 out of 191: 04eddade/031313133323.tif\n"
     ]
    },
    {
     "name": "stderr",
     "output_type": "stream",
     "text": [
      "Downloading...\n",
      "From: https://maxar-opendata.s3.amazonaws.com/events/Morocco-Earthquake-Sept-2023/ard/29/031313133323/2018-08-31/04eddade-a2dc-4d16-8710-fb764d318766-inv-visual.tif\n",
      "To: /home/jupyter/04eddade/031313133323.tif\n",
      "100%|██████████| 61.8M/61.8M [00:04<00:00, 15.1MB/s]\n"
     ]
    },
    {
     "name": "stdout",
     "output_type": "stream",
     "text": [
      "Downloading 070 out of 191: 04eddade/031313133332.tif\n"
     ]
    },
    {
     "name": "stderr",
     "output_type": "stream",
     "text": [
      "Downloading...\n",
      "From: https://maxar-opendata.s3.amazonaws.com/events/Morocco-Earthquake-Sept-2023/ard/29/031313133332/2018-08-31/04eddade-a2dc-4d16-8710-fb764d318766-inv-visual.tif\n",
      "To: /home/jupyter/04eddade/031313133332.tif\n",
      "100%|██████████| 58.7M/58.7M [00:03<00:00, 14.7MB/s]\n"
     ]
    },
    {
     "name": "stdout",
     "output_type": "stream",
     "text": [
      "Downloading 071 out of 191: 04eddade/031313133333.tif\n"
     ]
    },
    {
     "name": "stderr",
     "output_type": "stream",
     "text": [
      "Downloading...\n",
      "From: https://maxar-opendata.s3.amazonaws.com/events/Morocco-Earthquake-Sept-2023/ard/29/031313133333/2018-08-31/04eddade-a2dc-4d16-8710-fb764d318766-inv-visual.tif\n",
      "To: /home/jupyter/04eddade/031313133333.tif\n",
      "100%|██████████| 54.6M/54.6M [00:03<00:00, 14.2MB/s]\n"
     ]
    },
    {
     "name": "stdout",
     "output_type": "stream",
     "text": [
      "Downloading 072 out of 191: 04eddade/031313311101.tif\n"
     ]
    },
    {
     "name": "stderr",
     "output_type": "stream",
     "text": [
      "Downloading...\n",
      "From: https://maxar-opendata.s3.amazonaws.com/events/Morocco-Earthquake-Sept-2023/ard/29/031313311101/2018-08-31/04eddade-a2dc-4d16-8710-fb764d318766-inv-visual.tif\n",
      "To: /home/jupyter/04eddade/031313311101.tif\n",
      "100%|██████████| 79.8M/79.8M [00:05<00:00, 15.8MB/s]\n"
     ]
    },
    {
     "name": "stdout",
     "output_type": "stream",
     "text": [
      "Downloading 073 out of 191: 04eddade/031313311110.tif\n"
     ]
    },
    {
     "name": "stderr",
     "output_type": "stream",
     "text": [
      "Downloading...\n",
      "From: https://maxar-opendata.s3.amazonaws.com/events/Morocco-Earthquake-Sept-2023/ard/29/031313311110/2018-08-31/04eddade-a2dc-4d16-8710-fb764d318766-inv-visual.tif\n",
      "To: /home/jupyter/04eddade/031313311110.tif\n",
      "100%|██████████| 77.0M/77.0M [00:04<00:00, 16.0MB/s]\n"
     ]
    },
    {
     "name": "stdout",
     "output_type": "stream",
     "text": [
      "Downloading 074 out of 191: 04eddade/031313311111.tif\n"
     ]
    },
    {
     "name": "stderr",
     "output_type": "stream",
     "text": [
      "Downloading...\n",
      "From: https://maxar-opendata.s3.amazonaws.com/events/Morocco-Earthquake-Sept-2023/ard/29/031313311111/2018-08-31/04eddade-a2dc-4d16-8710-fb764d318766-inv-visual.tif\n",
      "To: /home/jupyter/04eddade/031313311111.tif\n",
      "100%|██████████| 61.5M/61.5M [00:04<00:00, 14.9MB/s]\n"
     ]
    },
    {
     "name": "stdout",
     "output_type": "stream",
     "text": [
      "Downloading 075 out of 191: 04eddade/031313133321.tif\n"
     ]
    },
    {
     "name": "stderr",
     "output_type": "stream",
     "text": [
      "Downloading...\n",
      "From: https://maxar-opendata.s3.amazonaws.com/events/Morocco-Earthquake-Sept-2023/ard/29/031313133321/2018-08-31/04eddade-a2dc-4d16-8710-fb764d318766-inv-visual.tif\n",
      "To: /home/jupyter/04eddade/031313133321.tif\n",
      "100%|██████████| 72.5M/72.5M [00:04<00:00, 15.1MB/s]\n"
     ]
    },
    {
     "name": "stdout",
     "output_type": "stream",
     "text": [
      "Downloading 076 out of 191: 04eddade/031313133330.tif\n"
     ]
    },
    {
     "name": "stderr",
     "output_type": "stream",
     "text": [
      "Downloading...\n",
      "From: https://maxar-opendata.s3.amazonaws.com/events/Morocco-Earthquake-Sept-2023/ard/29/031313133330/2018-08-31/04eddade-a2dc-4d16-8710-fb764d318766-inv-visual.tif\n",
      "To: /home/jupyter/04eddade/031313133330.tif\n",
      "100%|██████████| 74.6M/74.6M [00:06<00:00, 11.3MB/s]\n"
     ]
    },
    {
     "name": "stdout",
     "output_type": "stream",
     "text": [
      "Downloading 077 out of 191: 04eddade/031313133331.tif\n"
     ]
    },
    {
     "name": "stderr",
     "output_type": "stream",
     "text": [
      "Downloading...\n",
      "From: https://maxar-opendata.s3.amazonaws.com/events/Morocco-Earthquake-Sept-2023/ard/29/031313133331/2018-08-31/04eddade-a2dc-4d16-8710-fb764d318766-inv-visual.tif\n",
      "To: /home/jupyter/04eddade/031313133331.tif\n",
      "100%|██████████| 58.8M/58.8M [00:03<00:00, 14.9MB/s]\n"
     ]
    },
    {
     "name": "stdout",
     "output_type": "stream",
     "text": [
      "Downloading 078 out of 191: 04eddade/031313133301.tif\n"
     ]
    },
    {
     "name": "stderr",
     "output_type": "stream",
     "text": [
      "Downloading...\n",
      "From: https://maxar-opendata.s3.amazonaws.com/events/Morocco-Earthquake-Sept-2023/ard/29/031313133301/2018-08-31/04eddade-a2dc-4d16-8710-fb764d318766-inv-visual.tif\n",
      "To: /home/jupyter/04eddade/031313133301.tif\n",
      "100%|██████████| 61.3M/61.3M [00:04<00:00, 14.8MB/s]\n"
     ]
    },
    {
     "name": "stdout",
     "output_type": "stream",
     "text": [
      "Downloading 079 out of 191: 04eddade/031313133303.tif\n"
     ]
    },
    {
     "name": "stderr",
     "output_type": "stream",
     "text": [
      "Downloading...\n",
      "From: https://maxar-opendata.s3.amazonaws.com/events/Morocco-Earthquake-Sept-2023/ard/29/031313133303/2018-08-31/04eddade-a2dc-4d16-8710-fb764d318766-inv-visual.tif\n",
      "To: /home/jupyter/04eddade/031313133303.tif\n",
      "100%|██████████| 74.7M/74.7M [00:04<00:00, 15.4MB/s]\n"
     ]
    },
    {
     "name": "stdout",
     "output_type": "stream",
     "text": [
      "Downloading 080 out of 191: 04eddade/031313133312.tif\n"
     ]
    },
    {
     "name": "stderr",
     "output_type": "stream",
     "text": [
      "Downloading...\n",
      "From: https://maxar-opendata.s3.amazonaws.com/events/Morocco-Earthquake-Sept-2023/ard/29/031313133312/2018-08-31/04eddade-a2dc-4d16-8710-fb764d318766-inv-visual.tif\n",
      "To: /home/jupyter/04eddade/031313133312.tif\n",
      "100%|██████████| 76.4M/76.4M [00:04<00:00, 15.5MB/s]\n"
     ]
    },
    {
     "name": "stdout",
     "output_type": "stream",
     "text": [
      "Downloading 081 out of 191: 04eddade/031313133313.tif\n"
     ]
    },
    {
     "name": "stderr",
     "output_type": "stream",
     "text": [
      "Downloading...\n",
      "From: https://maxar-opendata.s3.amazonaws.com/events/Morocco-Earthquake-Sept-2023/ard/29/031313133313/2018-08-31/04eddade-a2dc-4d16-8710-fb764d318766-inv-visual.tif\n",
      "To: /home/jupyter/04eddade/031313133313.tif\n",
      "100%|██████████| 58.6M/58.6M [00:03<00:00, 14.7MB/s]\n"
     ]
    },
    {
     "name": "stdout",
     "output_type": "stream",
     "text": [
      "Downloading 082 out of 191: 04eddade/031313133123.tif\n"
     ]
    },
    {
     "name": "stderr",
     "output_type": "stream",
     "text": [
      "Downloading...\n",
      "From: https://maxar-opendata.s3.amazonaws.com/events/Morocco-Earthquake-Sept-2023/ard/29/031313133123/2018-08-31/04eddade-a2dc-4d16-8710-fb764d318766-inv-visual.tif\n",
      "To: /home/jupyter/04eddade/031313133123.tif\n",
      "100%|██████████| 58.3M/58.3M [00:04<00:00, 14.3MB/s]\n"
     ]
    },
    {
     "name": "stdout",
     "output_type": "stream",
     "text": [
      "Downloading 083 out of 191: 04eddade/031313133132.tif\n"
     ]
    },
    {
     "name": "stderr",
     "output_type": "stream",
     "text": [
      "Downloading...\n",
      "From: https://maxar-opendata.s3.amazonaws.com/events/Morocco-Earthquake-Sept-2023/ard/29/031313133132/2018-08-31/04eddade-a2dc-4d16-8710-fb764d318766-inv-visual.tif\n",
      "To: /home/jupyter/04eddade/031313133132.tif\n",
      "100%|██████████| 47.2M/47.2M [00:03<00:00, 12.8MB/s]\n"
     ]
    },
    {
     "name": "stdout",
     "output_type": "stream",
     "text": [
      "Downloading 084 out of 191: 04eddade/031313133133.tif\n"
     ]
    },
    {
     "name": "stderr",
     "output_type": "stream",
     "text": [
      "Downloading...\n",
      "From: https://maxar-opendata.s3.amazonaws.com/events/Morocco-Earthquake-Sept-2023/ard/29/031313133133/2018-08-31/04eddade-a2dc-4d16-8710-fb764d318766-inv-visual.tif\n",
      "To: /home/jupyter/04eddade/031313133133.tif\n",
      "100%|██████████| 37.3M/37.3M [00:02<00:00, 13.0MB/s]\n"
     ]
    },
    {
     "name": "stdout",
     "output_type": "stream",
     "text": [
      "Downloading 085 out of 191: 04eddade/031313133310.tif\n"
     ]
    },
    {
     "name": "stderr",
     "output_type": "stream",
     "text": [
      "Downloading...\n",
      "From: https://maxar-opendata.s3.amazonaws.com/events/Morocco-Earthquake-Sept-2023/ard/29/031313133310/2018-08-31/04eddade-a2dc-4d16-8710-fb764d318766-inv-visual.tif\n",
      "To: /home/jupyter/04eddade/031313133310.tif\n",
      "100%|██████████| 67.2M/67.2M [00:04<00:00, 15.1MB/s]\n"
     ]
    },
    {
     "name": "stdout",
     "output_type": "stream",
     "text": [
      "Downloading 086 out of 191: 04eddade/031313133311.tif\n"
     ]
    },
    {
     "name": "stderr",
     "output_type": "stream",
     "text": [
      "Downloading...\n",
      "From: https://maxar-opendata.s3.amazonaws.com/events/Morocco-Earthquake-Sept-2023/ard/29/031313133311/2018-08-31/04eddade-a2dc-4d16-8710-fb764d318766-inv-visual.tif\n",
      "To: /home/jupyter/04eddade/031313133311.tif\n",
      "100%|██████████| 53.8M/53.8M [00:03<00:00, 13.6MB/s]\n"
     ]
    },
    {
     "name": "stdout",
     "output_type": "stream",
     "text": [
      "Downloading 087 out of 191: 44422c98/031313311112.tif\n"
     ]
    },
    {
     "name": "stderr",
     "output_type": "stream",
     "text": [
      "Downloading...\n",
      "From: https://maxar-opendata.s3.amazonaws.com/events/Morocco-Earthquake-Sept-2023/ard/29/031313311112/2018-09-07/44422c98-0085-4ec1-a2cf-1d8f9796ae2a-inv-visual.tif\n",
      "To: /home/jupyter/44422c98/031313311112.tif\n",
      "100%|██████████| 54.0M/54.0M [00:03<00:00, 14.5MB/s]\n"
     ]
    },
    {
     "name": "stdout",
     "output_type": "stream",
     "text": [
      "Downloading 088 out of 191: 44422c98/031313311113.tif\n"
     ]
    },
    {
     "name": "stderr",
     "output_type": "stream",
     "text": [
      "Downloading...\n",
      "From: https://maxar-opendata.s3.amazonaws.com/events/Morocco-Earthquake-Sept-2023/ard/29/031313311113/2018-09-07/44422c98-0085-4ec1-a2cf-1d8f9796ae2a-inv-visual.tif\n",
      "To: /home/jupyter/44422c98/031313311113.tif\n",
      "100%|██████████| 19.1M/19.1M [00:01<00:00, 9.96MB/s]\n"
     ]
    },
    {
     "name": "stdout",
     "output_type": "stream",
     "text": [
      "Downloading 089 out of 191: 44422c98/031313311110.tif\n"
     ]
    },
    {
     "name": "stderr",
     "output_type": "stream",
     "text": [
      "Downloading...\n",
      "From: https://maxar-opendata.s3.amazonaws.com/events/Morocco-Earthquake-Sept-2023/ard/29/031313311110/2018-09-07/44422c98-0085-4ec1-a2cf-1d8f9796ae2a-inv-visual.tif\n",
      "To: /home/jupyter/44422c98/031313311110.tif\n",
      "100%|██████████| 89.3M/89.3M [00:14<00:00, 6.29MB/s]\n"
     ]
    },
    {
     "name": "stdout",
     "output_type": "stream",
     "text": [
      "Downloading 090 out of 191: 44422c98/031313311111.tif\n"
     ]
    },
    {
     "name": "stderr",
     "output_type": "stream",
     "text": [
      "Downloading...\n",
      "From: https://maxar-opendata.s3.amazonaws.com/events/Morocco-Earthquake-Sept-2023/ard/29/031313311111/2018-09-07/44422c98-0085-4ec1-a2cf-1d8f9796ae2a-inv-visual.tif\n",
      "To: /home/jupyter/44422c98/031313311111.tif\n",
      "100%|██████████| 97.5M/97.5M [00:13<00:00, 7.12MB/s]\n"
     ]
    },
    {
     "name": "stdout",
     "output_type": "stream",
     "text": [
      "Downloading 091 out of 191: 44422c98/031313133330.tif\n"
     ]
    },
    {
     "name": "stderr",
     "output_type": "stream",
     "text": [
      "Downloading...\n",
      "From: https://maxar-opendata.s3.amazonaws.com/events/Morocco-Earthquake-Sept-2023/ard/29/031313133330/2018-09-07/44422c98-0085-4ec1-a2cf-1d8f9796ae2a-inv-visual.tif\n",
      "To: /home/jupyter/44422c98/031313133330.tif\n",
      "100%|██████████| 79.2M/79.2M [00:05<00:00, 15.7MB/s]\n"
     ]
    },
    {
     "name": "stdout",
     "output_type": "stream",
     "text": [
      "Downloading 092 out of 191: 44422c98/031313133331.tif\n"
     ]
    },
    {
     "name": "stderr",
     "output_type": "stream",
     "text": [
      "Downloading...\n",
      "From: https://maxar-opendata.s3.amazonaws.com/events/Morocco-Earthquake-Sept-2023/ard/29/031313133331/2018-09-07/44422c98-0085-4ec1-a2cf-1d8f9796ae2a-inv-visual.tif\n",
      "To: /home/jupyter/44422c98/031313133331.tif\n",
      "100%|██████████| 89.6M/89.6M [00:05<00:00, 15.9MB/s]\n"
     ]
    },
    {
     "name": "stdout",
     "output_type": "stream",
     "text": [
      "Downloading 093 out of 191: 44422c98/031313133332.tif\n"
     ]
    },
    {
     "name": "stderr",
     "output_type": "stream",
     "text": [
      "Downloading...\n",
      "From: https://maxar-opendata.s3.amazonaws.com/events/Morocco-Earthquake-Sept-2023/ard/29/031313133332/2018-09-07/44422c98-0085-4ec1-a2cf-1d8f9796ae2a-inv-visual.tif\n",
      "To: /home/jupyter/44422c98/031313133332.tif\n",
      "100%|██████████| 57.1M/57.1M [00:04<00:00, 14.2MB/s]\n"
     ]
    },
    {
     "name": "stdout",
     "output_type": "stream",
     "text": [
      "Downloading 094 out of 191: 44422c98/031313133333.tif\n"
     ]
    },
    {
     "name": "stderr",
     "output_type": "stream",
     "text": [
      "Downloading...\n",
      "From: https://maxar-opendata.s3.amazonaws.com/events/Morocco-Earthquake-Sept-2023/ard/29/031313133333/2018-09-07/44422c98-0085-4ec1-a2cf-1d8f9796ae2a-inv-visual.tif\n",
      "To: /home/jupyter/44422c98/031313133333.tif\n",
      "100%|██████████| 85.6M/85.6M [00:05<00:00, 15.9MB/s]\n"
     ]
    },
    {
     "name": "stdout",
     "output_type": "stream",
     "text": [
      "Downloading 095 out of 191: 44422c98/031313133312.tif\n"
     ]
    },
    {
     "name": "stderr",
     "output_type": "stream",
     "text": [
      "Downloading...\n",
      "From: https://maxar-opendata.s3.amazonaws.com/events/Morocco-Earthquake-Sept-2023/ard/29/031313133312/2018-09-07/44422c98-0085-4ec1-a2cf-1d8f9796ae2a-inv-visual.tif\n",
      "To: /home/jupyter/44422c98/031313133312.tif\n",
      "100%|██████████| 84.1M/84.1M [00:05<00:00, 15.8MB/s]\n"
     ]
    },
    {
     "name": "stdout",
     "output_type": "stream",
     "text": [
      "Downloading 096 out of 191: 44422c98/031313133313.tif\n"
     ]
    },
    {
     "name": "stderr",
     "output_type": "stream",
     "text": [
      "Downloading...\n",
      "From: https://maxar-opendata.s3.amazonaws.com/events/Morocco-Earthquake-Sept-2023/ard/29/031313133313/2018-09-07/44422c98-0085-4ec1-a2cf-1d8f9796ae2a-inv-visual.tif\n",
      "To: /home/jupyter/44422c98/031313133313.tif\n",
      "100%|██████████| 92.1M/92.1M [00:06<00:00, 15.0MB/s]\n"
     ]
    },
    {
     "name": "stdout",
     "output_type": "stream",
     "text": [
      "Downloading 097 out of 191: 44422c98/031313133132.tif\n"
     ]
    },
    {
     "name": "stderr",
     "output_type": "stream",
     "text": [
      "Downloading...\n",
      "From: https://maxar-opendata.s3.amazonaws.com/events/Morocco-Earthquake-Sept-2023/ard/29/031313133132/2018-09-07/44422c98-0085-4ec1-a2cf-1d8f9796ae2a-inv-visual.tif\n",
      "To: /home/jupyter/44422c98/031313133132.tif\n",
      "100%|██████████| 38.3M/38.3M [00:02<00:00, 12.8MB/s]\n"
     ]
    },
    {
     "name": "stdout",
     "output_type": "stream",
     "text": [
      "Downloading 098 out of 191: 44422c98/031313133133.tif\n"
     ]
    },
    {
     "name": "stderr",
     "output_type": "stream",
     "text": [
      "Downloading...\n",
      "From: https://maxar-opendata.s3.amazonaws.com/events/Morocco-Earthquake-Sept-2023/ard/29/031313133133/2018-09-07/44422c98-0085-4ec1-a2cf-1d8f9796ae2a-inv-visual.tif\n",
      "To: /home/jupyter/44422c98/031313133133.tif\n",
      "100%|██████████| 46.4M/46.4M [00:03<00:00, 14.0MB/s]\n"
     ]
    },
    {
     "name": "stdout",
     "output_type": "stream",
     "text": [
      "Downloading 099 out of 191: 44422c98/031313133310.tif\n"
     ]
    },
    {
     "name": "stderr",
     "output_type": "stream",
     "text": [
      "Downloading...\n",
      "From: https://maxar-opendata.s3.amazonaws.com/events/Morocco-Earthquake-Sept-2023/ard/29/031313133310/2018-09-07/44422c98-0085-4ec1-a2cf-1d8f9796ae2a-inv-visual.tif\n",
      "To: /home/jupyter/44422c98/031313133310.tif\n",
      "100%|██████████| 71.7M/71.7M [00:04<00:00, 15.3MB/s]\n"
     ]
    },
    {
     "name": "stdout",
     "output_type": "stream",
     "text": [
      "Downloading 100 out of 191: 44422c98/031313133311.tif\n"
     ]
    },
    {
     "name": "stderr",
     "output_type": "stream",
     "text": [
      "Downloading...\n",
      "From: https://maxar-opendata.s3.amazonaws.com/events/Morocco-Earthquake-Sept-2023/ard/29/031313133311/2018-09-07/44422c98-0085-4ec1-a2cf-1d8f9796ae2a-inv-visual.tif\n",
      "To: /home/jupyter/44422c98/031313133311.tif\n",
      "100%|██████████| 81.5M/81.5M [00:05<00:00, 15.0MB/s]\n"
     ]
    },
    {
     "name": "stdout",
     "output_type": "stream",
     "text": [
      "Downloading 101 out of 191: d0235025/031313311101.tif\n"
     ]
    },
    {
     "name": "stderr",
     "output_type": "stream",
     "text": [
      "Downloading...\n",
      "From: https://maxar-opendata.s3.amazonaws.com/events/Morocco-Earthquake-Sept-2023/ard/29/031313311101/2018-10-02/d0235025-c5a6-488f-8d8c-3ac317f92a6b-inv-visual.tif\n",
      "To: /home/jupyter/d0235025/031313311101.tif\n",
      "100%|██████████| 39.5M/39.5M [00:02<00:00, 13.3MB/s]\n"
     ]
    },
    {
     "name": "stdout",
     "output_type": "stream",
     "text": [
      "Downloading 102 out of 191: d0235025/031313311103.tif\n"
     ]
    },
    {
     "name": "stderr",
     "output_type": "stream",
     "text": [
      "Downloading...\n",
      "From: https://maxar-opendata.s3.amazonaws.com/events/Morocco-Earthquake-Sept-2023/ard/29/031313311103/2018-10-02/d0235025-c5a6-488f-8d8c-3ac317f92a6b-inv-visual.tif\n",
      "To: /home/jupyter/d0235025/031313311103.tif\n",
      "100%|██████████| 37.2M/37.2M [00:02<00:00, 12.5MB/s]\n"
     ]
    },
    {
     "name": "stdout",
     "output_type": "stream",
     "text": [
      "Downloading 103 out of 191: d0235025/031313311110.tif\n"
     ]
    },
    {
     "name": "stderr",
     "output_type": "stream",
     "text": [
      "Downloading...\n",
      "From: https://maxar-opendata.s3.amazonaws.com/events/Morocco-Earthquake-Sept-2023/ard/29/031313311110/2018-10-02/d0235025-c5a6-488f-8d8c-3ac317f92a6b-inv-visual.tif\n",
      "To: /home/jupyter/d0235025/031313311110.tif\n",
      "100%|██████████| 99.6M/99.6M [00:10<00:00, 9.48MB/s]\n"
     ]
    },
    {
     "name": "stdout",
     "output_type": "stream",
     "text": [
      "Downloading 104 out of 191: d0235025/031313311111.tif\n"
     ]
    },
    {
     "name": "stderr",
     "output_type": "stream",
     "text": [
      "Downloading...\n",
      "From: https://maxar-opendata.s3.amazonaws.com/events/Morocco-Earthquake-Sept-2023/ard/29/031313311111/2018-10-02/d0235025-c5a6-488f-8d8c-3ac317f92a6b-inv-visual.tif\n",
      "To: /home/jupyter/d0235025/031313311111.tif\n",
      "100%|██████████| 101M/101M [00:06<00:00, 16.0MB/s] \n"
     ]
    },
    {
     "name": "stdout",
     "output_type": "stream",
     "text": [
      "Downloading 105 out of 191: d0235025/031313311112.tif\n"
     ]
    },
    {
     "name": "stderr",
     "output_type": "stream",
     "text": [
      "Downloading...\n",
      "From: https://maxar-opendata.s3.amazonaws.com/events/Morocco-Earthquake-Sept-2023/ard/29/031313311112/2018-10-02/d0235025-c5a6-488f-8d8c-3ac317f92a6b-inv-visual.tif\n",
      "To: /home/jupyter/d0235025/031313311112.tif\n",
      "100%|██████████| 64.9M/64.9M [00:04<00:00, 15.1MB/s]\n"
     ]
    },
    {
     "name": "stdout",
     "output_type": "stream",
     "text": [
      "Downloading 106 out of 191: d0235025/031313311113.tif\n"
     ]
    },
    {
     "name": "stderr",
     "output_type": "stream",
     "text": [
      "Downloading...\n",
      "From: https://maxar-opendata.s3.amazonaws.com/events/Morocco-Earthquake-Sept-2023/ard/29/031313311113/2018-10-02/d0235025-c5a6-488f-8d8c-3ac317f92a6b-inv-visual.tif\n",
      "To: /home/jupyter/d0235025/031313311113.tif\n",
      "100%|██████████| 20.6M/20.6M [00:02<00:00, 9.24MB/s]\n"
     ]
    },
    {
     "name": "stdout",
     "output_type": "stream",
     "text": [
      "Downloading 107 out of 191: d0235025/031313133323.tif\n"
     ]
    },
    {
     "name": "stderr",
     "output_type": "stream",
     "text": [
      "Downloading...\n",
      "From: https://maxar-opendata.s3.amazonaws.com/events/Morocco-Earthquake-Sept-2023/ard/29/031313133323/2018-10-02/d0235025-c5a6-488f-8d8c-3ac317f92a6b-inv-visual.tif\n",
      "To: /home/jupyter/d0235025/031313133323.tif\n",
      "100%|██████████| 29.2M/29.2M [00:02<00:00, 11.7MB/s]\n"
     ]
    },
    {
     "name": "stdout",
     "output_type": "stream",
     "text": [
      "Downloading 108 out of 191: d0235025/031313133332.tif\n"
     ]
    },
    {
     "name": "stderr",
     "output_type": "stream",
     "text": [
      "Downloading...\n",
      "From: https://maxar-opendata.s3.amazonaws.com/events/Morocco-Earthquake-Sept-2023/ard/29/031313133332/2018-10-02/d0235025-c5a6-488f-8d8c-3ac317f92a6b-inv-visual.tif\n",
      "To: /home/jupyter/d0235025/031313133332.tif\n",
      "100%|██████████| 70.7M/70.7M [00:04<00:00, 15.4MB/s]\n"
     ]
    },
    {
     "name": "stdout",
     "output_type": "stream",
     "text": [
      "Downloading 109 out of 191: d0235025/031313133333.tif\n"
     ]
    },
    {
     "name": "stderr",
     "output_type": "stream",
     "text": [
      "Downloading...\n",
      "From: https://maxar-opendata.s3.amazonaws.com/events/Morocco-Earthquake-Sept-2023/ard/29/031313133333/2018-10-02/d0235025-c5a6-488f-8d8c-3ac317f92a6b-inv-visual.tif\n",
      "To: /home/jupyter/d0235025/031313133333.tif\n",
      "100%|██████████| 89.2M/89.2M [00:05<00:00, 16.0MB/s]\n"
     ]
    },
    {
     "name": "stdout",
     "output_type": "stream",
     "text": [
      "Downloading 110 out of 191: d0235025/031313133321.tif\n"
     ]
    },
    {
     "name": "stderr",
     "output_type": "stream",
     "text": [
      "Downloading...\n",
      "From: https://maxar-opendata.s3.amazonaws.com/events/Morocco-Earthquake-Sept-2023/ard/29/031313133321/2018-10-02/d0235025-c5a6-488f-8d8c-3ac317f92a6b-inv-visual.tif\n",
      "To: /home/jupyter/d0235025/031313133321.tif\n",
      "100%|██████████| 37.6M/37.6M [00:02<00:00, 12.9MB/s]\n"
     ]
    },
    {
     "name": "stdout",
     "output_type": "stream",
     "text": [
      "Downloading 111 out of 191: d0235025/031313133330.tif\n"
     ]
    },
    {
     "name": "stderr",
     "output_type": "stream",
     "text": [
      "Downloading...\n",
      "From: https://maxar-opendata.s3.amazonaws.com/events/Morocco-Earthquake-Sept-2023/ard/29/031313133330/2018-10-02/d0235025-c5a6-488f-8d8c-3ac317f92a6b-inv-visual.tif\n",
      "To: /home/jupyter/d0235025/031313133330.tif\n",
      "100%|██████████| 96.9M/96.9M [00:06<00:00, 15.9MB/s]\n"
     ]
    },
    {
     "name": "stdout",
     "output_type": "stream",
     "text": [
      "Downloading 112 out of 191: d0235025/031313133331.tif\n"
     ]
    },
    {
     "name": "stderr",
     "output_type": "stream",
     "text": [
      "Downloading...\n",
      "From: https://maxar-opendata.s3.amazonaws.com/events/Morocco-Earthquake-Sept-2023/ard/29/031313133331/2018-10-02/d0235025-c5a6-488f-8d8c-3ac317f92a6b-inv-visual.tif\n",
      "To: /home/jupyter/d0235025/031313133331.tif\n",
      "100%|██████████| 98.5M/98.5M [00:06<00:00, 15.7MB/s]\n"
     ]
    },
    {
     "name": "stdout",
     "output_type": "stream",
     "text": [
      "Downloading 113 out of 191: d0235025/031313133301.tif\n"
     ]
    },
    {
     "name": "stderr",
     "output_type": "stream",
     "text": [
      "Downloading...\n",
      "From: https://maxar-opendata.s3.amazonaws.com/events/Morocco-Earthquake-Sept-2023/ard/29/031313133301/2018-10-02/d0235025-c5a6-488f-8d8c-3ac317f92a6b-inv-visual.tif\n",
      "To: /home/jupyter/d0235025/031313133301.tif\n",
      "100%|██████████| 29.3M/29.3M [00:02<00:00, 11.6MB/s]\n"
     ]
    },
    {
     "name": "stdout",
     "output_type": "stream",
     "text": [
      "Downloading 114 out of 191: d0235025/031313133303.tif\n"
     ]
    },
    {
     "name": "stderr",
     "output_type": "stream",
     "text": [
      "Downloading...\n",
      "From: https://maxar-opendata.s3.amazonaws.com/events/Morocco-Earthquake-Sept-2023/ard/29/031313133303/2018-10-02/d0235025-c5a6-488f-8d8c-3ac317f92a6b-inv-visual.tif\n",
      "To: /home/jupyter/d0235025/031313133303.tif\n",
      "100%|██████████| 37.6M/37.6M [00:02<00:00, 13.0MB/s]\n"
     ]
    },
    {
     "name": "stdout",
     "output_type": "stream",
     "text": [
      "Downloading 115 out of 191: d0235025/031313133310.tif\n"
     ]
    },
    {
     "name": "stderr",
     "output_type": "stream",
     "text": [
      "Downloading...\n",
      "From: https://maxar-opendata.s3.amazonaws.com/events/Morocco-Earthquake-Sept-2023/ard/29/031313133310/2018-10-02/d0235025-c5a6-488f-8d8c-3ac317f92a6b-inv-visual.tif\n",
      "To: /home/jupyter/d0235025/031313133310.tif\n",
      "100%|██████████| 91.6M/91.6M [00:05<00:00, 15.7MB/s]\n"
     ]
    },
    {
     "name": "stdout",
     "output_type": "stream",
     "text": [
      "Downloading 116 out of 191: d0235025/031313133311.tif\n"
     ]
    },
    {
     "name": "stderr",
     "output_type": "stream",
     "text": [
      "Downloading...\n",
      "From: https://maxar-opendata.s3.amazonaws.com/events/Morocco-Earthquake-Sept-2023/ard/29/031313133311/2018-10-02/d0235025-c5a6-488f-8d8c-3ac317f92a6b-inv-visual.tif\n",
      "To: /home/jupyter/d0235025/031313133311.tif\n",
      "100%|██████████| 91.0M/91.0M [00:05<00:00, 15.6MB/s]\n"
     ]
    },
    {
     "name": "stdout",
     "output_type": "stream",
     "text": [
      "Downloading 117 out of 191: d0235025/031313133312.tif\n"
     ]
    },
    {
     "name": "stderr",
     "output_type": "stream",
     "text": [
      "Downloading...\n",
      "From: https://maxar-opendata.s3.amazonaws.com/events/Morocco-Earthquake-Sept-2023/ard/29/031313133312/2018-10-02/d0235025-c5a6-488f-8d8c-3ac317f92a6b-inv-visual.tif\n",
      "To: /home/jupyter/d0235025/031313133312.tif\n",
      "100%|██████████| 104M/104M [00:06<00:00, 16.4MB/s] \n"
     ]
    },
    {
     "name": "stdout",
     "output_type": "stream",
     "text": [
      "Downloading 118 out of 191: d0235025/031313133313.tif\n"
     ]
    },
    {
     "name": "stderr",
     "output_type": "stream",
     "text": [
      "Downloading...\n",
      "From: https://maxar-opendata.s3.amazonaws.com/events/Morocco-Earthquake-Sept-2023/ard/29/031313133313/2018-10-02/d0235025-c5a6-488f-8d8c-3ac317f92a6b-inv-visual.tif\n",
      "To: /home/jupyter/d0235025/031313133313.tif\n",
      "100%|██████████| 99.8M/99.8M [00:06<00:00, 16.3MB/s]\n"
     ]
    },
    {
     "name": "stdout",
     "output_type": "stream",
     "text": [
      "Downloading 119 out of 191: d0235025/031313133123.tif\n"
     ]
    },
    {
     "name": "stderr",
     "output_type": "stream",
     "text": [
      "Downloading...\n",
      "From: https://maxar-opendata.s3.amazonaws.com/events/Morocco-Earthquake-Sept-2023/ard/29/031313133123/2018-10-02/d0235025-c5a6-488f-8d8c-3ac317f92a6b-inv-visual.tif\n",
      "To: /home/jupyter/d0235025/031313133123.tif\n",
      "100%|██████████| 15.8M/15.8M [00:01<00:00, 9.19MB/s]\n"
     ]
    },
    {
     "name": "stdout",
     "output_type": "stream",
     "text": [
      "Downloading 120 out of 191: d0235025/031313133132.tif\n"
     ]
    },
    {
     "name": "stderr",
     "output_type": "stream",
     "text": [
      "Downloading...\n",
      "From: https://maxar-opendata.s3.amazonaws.com/events/Morocco-Earthquake-Sept-2023/ard/29/031313133132/2018-10-02/d0235025-c5a6-488f-8d8c-3ac317f92a6b-inv-visual.tif\n",
      "To: /home/jupyter/d0235025/031313133132.tif\n",
      "100%|██████████| 43.2M/43.2M [00:03<00:00, 13.6MB/s]\n"
     ]
    },
    {
     "name": "stdout",
     "output_type": "stream",
     "text": [
      "Downloading 121 out of 191: d0235025/031313133133.tif\n"
     ]
    },
    {
     "name": "stderr",
     "output_type": "stream",
     "text": [
      "Downloading...\n",
      "From: https://maxar-opendata.s3.amazonaws.com/events/Morocco-Earthquake-Sept-2023/ard/29/031313133133/2018-10-02/d0235025-c5a6-488f-8d8c-3ac317f92a6b-inv-visual.tif\n",
      "To: /home/jupyter/d0235025/031313133133.tif\n",
      "100%|██████████| 44.8M/44.8M [00:03<00:00, 13.7MB/s]\n"
     ]
    },
    {
     "name": "stdout",
     "output_type": "stream",
     "text": [
      "Downloading 122 out of 191: 1040010049533A00/031313133333.tif\n"
     ]
    },
    {
     "name": "stderr",
     "output_type": "stream",
     "text": [
      "Downloading...\n",
      "From: https://maxar-opendata.s3.amazonaws.com/events/Morocco-Earthquake-Sept-2023/ard/29/031313133333/2019-04-25/1040010049533A00-visual.tif\n",
      "To: /home/jupyter/1040010049533A00/031313133333.tif\n",
      "100%|██████████| 15.0M/15.0M [00:01<00:00, 8.65MB/s]\n"
     ]
    },
    {
     "name": "stdout",
     "output_type": "stream",
     "text": [
      "Downloading 123 out of 191: 1040010049533A00/031313133313.tif\n"
     ]
    },
    {
     "name": "stderr",
     "output_type": "stream",
     "text": [
      "Downloading...\n",
      "From: https://maxar-opendata.s3.amazonaws.com/events/Morocco-Earthquake-Sept-2023/ard/29/031313133313/2019-04-25/1040010049533A00-visual.tif\n",
      "To: /home/jupyter/1040010049533A00/031313133313.tif\n",
      "100%|██████████| 34.5M/34.5M [00:02<00:00, 12.7MB/s]\n"
     ]
    },
    {
     "name": "stdout",
     "output_type": "stream",
     "text": [
      "Downloading 124 out of 191: 1040010049533A00/031313133331.tif\n"
     ]
    },
    {
     "name": "stderr",
     "output_type": "stream",
     "text": [
      "Downloading...\n",
      "From: https://maxar-opendata.s3.amazonaws.com/events/Morocco-Earthquake-Sept-2023/ard/29/031313133331/2019-04-25/1040010049533A00-visual.tif\n",
      "To: /home/jupyter/1040010049533A00/031313133331.tif\n",
      "100%|██████████| 28.5M/28.5M [00:02<00:00, 12.0MB/s]\n"
     ]
    },
    {
     "name": "stdout",
     "output_type": "stream",
     "text": [
      "Downloading 125 out of 191: 1040010049533A00/031313133311.tif\n"
     ]
    },
    {
     "name": "stderr",
     "output_type": "stream",
     "text": [
      "Downloading...\n",
      "From: https://maxar-opendata.s3.amazonaws.com/events/Morocco-Earthquake-Sept-2023/ard/29/031313133311/2019-04-25/1040010049533A00-visual.tif\n",
      "To: /home/jupyter/1040010049533A00/031313133311.tif\n",
      "100%|██████████| 31.3M/31.3M [00:02<00:00, 12.5MB/s]\n"
     ]
    },
    {
     "name": "stdout",
     "output_type": "stream",
     "text": [
      "Downloading 126 out of 191: 1040010049533A00/031313133131.tif\n"
     ]
    },
    {
     "name": "stderr",
     "output_type": "stream",
     "text": [
      "Downloading...\n",
      "From: https://maxar-opendata.s3.amazonaws.com/events/Morocco-Earthquake-Sept-2023/ard/29/031313133131/2019-04-25/1040010049533A00-visual.tif\n",
      "To: /home/jupyter/1040010049533A00/031313133131.tif\n",
      "100%|██████████| 8.84M/8.84M [00:01<00:00, 6.23MB/s]\n"
     ]
    },
    {
     "name": "stdout",
     "output_type": "stream",
     "text": [
      "Downloading 127 out of 191: 1040010049533A00/031313133133.tif\n"
     ]
    },
    {
     "name": "stderr",
     "output_type": "stream",
     "text": [
      "Downloading...\n",
      "From: https://maxar-opendata.s3.amazonaws.com/events/Morocco-Earthquake-Sept-2023/ard/29/031313133133/2019-04-25/1040010049533A00-visual.tif\n",
      "To: /home/jupyter/1040010049533A00/031313133133.tif\n",
      "100%|██████████| 29.1M/29.1M [00:02<00:00, 11.3MB/s]\n"
     ]
    },
    {
     "name": "stdout",
     "output_type": "stream",
     "text": [
      "Downloading 128 out of 191: 1040010056418C00/031313311110.tif\n"
     ]
    },
    {
     "name": "stderr",
     "output_type": "stream",
     "text": [
      "Downloading...\n",
      "From: https://maxar-opendata.s3.amazonaws.com/events/Morocco-Earthquake-Sept-2023/ard/29/031313311110/2020-01-19/1040010056418C00-visual.tif\n",
      "To: /home/jupyter/1040010056418C00/031313311110.tif\n",
      "100%|██████████| 6.09M/6.09M [00:01<00:00, 4.88MB/s]\n"
     ]
    },
    {
     "name": "stdout",
     "output_type": "stream",
     "text": [
      "Downloading 129 out of 191: 1040010056418C00/031313311111.tif\n"
     ]
    },
    {
     "name": "stderr",
     "output_type": "stream",
     "text": [
      "Downloading...\n",
      "From: https://maxar-opendata.s3.amazonaws.com/events/Morocco-Earthquake-Sept-2023/ard/29/031313311111/2020-01-19/1040010056418C00-visual.tif\n",
      "To: /home/jupyter/1040010056418C00/031313311111.tif\n",
      "100%|██████████| 78.8M/78.8M [00:05<00:00, 15.2MB/s]\n"
     ]
    },
    {
     "name": "stdout",
     "output_type": "stream",
     "text": [
      "Downloading 130 out of 191: 1040010056418C00/031313133332.tif\n"
     ]
    },
    {
     "name": "stderr",
     "output_type": "stream",
     "text": [
      "Downloading...\n",
      "From: https://maxar-opendata.s3.amazonaws.com/events/Morocco-Earthquake-Sept-2023/ard/29/031313133332/2020-01-19/1040010056418C00-visual.tif\n",
      "To: /home/jupyter/1040010056418C00/031313133332.tif\n",
      "100%|██████████| 5.72M/5.72M [00:01<00:00, 4.49MB/s]\n"
     ]
    },
    {
     "name": "stdout",
     "output_type": "stream",
     "text": [
      "Downloading 131 out of 191: 1040010056418C00/031313133333.tif\n"
     ]
    },
    {
     "name": "stderr",
     "output_type": "stream",
     "text": [
      "Downloading...\n",
      "From: https://maxar-opendata.s3.amazonaws.com/events/Morocco-Earthquake-Sept-2023/ard/29/031313133333/2020-01-19/1040010056418C00-visual.tif\n",
      "To: /home/jupyter/1040010056418C00/031313133333.tif\n",
      "100%|██████████| 80.8M/80.8M [00:05<00:00, 15.5MB/s]\n"
     ]
    },
    {
     "name": "stdout",
     "output_type": "stream",
     "text": [
      "Downloading 132 out of 191: 1040010056418C00/031313133312.tif\n"
     ]
    },
    {
     "name": "stderr",
     "output_type": "stream",
     "text": [
      "Downloading...\n",
      "From: https://maxar-opendata.s3.amazonaws.com/events/Morocco-Earthquake-Sept-2023/ard/29/031313133312/2020-01-19/1040010056418C00-visual.tif\n",
      "To: /home/jupyter/1040010056418C00/031313133312.tif\n",
      "100%|██████████| 6.58M/6.58M [00:01<00:00, 5.30MB/s]\n"
     ]
    },
    {
     "name": "stdout",
     "output_type": "stream",
     "text": [
      "Downloading 133 out of 191: 1040010056418C00/031313133313.tif\n"
     ]
    },
    {
     "name": "stderr",
     "output_type": "stream",
     "text": [
      "Downloading...\n",
      "From: https://maxar-opendata.s3.amazonaws.com/events/Morocco-Earthquake-Sept-2023/ard/29/031313133313/2020-01-19/1040010056418C00-visual.tif\n",
      "To: /home/jupyter/1040010056418C00/031313133313.tif\n",
      "100%|██████████| 89.9M/89.9M [00:05<00:00, 16.0MB/s]\n"
     ]
    },
    {
     "name": "stdout",
     "output_type": "stream",
     "text": [
      "Downloading 134 out of 191: 1040010056418C00/031313133330.tif\n"
     ]
    },
    {
     "name": "stderr",
     "output_type": "stream",
     "text": [
      "Downloading...\n",
      "From: https://maxar-opendata.s3.amazonaws.com/events/Morocco-Earthquake-Sept-2023/ard/29/031313133330/2020-01-19/1040010056418C00-visual.tif\n",
      "To: /home/jupyter/1040010056418C00/031313133330.tif\n",
      "100%|██████████| 6.49M/6.49M [00:01<00:00, 5.14MB/s]\n"
     ]
    },
    {
     "name": "stdout",
     "output_type": "stream",
     "text": [
      "Downloading 135 out of 191: 1040010056418C00/031313133331.tif\n"
     ]
    },
    {
     "name": "stderr",
     "output_type": "stream",
     "text": [
      "Downloading...\n",
      "From: https://maxar-opendata.s3.amazonaws.com/events/Morocco-Earthquake-Sept-2023/ard/29/031313133331/2020-01-19/1040010056418C00-visual.tif\n",
      "To: /home/jupyter/1040010056418C00/031313133331.tif\n",
      "100%|██████████| 89.5M/89.5M [00:05<00:00, 16.2MB/s]\n"
     ]
    },
    {
     "name": "stdout",
     "output_type": "stream",
     "text": [
      "Downloading 136 out of 191: 1040010056418C00/031313133132.tif\n"
     ]
    },
    {
     "name": "stderr",
     "output_type": "stream",
     "text": [
      "Downloading...\n",
      "From: https://maxar-opendata.s3.amazonaws.com/events/Morocco-Earthquake-Sept-2023/ard/29/031313133132/2020-01-19/1040010056418C00-visual.tif\n",
      "To: /home/jupyter/1040010056418C00/031313133132.tif\n",
      "100%|██████████| 3.66M/3.66M [00:01<00:00, 3.32MB/s]\n"
     ]
    },
    {
     "name": "stdout",
     "output_type": "stream",
     "text": [
      "Downloading 137 out of 191: 1040010056418C00/031313133133.tif\n"
     ]
    },
    {
     "name": "stderr",
     "output_type": "stream",
     "text": [
      "Downloading...\n",
      "From: https://maxar-opendata.s3.amazonaws.com/events/Morocco-Earthquake-Sept-2023/ard/29/031313133133/2020-01-19/1040010056418C00-visual.tif\n",
      "To: /home/jupyter/1040010056418C00/031313133133.tif\n",
      "100%|██████████| 23.8M/23.8M [00:02<00:00, 10.9MB/s]\n"
     ]
    },
    {
     "name": "stdout",
     "output_type": "stream",
     "text": [
      "Downloading 138 out of 191: 1040010056418C00/031313133310.tif\n"
     ]
    },
    {
     "name": "stderr",
     "output_type": "stream",
     "text": [
      "Downloading...\n",
      "From: https://maxar-opendata.s3.amazonaws.com/events/Morocco-Earthquake-Sept-2023/ard/29/031313133310/2020-01-19/1040010056418C00-visual.tif\n",
      "To: /home/jupyter/1040010056418C00/031313133310.tif\n",
      "100%|██████████| 6.27M/6.27M [00:01<00:00, 4.95MB/s]\n"
     ]
    },
    {
     "name": "stdout",
     "output_type": "stream",
     "text": [
      "Downloading 139 out of 191: 1040010056418C00/031313133311.tif\n"
     ]
    },
    {
     "name": "stderr",
     "output_type": "stream",
     "text": [
      "Downloading...\n",
      "From: https://maxar-opendata.s3.amazonaws.com/events/Morocco-Earthquake-Sept-2023/ard/29/031313133311/2020-01-19/1040010056418C00-visual.tif\n",
      "To: /home/jupyter/1040010056418C00/031313133311.tif\n",
      "100%|██████████| 83.4M/83.4M [00:05<00:00, 15.7MB/s]\n"
     ]
    },
    {
     "name": "stdout",
     "output_type": "stream",
     "text": [
      "Downloading 140 out of 191: 1040010062936C00/031313311111.tif\n"
     ]
    },
    {
     "name": "stderr",
     "output_type": "stream",
     "text": [
      "Downloading...\n",
      "From: https://maxar-opendata.s3.amazonaws.com/events/Morocco-Earthquake-Sept-2023/ard/29/031313311111/2020-12-14/1040010062936C00-visual.tif\n",
      "To: /home/jupyter/1040010062936C00/031313311111.tif\n",
      "100%|██████████| 26.5M/26.5M [00:02<00:00, 11.3MB/s]\n"
     ]
    },
    {
     "name": "stdout",
     "output_type": "stream",
     "text": [
      "Downloading 141 out of 191: 1040010062936C00/031313133333.tif\n"
     ]
    },
    {
     "name": "stderr",
     "output_type": "stream",
     "text": [
      "Downloading...\n",
      "From: https://maxar-opendata.s3.amazonaws.com/events/Morocco-Earthquake-Sept-2023/ard/29/031313133333/2020-12-14/1040010062936C00-visual.tif\n",
      "To: /home/jupyter/1040010062936C00/031313133333.tif\n",
      "100%|██████████| 40.5M/40.5M [00:03<00:00, 12.9MB/s]\n"
     ]
    },
    {
     "name": "stdout",
     "output_type": "stream",
     "text": [
      "Downloading 142 out of 191: 1040010062936C00/031313133313.tif\n"
     ]
    },
    {
     "name": "stderr",
     "output_type": "stream",
     "text": [
      "Downloading...\n",
      "From: https://maxar-opendata.s3.amazonaws.com/events/Morocco-Earthquake-Sept-2023/ard/29/031313133313/2020-12-14/1040010062936C00-visual.tif\n",
      "To: /home/jupyter/1040010062936C00/031313133313.tif\n",
      "100%|██████████| 44.3M/44.3M [00:03<00:00, 13.6MB/s]\n"
     ]
    },
    {
     "name": "stdout",
     "output_type": "stream",
     "text": [
      "Downloading 143 out of 191: 1040010062936C00/031313133331.tif\n"
     ]
    },
    {
     "name": "stderr",
     "output_type": "stream",
     "text": [
      "Downloading...\n",
      "From: https://maxar-opendata.s3.amazonaws.com/events/Morocco-Earthquake-Sept-2023/ard/29/031313133331/2020-12-14/1040010062936C00-visual.tif\n",
      "To: /home/jupyter/1040010062936C00/031313133331.tif\n",
      "100%|██████████| 43.6M/43.6M [00:03<00:00, 13.1MB/s]\n"
     ]
    },
    {
     "name": "stdout",
     "output_type": "stream",
     "text": [
      "Downloading 144 out of 191: 1040010062936C00/031313133133.tif\n"
     ]
    },
    {
     "name": "stderr",
     "output_type": "stream",
     "text": [
      "Downloading...\n",
      "From: https://maxar-opendata.s3.amazonaws.com/events/Morocco-Earthquake-Sept-2023/ard/29/031313133133/2020-12-14/1040010062936C00-visual.tif\n",
      "To: /home/jupyter/1040010062936C00/031313133133.tif\n",
      "100%|██████████| 15.0M/15.0M [00:01<00:00, 8.66MB/s]\n"
     ]
    },
    {
     "name": "stdout",
     "output_type": "stream",
     "text": [
      "Downloading 145 out of 191: 1040010062936C00/031313133311.tif\n"
     ]
    },
    {
     "name": "stderr",
     "output_type": "stream",
     "text": [
      "Downloading...\n",
      "From: https://maxar-opendata.s3.amazonaws.com/events/Morocco-Earthquake-Sept-2023/ard/29/031313133311/2020-12-14/1040010062936C00-visual.tif\n",
      "To: /home/jupyter/1040010062936C00/031313133311.tif\n",
      "100%|██████████| 40.8M/40.8M [00:02<00:00, 13.6MB/s]\n"
     ]
    },
    {
     "name": "stdout",
     "output_type": "stream",
     "text": [
      "Downloading 146 out of 191: 10300100D5947C00/031313133103.tif\n"
     ]
    },
    {
     "name": "stderr",
     "output_type": "stream",
     "text": [
      "Downloading...\n",
      "From: https://maxar-opendata.s3.amazonaws.com/events/Morocco-Earthquake-Sept-2023/ard/29/031313133103/2022-06-21/10300100D5947C00-visual.tif\n",
      "To: /home/jupyter/10300100D5947C00/031313133103.tif\n",
      "100%|██████████| 16.8M/16.8M [00:01<00:00, 8.76MB/s]\n"
     ]
    },
    {
     "name": "stdout",
     "output_type": "stream",
     "text": [
      "Downloading 147 out of 191: 10300100D5947C00/031313133112.tif\n"
     ]
    },
    {
     "name": "stderr",
     "output_type": "stream",
     "text": [
      "Downloading...\n",
      "From: https://maxar-opendata.s3.amazonaws.com/events/Morocco-Earthquake-Sept-2023/ard/29/031313133112/2022-06-21/10300100D5947C00-visual.tif\n",
      "To: /home/jupyter/10300100D5947C00/031313133112.tif\n",
      "100%|██████████| 14.6M/14.6M [00:01<00:00, 8.44MB/s]\n"
     ]
    },
    {
     "name": "stdout",
     "output_type": "stream",
     "text": [
      "Downloading 148 out of 191: 10300100D5947C00/031313133121.tif\n"
     ]
    },
    {
     "name": "stderr",
     "output_type": "stream",
     "text": [
      "Downloading...\n",
      "From: https://maxar-opendata.s3.amazonaws.com/events/Morocco-Earthquake-Sept-2023/ard/29/031313133121/2022-06-21/10300100D5947C00-visual.tif\n",
      "To: /home/jupyter/10300100D5947C00/031313133121.tif\n",
      "100%|██████████| 58.8M/58.8M [00:04<00:00, 14.6MB/s]\n"
     ]
    },
    {
     "name": "stdout",
     "output_type": "stream",
     "text": [
      "Downloading 149 out of 191: 10300100D5947C00/031313133123.tif\n"
     ]
    },
    {
     "name": "stderr",
     "output_type": "stream",
     "text": [
      "Downloading...\n",
      "From: https://maxar-opendata.s3.amazonaws.com/events/Morocco-Earthquake-Sept-2023/ard/29/031313133123/2022-06-21/10300100D5947C00-visual.tif\n",
      "To: /home/jupyter/10300100D5947C00/031313133123.tif\n",
      "100%|██████████| 48.8M/48.8M [00:03<00:00, 13.7MB/s]\n"
     ]
    },
    {
     "name": "stdout",
     "output_type": "stream",
     "text": [
      "Downloading 150 out of 191: 10300100D5947C00/031313133130.tif\n"
     ]
    },
    {
     "name": "stderr",
     "output_type": "stream",
     "text": [
      "Downloading...\n",
      "From: https://maxar-opendata.s3.amazonaws.com/events/Morocco-Earthquake-Sept-2023/ard/29/031313133130/2022-06-21/10300100D5947C00-visual.tif\n",
      "To: /home/jupyter/10300100D5947C00/031313133130.tif\n",
      "100%|██████████| 48.9M/48.9M [00:03<00:00, 14.0MB/s]\n"
     ]
    },
    {
     "name": "stdout",
     "output_type": "stream",
     "text": [
      "Downloading 151 out of 191: 10300100D5947C00/031313133132.tif\n"
     ]
    },
    {
     "name": "stderr",
     "output_type": "stream",
     "text": [
      "Downloading...\n",
      "From: https://maxar-opendata.s3.amazonaws.com/events/Morocco-Earthquake-Sept-2023/ard/29/031313133132/2022-06-21/10300100D5947C00-visual.tif\n",
      "To: /home/jupyter/10300100D5947C00/031313133132.tif\n",
      "100%|██████████| 40.6M/40.6M [00:03<00:00, 12.8MB/s]\n"
     ]
    },
    {
     "name": "stdout",
     "output_type": "stream",
     "text": [
      "Downloading 152 out of 191: 10300100D5947C00/031313133301.tif\n"
     ]
    },
    {
     "name": "stderr",
     "output_type": "stream",
     "text": [
      "Downloading...\n",
      "From: https://maxar-opendata.s3.amazonaws.com/events/Morocco-Earthquake-Sept-2023/ard/29/031313133301/2022-06-21/10300100D5947C00-visual.tif\n",
      "To: /home/jupyter/10300100D5947C00/031313133301.tif\n",
      "100%|██████████| 49.5M/49.5M [00:03<00:00, 14.3MB/s]\n"
     ]
    },
    {
     "name": "stdout",
     "output_type": "stream",
     "text": [
      "Downloading 153 out of 191: 10300100D5947C00/031313133310.tif\n"
     ]
    },
    {
     "name": "stderr",
     "output_type": "stream",
     "text": [
      "Downloading...\n",
      "From: https://maxar-opendata.s3.amazonaws.com/events/Morocco-Earthquake-Sept-2023/ard/29/031313133310/2022-06-21/10300100D5947C00-visual.tif\n",
      "To: /home/jupyter/10300100D5947C00/031313133310.tif\n",
      "100%|██████████| 43.5M/43.5M [00:03<00:00, 13.9MB/s]\n"
     ]
    },
    {
     "name": "stdout",
     "output_type": "stream",
     "text": [
      "Downloading 154 out of 191: 10300100D5947C00/031313133303.tif\n"
     ]
    },
    {
     "name": "stderr",
     "output_type": "stream",
     "text": [
      "Downloading...\n",
      "From: https://maxar-opendata.s3.amazonaws.com/events/Morocco-Earthquake-Sept-2023/ard/29/031313133303/2022-06-21/10300100D5947C00-visual.tif\n",
      "To: /home/jupyter/10300100D5947C00/031313133303.tif\n",
      "100%|██████████| 58.9M/58.9M [00:03<00:00, 15.0MB/s]\n"
     ]
    },
    {
     "name": "stdout",
     "output_type": "stream",
     "text": [
      "Downloading 155 out of 191: 10300100D5947C00/031313133312.tif\n"
     ]
    },
    {
     "name": "stderr",
     "output_type": "stream",
     "text": [
      "Downloading...\n",
      "From: https://maxar-opendata.s3.amazonaws.com/events/Morocco-Earthquake-Sept-2023/ard/29/031313133312/2022-06-21/10300100D5947C00-visual.tif\n",
      "To: /home/jupyter/10300100D5947C00/031313133312.tif\n",
      "100%|██████████| 50.1M/50.1M [00:04<00:00, 12.3MB/s]\n"
     ]
    },
    {
     "name": "stdout",
     "output_type": "stream",
     "text": [
      "Downloading 156 out of 191: 10300100D5947C00/031313133321.tif\n"
     ]
    },
    {
     "name": "stderr",
     "output_type": "stream",
     "text": [
      "Downloading...\n",
      "From: https://maxar-opendata.s3.amazonaws.com/events/Morocco-Earthquake-Sept-2023/ard/29/031313133321/2022-06-21/10300100D5947C00-visual.tif\n",
      "To: /home/jupyter/10300100D5947C00/031313133321.tif\n",
      "100%|██████████| 56.8M/56.8M [00:03<00:00, 14.4MB/s]\n"
     ]
    },
    {
     "name": "stdout",
     "output_type": "stream",
     "text": [
      "Downloading 157 out of 191: 10300100D5947C00/031313133330.tif\n"
     ]
    },
    {
     "name": "stderr",
     "output_type": "stream",
     "text": [
      "Downloading...\n",
      "From: https://maxar-opendata.s3.amazonaws.com/events/Morocco-Earthquake-Sept-2023/ard/29/031313133330/2022-06-21/10300100D5947C00-visual.tif\n",
      "To: /home/jupyter/10300100D5947C00/031313133330.tif\n",
      "100%|██████████| 47.0M/47.0M [00:03<00:00, 13.0MB/s]\n"
     ]
    },
    {
     "name": "stdout",
     "output_type": "stream",
     "text": [
      "Downloading 158 out of 191: 10300100D5947C00/031313133323.tif\n"
     ]
    },
    {
     "name": "stderr",
     "output_type": "stream",
     "text": [
      "Downloading...\n",
      "From: https://maxar-opendata.s3.amazonaws.com/events/Morocco-Earthquake-Sept-2023/ard/29/031313133323/2022-06-21/10300100D5947C00-visual.tif\n",
      "To: /home/jupyter/10300100D5947C00/031313133323.tif\n",
      "100%|██████████| 50.1M/50.1M [00:03<00:00, 14.4MB/s]\n"
     ]
    },
    {
     "name": "stdout",
     "output_type": "stream",
     "text": [
      "Downloading 159 out of 191: 10300100D5947C00/031313133332.tif\n"
     ]
    },
    {
     "name": "stderr",
     "output_type": "stream",
     "text": [
      "Downloading...\n",
      "From: https://maxar-opendata.s3.amazonaws.com/events/Morocco-Earthquake-Sept-2023/ard/29/031313133332/2022-06-21/10300100D5947C00-visual.tif\n",
      "To: /home/jupyter/10300100D5947C00/031313133332.tif\n",
      "100%|██████████| 38.4M/38.4M [00:02<00:00, 13.6MB/s]\n"
     ]
    },
    {
     "name": "stdout",
     "output_type": "stream",
     "text": [
      "Downloading 160 out of 191: 10300100D5947C00/031313311101.tif\n"
     ]
    },
    {
     "name": "stderr",
     "output_type": "stream",
     "text": [
      "Downloading...\n",
      "From: https://maxar-opendata.s3.amazonaws.com/events/Morocco-Earthquake-Sept-2023/ard/29/031313311101/2022-06-21/10300100D5947C00-visual.tif\n",
      "To: /home/jupyter/10300100D5947C00/031313311101.tif\n",
      "100%|██████████| 51.4M/51.4M [00:03<00:00, 14.2MB/s]\n"
     ]
    },
    {
     "name": "stdout",
     "output_type": "stream",
     "text": [
      "Downloading 161 out of 191: 10300100D5947C00/031313311110.tif\n"
     ]
    },
    {
     "name": "stderr",
     "output_type": "stream",
     "text": [
      "Downloading...\n",
      "From: https://maxar-opendata.s3.amazonaws.com/events/Morocco-Earthquake-Sept-2023/ard/29/031313311110/2022-06-21/10300100D5947C00-visual.tif\n",
      "To: /home/jupyter/10300100D5947C00/031313311110.tif\n",
      "100%|██████████| 40.3M/40.3M [00:03<00:00, 12.7MB/s]\n"
     ]
    },
    {
     "name": "stdout",
     "output_type": "stream",
     "text": [
      "Downloading 162 out of 191: 104001007FD1DF00/031313133310.tif\n"
     ]
    },
    {
     "name": "stderr",
     "output_type": "stream",
     "text": [
      "Downloading...\n",
      "From: https://maxar-opendata.s3.amazonaws.com/events/Morocco-Earthquake-Sept-2023/ard/29/031313133310/2022-12-11/104001007FD1DF00-visual.tif\n",
      "To: /home/jupyter/104001007FD1DF00/031313133310.tif\n",
      "100%|██████████| 9.32M/9.32M [00:01<00:00, 6.50MB/s]\n"
     ]
    },
    {
     "name": "stdout",
     "output_type": "stream",
     "text": [
      "Downloading 163 out of 191: 104001007FD1DF00/031313133311.tif\n"
     ]
    },
    {
     "name": "stderr",
     "output_type": "stream",
     "text": [
      "Downloading...\n",
      "From: https://maxar-opendata.s3.amazonaws.com/events/Morocco-Earthquake-Sept-2023/ard/29/031313133311/2022-12-11/104001007FD1DF00-visual.tif\n",
      "To: /home/jupyter/104001007FD1DF00/031313133311.tif\n",
      "100%|██████████| 17.2M/17.2M [00:01<00:00, 9.09MB/s]\n"
     ]
    },
    {
     "name": "stdout",
     "output_type": "stream",
     "text": [
      "Downloading 164 out of 191: 104001007FD1DF00/031313133312.tif\n"
     ]
    },
    {
     "name": "stderr",
     "output_type": "stream",
     "text": [
      "Downloading...\n",
      "From: https://maxar-opendata.s3.amazonaws.com/events/Morocco-Earthquake-Sept-2023/ard/29/031313133312/2022-12-11/104001007FD1DF00-visual.tif\n",
      "To: /home/jupyter/104001007FD1DF00/031313133312.tif\n",
      "100%|██████████| 25.1M/25.1M [00:02<00:00, 10.4MB/s]\n"
     ]
    },
    {
     "name": "stdout",
     "output_type": "stream",
     "text": [
      "Downloading 165 out of 191: 104001007FD1DF00/031313133313.tif\n"
     ]
    },
    {
     "name": "stderr",
     "output_type": "stream",
     "text": [
      "Downloading...\n",
      "From: https://maxar-opendata.s3.amazonaws.com/events/Morocco-Earthquake-Sept-2023/ard/29/031313133313/2022-12-11/104001007FD1DF00-visual.tif\n",
      "To: /home/jupyter/104001007FD1DF00/031313133313.tif\n",
      "100%|██████████| 70.5M/70.5M [00:04<00:00, 15.4MB/s]\n"
     ]
    },
    {
     "name": "stdout",
     "output_type": "stream",
     "text": [
      "Downloading 166 out of 191: 104001007FD1DF00/031313133330.tif\n"
     ]
    },
    {
     "name": "stderr",
     "output_type": "stream",
     "text": [
      "Downloading...\n",
      "From: https://maxar-opendata.s3.amazonaws.com/events/Morocco-Earthquake-Sept-2023/ard/29/031313133330/2022-12-11/104001007FD1DF00-visual.tif\n",
      "To: /home/jupyter/104001007FD1DF00/031313133330.tif\n",
      "100%|██████████| 22.7M/22.7M [00:02<00:00, 10.7MB/s]\n"
     ]
    },
    {
     "name": "stdout",
     "output_type": "stream",
     "text": [
      "Downloading 167 out of 191: 104001007FD1DF00/031313133331.tif\n"
     ]
    },
    {
     "name": "stderr",
     "output_type": "stream",
     "text": [
      "Downloading...\n",
      "From: https://maxar-opendata.s3.amazonaws.com/events/Morocco-Earthquake-Sept-2023/ard/29/031313133331/2022-12-11/104001007FD1DF00-visual.tif\n",
      "To: /home/jupyter/104001007FD1DF00/031313133331.tif\n",
      "100%|██████████| 71.8M/71.8M [00:05<00:00, 14.3MB/s]\n"
     ]
    },
    {
     "name": "stdout",
     "output_type": "stream",
     "text": [
      "Downloading 168 out of 191: 104001007FD1DF00/031313133332.tif\n"
     ]
    },
    {
     "name": "stderr",
     "output_type": "stream",
     "text": [
      "Downloading...\n",
      "From: https://maxar-opendata.s3.amazonaws.com/events/Morocco-Earthquake-Sept-2023/ard/29/031313133332/2022-12-11/104001007FD1DF00-visual.tif\n",
      "To: /home/jupyter/104001007FD1DF00/031313133332.tif\n",
      "100%|██████████| 18.0M/18.0M [00:01<00:00, 9.40MB/s]\n"
     ]
    },
    {
     "name": "stdout",
     "output_type": "stream",
     "text": [
      "Downloading 169 out of 191: 104001007FD1DF00/031313133333.tif\n"
     ]
    },
    {
     "name": "stderr",
     "output_type": "stream",
     "text": [
      "Downloading...\n",
      "From: https://maxar-opendata.s3.amazonaws.com/events/Morocco-Earthquake-Sept-2023/ard/29/031313133333/2022-12-11/104001007FD1DF00-visual.tif\n",
      "To: /home/jupyter/104001007FD1DF00/031313133333.tif\n",
      "100%|██████████| 62.8M/62.8M [00:04<00:00, 14.6MB/s]\n"
     ]
    },
    {
     "name": "stdout",
     "output_type": "stream",
     "text": [
      "Downloading 170 out of 191: 104001007FD1DF00/031313311110.tif\n"
     ]
    },
    {
     "name": "stderr",
     "output_type": "stream",
     "text": [
      "Downloading...\n",
      "From: https://maxar-opendata.s3.amazonaws.com/events/Morocco-Earthquake-Sept-2023/ard/29/031313311110/2022-12-11/104001007FD1DF00-visual.tif\n",
      "To: /home/jupyter/104001007FD1DF00/031313311110.tif\n",
      "100%|██████████| 22.0M/22.0M [00:02<00:00, 10.8MB/s]\n"
     ]
    },
    {
     "name": "stdout",
     "output_type": "stream",
     "text": [
      "Downloading 171 out of 191: 104001007FD1DF00/031313311111.tif\n"
     ]
    },
    {
     "name": "stderr",
     "output_type": "stream",
     "text": [
      "Downloading...\n",
      "From: https://maxar-opendata.s3.amazonaws.com/events/Morocco-Earthquake-Sept-2023/ard/29/031313311111/2022-12-11/104001007FD1DF00-visual.tif\n",
      "To: /home/jupyter/104001007FD1DF00/031313311111.tif\n",
      "100%|██████████| 60.0M/60.0M [00:04<00:00, 14.2MB/s]\n"
     ]
    },
    {
     "name": "stdout",
     "output_type": "stream",
     "text": [
      "Downloading 172 out of 191: 104001007FD1DF00/031313311112.tif\n"
     ]
    },
    {
     "name": "stderr",
     "output_type": "stream",
     "text": [
      "Downloading...\n",
      "From: https://maxar-opendata.s3.amazonaws.com/events/Morocco-Earthquake-Sept-2023/ard/29/031313311112/2022-12-11/104001007FD1DF00-visual.tif\n",
      "To: /home/jupyter/104001007FD1DF00/031313311112.tif\n",
      "100%|██████████| 9.04M/9.04M [00:01<00:00, 6.32MB/s]\n"
     ]
    },
    {
     "name": "stdout",
     "output_type": "stream",
     "text": [
      "Downloading 173 out of 191: 104001007FD1DF00/031313311113.tif\n"
     ]
    },
    {
     "name": "stderr",
     "output_type": "stream",
     "text": [
      "Downloading...\n",
      "From: https://maxar-opendata.s3.amazonaws.com/events/Morocco-Earthquake-Sept-2023/ard/29/031313311113/2022-12-11/104001007FD1DF00-visual.tif\n",
      "To: /home/jupyter/104001007FD1DF00/031313311113.tif\n",
      "100%|██████████| 9.78M/9.78M [00:01<00:00, 6.90MB/s]\n"
     ]
    },
    {
     "name": "stdout",
     "output_type": "stream",
     "text": [
      "Downloading 174 out of 191: 104001007F3A4600/031313311103.tif\n"
     ]
    },
    {
     "name": "stderr",
     "output_type": "stream",
     "text": [
      "Downloading...\n",
      "From: https://maxar-opendata.s3.amazonaws.com/events/Morocco-Earthquake-Sept-2023/ard/29/031313311103/2022-12-11/104001007F3A4600-visual.tif\n",
      "To: /home/jupyter/104001007F3A4600/031313311103.tif\n",
      "100%|██████████| 56.3M/56.3M [00:03<00:00, 14.3MB/s]\n"
     ]
    },
    {
     "name": "stdout",
     "output_type": "stream",
     "text": [
      "Downloading 175 out of 191: 104001007F3A4600/031313311112.tif\n"
     ]
    },
    {
     "name": "stderr",
     "output_type": "stream",
     "text": [
      "Downloading...\n",
      "From: https://maxar-opendata.s3.amazonaws.com/events/Morocco-Earthquake-Sept-2023/ard/29/031313311112/2022-12-11/104001007F3A4600-visual.tif\n",
      "To: /home/jupyter/104001007F3A4600/031313311112.tif\n",
      "100%|██████████| 46.7M/46.7M [00:03<00:00, 13.9MB/s]\n"
     ]
    },
    {
     "name": "stdout",
     "output_type": "stream",
     "text": [
      "Downloading 176 out of 191: 104001007F3A4600/031313311113.tif\n"
     ]
    },
    {
     "name": "stderr",
     "output_type": "stream",
     "text": [
      "Downloading...\n",
      "From: https://maxar-opendata.s3.amazonaws.com/events/Morocco-Earthquake-Sept-2023/ard/29/031313311113/2022-12-11/104001007F3A4600-visual.tif\n",
      "To: /home/jupyter/104001007F3A4600/031313311113.tif\n",
      "100%|██████████| 5.05M/5.05M [00:01<00:00, 4.05MB/s]\n"
     ]
    },
    {
     "name": "stdout",
     "output_type": "stream",
     "text": [
      "Downloading 177 out of 191: 104001007F3A4600/031313133323.tif\n"
     ]
    },
    {
     "name": "stderr",
     "output_type": "stream",
     "text": [
      "Downloading...\n",
      "From: https://maxar-opendata.s3.amazonaws.com/events/Morocco-Earthquake-Sept-2023/ard/29/031313133323/2022-12-11/104001007F3A4600-visual.tif\n",
      "To: /home/jupyter/104001007F3A4600/031313133323.tif\n",
      "100%|██████████| 52.3M/52.3M [00:03<00:00, 13.9MB/s]\n"
     ]
    },
    {
     "name": "stdout",
     "output_type": "stream",
     "text": [
      "Downloading 178 out of 191: 104001007F3A4600/031313311101.tif\n"
     ]
    },
    {
     "name": "stderr",
     "output_type": "stream",
     "text": [
      "Downloading...\n",
      "From: https://maxar-opendata.s3.amazonaws.com/events/Morocco-Earthquake-Sept-2023/ard/29/031313311101/2022-12-11/104001007F3A4600-visual.tif\n",
      "To: /home/jupyter/104001007F3A4600/031313311101.tif\n",
      "100%|██████████| 57.0M/57.0M [00:03<00:00, 14.5MB/s]\n"
     ]
    },
    {
     "name": "stdout",
     "output_type": "stream",
     "text": [
      "Downloading 179 out of 191: 104001007F3A4600/031313311110.tif\n"
     ]
    },
    {
     "name": "stderr",
     "output_type": "stream",
     "text": [
      "Downloading...\n",
      "From: https://maxar-opendata.s3.amazonaws.com/events/Morocco-Earthquake-Sept-2023/ard/29/031313311110/2022-12-11/104001007F3A4600-visual.tif\n",
      "To: /home/jupyter/104001007F3A4600/031313311110.tif\n",
      "100%|██████████| 59.1M/59.1M [00:04<00:00, 14.5MB/s]\n"
     ]
    },
    {
     "name": "stdout",
     "output_type": "stream",
     "text": [
      "Downloading 180 out of 191: 104001007F3A4600/031313311111.tif\n"
     ]
    },
    {
     "name": "stderr",
     "output_type": "stream",
     "text": [
      "Downloading...\n",
      "From: https://maxar-opendata.s3.amazonaws.com/events/Morocco-Earthquake-Sept-2023/ard/29/031313311111/2022-12-11/104001007F3A4600-visual.tif\n",
      "To: /home/jupyter/104001007F3A4600/031313311111.tif\n",
      "100%|██████████| 8.57M/8.57M [00:01<00:00, 6.05MB/s]\n"
     ]
    },
    {
     "name": "stdout",
     "output_type": "stream",
     "text": [
      "Downloading 181 out of 191: 104001007F3A4600/031313133321.tif\n"
     ]
    },
    {
     "name": "stderr",
     "output_type": "stream",
     "text": [
      "Downloading...\n",
      "From: https://maxar-opendata.s3.amazonaws.com/events/Morocco-Earthquake-Sept-2023/ard/29/031313133321/2022-12-11/104001007F3A4600-visual.tif\n",
      "To: /home/jupyter/104001007F3A4600/031313133321.tif\n",
      "100%|██████████| 60.0M/60.0M [00:04<00:00, 14.5MB/s]\n"
     ]
    },
    {
     "name": "stdout",
     "output_type": "stream",
     "text": [
      "Downloading 182 out of 191: 104001007F3A4600/031313133330.tif\n"
     ]
    },
    {
     "name": "stderr",
     "output_type": "stream",
     "text": [
      "Downloading...\n",
      "From: https://maxar-opendata.s3.amazonaws.com/events/Morocco-Earthquake-Sept-2023/ard/29/031313133330/2022-12-11/104001007F3A4600-visual.tif\n",
      "To: /home/jupyter/104001007F3A4600/031313133330.tif\n",
      "100%|██████████| 64.8M/64.8M [00:04<00:00, 15.3MB/s]\n"
     ]
    },
    {
     "name": "stdout",
     "output_type": "stream",
     "text": [
      "Downloading 183 out of 191: 104001007F3A4600/031313133331.tif\n"
     ]
    },
    {
     "name": "stderr",
     "output_type": "stream",
     "text": [
      "Downloading...\n",
      "From: https://maxar-opendata.s3.amazonaws.com/events/Morocco-Earthquake-Sept-2023/ard/29/031313133331/2022-12-11/104001007F3A4600-visual.tif\n",
      "To: /home/jupyter/104001007F3A4600/031313133331.tif\n",
      "100%|██████████| 7.66M/7.66M [00:01<00:00, 6.15MB/s]\n"
     ]
    },
    {
     "name": "stdout",
     "output_type": "stream",
     "text": [
      "Downloading 184 out of 191: 104001007F3A4600/031313133332.tif\n"
     ]
    },
    {
     "name": "stderr",
     "output_type": "stream",
     "text": [
      "Downloading...\n",
      "From: https://maxar-opendata.s3.amazonaws.com/events/Morocco-Earthquake-Sept-2023/ard/29/031313133332/2022-12-11/104001007F3A4600-visual.tif\n",
      "To: /home/jupyter/104001007F3A4600/031313133332.tif\n",
      "100%|██████████| 51.8M/51.8M [00:03<00:00, 13.8MB/s]\n"
     ]
    },
    {
     "name": "stdout",
     "output_type": "stream",
     "text": [
      "Downloading 185 out of 191: 104001007F3A4600/031313133333.tif\n"
     ]
    },
    {
     "name": "stderr",
     "output_type": "stream",
     "text": [
      "Downloading...\n",
      "From: https://maxar-opendata.s3.amazonaws.com/events/Morocco-Earthquake-Sept-2023/ard/29/031313133333/2022-12-11/104001007F3A4600-visual.tif\n",
      "To: /home/jupyter/104001007F3A4600/031313133333.tif\n",
      "100%|██████████| 7.14M/7.14M [00:01<00:00, 5.63MB/s]\n"
     ]
    },
    {
     "name": "stdout",
     "output_type": "stream",
     "text": [
      "Downloading 186 out of 191: 104001007F3A4600/031313133301.tif\n"
     ]
    },
    {
     "name": "stderr",
     "output_type": "stream",
     "text": [
      "Downloading...\n",
      "From: https://maxar-opendata.s3.amazonaws.com/events/Morocco-Earthquake-Sept-2023/ard/29/031313133301/2022-12-11/104001007F3A4600-visual.tif\n",
      "To: /home/jupyter/104001007F3A4600/031313133301.tif\n",
      "100%|██████████| 9.72M/9.72M [00:01<00:00, 6.83MB/s]\n"
     ]
    },
    {
     "name": "stdout",
     "output_type": "stream",
     "text": [
      "Downloading 187 out of 191: 104001007F3A4600/031313133303.tif\n"
     ]
    },
    {
     "name": "stderr",
     "output_type": "stream",
     "text": [
      "Downloading...\n",
      "From: https://maxar-opendata.s3.amazonaws.com/events/Morocco-Earthquake-Sept-2023/ard/29/031313133303/2022-12-11/104001007F3A4600-visual.tif\n",
      "To: /home/jupyter/104001007F3A4600/031313133303.tif\n",
      "100%|██████████| 73.7M/73.7M [00:04<00:00, 15.5MB/s]\n"
     ]
    },
    {
     "name": "stdout",
     "output_type": "stream",
     "text": [
      "Downloading 188 out of 191: 104001007F3A4600/031313133310.tif\n"
     ]
    },
    {
     "name": "stderr",
     "output_type": "stream",
     "text": [
      "Downloading...\n",
      "From: https://maxar-opendata.s3.amazonaws.com/events/Morocco-Earthquake-Sept-2023/ard/29/031313133310/2022-12-11/104001007F3A4600-visual.tif\n",
      "To: /home/jupyter/104001007F3A4600/031313133310.tif\n",
      "100%|██████████| 7.53M/7.53M [00:01<00:00, 5.39MB/s]\n"
     ]
    },
    {
     "name": "stdout",
     "output_type": "stream",
     "text": [
      "Downloading 189 out of 191: 104001007F3A4600/031313133311.tif\n"
     ]
    },
    {
     "name": "stderr",
     "output_type": "stream",
     "text": [
      "Downloading...\n",
      "From: https://maxar-opendata.s3.amazonaws.com/events/Morocco-Earthquake-Sept-2023/ard/29/031313133311/2022-12-11/104001007F3A4600-visual.tif\n",
      "To: /home/jupyter/104001007F3A4600/031313133311.tif\n",
      "100%|██████████| 3.01M/3.01M [00:01<00:00, 2.71MB/s]\n"
     ]
    },
    {
     "name": "stdout",
     "output_type": "stream",
     "text": [
      "Downloading 190 out of 191: 104001007F3A4600/031313133312.tif\n"
     ]
    },
    {
     "name": "stderr",
     "output_type": "stream",
     "text": [
      "Downloading...\n",
      "From: https://maxar-opendata.s3.amazonaws.com/events/Morocco-Earthquake-Sept-2023/ard/29/031313133312/2022-12-11/104001007F3A4600-visual.tif\n",
      "To: /home/jupyter/104001007F3A4600/031313133312.tif\n",
      "100%|██████████| 74.9M/74.9M [00:04<00:00, 15.2MB/s]\n"
     ]
    },
    {
     "name": "stdout",
     "output_type": "stream",
     "text": [
      "Downloading 191 out of 191: 104001007F3A4600/031313133313.tif\n"
     ]
    },
    {
     "name": "stderr",
     "output_type": "stream",
     "text": [
      "Downloading...\n",
      "From: https://maxar-opendata.s3.amazonaws.com/events/Morocco-Earthquake-Sept-2023/ard/29/031313133313/2022-12-11/104001007F3A4600-visual.tif\n",
      "To: /home/jupyter/104001007F3A4600/031313133313.tif\n",
      "100%|██████████| 8.29M/8.29M [00:01<00:00, 5.79MB/s]\n"
     ]
    }
   ],
   "source": [
    "leafmap.maxar_download(pre_images)"
   ]
  },
  {
   "cell_type": "code",
   "execution_count": 31,
   "id": "26362c9d",
   "metadata": {},
   "outputs": [
    {
     "name": "stdout",
     "output_type": "stream",
     "text": [
      "Downloading 1 out of 8: 10300100ECC53700/031313133131.tif\n"
     ]
    },
    {
     "name": "stderr",
     "output_type": "stream",
     "text": [
      "Downloading...\n",
      "From: https://maxar-opendata.s3.amazonaws.com/events/Morocco-Earthquake-Sept-2023/ard/29/031313133131/2023-09-10/10300100ECC53700-visual.tif\n",
      "To: /home/jupyter/10300100ECC53700/031313133131.tif\n",
      "100%|██████████| 9.84M/9.84M [00:01<00:00, 6.92MB/s]\n"
     ]
    },
    {
     "name": "stdout",
     "output_type": "stream",
     "text": [
      "Downloading 2 out of 8: 10300100ECC53700/031313133133.tif\n"
     ]
    },
    {
     "name": "stderr",
     "output_type": "stream",
     "text": [
      "Downloading...\n",
      "From: https://maxar-opendata.s3.amazonaws.com/events/Morocco-Earthquake-Sept-2023/ard/29/031313133133/2023-09-10/10300100ECC53700-visual.tif\n",
      "To: /home/jupyter/10300100ECC53700/031313133133.tif\n",
      "100%|██████████| 28.7M/28.7M [00:02<00:00, 12.2MB/s]\n"
     ]
    },
    {
     "name": "stdout",
     "output_type": "stream",
     "text": [
      "Downloading 3 out of 8: 10300100ECC53700/031313133311.tif\n"
     ]
    },
    {
     "name": "stderr",
     "output_type": "stream",
     "text": [
      "Downloading...\n",
      "From: https://maxar-opendata.s3.amazonaws.com/events/Morocco-Earthquake-Sept-2023/ard/29/031313133311/2023-09-10/10300100ECC53700-visual.tif\n",
      "To: /home/jupyter/10300100ECC53700/031313133311.tif\n",
      "100%|██████████| 27.7M/27.7M [00:02<00:00, 9.82MB/s]\n"
     ]
    },
    {
     "name": "stdout",
     "output_type": "stream",
     "text": [
      "Downloading 4 out of 8: 10300100ECC53700/031313133313.tif\n"
     ]
    },
    {
     "name": "stderr",
     "output_type": "stream",
     "text": [
      "Downloading...\n",
      "From: https://maxar-opendata.s3.amazonaws.com/events/Morocco-Earthquake-Sept-2023/ard/29/031313133313/2023-09-10/10300100ECC53700-visual.tif\n",
      "To: /home/jupyter/10300100ECC53700/031313133313.tif\n",
      "100%|██████████| 29.2M/29.2M [00:02<00:00, 11.7MB/s]\n"
     ]
    },
    {
     "name": "stdout",
     "output_type": "stream",
     "text": [
      "Downloading 5 out of 8: 10300100ECC53700/031313133331.tif\n"
     ]
    },
    {
     "name": "stderr",
     "output_type": "stream",
     "text": [
      "Downloading...\n",
      "From: https://maxar-opendata.s3.amazonaws.com/events/Morocco-Earthquake-Sept-2023/ard/29/031313133331/2023-09-10/10300100ECC53700-visual.tif\n",
      "To: /home/jupyter/10300100ECC53700/031313133331.tif\n",
      "100%|██████████| 29.7M/29.7M [00:02<00:00, 11.7MB/s]\n"
     ]
    },
    {
     "name": "stdout",
     "output_type": "stream",
     "text": [
      "Downloading 6 out of 8: 10300100ECC53700/031313133333.tif\n"
     ]
    },
    {
     "name": "stderr",
     "output_type": "stream",
     "text": [
      "Downloading...\n",
      "From: https://maxar-opendata.s3.amazonaws.com/events/Morocco-Earthquake-Sept-2023/ard/29/031313133333/2023-09-10/10300100ECC53700-visual.tif\n",
      "To: /home/jupyter/10300100ECC53700/031313133333.tif\n",
      "100%|██████████| 29.9M/29.9M [00:02<00:00, 11.9MB/s]\n"
     ]
    },
    {
     "name": "stdout",
     "output_type": "stream",
     "text": [
      "Downloading 7 out of 8: 10300100ECC53700/031313311111.tif\n"
     ]
    },
    {
     "name": "stderr",
     "output_type": "stream",
     "text": [
      "Downloading...\n",
      "From: https://maxar-opendata.s3.amazonaws.com/events/Morocco-Earthquake-Sept-2023/ard/29/031313311111/2023-09-10/10300100ECC53700-visual.tif\n",
      "To: /home/jupyter/10300100ECC53700/031313311111.tif\n",
      "100%|██████████| 30.5M/30.5M [00:02<00:00, 11.9MB/s]\n"
     ]
    },
    {
     "name": "stdout",
     "output_type": "stream",
     "text": [
      "Downloading 8 out of 8: 10300100ECC53700/031313311113.tif\n"
     ]
    },
    {
     "name": "stderr",
     "output_type": "stream",
     "text": [
      "Downloading...\n",
      "From: https://maxar-opendata.s3.amazonaws.com/events/Morocco-Earthquake-Sept-2023/ard/29/031313311113/2023-09-10/10300100ECC53700-visual.tif\n",
      "To: /home/jupyter/10300100ECC53700/031313311113.tif\n",
      "100%|██████████| 14.8M/14.8M [00:01<00:00, 8.52MB/s]\n"
     ]
    }
   ],
   "source": [
    "leafmap.maxar_download(post_images)"
   ]
  },
  {
   "cell_type": "code",
   "execution_count": null,
   "id": "f43d23ce-8991-48e5-b4fb-accfd6d1cbf4",
   "metadata": {},
   "outputs": [],
   "source": [
    "# Group all files into one \n",
    "#first move all pre imagery to one folder. \n",
    "\n",
    "#Then run:\n",
    "\n"
   ]
  }
 ],
 "metadata": {
  "environment": {
   "kernel": "conda-root-py",
   "name": "workbench-notebooks.m111",
   "type": "gcloud",
   "uri": "gcr.io/deeplearning-platform-release/workbench-notebooks:m111"
  },
  "kernelspec": {
   "display_name": "Python 3",
   "language": "python",
   "name": "conda-root-py"
  },
  "language_info": {
   "codemirror_mode": {
    "name": "ipython",
    "version": 3
   },
   "file_extension": ".py",
   "mimetype": "text/x-python",
   "name": "python",
   "nbconvert_exporter": "python",
   "pygments_lexer": "ipython3",
   "version": "3.10.12"
  }
 },
 "nbformat": 4,
 "nbformat_minor": 5
}
