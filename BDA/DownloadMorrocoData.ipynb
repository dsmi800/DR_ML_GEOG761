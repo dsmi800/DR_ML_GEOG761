{
 "cells": [
  {
   "cell_type": "markdown",
   "id": "176518c1",
   "metadata": {},
   "source": [
    "1. Run this script to download the Morroco Earthquake Data\n",
    "2. Run the DataDirectorySetUp Script\n",
    "3. Run the Mosaic and Clip Script (to be completled)\n",
    "4. Run the BDA script\n",
    "5. Run the Road Damage Script (TBC)"
   ]
  },
  {
   "cell_type": "code",
   "execution_count": null,
   "id": "79c6f744-6abe-4462-b5f9-1c8b3ffe3053",
   "metadata": {},
   "outputs": [],
   "source": [
    "[![image](https://jupyterlite.rtfd.io/en/latest/_static/badge.svg)](https://demo.leafmap.org/lab/index.html?path=notebooks/69_turkey_earthquake.ipynb)\n",
    "[![image](https://studiolab.sagemaker.aws/studiolab.svg)](https://studiolab.sagemaker.aws/import/github/opengeos/leafmap/blob/master/examples/notebooks/69_turkey_earthquake.ipynb)\n",
    "[![image](https://img.shields.io/badge/Open-Planetary%20Computer-black?style=flat&logo=microsoft)](https://pccompute.westeurope.cloudapp.azure.com/compute/hub/user-redirect/git-pull?repo=https://github.com/opengeos/leafmap&urlpath=lab/tree/leafmap/examples/notebooks/69_turkey_earthquake.ipynb&branch=master)\n",
    "[![image](https://colab.research.google.com/assets/colab-badge.svg)](https://githubtocolab.com/opengeos/leafmap/blob/master/examples/notebooks/69_turkey_earthquake.ipynb)\n",
    "[![image](https://mybinder.org/badge_logo.svg)](https://gishub.org/leafmap-binder)\n",
    "\n",
    "**Visualizing Maxar Open Data for the 2023 Turkey-Syria Earthquake**\n",
    "\n",
    "The [Maxar Open Data Program](https://www.maxar.com/open-data) provides pre- and post-event high-resolution satellite imagery in support of emergency planning, risk assessment, monitoring of staging areas and emergency response, damage assessment, and recovery. Check out the links below for more information.\n",
    "- [Maxar Open Data Program](https://www.maxar.com/open-data)\n",
    "- [Maxar Open Data on AWS](https://registry.opendata.aws/maxar-open-data/)\n",
    "- [Maxar Open Data on STAC Index](https://stacindex.org/catalogs/maxar-open-data-catalog-ard-format#/)\n",
    "- [Maxar Open Data on STAC Browser](https://radiantearth.github.io/stac-browser/#/external/maxar-opendata.s3.amazonaws.com/events/catalog.json?.language=en)\n",
    "- [Maxar Open Data in CSV, GeoJSON, and MosaicJSON formats](https://github.com/giswqs/maxar-open-data)\n",
    "\n",
    "This notebook shows how to visualize and download the Maxar Open Data for the 2023 Turkey Earthquake using leafmap.\n",
    "\n",
    "First, install libraries and import modules."
   ]
  },
  {
   "cell_type": "code",
   "execution_count": null,
   "id": "fbeec97c-98b5-4bbf-aeef-526092458ccc",
   "metadata": {},
   "outputs": [],
   "source": [
    "See: https://colab.research.google.com/github/opengeos/leafmap/blob/master/examples/notebooks/69_turkey_earthquake.ipynb#scrollTo=RjBT5Ichv9-s"
   ]
  },
  {
   "cell_type": "code",
   "execution_count": 1,
   "id": "88a03618",
   "metadata": {},
   "outputs": [
    {
     "name": "stdout",
     "output_type": "stream",
     "text": [
      "Requirement already satisfied: leafmap in /opt/conda/lib/python3.10/site-packages (0.25.2)\n",
      "Requirement already satisfied: geopandas in /opt/conda/lib/python3.10/site-packages (0.14.0)\n",
      "Requirement already satisfied: bqplot in /opt/conda/lib/python3.10/site-packages (from leafmap) (0.12.40)\n",
      "Requirement already satisfied: colour in /opt/conda/lib/python3.10/site-packages (from leafmap) (0.1.5)\n",
      "Requirement already satisfied: folium in /opt/conda/lib/python3.10/site-packages (from leafmap) (0.14.0)\n",
      "Requirement already satisfied: gdown in /opt/conda/lib/python3.10/site-packages (from leafmap) (4.7.1)\n",
      "Requirement already satisfied: geojson in /opt/conda/lib/python3.10/site-packages (from leafmap) (3.0.1)\n",
      "Requirement already satisfied: ipyevents in /opt/conda/lib/python3.10/site-packages (from leafmap) (2.0.2)\n",
      "Requirement already satisfied: ipyfilechooser in /opt/conda/lib/python3.10/site-packages (from leafmap) (0.6.0)\n",
      "Requirement already satisfied: ipyleaflet in /opt/conda/lib/python3.10/site-packages (from leafmap) (0.17.4)\n",
      "Requirement already satisfied: ipywidgets in /opt/conda/lib/python3.10/site-packages (from leafmap) (8.1.0)\n",
      "Requirement already satisfied: matplotlib in /opt/conda/lib/python3.10/site-packages (from leafmap) (3.7.2)\n",
      "Requirement already satisfied: numpy in /opt/conda/lib/python3.10/site-packages (from leafmap) (1.23.5)\n",
      "Requirement already satisfied: pandas in /opt/conda/lib/python3.10/site-packages (from leafmap) (2.0.3)\n",
      "Requirement already satisfied: pyshp in /opt/conda/lib/python3.10/site-packages (from leafmap) (2.3.1)\n",
      "Requirement already satisfied: pystac-client in /opt/conda/lib/python3.10/site-packages (from leafmap) (0.7.5)\n",
      "Requirement already satisfied: python-box in /opt/conda/lib/python3.10/site-packages (from leafmap) (7.1.1)\n",
      "Requirement already satisfied: scooby in /opt/conda/lib/python3.10/site-packages (from leafmap) (0.7.2)\n",
      "Requirement already satisfied: whiteboxgui in /opt/conda/lib/python3.10/site-packages (from leafmap) (2.3.0)\n",
      "Requirement already satisfied: xyzservices in /opt/conda/lib/python3.10/site-packages (from leafmap) (2023.7.0)\n",
      "Requirement already satisfied: fiona>=1.8.21 in /opt/conda/lib/python3.10/site-packages (from geopandas) (1.9.4.post1)\n",
      "Requirement already satisfied: packaging in /opt/conda/lib/python3.10/site-packages (from geopandas) (23.1)\n",
      "Requirement already satisfied: pyproj>=3.3.0 in /opt/conda/lib/python3.10/site-packages (from geopandas) (3.6.0)\n",
      "Requirement already satisfied: shapely>=1.8.0 in /opt/conda/lib/python3.10/site-packages (from geopandas) (2.0.1)\n",
      "Requirement already satisfied: attrs>=19.2.0 in /opt/conda/lib/python3.10/site-packages (from fiona>=1.8.21->geopandas) (23.1.0)\n",
      "Requirement already satisfied: certifi in /opt/conda/lib/python3.10/site-packages (from fiona>=1.8.21->geopandas) (2023.7.22)\n",
      "Requirement already satisfied: click~=8.0 in /opt/conda/lib/python3.10/site-packages (from fiona>=1.8.21->geopandas) (8.1.7)\n",
      "Requirement already satisfied: click-plugins>=1.0 in /opt/conda/lib/python3.10/site-packages (from fiona>=1.8.21->geopandas) (1.1.1)\n",
      "Requirement already satisfied: cligj>=0.5 in /opt/conda/lib/python3.10/site-packages (from fiona>=1.8.21->geopandas) (0.7.2)\n",
      "Requirement already satisfied: six in /opt/conda/lib/python3.10/site-packages (from fiona>=1.8.21->geopandas) (1.16.0)\n",
      "Requirement already satisfied: python-dateutil>=2.8.2 in /opt/conda/lib/python3.10/site-packages (from pandas->leafmap) (2.8.2)\n",
      "Requirement already satisfied: pytz>=2020.1 in /opt/conda/lib/python3.10/site-packages (from pandas->leafmap) (2023.3)\n",
      "Requirement already satisfied: tzdata>=2022.1 in /opt/conda/lib/python3.10/site-packages (from pandas->leafmap) (2023.3)\n",
      "Requirement already satisfied: traitlets>=4.3.0 in /opt/conda/lib/python3.10/site-packages (from bqplot->leafmap) (5.9.0)\n",
      "Requirement already satisfied: traittypes>=0.0.6 in /opt/conda/lib/python3.10/site-packages (from bqplot->leafmap) (0.2.1)\n",
      "Requirement already satisfied: comm>=0.1.3 in /opt/conda/lib/python3.10/site-packages (from ipywidgets->leafmap) (0.1.4)\n",
      "Requirement already satisfied: ipython>=6.1.0 in /opt/conda/lib/python3.10/site-packages (from ipywidgets->leafmap) (8.14.0)\n",
      "Requirement already satisfied: widgetsnbextension~=4.0.7 in /opt/conda/lib/python3.10/site-packages (from ipywidgets->leafmap) (4.0.8)\n",
      "Requirement already satisfied: jupyterlab-widgets~=3.0.7 in /opt/conda/lib/python3.10/site-packages (from ipywidgets->leafmap) (3.0.8)\n",
      "Requirement already satisfied: branca>=0.6.0 in /opt/conda/lib/python3.10/site-packages (from folium->leafmap) (0.6.0)\n",
      "Requirement already satisfied: jinja2>=2.9 in /opt/conda/lib/python3.10/site-packages (from folium->leafmap) (3.1.2)\n",
      "Requirement already satisfied: requests in /opt/conda/lib/python3.10/site-packages (from folium->leafmap) (2.31.0)\n",
      "Requirement already satisfied: filelock in /opt/conda/lib/python3.10/site-packages (from gdown->leafmap) (3.12.2)\n",
      "Requirement already satisfied: tqdm in /opt/conda/lib/python3.10/site-packages (from gdown->leafmap) (4.66.1)\n",
      "Requirement already satisfied: beautifulsoup4 in /opt/conda/lib/python3.10/site-packages (from gdown->leafmap) (4.12.2)\n",
      "Requirement already satisfied: contourpy>=1.0.1 in /opt/conda/lib/python3.10/site-packages (from matplotlib->leafmap) (1.1.0)\n",
      "Requirement already satisfied: cycler>=0.10 in /opt/conda/lib/python3.10/site-packages (from matplotlib->leafmap) (0.11.0)\n",
      "Requirement already satisfied: fonttools>=4.22.0 in /opt/conda/lib/python3.10/site-packages (from matplotlib->leafmap) (4.42.1)\n",
      "Requirement already satisfied: kiwisolver>=1.0.1 in /opt/conda/lib/python3.10/site-packages (from matplotlib->leafmap) (1.4.4)\n",
      "Requirement already satisfied: pillow>=6.2.0 in /opt/conda/lib/python3.10/site-packages (from matplotlib->leafmap) (10.0.0)\n",
      "Requirement already satisfied: pyparsing<3.1,>=2.3.1 in /opt/conda/lib/python3.10/site-packages (from matplotlib->leafmap) (3.0.9)\n",
      "Requirement already satisfied: pystac[validation]>=1.8.2 in /opt/conda/lib/python3.10/site-packages (from pystac-client->leafmap) (1.8.3)\n",
      "Requirement already satisfied: ipytree in /opt/conda/lib/python3.10/site-packages (from whiteboxgui->leafmap) (0.2.2)\n",
      "Requirement already satisfied: whitebox in /opt/conda/lib/python3.10/site-packages (from whiteboxgui->leafmap) (2.3.1)\n",
      "Requirement already satisfied: backcall in /opt/conda/lib/python3.10/site-packages (from ipython>=6.1.0->ipywidgets->leafmap) (0.2.0)\n",
      "Requirement already satisfied: decorator in /opt/conda/lib/python3.10/site-packages (from ipython>=6.1.0->ipywidgets->leafmap) (5.1.1)\n",
      "Requirement already satisfied: jedi>=0.16 in /opt/conda/lib/python3.10/site-packages (from ipython>=6.1.0->ipywidgets->leafmap) (0.19.0)\n",
      "Requirement already satisfied: matplotlib-inline in /opt/conda/lib/python3.10/site-packages (from ipython>=6.1.0->ipywidgets->leafmap) (0.1.6)\n",
      "Requirement already satisfied: pickleshare in /opt/conda/lib/python3.10/site-packages (from ipython>=6.1.0->ipywidgets->leafmap) (0.7.5)\n",
      "Requirement already satisfied: prompt-toolkit!=3.0.37,<3.1.0,>=3.0.30 in /opt/conda/lib/python3.10/site-packages (from ipython>=6.1.0->ipywidgets->leafmap) (3.0.39)\n",
      "Requirement already satisfied: pygments>=2.4.0 in /opt/conda/lib/python3.10/site-packages (from ipython>=6.1.0->ipywidgets->leafmap) (2.16.1)\n",
      "Requirement already satisfied: stack-data in /opt/conda/lib/python3.10/site-packages (from ipython>=6.1.0->ipywidgets->leafmap) (0.6.2)\n",
      "Requirement already satisfied: pexpect>4.3 in /opt/conda/lib/python3.10/site-packages (from ipython>=6.1.0->ipywidgets->leafmap) (4.8.0)\n",
      "Requirement already satisfied: MarkupSafe>=2.0 in /opt/conda/lib/python3.10/site-packages (from jinja2>=2.9->folium->leafmap) (2.1.3)\n",
      "Requirement already satisfied: jsonschema<4.18,>=4.0.1 in /opt/conda/lib/python3.10/site-packages (from pystac[validation]>=1.8.2->pystac-client->leafmap) (4.17.3)\n",
      "Requirement already satisfied: charset-normalizer<4,>=2 in /opt/conda/lib/python3.10/site-packages (from requests->folium->leafmap) (3.2.0)\n",
      "Requirement already satisfied: idna<4,>=2.5 in /opt/conda/lib/python3.10/site-packages (from requests->folium->leafmap) (3.4)\n",
      "Requirement already satisfied: urllib3<3,>=1.21.1 in /opt/conda/lib/python3.10/site-packages (from requests->folium->leafmap) (1.26.16)\n",
      "Requirement already satisfied: soupsieve>1.2 in /opt/conda/lib/python3.10/site-packages (from beautifulsoup4->gdown->leafmap) (2.3.2.post1)\n",
      "Requirement already satisfied: PySocks!=1.5.7,>=1.5.6 in /opt/conda/lib/python3.10/site-packages (from requests->folium->leafmap) (1.7.1)\n",
      "Requirement already satisfied: parso<0.9.0,>=0.8.3 in /opt/conda/lib/python3.10/site-packages (from jedi>=0.16->ipython>=6.1.0->ipywidgets->leafmap) (0.8.3)\n",
      "Requirement already satisfied: pyrsistent!=0.17.0,!=0.17.1,!=0.17.2,>=0.14.0 in /opt/conda/lib/python3.10/site-packages (from jsonschema<4.18,>=4.0.1->pystac[validation]>=1.8.2->pystac-client->leafmap) (0.19.3)\n",
      "Requirement already satisfied: ptyprocess>=0.5 in /opt/conda/lib/python3.10/site-packages (from pexpect>4.3->ipython>=6.1.0->ipywidgets->leafmap) (0.7.0)\n",
      "Requirement already satisfied: wcwidth in /opt/conda/lib/python3.10/site-packages (from prompt-toolkit!=3.0.37,<3.1.0,>=3.0.30->ipython>=6.1.0->ipywidgets->leafmap) (0.2.6)\n",
      "Requirement already satisfied: executing>=1.2.0 in /opt/conda/lib/python3.10/site-packages (from stack-data->ipython>=6.1.0->ipywidgets->leafmap) (1.2.0)\n",
      "Requirement already satisfied: asttokens>=2.1.0 in /opt/conda/lib/python3.10/site-packages (from stack-data->ipython>=6.1.0->ipywidgets->leafmap) (2.2.1)\n",
      "Requirement already satisfied: pure-eval in /opt/conda/lib/python3.10/site-packages (from stack-data->ipython>=6.1.0->ipywidgets->leafmap) (0.2.2)\n"
     ]
    }
   ],
   "source": [
    "!pip install -U leafmap geopandas"
   ]
  },
  {
   "cell_type": "code",
   "execution_count": 3,
   "id": "db3ea3b2",
   "metadata": {},
   "outputs": [],
   "source": [
    "import leafmap\n",
    "import geopandas as gpd\n",
    "import folium"
   ]
  },
  {
   "cell_type": "markdown",
   "id": "3919d0a7",
   "metadata": {},
   "source": [
    "Retrieve all collections from the Maxar Open Data STAC catalog. Each collection represents a single event."
   ]
  },
  {
   "cell_type": "code",
   "execution_count": 4,
   "id": "a534fb62",
   "metadata": {},
   "outputs": [
    {
     "data": {
      "text/plain": [
       "['BayofBengal-Cyclone-Mocha-May-23',\n",
       " 'Emilia-Romagna-Italy-flooding-may23',\n",
       " 'Gambia-flooding-8-11-2022',\n",
       " 'Hurricane-Fiona-9-19-2022',\n",
       " 'Hurricane-Ian-9-26-2022',\n",
       " 'Hurricane-Idalia-Florida-Aug23',\n",
       " 'Indonesia-Earthquake22',\n",
       " 'Kahramanmaras-turkey-earthquake-23',\n",
       " 'Kalehe-DRC-Flooding-5-8-23',\n",
       " 'Libya-Floods-Sept-2023',\n",
       " 'Marshall-Fire-21-Update',\n",
       " 'Maui-Hawaii-fires-Aug-23',\n",
       " 'McDougallCreekWildfire-BC-Canada-Aug-23',\n",
       " 'Morocco-Earthquake-Sept-2023',\n",
       " 'NWT-Canada-Aug-23',\n",
       " 'New-Zealand-Flooding22',\n",
       " 'New-Zealand-Flooding23',\n",
       " 'Sudan-flooding-8-22-2022',\n",
       " 'afghanistan-earthquake22',\n",
       " 'cyclone-emnati22',\n",
       " 'ghana-explosion22',\n",
       " 'kentucky-flooding-7-29-2022',\n",
       " 'pakistan-flooding22',\n",
       " 'shovi-georgia-landslide-8Aug23',\n",
       " 'southafrica-flooding22',\n",
       " 'tonga-volcano21',\n",
       " 'volcano-indonesia21',\n",
       " 'yellowstone-flooding22']"
      ]
     },
     "execution_count": 4,
     "metadata": {},
     "output_type": "execute_result"
    }
   ],
   "source": [
    "leafmap.maxar_collections()"
   ]
  },
  {
   "cell_type": "markdown",
   "id": "19c63169",
   "metadata": {},
   "source": [
    "The collection ID for the 2023 Turkey Earthquake is `Kahramanmaras-turkey-earthquake-23`. We can get the footprints ([geojson](https://github.com/giswqs/maxar-open-data/blob/master/datasets/Kahramanmaras-turkey-earthquake-23.geojson), [tsv](https://github.com/giswqs/maxar-open-data/blob/master/datasets/Kahramanmaras-turkey-earthquake-23.tsv)) of the event from the [Maxar Open Data GitHub repo](https://github.com/giswqs/maxar-open-data):"
   ]
  },
  {
   "cell_type": "code",
   "execution_count": 5,
   "id": "36932f26",
   "metadata": {},
   "outputs": [
    {
     "data": {
      "text/plain": [
       "'https://raw.githubusercontent.com/giswqs/maxar-open-data/master/datasets/Morocco-Earthquake-Sept-2023.geojson'"
      ]
     },
     "execution_count": 5,
     "metadata": {},
     "output_type": "execute_result"
    }
   ],
   "source": [
    "collection = 'Morocco-Earthquake-Sept-2023'\n",
    "url = leafmap.maxar_collection_url(collection, dtype='geojson')\n",
    "url"
   ]
  },
  {
   "cell_type": "markdown",
   "id": "5569f626",
   "metadata": {},
   "source": [
    "Let's find out how many images are available for the event:"
   ]
  },
  {
   "cell_type": "code",
   "execution_count": 6,
   "id": "fdcccc9e",
   "metadata": {},
   "outputs": [
    {
     "name": "stdout",
     "output_type": "stream",
     "text": [
      "Total number of images: 8724\n"
     ]
    },
    {
     "data": {
      "text/html": [
       "<div>\n",
       "<style scoped>\n",
       "    .dataframe tbody tr th:only-of-type {\n",
       "        vertical-align: middle;\n",
       "    }\n",
       "\n",
       "    .dataframe tbody tr th {\n",
       "        vertical-align: top;\n",
       "    }\n",
       "\n",
       "    .dataframe thead th {\n",
       "        text-align: right;\n",
       "    }\n",
       "</style>\n",
       "<table border=\"1\" class=\"dataframe\">\n",
       "  <thead>\n",
       "    <tr style=\"text-align: right;\">\n",
       "      <th></th>\n",
       "      <th>datetime</th>\n",
       "      <th>platform</th>\n",
       "      <th>gsd</th>\n",
       "      <th>ard_metadata_version</th>\n",
       "      <th>catalog_id</th>\n",
       "      <th>utm_zone</th>\n",
       "      <th>quadkey</th>\n",
       "      <th>view:off_nadir</th>\n",
       "      <th>view:azimuth</th>\n",
       "      <th>view:incidence_angle</th>\n",
       "      <th>view:sun_azimuth</th>\n",
       "      <th>view:sun_elevation</th>\n",
       "      <th>proj:epsg</th>\n",
       "      <th>grid:code</th>\n",
       "      <th>proj:bbox</th>\n",
       "      <th>tile:data_area</th>\n",
       "      <th>tile:clouds_area</th>\n",
       "      <th>tile:clouds_percent</th>\n",
       "      <th>visual</th>\n",
       "      <th>geometry</th>\n",
       "    </tr>\n",
       "  </thead>\n",
       "  <tbody>\n",
       "    <tr>\n",
       "      <th>0</th>\n",
       "      <td>2010-06-02 11:32:07+00:00</td>\n",
       "      <td>WV02</td>\n",
       "      <td>0.48</td>\n",
       "      <td>0.0.1</td>\n",
       "      <td>1030050003F8D200</td>\n",
       "      <td>29</td>\n",
       "      <td>120200221320</td>\n",
       "      <td>10.0</td>\n",
       "      <td>11.3</td>\n",
       "      <td>78.8</td>\n",
       "      <td>123.4</td>\n",
       "      <td>73.7</td>\n",
       "      <td>32629</td>\n",
       "      <td>MXRA-Z29-120200221320</td>\n",
       "      <td>562803.5149712368,3564843.75,565156.25,3569617...</td>\n",
       "      <td>9.1</td>\n",
       "      <td>0.0</td>\n",
       "      <td>0</td>\n",
       "      <td>https://maxar-opendata.s3.amazonaws.com/events...</td>\n",
       "      <td>POLYGON ((-8.30855 32.21831, -8.33296 32.21844...</td>\n",
       "    </tr>\n",
       "    <tr>\n",
       "      <th>1</th>\n",
       "      <td>2010-06-02 11:32:07+00:00</td>\n",
       "      <td>WV02</td>\n",
       "      <td>0.48</td>\n",
       "      <td>0.0.1</td>\n",
       "      <td>1030050003F8D200</td>\n",
       "      <td>29</td>\n",
       "      <td>120200221321</td>\n",
       "      <td>9.9</td>\n",
       "      <td>10.0</td>\n",
       "      <td>78.9</td>\n",
       "      <td>123.4</td>\n",
       "      <td>73.7</td>\n",
       "      <td>32629</td>\n",
       "      <td>MXRA-Z29-120200221321</td>\n",
       "      <td>564843.75,3564843.75,570156.25,3568178.758727665</td>\n",
       "      <td>10.2</td>\n",
       "      <td>0.0</td>\n",
       "      <td>0</td>\n",
       "      <td>https://maxar-opendata.s3.amazonaws.com/events...</td>\n",
       "      <td>POLYGON ((-8.25550 32.21801, -8.31187 32.21833...</td>\n",
       "    </tr>\n",
       "    <tr>\n",
       "      <th>2</th>\n",
       "      <td>2010-06-02 11:32:07+00:00</td>\n",
       "      <td>WV02</td>\n",
       "      <td>0.48</td>\n",
       "      <td>0.0.1</td>\n",
       "      <td>1030050003F8D200</td>\n",
       "      <td>29</td>\n",
       "      <td>120200221330</td>\n",
       "      <td>9.9</td>\n",
       "      <td>7.9</td>\n",
       "      <td>78.9</td>\n",
       "      <td>123.4</td>\n",
       "      <td>73.7</td>\n",
       "      <td>32629</td>\n",
       "      <td>MXRA-Z29-120200221330</td>\n",
       "      <td>569843.75,3564843.75,575156.25,3566305.569489086</td>\n",
       "      <td>7.6</td>\n",
       "      <td>0.0</td>\n",
       "      <td>0</td>\n",
       "      <td>https://maxar-opendata.s3.amazonaws.com/events...</td>\n",
       "      <td>POLYGON ((-8.20244 32.21769, -8.25881 32.21803...</td>\n",
       "    </tr>\n",
       "    <tr>\n",
       "      <th>3</th>\n",
       "      <td>2010-06-02 11:32:07+00:00</td>\n",
       "      <td>WV02</td>\n",
       "      <td>0.48</td>\n",
       "      <td>0.0.1</td>\n",
       "      <td>1030050003F8D200</td>\n",
       "      <td>29</td>\n",
       "      <td>120200221331</td>\n",
       "      <td>9.8</td>\n",
       "      <td>6.0</td>\n",
       "      <td>79.0</td>\n",
       "      <td>123.4</td>\n",
       "      <td>73.7</td>\n",
       "      <td>32629</td>\n",
       "      <td>MXRA-Z29-120200221331</td>\n",
       "      <td>574843.75,3564843.75,579508.3618164062,3566259...</td>\n",
       "      <td>6.4</td>\n",
       "      <td>0.0</td>\n",
       "      <td>0</td>\n",
       "      <td>https://maxar-opendata.s3.amazonaws.com/events...</td>\n",
       "      <td>POLYGON ((-8.15626 32.21739, -8.20576 32.21771...</td>\n",
       "    </tr>\n",
       "    <tr>\n",
       "      <th>4</th>\n",
       "      <td>2010-06-02 11:32:08+00:00</td>\n",
       "      <td>WV02</td>\n",
       "      <td>0.48</td>\n",
       "      <td>0.0.1</td>\n",
       "      <td>1030050003F8D200</td>\n",
       "      <td>29</td>\n",
       "      <td>120200221322</td>\n",
       "      <td>10.1</td>\n",
       "      <td>10.8</td>\n",
       "      <td>78.7</td>\n",
       "      <td>123.2</td>\n",
       "      <td>73.7</td>\n",
       "      <td>32629</td>\n",
       "      <td>MXRA-Z29-120200221322</td>\n",
       "      <td>562852.783203125,3559843.75,565156.25,3565156.25</td>\n",
       "      <td>12.0</td>\n",
       "      <td>0.0</td>\n",
       "      <td>0</td>\n",
       "      <td>https://maxar-opendata.s3.amazonaws.com/events...</td>\n",
       "      <td>POLYGON ((-8.33298 32.22126, -8.33266 32.17333...</td>\n",
       "    </tr>\n",
       "  </tbody>\n",
       "</table>\n",
       "</div>"
      ],
      "text/plain": [
       "                   datetime platform   gsd ard_metadata_version  \\\n",
       "0 2010-06-02 11:32:07+00:00     WV02  0.48                0.0.1   \n",
       "1 2010-06-02 11:32:07+00:00     WV02  0.48                0.0.1   \n",
       "2 2010-06-02 11:32:07+00:00     WV02  0.48                0.0.1   \n",
       "3 2010-06-02 11:32:07+00:00     WV02  0.48                0.0.1   \n",
       "4 2010-06-02 11:32:08+00:00     WV02  0.48                0.0.1   \n",
       "\n",
       "         catalog_id  utm_zone       quadkey  view:off_nadir  view:azimuth  \\\n",
       "0  1030050003F8D200        29  120200221320            10.0          11.3   \n",
       "1  1030050003F8D200        29  120200221321             9.9          10.0   \n",
       "2  1030050003F8D200        29  120200221330             9.9           7.9   \n",
       "3  1030050003F8D200        29  120200221331             9.8           6.0   \n",
       "4  1030050003F8D200        29  120200221322            10.1          10.8   \n",
       "\n",
       "   view:incidence_angle  view:sun_azimuth  view:sun_elevation  proj:epsg  \\\n",
       "0                  78.8             123.4                73.7      32629   \n",
       "1                  78.9             123.4                73.7      32629   \n",
       "2                  78.9             123.4                73.7      32629   \n",
       "3                  79.0             123.4                73.7      32629   \n",
       "4                  78.7             123.2                73.7      32629   \n",
       "\n",
       "               grid:code                                          proj:bbox  \\\n",
       "0  MXRA-Z29-120200221320  562803.5149712368,3564843.75,565156.25,3569617...   \n",
       "1  MXRA-Z29-120200221321   564843.75,3564843.75,570156.25,3568178.758727665   \n",
       "2  MXRA-Z29-120200221330   569843.75,3564843.75,575156.25,3566305.569489086   \n",
       "3  MXRA-Z29-120200221331  574843.75,3564843.75,579508.3618164062,3566259...   \n",
       "4  MXRA-Z29-120200221322   562852.783203125,3559843.75,565156.25,3565156.25   \n",
       "\n",
       "   tile:data_area  tile:clouds_area  tile:clouds_percent  \\\n",
       "0             9.1               0.0                    0   \n",
       "1            10.2               0.0                    0   \n",
       "2             7.6               0.0                    0   \n",
       "3             6.4               0.0                    0   \n",
       "4            12.0               0.0                    0   \n",
       "\n",
       "                                              visual  \\\n",
       "0  https://maxar-opendata.s3.amazonaws.com/events...   \n",
       "1  https://maxar-opendata.s3.amazonaws.com/events...   \n",
       "2  https://maxar-opendata.s3.amazonaws.com/events...   \n",
       "3  https://maxar-opendata.s3.amazonaws.com/events...   \n",
       "4  https://maxar-opendata.s3.amazonaws.com/events...   \n",
       "\n",
       "                                            geometry  \n",
       "0  POLYGON ((-8.30855 32.21831, -8.33296 32.21844...  \n",
       "1  POLYGON ((-8.25550 32.21801, -8.31187 32.21833...  \n",
       "2  POLYGON ((-8.20244 32.21769, -8.25881 32.21803...  \n",
       "3  POLYGON ((-8.15626 32.21739, -8.20576 32.21771...  \n",
       "4  POLYGON ((-8.33298 32.22126, -8.33266 32.17333...  "
      ]
     },
     "execution_count": 6,
     "metadata": {},
     "output_type": "execute_result"
    }
   ],
   "source": [
    "gdf = gpd.read_file(url)\n",
    "print(f'Total number of images: {len(gdf)}')\n",
    "gdf.head()"
   ]
  },
  {
   "cell_type": "markdown",
   "id": "fb8aa807",
   "metadata": {},
   "source": [
    "Visualize the footprints of the images on the map:"
   ]
  },
  {
   "cell_type": "code",
   "execution_count": 7,
   "id": "28505cf1",
   "metadata": {},
   "outputs": [
    {
     "ename": "NameError",
     "evalue": "name 'leaflet' is not defined",
     "output_type": "error",
     "traceback": [
      "\u001b[0;31m---------------------------------------------------------------------------\u001b[0m",
      "\u001b[0;31mNameError\u001b[0m                                 Traceback (most recent call last)",
      "Cell \u001b[0;32mIn[7], line 1\u001b[0m\n\u001b[0;32m----> 1\u001b[0m m \u001b[38;5;241m=\u001b[39m \u001b[43mleaflet\u001b[49m\u001b[38;5;241m.\u001b[39mMap()\n\u001b[1;32m      2\u001b[0m m\u001b[38;5;241m.\u001b[39madd_gdf(gdf, layer_name\u001b[38;5;241m=\u001b[39m\u001b[38;5;124m'\u001b[39m\u001b[38;5;124mFootprints\u001b[39m\u001b[38;5;124m'\u001b[39m)\n\u001b[1;32m      3\u001b[0m m\n",
      "\u001b[0;31mNameError\u001b[0m: name 'leaflet' is not defined"
     ]
    }
   ],
   "source": [
    "m = Leaflet.Map()\n",
    "m.add_gdf(gdf, layer_name='Footprints')\n",
    "m"
   ]
  },
  {
   "cell_type": "code",
   "execution_count": 8,
   "id": "aa2a682b",
   "metadata": {},
   "outputs": [
    {
     "name": "stdout",
     "output_type": "stream",
     "text": [
      "Total number of pre-event images: 8239\n"
     ]
    },
    {
     "data": {
      "text/html": [
       "<div>\n",
       "<style scoped>\n",
       "    .dataframe tbody tr th:only-of-type {\n",
       "        vertical-align: middle;\n",
       "    }\n",
       "\n",
       "    .dataframe tbody tr th {\n",
       "        vertical-align: top;\n",
       "    }\n",
       "\n",
       "    .dataframe thead th {\n",
       "        text-align: right;\n",
       "    }\n",
       "</style>\n",
       "<table border=\"1\" class=\"dataframe\">\n",
       "  <thead>\n",
       "    <tr style=\"text-align: right;\">\n",
       "      <th></th>\n",
       "      <th>datetime</th>\n",
       "      <th>platform</th>\n",
       "      <th>gsd</th>\n",
       "      <th>ard_metadata_version</th>\n",
       "      <th>catalog_id</th>\n",
       "      <th>utm_zone</th>\n",
       "      <th>quadkey</th>\n",
       "      <th>view:off_nadir</th>\n",
       "      <th>view:azimuth</th>\n",
       "      <th>view:incidence_angle</th>\n",
       "      <th>view:sun_azimuth</th>\n",
       "      <th>view:sun_elevation</th>\n",
       "      <th>proj:epsg</th>\n",
       "      <th>grid:code</th>\n",
       "      <th>proj:bbox</th>\n",
       "      <th>tile:data_area</th>\n",
       "      <th>tile:clouds_area</th>\n",
       "      <th>tile:clouds_percent</th>\n",
       "      <th>visual</th>\n",
       "      <th>geometry</th>\n",
       "    </tr>\n",
       "  </thead>\n",
       "  <tbody>\n",
       "    <tr>\n",
       "      <th>0</th>\n",
       "      <td>2010-06-02 11:32:07+00:00</td>\n",
       "      <td>WV02</td>\n",
       "      <td>0.48</td>\n",
       "      <td>0.0.1</td>\n",
       "      <td>1030050003F8D200</td>\n",
       "      <td>29</td>\n",
       "      <td>120200221320</td>\n",
       "      <td>10.0</td>\n",
       "      <td>11.3</td>\n",
       "      <td>78.8</td>\n",
       "      <td>123.4</td>\n",
       "      <td>73.7</td>\n",
       "      <td>32629</td>\n",
       "      <td>MXRA-Z29-120200221320</td>\n",
       "      <td>562803.5149712368,3564843.75,565156.25,3569617...</td>\n",
       "      <td>9.1</td>\n",
       "      <td>0.0</td>\n",
       "      <td>0</td>\n",
       "      <td>https://maxar-opendata.s3.amazonaws.com/events...</td>\n",
       "      <td>POLYGON ((-8.30855 32.21831, -8.33296 32.21844...</td>\n",
       "    </tr>\n",
       "    <tr>\n",
       "      <th>1</th>\n",
       "      <td>2010-06-02 11:32:07+00:00</td>\n",
       "      <td>WV02</td>\n",
       "      <td>0.48</td>\n",
       "      <td>0.0.1</td>\n",
       "      <td>1030050003F8D200</td>\n",
       "      <td>29</td>\n",
       "      <td>120200221321</td>\n",
       "      <td>9.9</td>\n",
       "      <td>10.0</td>\n",
       "      <td>78.9</td>\n",
       "      <td>123.4</td>\n",
       "      <td>73.7</td>\n",
       "      <td>32629</td>\n",
       "      <td>MXRA-Z29-120200221321</td>\n",
       "      <td>564843.75,3564843.75,570156.25,3568178.758727665</td>\n",
       "      <td>10.2</td>\n",
       "      <td>0.0</td>\n",
       "      <td>0</td>\n",
       "      <td>https://maxar-opendata.s3.amazonaws.com/events...</td>\n",
       "      <td>POLYGON ((-8.25550 32.21801, -8.31187 32.21833...</td>\n",
       "    </tr>\n",
       "    <tr>\n",
       "      <th>2</th>\n",
       "      <td>2010-06-02 11:32:07+00:00</td>\n",
       "      <td>WV02</td>\n",
       "      <td>0.48</td>\n",
       "      <td>0.0.1</td>\n",
       "      <td>1030050003F8D200</td>\n",
       "      <td>29</td>\n",
       "      <td>120200221330</td>\n",
       "      <td>9.9</td>\n",
       "      <td>7.9</td>\n",
       "      <td>78.9</td>\n",
       "      <td>123.4</td>\n",
       "      <td>73.7</td>\n",
       "      <td>32629</td>\n",
       "      <td>MXRA-Z29-120200221330</td>\n",
       "      <td>569843.75,3564843.75,575156.25,3566305.569489086</td>\n",
       "      <td>7.6</td>\n",
       "      <td>0.0</td>\n",
       "      <td>0</td>\n",
       "      <td>https://maxar-opendata.s3.amazonaws.com/events...</td>\n",
       "      <td>POLYGON ((-8.20244 32.21769, -8.25881 32.21803...</td>\n",
       "    </tr>\n",
       "    <tr>\n",
       "      <th>3</th>\n",
       "      <td>2010-06-02 11:32:07+00:00</td>\n",
       "      <td>WV02</td>\n",
       "      <td>0.48</td>\n",
       "      <td>0.0.1</td>\n",
       "      <td>1030050003F8D200</td>\n",
       "      <td>29</td>\n",
       "      <td>120200221331</td>\n",
       "      <td>9.8</td>\n",
       "      <td>6.0</td>\n",
       "      <td>79.0</td>\n",
       "      <td>123.4</td>\n",
       "      <td>73.7</td>\n",
       "      <td>32629</td>\n",
       "      <td>MXRA-Z29-120200221331</td>\n",
       "      <td>574843.75,3564843.75,579508.3618164062,3566259...</td>\n",
       "      <td>6.4</td>\n",
       "      <td>0.0</td>\n",
       "      <td>0</td>\n",
       "      <td>https://maxar-opendata.s3.amazonaws.com/events...</td>\n",
       "      <td>POLYGON ((-8.15626 32.21739, -8.20576 32.21771...</td>\n",
       "    </tr>\n",
       "    <tr>\n",
       "      <th>4</th>\n",
       "      <td>2010-06-02 11:32:08+00:00</td>\n",
       "      <td>WV02</td>\n",
       "      <td>0.48</td>\n",
       "      <td>0.0.1</td>\n",
       "      <td>1030050003F8D200</td>\n",
       "      <td>29</td>\n",
       "      <td>120200221322</td>\n",
       "      <td>10.1</td>\n",
       "      <td>10.8</td>\n",
       "      <td>78.7</td>\n",
       "      <td>123.2</td>\n",
       "      <td>73.7</td>\n",
       "      <td>32629</td>\n",
       "      <td>MXRA-Z29-120200221322</td>\n",
       "      <td>562852.783203125,3559843.75,565156.25,3565156.25</td>\n",
       "      <td>12.0</td>\n",
       "      <td>0.0</td>\n",
       "      <td>0</td>\n",
       "      <td>https://maxar-opendata.s3.amazonaws.com/events...</td>\n",
       "      <td>POLYGON ((-8.33298 32.22126, -8.33266 32.17333...</td>\n",
       "    </tr>\n",
       "  </tbody>\n",
       "</table>\n",
       "</div>"
      ],
      "text/plain": [
       "                   datetime platform   gsd ard_metadata_version  \\\n",
       "0 2010-06-02 11:32:07+00:00     WV02  0.48                0.0.1   \n",
       "1 2010-06-02 11:32:07+00:00     WV02  0.48                0.0.1   \n",
       "2 2010-06-02 11:32:07+00:00     WV02  0.48                0.0.1   \n",
       "3 2010-06-02 11:32:07+00:00     WV02  0.48                0.0.1   \n",
       "4 2010-06-02 11:32:08+00:00     WV02  0.48                0.0.1   \n",
       "\n",
       "         catalog_id  utm_zone       quadkey  view:off_nadir  view:azimuth  \\\n",
       "0  1030050003F8D200        29  120200221320            10.0          11.3   \n",
       "1  1030050003F8D200        29  120200221321             9.9          10.0   \n",
       "2  1030050003F8D200        29  120200221330             9.9           7.9   \n",
       "3  1030050003F8D200        29  120200221331             9.8           6.0   \n",
       "4  1030050003F8D200        29  120200221322            10.1          10.8   \n",
       "\n",
       "   view:incidence_angle  view:sun_azimuth  view:sun_elevation  proj:epsg  \\\n",
       "0                  78.8             123.4                73.7      32629   \n",
       "1                  78.9             123.4                73.7      32629   \n",
       "2                  78.9             123.4                73.7      32629   \n",
       "3                  79.0             123.4                73.7      32629   \n",
       "4                  78.7             123.2                73.7      32629   \n",
       "\n",
       "               grid:code                                          proj:bbox  \\\n",
       "0  MXRA-Z29-120200221320  562803.5149712368,3564843.75,565156.25,3569617...   \n",
       "1  MXRA-Z29-120200221321   564843.75,3564843.75,570156.25,3568178.758727665   \n",
       "2  MXRA-Z29-120200221330   569843.75,3564843.75,575156.25,3566305.569489086   \n",
       "3  MXRA-Z29-120200221331  574843.75,3564843.75,579508.3618164062,3566259...   \n",
       "4  MXRA-Z29-120200221322   562852.783203125,3559843.75,565156.25,3565156.25   \n",
       "\n",
       "   tile:data_area  tile:clouds_area  tile:clouds_percent  \\\n",
       "0             9.1               0.0                    0   \n",
       "1            10.2               0.0                    0   \n",
       "2             7.6               0.0                    0   \n",
       "3             6.4               0.0                    0   \n",
       "4            12.0               0.0                    0   \n",
       "\n",
       "                                              visual  \\\n",
       "0  https://maxar-opendata.s3.amazonaws.com/events...   \n",
       "1  https://maxar-opendata.s3.amazonaws.com/events...   \n",
       "2  https://maxar-opendata.s3.amazonaws.com/events...   \n",
       "3  https://maxar-opendata.s3.amazonaws.com/events...   \n",
       "4  https://maxar-opendata.s3.amazonaws.com/events...   \n",
       "\n",
       "                                            geometry  \n",
       "0  POLYGON ((-8.30855 32.21831, -8.33296 32.21844...  \n",
       "1  POLYGON ((-8.25550 32.21801, -8.31187 32.21833...  \n",
       "2  POLYGON ((-8.20244 32.21769, -8.25881 32.21803...  \n",
       "3  POLYGON ((-8.15626 32.21739, -8.20576 32.21771...  \n",
       "4  POLYGON ((-8.33298 32.22126, -8.33266 32.17333...  "
      ]
     },
     "execution_count": 8,
     "metadata": {},
     "output_type": "execute_result"
    }
   ],
   "source": [
    "pre_event = leafmap.maxar_search(collection, end_date='2023-09-08')\n",
    "print(f'Total number of pre-event images: {len(pre_event)}')\n",
    "pre_event.head()"
   ]
  },
  {
   "cell_type": "code",
   "execution_count": 9,
   "id": "6022d0fb",
   "metadata": {},
   "outputs": [
    {
     "name": "stdout",
     "output_type": "stream",
     "text": [
      "Total number of post-event images: 485\n"
     ]
    },
    {
     "data": {
      "text/html": [
       "<div>\n",
       "<style scoped>\n",
       "    .dataframe tbody tr th:only-of-type {\n",
       "        vertical-align: middle;\n",
       "    }\n",
       "\n",
       "    .dataframe tbody tr th {\n",
       "        vertical-align: top;\n",
       "    }\n",
       "\n",
       "    .dataframe thead th {\n",
       "        text-align: right;\n",
       "    }\n",
       "</style>\n",
       "<table border=\"1\" class=\"dataframe\">\n",
       "  <thead>\n",
       "    <tr style=\"text-align: right;\">\n",
       "      <th></th>\n",
       "      <th>datetime</th>\n",
       "      <th>platform</th>\n",
       "      <th>gsd</th>\n",
       "      <th>ard_metadata_version</th>\n",
       "      <th>catalog_id</th>\n",
       "      <th>utm_zone</th>\n",
       "      <th>quadkey</th>\n",
       "      <th>view:off_nadir</th>\n",
       "      <th>view:azimuth</th>\n",
       "      <th>view:incidence_angle</th>\n",
       "      <th>view:sun_azimuth</th>\n",
       "      <th>view:sun_elevation</th>\n",
       "      <th>proj:epsg</th>\n",
       "      <th>grid:code</th>\n",
       "      <th>proj:bbox</th>\n",
       "      <th>tile:data_area</th>\n",
       "      <th>tile:clouds_area</th>\n",
       "      <th>tile:clouds_percent</th>\n",
       "      <th>visual</th>\n",
       "      <th>geometry</th>\n",
       "    </tr>\n",
       "  </thead>\n",
       "  <tbody>\n",
       "    <tr>\n",
       "      <th>8239</th>\n",
       "      <td>2023-09-10 11:25:14+00:00</td>\n",
       "      <td>WV03</td>\n",
       "      <td>0.36</td>\n",
       "      <td>0.0.1</td>\n",
       "      <td>1040050057DC8500</td>\n",
       "      <td>29</td>\n",
       "      <td>120202010220</td>\n",
       "      <td>24.4</td>\n",
       "      <td>339.6</td>\n",
       "      <td>63.1</td>\n",
       "      <td>147.2</td>\n",
       "      <td>59.6</td>\n",
       "      <td>32629</td>\n",
       "      <td>MXRA-Z29-120202010220</td>\n",
       "      <td>582861.0229492188,3489837.0361328125,585156.25...</td>\n",
       "      <td>0.5</td>\n",
       "      <td>0.0</td>\n",
       "      <td>0</td>\n",
       "      <td>https://maxar-opendata.s3.amazonaws.com/events...</td>\n",
       "      <td>POLYGON ((-8.12706 31.54339, -8.10289 31.54323...</td>\n",
       "    </tr>\n",
       "    <tr>\n",
       "      <th>8240</th>\n",
       "      <td>2023-09-10 11:25:14+00:00</td>\n",
       "      <td>WV03</td>\n",
       "      <td>0.36</td>\n",
       "      <td>0.0.1</td>\n",
       "      <td>1040050057DC8500</td>\n",
       "      <td>29</td>\n",
       "      <td>120202010221</td>\n",
       "      <td>24.5</td>\n",
       "      <td>339.3</td>\n",
       "      <td>62.9</td>\n",
       "      <td>147.2</td>\n",
       "      <td>59.6</td>\n",
       "      <td>32629</td>\n",
       "      <td>MXRA-Z29-120202010221</td>\n",
       "      <td>584843.75,3489463.5009765625,590156.25,3490156.25</td>\n",
       "      <td>2.6</td>\n",
       "      <td>0.0</td>\n",
       "      <td>0</td>\n",
       "      <td>https://maxar-opendata.s3.amazonaws.com/events...</td>\n",
       "      <td>POLYGON ((-8.10618 31.54325, -8.10620 31.54060...</td>\n",
       "    </tr>\n",
       "    <tr>\n",
       "      <th>8241</th>\n",
       "      <td>2023-09-10 11:25:14+00:00</td>\n",
       "      <td>WV03</td>\n",
       "      <td>0.37</td>\n",
       "      <td>0.0.1</td>\n",
       "      <td>1040050057DC8500</td>\n",
       "      <td>29</td>\n",
       "      <td>120202010230</td>\n",
       "      <td>24.7</td>\n",
       "      <td>338.4</td>\n",
       "      <td>62.7</td>\n",
       "      <td>147.2</td>\n",
       "      <td>59.6</td>\n",
       "      <td>32629</td>\n",
       "      <td>MXRA-Z29-120202010230</td>\n",
       "      <td>589843.75,3489083.251953125,595156.25,3490156.25</td>\n",
       "      <td>4.6</td>\n",
       "      <td>0.0</td>\n",
       "      <td>0</td>\n",
       "      <td>https://maxar-opendata.s3.amazonaws.com/events...</td>\n",
       "      <td>POLYGON ((-8.05351 31.54287, -8.05357 31.53683...</td>\n",
       "    </tr>\n",
       "    <tr>\n",
       "      <th>8242</th>\n",
       "      <td>2023-09-10 11:25:14+00:00</td>\n",
       "      <td>WV03</td>\n",
       "      <td>0.37</td>\n",
       "      <td>0.0.1</td>\n",
       "      <td>1040050057DC8500</td>\n",
       "      <td>29</td>\n",
       "      <td>120202010231</td>\n",
       "      <td>24.7</td>\n",
       "      <td>337.8</td>\n",
       "      <td>62.7</td>\n",
       "      <td>147.2</td>\n",
       "      <td>59.6</td>\n",
       "      <td>32629</td>\n",
       "      <td>MXRA-Z29-120202010231</td>\n",
       "      <td>594843.75,3488886.1083984375,597709.0454101562...</td>\n",
       "      <td>3.3</td>\n",
       "      <td>0.0</td>\n",
       "      <td>0</td>\n",
       "      <td>https://maxar-opendata.s3.amazonaws.com/events...</td>\n",
       "      <td>POLYGON ((-8.00084 31.54247, -8.00094 31.53301...</td>\n",
       "    </tr>\n",
       "    <tr>\n",
       "      <th>8243</th>\n",
       "      <td>2023-09-10 11:25:15+00:00</td>\n",
       "      <td>WV03</td>\n",
       "      <td>0.36</td>\n",
       "      <td>0.0.1</td>\n",
       "      <td>1040050057DC8500</td>\n",
       "      <td>29</td>\n",
       "      <td>120202010200</td>\n",
       "      <td>23.7</td>\n",
       "      <td>338.8</td>\n",
       "      <td>63.9</td>\n",
       "      <td>147.2</td>\n",
       "      <td>59.5</td>\n",
       "      <td>32629</td>\n",
       "      <td>MXRA-Z29-120202010200</td>\n",
       "      <td>582868.65234375,3494843.75,585156.25,3500156.25</td>\n",
       "      <td>12.1</td>\n",
       "      <td>0.0</td>\n",
       "      <td>0</td>\n",
       "      <td>https://maxar-opendata.s3.amazonaws.com/events...</td>\n",
       "      <td>POLYGON ((-8.12613 31.63361, -8.10202 31.63344...</td>\n",
       "    </tr>\n",
       "  </tbody>\n",
       "</table>\n",
       "</div>"
      ],
      "text/plain": [
       "                      datetime platform   gsd ard_metadata_version  \\\n",
       "8239 2023-09-10 11:25:14+00:00     WV03  0.36                0.0.1   \n",
       "8240 2023-09-10 11:25:14+00:00     WV03  0.36                0.0.1   \n",
       "8241 2023-09-10 11:25:14+00:00     WV03  0.37                0.0.1   \n",
       "8242 2023-09-10 11:25:14+00:00     WV03  0.37                0.0.1   \n",
       "8243 2023-09-10 11:25:15+00:00     WV03  0.36                0.0.1   \n",
       "\n",
       "            catalog_id  utm_zone       quadkey  view:off_nadir  view:azimuth  \\\n",
       "8239  1040050057DC8500        29  120202010220            24.4         339.6   \n",
       "8240  1040050057DC8500        29  120202010221            24.5         339.3   \n",
       "8241  1040050057DC8500        29  120202010230            24.7         338.4   \n",
       "8242  1040050057DC8500        29  120202010231            24.7         337.8   \n",
       "8243  1040050057DC8500        29  120202010200            23.7         338.8   \n",
       "\n",
       "      view:incidence_angle  view:sun_azimuth  view:sun_elevation  proj:epsg  \\\n",
       "8239                  63.1             147.2                59.6      32629   \n",
       "8240                  62.9             147.2                59.6      32629   \n",
       "8241                  62.7             147.2                59.6      32629   \n",
       "8242                  62.7             147.2                59.6      32629   \n",
       "8243                  63.9             147.2                59.5      32629   \n",
       "\n",
       "                  grid:code  \\\n",
       "8239  MXRA-Z29-120202010220   \n",
       "8240  MXRA-Z29-120202010221   \n",
       "8241  MXRA-Z29-120202010230   \n",
       "8242  MXRA-Z29-120202010231   \n",
       "8243  MXRA-Z29-120202010200   \n",
       "\n",
       "                                              proj:bbox  tile:data_area  \\\n",
       "8239  582861.0229492188,3489837.0361328125,585156.25...             0.5   \n",
       "8240  584843.75,3489463.5009765625,590156.25,3490156.25             2.6   \n",
       "8241   589843.75,3489083.251953125,595156.25,3490156.25             4.6   \n",
       "8242  594843.75,3488886.1083984375,597709.0454101562...             3.3   \n",
       "8243    582868.65234375,3494843.75,585156.25,3500156.25            12.1   \n",
       "\n",
       "      tile:clouds_area  tile:clouds_percent  \\\n",
       "8239               0.0                    0   \n",
       "8240               0.0                    0   \n",
       "8241               0.0                    0   \n",
       "8242               0.0                    0   \n",
       "8243               0.0                    0   \n",
       "\n",
       "                                                 visual  \\\n",
       "8239  https://maxar-opendata.s3.amazonaws.com/events...   \n",
       "8240  https://maxar-opendata.s3.amazonaws.com/events...   \n",
       "8241  https://maxar-opendata.s3.amazonaws.com/events...   \n",
       "8242  https://maxar-opendata.s3.amazonaws.com/events...   \n",
       "8243  https://maxar-opendata.s3.amazonaws.com/events...   \n",
       "\n",
       "                                               geometry  \n",
       "8239  POLYGON ((-8.12706 31.54339, -8.10289 31.54323...  \n",
       "8240  POLYGON ((-8.10618 31.54325, -8.10620 31.54060...  \n",
       "8241  POLYGON ((-8.05351 31.54287, -8.05357 31.53683...  \n",
       "8242  POLYGON ((-8.00084 31.54247, -8.00094 31.53301...  \n",
       "8243  POLYGON ((-8.12613 31.63361, -8.10202 31.63344...  "
      ]
     },
     "execution_count": 9,
     "metadata": {},
     "output_type": "execute_result"
    }
   ],
   "source": [
    "post_event = leafmap.maxar_search(collection, start_date='2023-09-08')\n",
    "print(f'Total number of post-event images: {len(post_event)}')\n",
    "post_event.head()"
   ]
  },
  {
   "cell_type": "markdown",
   "id": "fc432870-7183-4dec-a673-7b78d0c446b5",
   "metadata": {},
   "source": [
    "Define region for image download (select a small region for this test purpose)"
   ]
  },
  {
   "cell_type": "code",
   "execution_count": 14,
   "id": "768f91ae-2fbe-43d0-9099-410d9cce2386",
   "metadata": {},
   "outputs": [
    {
     "name": "stdout",
     "output_type": "stream",
     "text": [
      "[-8.3551, 31.1752, -8.1024, 31.3208]\n"
     ]
    }
   ],
   "source": [
    "bbox = None\n",
    "if bbox is None:\n",
    "    bbox = [-8.3551, 31.1752, -8.1024, 31.3208]\n",
    "print(bbox)"
   ]
  },
  {
   "cell_type": "code",
   "execution_count": 15,
   "id": "b93893bc-5ec7-4691-b88b-98fc1636b6b2",
   "metadata": {},
   "outputs": [
    {
     "name": "stdout",
     "output_type": "stream",
     "text": [
      "Total number of pre-event images in the selected region: 111\n"
     ]
    },
    {
     "data": {
      "text/html": [
       "<div>\n",
       "<style scoped>\n",
       "    .dataframe tbody tr th:only-of-type {\n",
       "        vertical-align: middle;\n",
       "    }\n",
       "\n",
       "    .dataframe tbody tr th {\n",
       "        vertical-align: top;\n",
       "    }\n",
       "\n",
       "    .dataframe thead th {\n",
       "        text-align: right;\n",
       "    }\n",
       "</style>\n",
       "<table border=\"1\" class=\"dataframe\">\n",
       "  <thead>\n",
       "    <tr style=\"text-align: right;\">\n",
       "      <th></th>\n",
       "      <th>datetime</th>\n",
       "      <th>platform</th>\n",
       "      <th>gsd</th>\n",
       "      <th>ard_metadata_version</th>\n",
       "      <th>catalog_id</th>\n",
       "      <th>utm_zone</th>\n",
       "      <th>quadkey</th>\n",
       "      <th>view:off_nadir</th>\n",
       "      <th>view:azimuth</th>\n",
       "      <th>view:incidence_angle</th>\n",
       "      <th>view:sun_azimuth</th>\n",
       "      <th>view:sun_elevation</th>\n",
       "      <th>proj:epsg</th>\n",
       "      <th>grid:code</th>\n",
       "      <th>proj:bbox</th>\n",
       "      <th>tile:data_area</th>\n",
       "      <th>tile:clouds_area</th>\n",
       "      <th>tile:clouds_percent</th>\n",
       "      <th>visual</th>\n",
       "      <th>geometry</th>\n",
       "    </tr>\n",
       "  </thead>\n",
       "  <tbody>\n",
       "    <tr>\n",
       "      <th>1409</th>\n",
       "      <td>2018-08-09 11:27:35+00:00</td>\n",
       "      <td>WV02</td>\n",
       "      <td>0.49</td>\n",
       "      <td>0.0.1</td>\n",
       "      <td>1030010083A10700</td>\n",
       "      <td>29</td>\n",
       "      <td>120202003120</td>\n",
       "      <td>12.8</td>\n",
       "      <td>47.0</td>\n",
       "      <td>75.6</td>\n",
       "      <td>129.2</td>\n",
       "      <td>67.6</td>\n",
       "      <td>32629</td>\n",
       "      <td>MXRA-Z29-120202003120</td>\n",
       "      <td>559843.75,3464843.75,564095.458984375,3470156.25</td>\n",
       "      <td>22.5</td>\n",
       "      <td>0.0</td>\n",
       "      <td>0</td>\n",
       "      <td>https://maxar-opendata.s3.amazonaws.com/events...</td>\n",
       "      <td>POLYGON ((-8.37074 31.36438, -8.37106 31.31645...</td>\n",
       "    </tr>\n",
       "    <tr>\n",
       "      <th>1413</th>\n",
       "      <td>2018-08-09 11:27:36+00:00</td>\n",
       "      <td>WV02</td>\n",
       "      <td>0.49</td>\n",
       "      <td>0.0.1</td>\n",
       "      <td>1030010083A10700</td>\n",
       "      <td>29</td>\n",
       "      <td>120202003122</td>\n",
       "      <td>12.9</td>\n",
       "      <td>46.5</td>\n",
       "      <td>75.5</td>\n",
       "      <td>129.1</td>\n",
       "      <td>67.6</td>\n",
       "      <td>32629</td>\n",
       "      <td>MXRA-Z29-120202003122</td>\n",
       "      <td>559843.75,3459843.75,564127.5024414062,3465156.25</td>\n",
       "      <td>22.6</td>\n",
       "      <td>0.0</td>\n",
       "      <td>0</td>\n",
       "      <td>https://maxar-opendata.s3.amazonaws.com/events...</td>\n",
       "      <td>POLYGON ((-8.37104 31.31927, -8.37136 31.27134...</td>\n",
       "    </tr>\n",
       "    <tr>\n",
       "      <th>1417</th>\n",
       "      <td>2018-08-09 11:27:36+00:00</td>\n",
       "      <td>WV02</td>\n",
       "      <td>0.49</td>\n",
       "      <td>0.0.1</td>\n",
       "      <td>1030010083A10700</td>\n",
       "      <td>29</td>\n",
       "      <td>120202003300</td>\n",
       "      <td>12.9</td>\n",
       "      <td>45.9</td>\n",
       "      <td>75.5</td>\n",
       "      <td>129.1</td>\n",
       "      <td>67.6</td>\n",
       "      <td>32629</td>\n",
       "      <td>MXRA-Z29-120202003300</td>\n",
       "      <td>559843.75,3454843.75,564223.3276367188,3460156.25</td>\n",
       "      <td>22.9</td>\n",
       "      <td>0.0</td>\n",
       "      <td>0</td>\n",
       "      <td>https://maxar-opendata.s3.amazonaws.com/events...</td>\n",
       "      <td>POLYGON ((-8.37134 31.27415, -8.37166 31.22622...</td>\n",
       "    </tr>\n",
       "    <tr>\n",
       "      <th>1424</th>\n",
       "      <td>2018-08-09 11:27:37+00:00</td>\n",
       "      <td>WV02</td>\n",
       "      <td>0.49</td>\n",
       "      <td>0.0.1</td>\n",
       "      <td>1030010083A10700</td>\n",
       "      <td>29</td>\n",
       "      <td>120202003302</td>\n",
       "      <td>13.0</td>\n",
       "      <td>45.4</td>\n",
       "      <td>75.4</td>\n",
       "      <td>129.0</td>\n",
       "      <td>67.6</td>\n",
       "      <td>32629</td>\n",
       "      <td>MXRA-Z29-120202003302</td>\n",
       "      <td>559843.75,3449843.75,564384.765625,3455156.25</td>\n",
       "      <td>23.7</td>\n",
       "      <td>0.0</td>\n",
       "      <td>0</td>\n",
       "      <td>https://maxar-opendata.s3.amazonaws.com/events...</td>\n",
       "      <td>POLYGON ((-8.37164 31.22904, -8.37196 31.18111...</td>\n",
       "    </tr>\n",
       "    <tr>\n",
       "      <th>1425</th>\n",
       "      <td>2018-08-09 11:27:37+00:00</td>\n",
       "      <td>WV02</td>\n",
       "      <td>0.49</td>\n",
       "      <td>0.0.1</td>\n",
       "      <td>1030010083A10700</td>\n",
       "      <td>29</td>\n",
       "      <td>120202003320</td>\n",
       "      <td>13.0</td>\n",
       "      <td>44.9</td>\n",
       "      <td>75.4</td>\n",
       "      <td>128.8</td>\n",
       "      <td>67.7</td>\n",
       "      <td>32629</td>\n",
       "      <td>MXRA-Z29-120202003320</td>\n",
       "      <td>559843.75,3444843.75,564405.8227539062,3450156.25</td>\n",
       "      <td>24.0</td>\n",
       "      <td>0.0</td>\n",
       "      <td>0</td>\n",
       "      <td>https://maxar-opendata.s3.amazonaws.com/events...</td>\n",
       "      <td>POLYGON ((-8.37194 31.18393, -8.37225 31.13600...</td>\n",
       "    </tr>\n",
       "  </tbody>\n",
       "</table>\n",
       "</div>"
      ],
      "text/plain": [
       "                      datetime platform   gsd ard_metadata_version  \\\n",
       "1409 2018-08-09 11:27:35+00:00     WV02  0.49                0.0.1   \n",
       "1413 2018-08-09 11:27:36+00:00     WV02  0.49                0.0.1   \n",
       "1417 2018-08-09 11:27:36+00:00     WV02  0.49                0.0.1   \n",
       "1424 2018-08-09 11:27:37+00:00     WV02  0.49                0.0.1   \n",
       "1425 2018-08-09 11:27:37+00:00     WV02  0.49                0.0.1   \n",
       "\n",
       "            catalog_id  utm_zone       quadkey  view:off_nadir  view:azimuth  \\\n",
       "1409  1030010083A10700        29  120202003120            12.8          47.0   \n",
       "1413  1030010083A10700        29  120202003122            12.9          46.5   \n",
       "1417  1030010083A10700        29  120202003300            12.9          45.9   \n",
       "1424  1030010083A10700        29  120202003302            13.0          45.4   \n",
       "1425  1030010083A10700        29  120202003320            13.0          44.9   \n",
       "\n",
       "      view:incidence_angle  view:sun_azimuth  view:sun_elevation  proj:epsg  \\\n",
       "1409                  75.6             129.2                67.6      32629   \n",
       "1413                  75.5             129.1                67.6      32629   \n",
       "1417                  75.5             129.1                67.6      32629   \n",
       "1424                  75.4             129.0                67.6      32629   \n",
       "1425                  75.4             128.8                67.7      32629   \n",
       "\n",
       "                  grid:code  \\\n",
       "1409  MXRA-Z29-120202003120   \n",
       "1413  MXRA-Z29-120202003122   \n",
       "1417  MXRA-Z29-120202003300   \n",
       "1424  MXRA-Z29-120202003302   \n",
       "1425  MXRA-Z29-120202003320   \n",
       "\n",
       "                                              proj:bbox  tile:data_area  \\\n",
       "1409   559843.75,3464843.75,564095.458984375,3470156.25            22.5   \n",
       "1413  559843.75,3459843.75,564127.5024414062,3465156.25            22.6   \n",
       "1417  559843.75,3454843.75,564223.3276367188,3460156.25            22.9   \n",
       "1424      559843.75,3449843.75,564384.765625,3455156.25            23.7   \n",
       "1425  559843.75,3444843.75,564405.8227539062,3450156.25            24.0   \n",
       "\n",
       "      tile:clouds_area  tile:clouds_percent  \\\n",
       "1409               0.0                    0   \n",
       "1413               0.0                    0   \n",
       "1417               0.0                    0   \n",
       "1424               0.0                    0   \n",
       "1425               0.0                    0   \n",
       "\n",
       "                                                 visual  \\\n",
       "1409  https://maxar-opendata.s3.amazonaws.com/events...   \n",
       "1413  https://maxar-opendata.s3.amazonaws.com/events...   \n",
       "1417  https://maxar-opendata.s3.amazonaws.com/events...   \n",
       "1424  https://maxar-opendata.s3.amazonaws.com/events...   \n",
       "1425  https://maxar-opendata.s3.amazonaws.com/events...   \n",
       "\n",
       "                                               geometry  \n",
       "1409  POLYGON ((-8.37074 31.36438, -8.37106 31.31645...  \n",
       "1413  POLYGON ((-8.37104 31.31927, -8.37136 31.27134...  \n",
       "1417  POLYGON ((-8.37134 31.27415, -8.37166 31.22622...  \n",
       "1424  POLYGON ((-8.37164 31.22904, -8.37196 31.18111...  \n",
       "1425  POLYGON ((-8.37194 31.18393, -8.37225 31.13600...  "
      ]
     },
     "execution_count": 15,
     "metadata": {},
     "output_type": "execute_result"
    }
   ],
   "source": [
    "pre_event = leafmap.maxar_search(collection, bbox=bbox, end_date='2023-09-08')\n",
    "print(f'Total number of pre-event images in the selected region: {len(pre_event)}')\n",
    "pre_event.head()"
   ]
  },
  {
   "cell_type": "code",
   "execution_count": 16,
   "id": "b083cd89-4db0-431e-bbbd-726f3c829bbc",
   "metadata": {},
   "outputs": [
    {
     "name": "stdout",
     "output_type": "stream",
     "text": [
      "Total number of post-event images in the selected region: 66\n"
     ]
    },
    {
     "data": {
      "text/html": [
       "<div>\n",
       "<style scoped>\n",
       "    .dataframe tbody tr th:only-of-type {\n",
       "        vertical-align: middle;\n",
       "    }\n",
       "\n",
       "    .dataframe tbody tr th {\n",
       "        vertical-align: top;\n",
       "    }\n",
       "\n",
       "    .dataframe thead th {\n",
       "        text-align: right;\n",
       "    }\n",
       "</style>\n",
       "<table border=\"1\" class=\"dataframe\">\n",
       "  <thead>\n",
       "    <tr style=\"text-align: right;\">\n",
       "      <th></th>\n",
       "      <th>datetime</th>\n",
       "      <th>platform</th>\n",
       "      <th>gsd</th>\n",
       "      <th>ard_metadata_version</th>\n",
       "      <th>catalog_id</th>\n",
       "      <th>utm_zone</th>\n",
       "      <th>quadkey</th>\n",
       "      <th>view:off_nadir</th>\n",
       "      <th>view:azimuth</th>\n",
       "      <th>view:incidence_angle</th>\n",
       "      <th>view:sun_azimuth</th>\n",
       "      <th>view:sun_elevation</th>\n",
       "      <th>proj:epsg</th>\n",
       "      <th>grid:code</th>\n",
       "      <th>proj:bbox</th>\n",
       "      <th>tile:data_area</th>\n",
       "      <th>tile:clouds_area</th>\n",
       "      <th>tile:clouds_percent</th>\n",
       "      <th>visual</th>\n",
       "      <th>geometry</th>\n",
       "    </tr>\n",
       "  </thead>\n",
       "  <tbody>\n",
       "    <tr>\n",
       "      <th>8300</th>\n",
       "      <td>2023-09-10 11:26:47+00:00</td>\n",
       "      <td>WV03</td>\n",
       "      <td>0.42</td>\n",
       "      <td>0.0.1</td>\n",
       "      <td>104001008A8E9800</td>\n",
       "      <td>29</td>\n",
       "      <td>120202003300</td>\n",
       "      <td>32.2</td>\n",
       "      <td>214.3</td>\n",
       "      <td>54.2</td>\n",
       "      <td>146.9</td>\n",
       "      <td>59.8</td>\n",
       "      <td>32629</td>\n",
       "      <td>MXRA-Z29-120202003300</td>\n",
       "      <td>559843.75,3454843.75,565141.2963867188,3460156.25</td>\n",
       "      <td>27.8</td>\n",
       "      <td>0.0</td>\n",
       "      <td>0</td>\n",
       "      <td>https://maxar-opendata.s3.amazonaws.com/events...</td>\n",
       "      <td>POLYGON ((-8.37134 31.27415, -8.37166 31.22622...</td>\n",
       "    </tr>\n",
       "    <tr>\n",
       "      <th>8301</th>\n",
       "      <td>2023-09-10 11:26:47+00:00</td>\n",
       "      <td>WV03</td>\n",
       "      <td>0.42</td>\n",
       "      <td>0.0.1</td>\n",
       "      <td>104001008A8E9800</td>\n",
       "      <td>29</td>\n",
       "      <td>120202003301</td>\n",
       "      <td>32.2</td>\n",
       "      <td>214.4</td>\n",
       "      <td>54.2</td>\n",
       "      <td>146.9</td>\n",
       "      <td>59.8</td>\n",
       "      <td>32629</td>\n",
       "      <td>MXRA-Z29-120202003301</td>\n",
       "      <td>564843.75,3454843.75,565141.2963867188,3460156.25</td>\n",
       "      <td>1.2</td>\n",
       "      <td>0.0</td>\n",
       "      <td>0</td>\n",
       "      <td>https://maxar-opendata.s3.amazonaws.com/events...</td>\n",
       "      <td>POLYGON ((-8.31882 31.27389, -8.31916 31.22596...</td>\n",
       "    </tr>\n",
       "    <tr>\n",
       "      <th>8302</th>\n",
       "      <td>2023-09-10 11:26:47+00:00</td>\n",
       "      <td>WV03</td>\n",
       "      <td>0.42</td>\n",
       "      <td>0.0.1</td>\n",
       "      <td>104001008A8E9800</td>\n",
       "      <td>29</td>\n",
       "      <td>120202003302</td>\n",
       "      <td>32.0</td>\n",
       "      <td>214.5</td>\n",
       "      <td>54.4</td>\n",
       "      <td>146.9</td>\n",
       "      <td>59.8</td>\n",
       "      <td>32629</td>\n",
       "      <td>MXRA-Z29-120202003302</td>\n",
       "      <td>559843.75,3453298.6450195312,565013.427734375,...</td>\n",
       "      <td>7.0</td>\n",
       "      <td>0.0</td>\n",
       "      <td>0</td>\n",
       "      <td>https://maxar-opendata.s3.amazonaws.com/events...</td>\n",
       "      <td>POLYGON ((-8.37164 31.22904, -8.37175 31.21228...</td>\n",
       "    </tr>\n",
       "    <tr>\n",
       "      <th>8307</th>\n",
       "      <td>2023-09-10 11:26:48+00:00</td>\n",
       "      <td>WV03</td>\n",
       "      <td>0.43</td>\n",
       "      <td>0.0.1</td>\n",
       "      <td>104001008A8E9800</td>\n",
       "      <td>29</td>\n",
       "      <td>120202003120</td>\n",
       "      <td>33.2</td>\n",
       "      <td>213.1</td>\n",
       "      <td>53.1</td>\n",
       "      <td>147.0</td>\n",
       "      <td>59.8</td>\n",
       "      <td>32629</td>\n",
       "      <td>MXRA-Z29-120202003120</td>\n",
       "      <td>559843.75,3464843.75,565156.25,3470156.25</td>\n",
       "      <td>28.2</td>\n",
       "      <td>0.0</td>\n",
       "      <td>0</td>\n",
       "      <td>https://maxar-opendata.s3.amazonaws.com/events...</td>\n",
       "      <td>POLYGON ((-8.37074 31.36438, -8.37106 31.31645...</td>\n",
       "    </tr>\n",
       "    <tr>\n",
       "      <th>8308</th>\n",
       "      <td>2023-09-10 11:26:48+00:00</td>\n",
       "      <td>WV03</td>\n",
       "      <td>0.43</td>\n",
       "      <td>0.0.1</td>\n",
       "      <td>104001008A8E9800</td>\n",
       "      <td>29</td>\n",
       "      <td>120202003121</td>\n",
       "      <td>33.1</td>\n",
       "      <td>213.3</td>\n",
       "      <td>53.1</td>\n",
       "      <td>147.0</td>\n",
       "      <td>59.8</td>\n",
       "      <td>32629</td>\n",
       "      <td>MXRA-Z29-120202003121</td>\n",
       "      <td>564843.75,3464843.75,565240.7836914062,3470156.25</td>\n",
       "      <td>1.9</td>\n",
       "      <td>0.0</td>\n",
       "      <td>0</td>\n",
       "      <td>https://maxar-opendata.s3.amazonaws.com/events...</td>\n",
       "      <td>POLYGON ((-8.31817 31.36411, -8.31852 31.31618...</td>\n",
       "    </tr>\n",
       "  </tbody>\n",
       "</table>\n",
       "</div>"
      ],
      "text/plain": [
       "                      datetime platform   gsd ard_metadata_version  \\\n",
       "8300 2023-09-10 11:26:47+00:00     WV03  0.42                0.0.1   \n",
       "8301 2023-09-10 11:26:47+00:00     WV03  0.42                0.0.1   \n",
       "8302 2023-09-10 11:26:47+00:00     WV03  0.42                0.0.1   \n",
       "8307 2023-09-10 11:26:48+00:00     WV03  0.43                0.0.1   \n",
       "8308 2023-09-10 11:26:48+00:00     WV03  0.43                0.0.1   \n",
       "\n",
       "            catalog_id  utm_zone       quadkey  view:off_nadir  view:azimuth  \\\n",
       "8300  104001008A8E9800        29  120202003300            32.2         214.3   \n",
       "8301  104001008A8E9800        29  120202003301            32.2         214.4   \n",
       "8302  104001008A8E9800        29  120202003302            32.0         214.5   \n",
       "8307  104001008A8E9800        29  120202003120            33.2         213.1   \n",
       "8308  104001008A8E9800        29  120202003121            33.1         213.3   \n",
       "\n",
       "      view:incidence_angle  view:sun_azimuth  view:sun_elevation  proj:epsg  \\\n",
       "8300                  54.2             146.9                59.8      32629   \n",
       "8301                  54.2             146.9                59.8      32629   \n",
       "8302                  54.4             146.9                59.8      32629   \n",
       "8307                  53.1             147.0                59.8      32629   \n",
       "8308                  53.1             147.0                59.8      32629   \n",
       "\n",
       "                  grid:code  \\\n",
       "8300  MXRA-Z29-120202003300   \n",
       "8301  MXRA-Z29-120202003301   \n",
       "8302  MXRA-Z29-120202003302   \n",
       "8307  MXRA-Z29-120202003120   \n",
       "8308  MXRA-Z29-120202003121   \n",
       "\n",
       "                                              proj:bbox  tile:data_area  \\\n",
       "8300  559843.75,3454843.75,565141.2963867188,3460156.25            27.8   \n",
       "8301  564843.75,3454843.75,565141.2963867188,3460156.25             1.2   \n",
       "8302  559843.75,3453298.6450195312,565013.427734375,...             7.0   \n",
       "8307          559843.75,3464843.75,565156.25,3470156.25            28.2   \n",
       "8308  564843.75,3464843.75,565240.7836914062,3470156.25             1.9   \n",
       "\n",
       "      tile:clouds_area  tile:clouds_percent  \\\n",
       "8300               0.0                    0   \n",
       "8301               0.0                    0   \n",
       "8302               0.0                    0   \n",
       "8307               0.0                    0   \n",
       "8308               0.0                    0   \n",
       "\n",
       "                                                 visual  \\\n",
       "8300  https://maxar-opendata.s3.amazonaws.com/events...   \n",
       "8301  https://maxar-opendata.s3.amazonaws.com/events...   \n",
       "8302  https://maxar-opendata.s3.amazonaws.com/events...   \n",
       "8307  https://maxar-opendata.s3.amazonaws.com/events...   \n",
       "8308  https://maxar-opendata.s3.amazonaws.com/events...   \n",
       "\n",
       "                                               geometry  \n",
       "8300  POLYGON ((-8.37134 31.27415, -8.37166 31.22622...  \n",
       "8301  POLYGON ((-8.31882 31.27389, -8.31916 31.22596...  \n",
       "8302  POLYGON ((-8.37164 31.22904, -8.37175 31.21228...  \n",
       "8307  POLYGON ((-8.37074 31.36438, -8.37106 31.31645...  \n",
       "8308  POLYGON ((-8.31817 31.36411, -8.31852 31.31618...  "
      ]
     },
     "execution_count": 16,
     "metadata": {},
     "output_type": "execute_result"
    }
   ],
   "source": [
    "post_event = leafmap.maxar_search(collection, bbox=bbox, start_date='2023-09-08')\n",
    "print(f'Total number of post-event images in the selected region: {len(post_event)}')\n",
    "post_event.head()"
   ]
  },
  {
   "cell_type": "markdown",
   "id": "30630c99",
   "metadata": {},
   "source": [
    "Get download links for the pre-event and post-event images:"
   ]
  },
  {
   "cell_type": "code",
   "execution_count": 17,
   "id": "4d7d616d",
   "metadata": {},
   "outputs": [],
   "source": [
    "pre_images = pre_event['visual'].tolist()\n",
    "post_images = post_event['visual'].tolist()"
   ]
  },
  {
   "cell_type": "markdown",
   "id": "3b285698",
   "metadata": {},
   "source": [
    "Download the pre-event and post-event images:"
   ]
  },
  {
   "cell_type": "code",
   "execution_count": 18,
   "id": "07759a4b",
   "metadata": {},
   "outputs": [
    {
     "name": "stdout",
     "output_type": "stream",
     "text": [
      "Downloading 001 out of 111: 1030010083A10700/120202003120.tif\n"
     ]
    },
    {
     "name": "stderr",
     "output_type": "stream",
     "text": [
      "Downloading...\n",
      "From: https://maxar-opendata.s3.amazonaws.com/events/Morocco-Earthquake-Sept-2023/ard/29/120202003120/2018-08-09/1030010083A10700-visual.tif\n",
      "To: /home/jupyter/DR_ML_GEOG761/BDA/1030010083A10700/120202003120.tif\n",
      "100%|██████████| 42.7M/42.7M [00:03<00:00, 13.0MB/s]\n"
     ]
    },
    {
     "name": "stdout",
     "output_type": "stream",
     "text": [
      "Downloading 002 out of 111: 1030010083A10700/120202003122.tif\n"
     ]
    },
    {
     "name": "stderr",
     "output_type": "stream",
     "text": [
      "Downloading...\n",
      "From: https://maxar-opendata.s3.amazonaws.com/events/Morocco-Earthquake-Sept-2023/ard/29/120202003122/2018-08-09/1030010083A10700-visual.tif\n",
      "To: /home/jupyter/DR_ML_GEOG761/BDA/1030010083A10700/120202003122.tif\n",
      "100%|██████████| 41.0M/41.0M [00:03<00:00, 13.0MB/s]\n"
     ]
    },
    {
     "name": "stdout",
     "output_type": "stream",
     "text": [
      "Downloading 003 out of 111: 1030010083A10700/120202003300.tif\n"
     ]
    },
    {
     "name": "stderr",
     "output_type": "stream",
     "text": [
      "Downloading...\n",
      "From: https://maxar-opendata.s3.amazonaws.com/events/Morocco-Earthquake-Sept-2023/ard/29/120202003300/2018-08-09/1030010083A10700-visual.tif\n",
      "To: /home/jupyter/DR_ML_GEOG761/BDA/1030010083A10700/120202003300.tif\n",
      "100%|██████████| 50.3M/50.3M [00:03<00:00, 14.0MB/s]\n"
     ]
    },
    {
     "name": "stdout",
     "output_type": "stream",
     "text": [
      "Downloading 004 out of 111: 1030010083A10700/120202003302.tif\n"
     ]
    },
    {
     "name": "stderr",
     "output_type": "stream",
     "text": [
      "Downloading...\n",
      "From: https://maxar-opendata.s3.amazonaws.com/events/Morocco-Earthquake-Sept-2023/ard/29/120202003302/2018-08-09/1030010083A10700-visual.tif\n",
      "To: /home/jupyter/DR_ML_GEOG761/BDA/1030010083A10700/120202003302.tif\n",
      "100%|██████████| 59.6M/59.6M [00:04<00:00, 14.6MB/s]\n"
     ]
    },
    {
     "name": "stdout",
     "output_type": "stream",
     "text": [
      "Downloading 005 out of 111: 1030010083A10700/120202003320.tif\n"
     ]
    },
    {
     "name": "stderr",
     "output_type": "stream",
     "text": [
      "Downloading...\n",
      "From: https://maxar-opendata.s3.amazonaws.com/events/Morocco-Earthquake-Sept-2023/ard/29/120202003320/2018-08-09/1030010083A10700-visual.tif\n",
      "To: /home/jupyter/DR_ML_GEOG761/BDA/1030010083A10700/120202003320.tif\n",
      "100%|██████████| 65.4M/65.4M [00:04<00:00, 14.6MB/s]\n"
     ]
    },
    {
     "name": "stdout",
     "output_type": "stream",
     "text": [
      "Downloading 006 out of 111: 103001008244DA00/120202003131.tif\n"
     ]
    },
    {
     "name": "stderr",
     "output_type": "stream",
     "text": [
      "Downloading...\n",
      "From: https://maxar-opendata.s3.amazonaws.com/events/Morocco-Earthquake-Sept-2023/ard/29/120202003131/2018-08-09/103001008244DA00-visual.tif\n",
      "To: /home/jupyter/DR_ML_GEOG761/BDA/103001008244DA00/120202003131.tif\n",
      "100%|██████████| 46.2M/46.2M [00:03<00:00, 13.5MB/s]\n"
     ]
    },
    {
     "name": "stdout",
     "output_type": "stream",
     "text": [
      "Downloading 007 out of 111: 103001008244DA00/120202012020.tif\n"
     ]
    },
    {
     "name": "stderr",
     "output_type": "stream",
     "text": [
      "Downloading...\n",
      "From: https://maxar-opendata.s3.amazonaws.com/events/Morocco-Earthquake-Sept-2023/ard/29/120202012020/2018-08-09/103001008244DA00-visual.tif\n",
      "To: /home/jupyter/DR_ML_GEOG761/BDA/103001008244DA00/120202012020.tif\n",
      "100%|██████████| 61.3M/61.3M [00:04<00:00, 14.0MB/s]\n"
     ]
    },
    {
     "name": "stdout",
     "output_type": "stream",
     "text": [
      "Downloading 008 out of 111: 103001008244DA00/120202012021.tif\n"
     ]
    },
    {
     "name": "stderr",
     "output_type": "stream",
     "text": [
      "Downloading...\n",
      "From: https://maxar-opendata.s3.amazonaws.com/events/Morocco-Earthquake-Sept-2023/ard/29/120202012021/2018-08-09/103001008244DA00-visual.tif\n",
      "To: /home/jupyter/DR_ML_GEOG761/BDA/103001008244DA00/120202012021.tif\n",
      "100%|██████████| 51.0M/51.0M [00:03<00:00, 14.0MB/s]\n"
     ]
    },
    {
     "name": "stdout",
     "output_type": "stream",
     "text": [
      "Downloading 009 out of 111: 103001008244DA00/120202003133.tif\n"
     ]
    },
    {
     "name": "stderr",
     "output_type": "stream",
     "text": [
      "Downloading...\n",
      "From: https://maxar-opendata.s3.amazonaws.com/events/Morocco-Earthquake-Sept-2023/ard/29/120202003133/2018-08-09/103001008244DA00-visual.tif\n",
      "To: /home/jupyter/DR_ML_GEOG761/BDA/103001008244DA00/120202003133.tif\n",
      "100%|██████████| 39.0M/39.0M [00:03<00:00, 13.0MB/s]\n"
     ]
    },
    {
     "name": "stdout",
     "output_type": "stream",
     "text": [
      "Downloading 010 out of 111: 103001008244DA00/120202003311.tif\n"
     ]
    },
    {
     "name": "stderr",
     "output_type": "stream",
     "text": [
      "Downloading...\n",
      "From: https://maxar-opendata.s3.amazonaws.com/events/Morocco-Earthquake-Sept-2023/ard/29/120202003311/2018-08-09/103001008244DA00-visual.tif\n",
      "To: /home/jupyter/DR_ML_GEOG761/BDA/103001008244DA00/120202003311.tif\n",
      "100%|██████████| 44.2M/44.2M [00:03<00:00, 13.5MB/s]\n"
     ]
    },
    {
     "name": "stdout",
     "output_type": "stream",
     "text": [
      "Downloading 011 out of 111: 103001008244DA00/120202012022.tif\n"
     ]
    },
    {
     "name": "stderr",
     "output_type": "stream",
     "text": [
      "Downloading...\n",
      "From: https://maxar-opendata.s3.amazonaws.com/events/Morocco-Earthquake-Sept-2023/ard/29/120202012022/2018-08-09/103001008244DA00-visual.tif\n",
      "To: /home/jupyter/DR_ML_GEOG761/BDA/103001008244DA00/120202012022.tif\n",
      "100%|██████████| 56.8M/56.8M [00:03<00:00, 14.2MB/s]\n"
     ]
    },
    {
     "name": "stdout",
     "output_type": "stream",
     "text": [
      "Downloading 012 out of 111: 103001008244DA00/120202012023.tif\n"
     ]
    },
    {
     "name": "stderr",
     "output_type": "stream",
     "text": [
      "Downloading...\n",
      "From: https://maxar-opendata.s3.amazonaws.com/events/Morocco-Earthquake-Sept-2023/ard/29/120202012023/2018-08-09/103001008244DA00-visual.tif\n",
      "To: /home/jupyter/DR_ML_GEOG761/BDA/103001008244DA00/120202012023.tif\n",
      "100%|██████████| 63.7M/63.7M [00:04<00:00, 14.5MB/s]\n"
     ]
    },
    {
     "name": "stdout",
     "output_type": "stream",
     "text": [
      "Downloading 013 out of 111: 103001008244DA00/120202012200.tif\n"
     ]
    },
    {
     "name": "stderr",
     "output_type": "stream",
     "text": [
      "Downloading...\n",
      "From: https://maxar-opendata.s3.amazonaws.com/events/Morocco-Earthquake-Sept-2023/ard/29/120202012200/2018-08-09/103001008244DA00-visual.tif\n",
      "To: /home/jupyter/DR_ML_GEOG761/BDA/103001008244DA00/120202012200.tif\n",
      "100%|██████████| 63.1M/63.1M [00:04<00:00, 14.4MB/s]\n"
     ]
    },
    {
     "name": "stdout",
     "output_type": "stream",
     "text": [
      "Downloading 014 out of 111: 103001008244DA00/120202012201.tif\n"
     ]
    },
    {
     "name": "stderr",
     "output_type": "stream",
     "text": [
      "Downloading...\n",
      "From: https://maxar-opendata.s3.amazonaws.com/events/Morocco-Earthquake-Sept-2023/ard/29/120202012201/2018-08-09/103001008244DA00-visual.tif\n",
      "To: /home/jupyter/DR_ML_GEOG761/BDA/103001008244DA00/120202012201.tif\n",
      "100%|██████████| 69.4M/69.4M [00:05<00:00, 13.4MB/s]\n"
     ]
    },
    {
     "name": "stdout",
     "output_type": "stream",
     "text": [
      "Downloading 015 out of 111: 103001008244DA00/120202003313.tif\n"
     ]
    },
    {
     "name": "stderr",
     "output_type": "stream",
     "text": [
      "Downloading...\n",
      "From: https://maxar-opendata.s3.amazonaws.com/events/Morocco-Earthquake-Sept-2023/ard/29/120202003313/2018-08-09/103001008244DA00-visual.tif\n",
      "To: /home/jupyter/DR_ML_GEOG761/BDA/103001008244DA00/120202003313.tif\n",
      "100%|██████████| 53.6M/53.6M [00:03<00:00, 14.4MB/s]\n"
     ]
    },
    {
     "name": "stdout",
     "output_type": "stream",
     "text": [
      "Downloading 016 out of 111: 103001008244DA00/120202003331.tif\n"
     ]
    },
    {
     "name": "stderr",
     "output_type": "stream",
     "text": [
      "Downloading...\n",
      "From: https://maxar-opendata.s3.amazonaws.com/events/Morocco-Earthquake-Sept-2023/ard/29/120202003331/2018-08-09/103001008244DA00-visual.tif\n",
      "To: /home/jupyter/DR_ML_GEOG761/BDA/103001008244DA00/120202003331.tif\n",
      "100%|██████████| 52.8M/52.8M [00:03<00:00, 13.5MB/s]\n"
     ]
    },
    {
     "name": "stdout",
     "output_type": "stream",
     "text": [
      "Downloading 017 out of 111: 103001008244DA00/120202012202.tif\n"
     ]
    },
    {
     "name": "stderr",
     "output_type": "stream",
     "text": [
      "Downloading...\n",
      "From: https://maxar-opendata.s3.amazonaws.com/events/Morocco-Earthquake-Sept-2023/ard/29/120202012202/2018-08-09/103001008244DA00-visual.tif\n",
      "To: /home/jupyter/DR_ML_GEOG761/BDA/103001008244DA00/120202012202.tif\n",
      "100%|██████████| 71.4M/71.4M [00:04<00:00, 15.0MB/s]\n"
     ]
    },
    {
     "name": "stdout",
     "output_type": "stream",
     "text": [
      "Downloading 018 out of 111: 103001008244DA00/120202012203.tif\n"
     ]
    },
    {
     "name": "stderr",
     "output_type": "stream",
     "text": [
      "Downloading...\n",
      "From: https://maxar-opendata.s3.amazonaws.com/events/Morocco-Earthquake-Sept-2023/ard/29/120202012203/2018-08-09/103001008244DA00-visual.tif\n",
      "To: /home/jupyter/DR_ML_GEOG761/BDA/103001008244DA00/120202012203.tif\n",
      "100%|██████████| 75.6M/75.6M [00:04<00:00, 15.6MB/s]\n"
     ]
    },
    {
     "name": "stdout",
     "output_type": "stream",
     "text": [
      "Downloading 019 out of 111: 103001008244DA00/120202012220.tif\n"
     ]
    },
    {
     "name": "stderr",
     "output_type": "stream",
     "text": [
      "Downloading...\n",
      "From: https://maxar-opendata.s3.amazonaws.com/events/Morocco-Earthquake-Sept-2023/ard/29/120202012220/2018-08-09/103001008244DA00-visual.tif\n",
      "To: /home/jupyter/DR_ML_GEOG761/BDA/103001008244DA00/120202012220.tif\n",
      "100%|██████████| 77.2M/77.2M [00:05<00:00, 15.2MB/s]\n"
     ]
    },
    {
     "name": "stdout",
     "output_type": "stream",
     "text": [
      "Downloading 020 out of 111: 103001008244DA00/120202012221.tif\n"
     ]
    },
    {
     "name": "stderr",
     "output_type": "stream",
     "text": [
      "Downloading...\n",
      "From: https://maxar-opendata.s3.amazonaws.com/events/Morocco-Earthquake-Sept-2023/ard/29/120202012221/2018-08-09/103001008244DA00-visual.tif\n",
      "To: /home/jupyter/DR_ML_GEOG761/BDA/103001008244DA00/120202012221.tif\n",
      "100%|██████████| 69.9M/69.9M [00:04<00:00, 14.7MB/s]\n"
     ]
    },
    {
     "name": "stdout",
     "output_type": "stream",
     "text": [
      "Downloading 021 out of 111: 10400100405FEB00/120202003121.tif\n"
     ]
    },
    {
     "name": "stderr",
     "output_type": "stream",
     "text": [
      "Downloading...\n",
      "From: https://maxar-opendata.s3.amazonaws.com/events/Morocco-Earthquake-Sept-2023/ard/29/120202003121/2018-08-17/10400100405FEB00-visual.tif\n",
      "To: /home/jupyter/DR_ML_GEOG761/BDA/10400100405FEB00/120202003121.tif\n",
      "100%|██████████| 9.25M/9.25M [00:01<00:00, 6.45MB/s]\n"
     ]
    },
    {
     "name": "stdout",
     "output_type": "stream",
     "text": [
      "Downloading 022 out of 111: 10400100405FEB00/120202003123.tif\n"
     ]
    },
    {
     "name": "stderr",
     "output_type": "stream",
     "text": [
      "Downloading...\n",
      "From: https://maxar-opendata.s3.amazonaws.com/events/Morocco-Earthquake-Sept-2023/ard/29/120202003123/2018-08-17/10400100405FEB00-visual.tif\n",
      "To: /home/jupyter/DR_ML_GEOG761/BDA/10400100405FEB00/120202003123.tif\n",
      "100%|██████████| 10.2M/10.2M [00:01<00:00, 7.09MB/s]\n"
     ]
    },
    {
     "name": "stdout",
     "output_type": "stream",
     "text": [
      "Downloading 023 out of 111: 10400100405FEB00/120202003130.tif\n"
     ]
    },
    {
     "name": "stderr",
     "output_type": "stream",
     "text": [
      "Downloading...\n",
      "From: https://maxar-opendata.s3.amazonaws.com/events/Morocco-Earthquake-Sept-2023/ard/29/120202003130/2018-08-17/10400100405FEB00-visual.tif\n",
      "To: /home/jupyter/DR_ML_GEOG761/BDA/10400100405FEB00/120202003130.tif\n",
      "100%|██████████| 53.1M/53.1M [00:03<00:00, 14.1MB/s]\n"
     ]
    },
    {
     "name": "stdout",
     "output_type": "stream",
     "text": [
      "Downloading 024 out of 111: 10400100405FEB00/120202003131.tif\n"
     ]
    },
    {
     "name": "stderr",
     "output_type": "stream",
     "text": [
      "Downloading...\n",
      "From: https://maxar-opendata.s3.amazonaws.com/events/Morocco-Earthquake-Sept-2023/ard/29/120202003131/2018-08-17/10400100405FEB00-visual.tif\n",
      "To: /home/jupyter/DR_ML_GEOG761/BDA/10400100405FEB00/120202003131.tif\n",
      "100%|██████████| 67.7M/67.7M [00:04<00:00, 14.9MB/s]\n"
     ]
    },
    {
     "name": "stdout",
     "output_type": "stream",
     "text": [
      "Downloading 025 out of 111: 10400100405FEB00/120202003132.tif\n"
     ]
    },
    {
     "name": "stderr",
     "output_type": "stream",
     "text": [
      "Downloading...\n",
      "From: https://maxar-opendata.s3.amazonaws.com/events/Morocco-Earthquake-Sept-2023/ard/29/120202003132/2018-08-17/10400100405FEB00-visual.tif\n",
      "To: /home/jupyter/DR_ML_GEOG761/BDA/10400100405FEB00/120202003132.tif\n",
      "100%|██████████| 65.2M/65.2M [00:04<00:00, 14.9MB/s]\n"
     ]
    },
    {
     "name": "stdout",
     "output_type": "stream",
     "text": [
      "Downloading 026 out of 111: 10400100405FEB00/120202003133.tif\n"
     ]
    },
    {
     "name": "stderr",
     "output_type": "stream",
     "text": [
      "Downloading...\n",
      "From: https://maxar-opendata.s3.amazonaws.com/events/Morocco-Earthquake-Sept-2023/ard/29/120202003133/2018-08-17/10400100405FEB00-visual.tif\n",
      "To: /home/jupyter/DR_ML_GEOG761/BDA/10400100405FEB00/120202003133.tif\n",
      "100%|██████████| 58.9M/58.9M [00:04<00:00, 14.6MB/s]\n"
     ]
    },
    {
     "name": "stdout",
     "output_type": "stream",
     "text": [
      "Downloading 027 out of 111: 10400100405FEB00/120202012020.tif\n"
     ]
    },
    {
     "name": "stderr",
     "output_type": "stream",
     "text": [
      "Downloading...\n",
      "From: https://maxar-opendata.s3.amazonaws.com/events/Morocco-Earthquake-Sept-2023/ard/29/120202012020/2018-08-17/10400100405FEB00-visual.tif\n",
      "To: /home/jupyter/DR_ML_GEOG761/BDA/10400100405FEB00/120202012020.tif\n",
      "100%|██████████| 69.6M/69.6M [00:04<00:00, 14.4MB/s]\n"
     ]
    },
    {
     "name": "stdout",
     "output_type": "stream",
     "text": [
      "Downloading 028 out of 111: 10400100405FEB00/120202012022.tif\n"
     ]
    },
    {
     "name": "stderr",
     "output_type": "stream",
     "text": [
      "Downloading...\n",
      "From: https://maxar-opendata.s3.amazonaws.com/events/Morocco-Earthquake-Sept-2023/ard/29/120202012022/2018-08-17/10400100405FEB00-visual.tif\n",
      "To: /home/jupyter/DR_ML_GEOG761/BDA/10400100405FEB00/120202012022.tif\n",
      "100%|██████████| 58.8M/58.8M [00:04<00:00, 14.4MB/s]\n"
     ]
    },
    {
     "name": "stdout",
     "output_type": "stream",
     "text": [
      "Downloading 029 out of 111: 10400100405FEB00/120202003301.tif\n"
     ]
    },
    {
     "name": "stderr",
     "output_type": "stream",
     "text": [
      "Downloading...\n",
      "From: https://maxar-opendata.s3.amazonaws.com/events/Morocco-Earthquake-Sept-2023/ard/29/120202003301/2018-08-17/10400100405FEB00-visual.tif\n",
      "To: /home/jupyter/DR_ML_GEOG761/BDA/10400100405FEB00/120202003301.tif\n",
      "100%|██████████| 12.1M/12.1M [00:01<00:00, 7.66MB/s]\n"
     ]
    },
    {
     "name": "stdout",
     "output_type": "stream",
     "text": [
      "Downloading 030 out of 111: 10400100405FEB00/120202003310.tif\n"
     ]
    },
    {
     "name": "stderr",
     "output_type": "stream",
     "text": [
      "Downloading...\n",
      "From: https://maxar-opendata.s3.amazonaws.com/events/Morocco-Earthquake-Sept-2023/ard/29/120202003310/2018-08-17/10400100405FEB00-visual.tif\n",
      "To: /home/jupyter/DR_ML_GEOG761/BDA/10400100405FEB00/120202003310.tif\n",
      "100%|██████████| 78.8M/78.8M [00:05<00:00, 15.2MB/s]\n"
     ]
    },
    {
     "name": "stdout",
     "output_type": "stream",
     "text": [
      "Downloading 031 out of 111: 10400100405FEB00/120202003311.tif\n"
     ]
    },
    {
     "name": "stderr",
     "output_type": "stream",
     "text": [
      "Downloading...\n",
      "From: https://maxar-opendata.s3.amazonaws.com/events/Morocco-Earthquake-Sept-2023/ard/29/120202003311/2018-08-17/10400100405FEB00-visual.tif\n",
      "To: /home/jupyter/DR_ML_GEOG761/BDA/10400100405FEB00/120202003311.tif\n",
      "100%|██████████| 67.8M/67.8M [00:04<00:00, 14.5MB/s]\n"
     ]
    },
    {
     "name": "stdout",
     "output_type": "stream",
     "text": [
      "Downloading 032 out of 111: 10400100405FEB00/120202012200.tif\n"
     ]
    },
    {
     "name": "stderr",
     "output_type": "stream",
     "text": [
      "Downloading...\n",
      "From: https://maxar-opendata.s3.amazonaws.com/events/Morocco-Earthquake-Sept-2023/ard/29/120202012200/2018-08-17/10400100405FEB00-visual.tif\n",
      "To: /home/jupyter/DR_ML_GEOG761/BDA/10400100405FEB00/120202012200.tif\n",
      "100%|██████████| 65.5M/65.5M [00:04<00:00, 15.0MB/s]\n"
     ]
    },
    {
     "name": "stdout",
     "output_type": "stream",
     "text": [
      "Downloading 033 out of 111: 10400100405FEB00/120202003303.tif\n"
     ]
    },
    {
     "name": "stderr",
     "output_type": "stream",
     "text": [
      "Downloading...\n",
      "From: https://maxar-opendata.s3.amazonaws.com/events/Morocco-Earthquake-Sept-2023/ard/29/120202003303/2018-08-17/10400100405FEB00-visual.tif\n",
      "To: /home/jupyter/DR_ML_GEOG761/BDA/10400100405FEB00/120202003303.tif\n",
      "100%|██████████| 15.2M/15.2M [00:01<00:00, 8.81MB/s]\n"
     ]
    },
    {
     "name": "stdout",
     "output_type": "stream",
     "text": [
      "Downloading 034 out of 111: 10400100405FEB00/120202003312.tif\n"
     ]
    },
    {
     "name": "stderr",
     "output_type": "stream",
     "text": [
      "Downloading...\n",
      "From: https://maxar-opendata.s3.amazonaws.com/events/Morocco-Earthquake-Sept-2023/ard/29/120202003312/2018-08-17/10400100405FEB00-visual.tif\n",
      "To: /home/jupyter/DR_ML_GEOG761/BDA/10400100405FEB00/120202003312.tif\n",
      "100%|██████████| 90.1M/90.1M [00:05<00:00, 15.9MB/s]\n"
     ]
    },
    {
     "name": "stdout",
     "output_type": "stream",
     "text": [
      "Downloading 035 out of 111: 10400100405FEB00/120202003313.tif\n"
     ]
    },
    {
     "name": "stderr",
     "output_type": "stream",
     "text": [
      "Downloading...\n",
      "From: https://maxar-opendata.s3.amazonaws.com/events/Morocco-Earthquake-Sept-2023/ard/29/120202003313/2018-08-17/10400100405FEB00-visual.tif\n",
      "To: /home/jupyter/DR_ML_GEOG761/BDA/10400100405FEB00/120202003313.tif\n",
      "100%|██████████| 86.9M/86.9M [00:05<00:00, 15.5MB/s]\n"
     ]
    },
    {
     "name": "stdout",
     "output_type": "stream",
     "text": [
      "Downloading 036 out of 111: 10400100405FEB00/120202012202.tif\n"
     ]
    },
    {
     "name": "stderr",
     "output_type": "stream",
     "text": [
      "Downloading...\n",
      "From: https://maxar-opendata.s3.amazonaws.com/events/Morocco-Earthquake-Sept-2023/ard/29/120202012202/2018-08-17/10400100405FEB00-visual.tif\n",
      "To: /home/jupyter/DR_ML_GEOG761/BDA/10400100405FEB00/120202012202.tif\n",
      "100%|██████████| 73.8M/73.8M [00:04<00:00, 15.3MB/s]\n"
     ]
    },
    {
     "name": "stdout",
     "output_type": "stream",
     "text": [
      "Downloading 037 out of 111: 10400100405FEB00/120202003321.tif\n"
     ]
    },
    {
     "name": "stderr",
     "output_type": "stream",
     "text": [
      "Downloading...\n",
      "From: https://maxar-opendata.s3.amazonaws.com/events/Morocco-Earthquake-Sept-2023/ard/29/120202003321/2018-08-17/10400100405FEB00-visual.tif\n",
      "To: /home/jupyter/DR_ML_GEOG761/BDA/10400100405FEB00/120202003321.tif\n",
      "100%|██████████| 18.3M/18.3M [00:01<00:00, 9.60MB/s]\n"
     ]
    },
    {
     "name": "stdout",
     "output_type": "stream",
     "text": [
      "Downloading 038 out of 111: 10400100405FEB00/120202003330.tif\n"
     ]
    },
    {
     "name": "stderr",
     "output_type": "stream",
     "text": [
      "Downloading...\n",
      "From: https://maxar-opendata.s3.amazonaws.com/events/Morocco-Earthquake-Sept-2023/ard/29/120202003330/2018-08-17/10400100405FEB00-visual.tif\n",
      "To: /home/jupyter/DR_ML_GEOG761/BDA/10400100405FEB00/120202003330.tif\n",
      "100%|██████████| 98.3M/98.3M [00:06<00:00, 14.9MB/s]\n"
     ]
    },
    {
     "name": "stdout",
     "output_type": "stream",
     "text": [
      "Downloading 039 out of 111: 10400100405FEB00/120202003331.tif\n"
     ]
    },
    {
     "name": "stderr",
     "output_type": "stream",
     "text": [
      "Downloading...\n",
      "From: https://maxar-opendata.s3.amazonaws.com/events/Morocco-Earthquake-Sept-2023/ard/29/120202003331/2018-08-17/10400100405FEB00-visual.tif\n",
      "To: /home/jupyter/DR_ML_GEOG761/BDA/10400100405FEB00/120202003331.tif\n",
      "100%|██████████| 92.6M/92.6M [00:05<00:00, 15.8MB/s]\n"
     ]
    },
    {
     "name": "stdout",
     "output_type": "stream",
     "text": [
      "Downloading 040 out of 111: 10400100405FEB00/120202012220.tif\n"
     ]
    },
    {
     "name": "stderr",
     "output_type": "stream",
     "text": [
      "Downloading...\n",
      "From: https://maxar-opendata.s3.amazonaws.com/events/Morocco-Earthquake-Sept-2023/ard/29/120202012220/2018-08-17/10400100405FEB00-visual.tif\n",
      "To: /home/jupyter/DR_ML_GEOG761/BDA/10400100405FEB00/120202012220.tif\n",
      "100%|██████████| 78.9M/78.9M [00:05<00:00, 15.5MB/s]\n"
     ]
    },
    {
     "name": "stdout",
     "output_type": "stream",
     "text": [
      "Downloading 041 out of 111: 1040010045AE4B00/120202003120.tif\n"
     ]
    },
    {
     "name": "stderr",
     "output_type": "stream",
     "text": [
      "Downloading...\n",
      "From: https://maxar-opendata.s3.amazonaws.com/events/Morocco-Earthquake-Sept-2023/ard/29/120202003120/2018-12-19/1040010045AE4B00-visual.tif\n",
      "To: /home/jupyter/DR_ML_GEOG761/BDA/1040010045AE4B00/120202003120.tif\n",
      "100%|██████████| 63.1M/63.1M [00:04<00:00, 14.5MB/s]\n"
     ]
    },
    {
     "name": "stdout",
     "output_type": "stream",
     "text": [
      "Downloading 042 out of 111: 1040010045AE4B00/120202003121.tif\n"
     ]
    },
    {
     "name": "stderr",
     "output_type": "stream",
     "text": [
      "Downloading...\n",
      "From: https://maxar-opendata.s3.amazonaws.com/events/Morocco-Earthquake-Sept-2023/ard/29/120202003121/2018-12-19/1040010045AE4B00-visual.tif\n",
      "To: /home/jupyter/DR_ML_GEOG761/BDA/1040010045AE4B00/120202003121.tif\n",
      "100%|██████████| 70.5M/70.5M [00:05<00:00, 13.6MB/s]\n"
     ]
    },
    {
     "name": "stdout",
     "output_type": "stream",
     "text": [
      "Downloading 043 out of 111: 1040010045AE4B00/120202003130.tif\n"
     ]
    },
    {
     "name": "stderr",
     "output_type": "stream",
     "text": [
      "Downloading...\n",
      "From: https://maxar-opendata.s3.amazonaws.com/events/Morocco-Earthquake-Sept-2023/ard/29/120202003130/2018-12-19/1040010045AE4B00-visual.tif\n",
      "To: /home/jupyter/DR_ML_GEOG761/BDA/1040010045AE4B00/120202003130.tif\n",
      "100%|██████████| 60.3M/60.3M [00:04<00:00, 14.7MB/s]\n"
     ]
    },
    {
     "name": "stdout",
     "output_type": "stream",
     "text": [
      "Downloading 044 out of 111: 1040010045AE4B00/120202003131.tif\n"
     ]
    },
    {
     "name": "stderr",
     "output_type": "stream",
     "text": [
      "Downloading...\n",
      "From: https://maxar-opendata.s3.amazonaws.com/events/Morocco-Earthquake-Sept-2023/ard/29/120202003131/2018-12-19/1040010045AE4B00-visual.tif\n",
      "To: /home/jupyter/DR_ML_GEOG761/BDA/1040010045AE4B00/120202003131.tif\n",
      "100%|██████████| 46.4M/46.4M [00:03<00:00, 14.1MB/s]\n"
     ]
    },
    {
     "name": "stdout",
     "output_type": "stream",
     "text": [
      "Downloading 045 out of 111: 1040010045AE4B00/120202003122.tif\n"
     ]
    },
    {
     "name": "stderr",
     "output_type": "stream",
     "text": [
      "Downloading...\n",
      "From: https://maxar-opendata.s3.amazonaws.com/events/Morocco-Earthquake-Sept-2023/ard/29/120202003122/2018-12-19/1040010045AE4B00-visual.tif\n",
      "To: /home/jupyter/DR_ML_GEOG761/BDA/1040010045AE4B00/120202003122.tif\n",
      "100%|██████████| 54.4M/54.4M [00:03<00:00, 14.4MB/s]\n"
     ]
    },
    {
     "name": "stdout",
     "output_type": "stream",
     "text": [
      "Downloading 046 out of 111: 1040010045AE4B00/120202003123.tif\n"
     ]
    },
    {
     "name": "stderr",
     "output_type": "stream",
     "text": [
      "Downloading...\n",
      "From: https://maxar-opendata.s3.amazonaws.com/events/Morocco-Earthquake-Sept-2023/ard/29/120202003123/2018-12-19/1040010045AE4B00-visual.tif\n",
      "To: /home/jupyter/DR_ML_GEOG761/BDA/1040010045AE4B00/120202003123.tif\n",
      "100%|██████████| 63.2M/63.2M [00:04<00:00, 13.5MB/s]\n"
     ]
    },
    {
     "name": "stdout",
     "output_type": "stream",
     "text": [
      "Downloading 047 out of 111: 1040010045AE4B00/120202003132.tif\n"
     ]
    },
    {
     "name": "stderr",
     "output_type": "stream",
     "text": [
      "Downloading...\n",
      "From: https://maxar-opendata.s3.amazonaws.com/events/Morocco-Earthquake-Sept-2023/ard/29/120202003132/2018-12-19/1040010045AE4B00-visual.tif\n",
      "To: /home/jupyter/DR_ML_GEOG761/BDA/1040010045AE4B00/120202003132.tif\n",
      "100%|██████████| 67.0M/67.0M [00:04<00:00, 15.1MB/s]\n"
     ]
    },
    {
     "name": "stdout",
     "output_type": "stream",
     "text": [
      "Downloading 048 out of 111: 1040010045AE4B00/120202003133.tif\n"
     ]
    },
    {
     "name": "stderr",
     "output_type": "stream",
     "text": [
      "Downloading...\n",
      "From: https://maxar-opendata.s3.amazonaws.com/events/Morocco-Earthquake-Sept-2023/ard/29/120202003133/2018-12-19/1040010045AE4B00-visual.tif\n",
      "To: /home/jupyter/DR_ML_GEOG761/BDA/1040010045AE4B00/120202003133.tif\n",
      "100%|██████████| 42.2M/42.2M [00:03<00:00, 13.1MB/s]\n"
     ]
    },
    {
     "name": "stdout",
     "output_type": "stream",
     "text": [
      "Downloading 049 out of 111: 1040010045AE4B00/120202003300.tif\n"
     ]
    },
    {
     "name": "stderr",
     "output_type": "stream",
     "text": [
      "Downloading...\n",
      "From: https://maxar-opendata.s3.amazonaws.com/events/Morocco-Earthquake-Sept-2023/ard/29/120202003300/2018-12-19/1040010045AE4B00-visual.tif\n",
      "To: /home/jupyter/DR_ML_GEOG761/BDA/1040010045AE4B00/120202003300.tif\n",
      "100%|██████████| 59.7M/59.7M [00:04<00:00, 14.5MB/s]\n"
     ]
    },
    {
     "name": "stdout",
     "output_type": "stream",
     "text": [
      "Downloading 050 out of 111: 1040010045AE4B00/120202003301.tif\n"
     ]
    },
    {
     "name": "stderr",
     "output_type": "stream",
     "text": [
      "Downloading...\n",
      "From: https://maxar-opendata.s3.amazonaws.com/events/Morocco-Earthquake-Sept-2023/ard/29/120202003301/2018-12-19/1040010045AE4B00-visual.tif\n",
      "To: /home/jupyter/DR_ML_GEOG761/BDA/1040010045AE4B00/120202003301.tif\n",
      "100%|██████████| 72.5M/72.5M [00:04<00:00, 15.4MB/s]\n"
     ]
    },
    {
     "name": "stdout",
     "output_type": "stream",
     "text": [
      "Downloading 051 out of 111: 1040010045AE4B00/120202003310.tif\n"
     ]
    },
    {
     "name": "stderr",
     "output_type": "stream",
     "text": [
      "Downloading...\n",
      "From: https://maxar-opendata.s3.amazonaws.com/events/Morocco-Earthquake-Sept-2023/ard/29/120202003310/2018-12-19/1040010045AE4B00-visual.tif\n",
      "To: /home/jupyter/DR_ML_GEOG761/BDA/1040010045AE4B00/120202003310.tif\n",
      "100%|██████████| 73.7M/73.7M [00:04<00:00, 15.1MB/s]\n"
     ]
    },
    {
     "name": "stdout",
     "output_type": "stream",
     "text": [
      "Downloading 052 out of 111: 1040010045AE4B00/120202003311.tif\n"
     ]
    },
    {
     "name": "stderr",
     "output_type": "stream",
     "text": [
      "Downloading...\n",
      "From: https://maxar-opendata.s3.amazonaws.com/events/Morocco-Earthquake-Sept-2023/ard/29/120202003311/2018-12-19/1040010045AE4B00-visual.tif\n",
      "To: /home/jupyter/DR_ML_GEOG761/BDA/1040010045AE4B00/120202003311.tif\n",
      "100%|██████████| 46.4M/46.4M [00:03<00:00, 13.4MB/s]\n"
     ]
    },
    {
     "name": "stdout",
     "output_type": "stream",
     "text": [
      "Downloading 053 out of 111: 1040010045AE4B00/120202003302.tif\n"
     ]
    },
    {
     "name": "stderr",
     "output_type": "stream",
     "text": [
      "Downloading...\n",
      "From: https://maxar-opendata.s3.amazonaws.com/events/Morocco-Earthquake-Sept-2023/ard/29/120202003302/2018-12-19/1040010045AE4B00-visual.tif\n",
      "To: /home/jupyter/DR_ML_GEOG761/BDA/1040010045AE4B00/120202003302.tif\n",
      "100%|██████████| 64.1M/64.1M [00:04<00:00, 15.2MB/s]\n"
     ]
    },
    {
     "name": "stdout",
     "output_type": "stream",
     "text": [
      "Downloading 054 out of 111: 1040010045AE4B00/120202003303.tif\n"
     ]
    },
    {
     "name": "stderr",
     "output_type": "stream",
     "text": [
      "Downloading...\n",
      "From: https://maxar-opendata.s3.amazonaws.com/events/Morocco-Earthquake-Sept-2023/ard/29/120202003303/2018-12-19/1040010045AE4B00-visual.tif\n",
      "To: /home/jupyter/DR_ML_GEOG761/BDA/1040010045AE4B00/120202003303.tif\n",
      "100%|██████████| 89.2M/89.2M [00:05<00:00, 15.5MB/s]\n"
     ]
    },
    {
     "name": "stdout",
     "output_type": "stream",
     "text": [
      "Downloading 055 out of 111: 1040010045AE4B00/120202003312.tif\n"
     ]
    },
    {
     "name": "stderr",
     "output_type": "stream",
     "text": [
      "Downloading...\n",
      "From: https://maxar-opendata.s3.amazonaws.com/events/Morocco-Earthquake-Sept-2023/ard/29/120202003312/2018-12-19/1040010045AE4B00-visual.tif\n",
      "To: /home/jupyter/DR_ML_GEOG761/BDA/1040010045AE4B00/120202003312.tif\n",
      "100%|██████████| 89.1M/89.1M [00:06<00:00, 14.3MB/s]\n"
     ]
    },
    {
     "name": "stdout",
     "output_type": "stream",
     "text": [
      "Downloading 056 out of 111: 1040010045AE4B00/120202003313.tif\n"
     ]
    },
    {
     "name": "stderr",
     "output_type": "stream",
     "text": [
      "Downloading...\n",
      "From: https://maxar-opendata.s3.amazonaws.com/events/Morocco-Earthquake-Sept-2023/ard/29/120202003313/2018-12-19/1040010045AE4B00-visual.tif\n",
      "To: /home/jupyter/DR_ML_GEOG761/BDA/1040010045AE4B00/120202003313.tif\n",
      "100%|██████████| 57.0M/57.0M [00:03<00:00, 14.4MB/s]\n"
     ]
    },
    {
     "name": "stdout",
     "output_type": "stream",
     "text": [
      "Downloading 057 out of 111: 1040010045AE4B00/120202003320.tif\n"
     ]
    },
    {
     "name": "stderr",
     "output_type": "stream",
     "text": [
      "Downloading...\n",
      "From: https://maxar-opendata.s3.amazonaws.com/events/Morocco-Earthquake-Sept-2023/ard/29/120202003320/2018-12-19/1040010045AE4B00-visual.tif\n",
      "To: /home/jupyter/DR_ML_GEOG761/BDA/1040010045AE4B00/120202003320.tif\n",
      "100%|██████████| 74.1M/74.1M [00:05<00:00, 14.8MB/s]\n"
     ]
    },
    {
     "name": "stdout",
     "output_type": "stream",
     "text": [
      "Downloading 058 out of 111: 1040010045AE4B00/120202003321.tif\n"
     ]
    },
    {
     "name": "stderr",
     "output_type": "stream",
     "text": [
      "Downloading...\n",
      "From: https://maxar-opendata.s3.amazonaws.com/events/Morocco-Earthquake-Sept-2023/ard/29/120202003321/2018-12-19/1040010045AE4B00-visual.tif\n",
      "To: /home/jupyter/DR_ML_GEOG761/BDA/1040010045AE4B00/120202003321.tif\n",
      "100%|██████████| 103M/103M [00:06<00:00, 16.1MB/s] \n"
     ]
    },
    {
     "name": "stdout",
     "output_type": "stream",
     "text": [
      "Downloading 059 out of 111: 1040010045AE4B00/120202003330.tif\n"
     ]
    },
    {
     "name": "stderr",
     "output_type": "stream",
     "text": [
      "Downloading...\n",
      "From: https://maxar-opendata.s3.amazonaws.com/events/Morocco-Earthquake-Sept-2023/ard/29/120202003330/2018-12-19/1040010045AE4B00-visual.tif\n",
      "To: /home/jupyter/DR_ML_GEOG761/BDA/1040010045AE4B00/120202003330.tif\n",
      "100%|██████████| 94.7M/94.7M [00:07<00:00, 13.1MB/s]\n"
     ]
    },
    {
     "name": "stdout",
     "output_type": "stream",
     "text": [
      "Downloading 060 out of 111: 1040010045AE4B00/120202003331.tif\n"
     ]
    },
    {
     "name": "stderr",
     "output_type": "stream",
     "text": [
      "Downloading...\n",
      "From: https://maxar-opendata.s3.amazonaws.com/events/Morocco-Earthquake-Sept-2023/ard/29/120202003331/2018-12-19/1040010045AE4B00-visual.tif\n",
      "To: /home/jupyter/DR_ML_GEOG761/BDA/1040010045AE4B00/120202003331.tif\n",
      "100%|██████████| 67.5M/67.5M [00:04<00:00, 15.3MB/s]\n"
     ]
    },
    {
     "name": "stdout",
     "output_type": "stream",
     "text": [
      "Downloading 061 out of 111: 1040050039DC5C00/120202003131.tif\n"
     ]
    },
    {
     "name": "stderr",
     "output_type": "stream",
     "text": [
      "Downloading...\n",
      "From: https://maxar-opendata.s3.amazonaws.com/events/Morocco-Earthquake-Sept-2023/ard/29/120202003131/2021-10-07/1040050039DC5C00-visual.tif\n",
      "To: /home/jupyter/DR_ML_GEOG761/BDA/1040050039DC5C00/120202003131.tif\n",
      "100%|██████████| 31.4M/31.4M [00:02<00:00, 11.9MB/s]\n"
     ]
    },
    {
     "name": "stdout",
     "output_type": "stream",
     "text": [
      "Downloading 062 out of 111: 1040050039DC5C00/120202003133.tif\n"
     ]
    },
    {
     "name": "stderr",
     "output_type": "stream",
     "text": [
      "Downloading...\n",
      "From: https://maxar-opendata.s3.amazonaws.com/events/Morocco-Earthquake-Sept-2023/ard/29/120202003133/2021-10-07/1040050039DC5C00-visual.tif\n",
      "To: /home/jupyter/DR_ML_GEOG761/BDA/1040050039DC5C00/120202003133.tif\n",
      "100%|██████████| 4.23M/4.23M [00:01<00:00, 3.85MB/s]\n"
     ]
    },
    {
     "name": "stdout",
     "output_type": "stream",
     "text": [
      "Downloading 063 out of 111: 1040050039DC5C00/120202012020.tif\n"
     ]
    },
    {
     "name": "stderr",
     "output_type": "stream",
     "text": [
      "Downloading...\n",
      "From: https://maxar-opendata.s3.amazonaws.com/events/Morocco-Earthquake-Sept-2023/ard/29/120202012020/2021-10-07/1040050039DC5C00-visual.tif\n",
      "To: /home/jupyter/DR_ML_GEOG761/BDA/1040050039DC5C00/120202012020.tif\n",
      "100%|██████████| 76.0M/76.0M [00:04<00:00, 15.5MB/s]\n"
     ]
    },
    {
     "name": "stdout",
     "output_type": "stream",
     "text": [
      "Downloading 064 out of 111: 1040050039DC5C00/120202012021.tif\n"
     ]
    },
    {
     "name": "stderr",
     "output_type": "stream",
     "text": [
      "Downloading...\n",
      "From: https://maxar-opendata.s3.amazonaws.com/events/Morocco-Earthquake-Sept-2023/ard/29/120202012021/2021-10-07/1040050039DC5C00-visual.tif\n",
      "To: /home/jupyter/DR_ML_GEOG761/BDA/1040050039DC5C00/120202012021.tif\n",
      "100%|██████████| 61.6M/61.6M [00:04<00:00, 13.6MB/s]\n"
     ]
    },
    {
     "name": "stdout",
     "output_type": "stream",
     "text": [
      "Downloading 065 out of 111: 1040050039DC5C00/120202012022.tif\n"
     ]
    },
    {
     "name": "stderr",
     "output_type": "stream",
     "text": [
      "Downloading...\n",
      "From: https://maxar-opendata.s3.amazonaws.com/events/Morocco-Earthquake-Sept-2023/ard/29/120202012022/2021-10-07/1040050039DC5C00-visual.tif\n",
      "To: /home/jupyter/DR_ML_GEOG761/BDA/1040050039DC5C00/120202012022.tif\n",
      "100%|██████████| 15.5M/15.5M [00:01<00:00, 8.99MB/s]\n"
     ]
    },
    {
     "name": "stdout",
     "output_type": "stream",
     "text": [
      "Downloading 066 out of 111: 1040050039DC5C00/120202012023.tif\n"
     ]
    },
    {
     "name": "stderr",
     "output_type": "stream",
     "text": [
      "Downloading...\n",
      "From: https://maxar-opendata.s3.amazonaws.com/events/Morocco-Earthquake-Sept-2023/ard/29/120202012023/2021-10-07/1040050039DC5C00-visual.tif\n",
      "To: /home/jupyter/DR_ML_GEOG761/BDA/1040050039DC5C00/120202012023.tif\n",
      "100%|██████████| 26.8M/26.8M [00:02<00:00, 11.2MB/s]\n"
     ]
    },
    {
     "name": "stdout",
     "output_type": "stream",
     "text": [
      "Downloading 067 out of 111: 10300100CBAF7D00/120202003120.tif\n"
     ]
    },
    {
     "name": "stderr",
     "output_type": "stream",
     "text": [
      "Downloading...\n",
      "From: https://maxar-opendata.s3.amazonaws.com/events/Morocco-Earthquake-Sept-2023/ard/29/120202003120/2022-01-01/10300100CBAF7D00-visual.tif\n",
      "To: /home/jupyter/DR_ML_GEOG761/BDA/10300100CBAF7D00/120202003120.tif\n",
      "100%|██████████| 62.0M/62.0M [00:04<00:00, 14.6MB/s]\n"
     ]
    },
    {
     "name": "stdout",
     "output_type": "stream",
     "text": [
      "Downloading 068 out of 111: 10300100CBAF7D00/120202003121.tif\n"
     ]
    },
    {
     "name": "stderr",
     "output_type": "stream",
     "text": [
      "Downloading...\n",
      "From: https://maxar-opendata.s3.amazonaws.com/events/Morocco-Earthquake-Sept-2023/ard/29/120202003121/2022-01-01/10300100CBAF7D00-visual.tif\n",
      "To: /home/jupyter/DR_ML_GEOG761/BDA/10300100CBAF7D00/120202003121.tif\n",
      "100%|██████████| 58.3M/58.3M [00:03<00:00, 15.0MB/s]\n"
     ]
    },
    {
     "name": "stdout",
     "output_type": "stream",
     "text": [
      "Downloading 069 out of 111: 10300100CBAF7D00/120202003130.tif\n"
     ]
    },
    {
     "name": "stderr",
     "output_type": "stream",
     "text": [
      "Downloading...\n",
      "From: https://maxar-opendata.s3.amazonaws.com/events/Morocco-Earthquake-Sept-2023/ard/29/120202003130/2022-01-01/10300100CBAF7D00-visual.tif\n",
      "To: /home/jupyter/DR_ML_GEOG761/BDA/10300100CBAF7D00/120202003130.tif\n",
      "100%|██████████| 4.77M/4.77M [00:01<00:00, 4.26MB/s]\n"
     ]
    },
    {
     "name": "stdout",
     "output_type": "stream",
     "text": [
      "Downloading 070 out of 111: 10300100CBAF7D00/120202003122.tif\n"
     ]
    },
    {
     "name": "stderr",
     "output_type": "stream",
     "text": [
      "Downloading...\n",
      "From: https://maxar-opendata.s3.amazonaws.com/events/Morocco-Earthquake-Sept-2023/ard/29/120202003122/2022-01-01/10300100CBAF7D00-visual.tif\n",
      "To: /home/jupyter/DR_ML_GEOG761/BDA/10300100CBAF7D00/120202003122.tif\n",
      "100%|██████████| 57.5M/57.5M [00:04<00:00, 13.9MB/s]\n"
     ]
    },
    {
     "name": "stdout",
     "output_type": "stream",
     "text": [
      "Downloading 071 out of 111: 10300100CBAF7D00/120202003123.tif\n"
     ]
    },
    {
     "name": "stderr",
     "output_type": "stream",
     "text": [
      "Downloading...\n",
      "From: https://maxar-opendata.s3.amazonaws.com/events/Morocco-Earthquake-Sept-2023/ard/29/120202003123/2022-01-01/10300100CBAF7D00-visual.tif\n",
      "To: /home/jupyter/DR_ML_GEOG761/BDA/10300100CBAF7D00/120202003123.tif\n",
      "100%|██████████| 55.9M/55.9M [00:03<00:00, 14.1MB/s]\n"
     ]
    },
    {
     "name": "stdout",
     "output_type": "stream",
     "text": [
      "Downloading 072 out of 111: 10300100CBAF7D00/120202003132.tif\n"
     ]
    },
    {
     "name": "stderr",
     "output_type": "stream",
     "text": [
      "Downloading...\n",
      "From: https://maxar-opendata.s3.amazonaws.com/events/Morocco-Earthquake-Sept-2023/ard/29/120202003132/2022-01-01/10300100CBAF7D00-visual.tif\n",
      "To: /home/jupyter/DR_ML_GEOG761/BDA/10300100CBAF7D00/120202003132.tif\n",
      "100%|██████████| 5.49M/5.49M [00:01<00:00, 4.38MB/s]\n"
     ]
    },
    {
     "name": "stdout",
     "output_type": "stream",
     "text": [
      "Downloading 073 out of 111: 10300100CBAF7D00/120202003300.tif\n"
     ]
    },
    {
     "name": "stderr",
     "output_type": "stream",
     "text": [
      "Downloading...\n",
      "From: https://maxar-opendata.s3.amazonaws.com/events/Morocco-Earthquake-Sept-2023/ard/29/120202003300/2022-01-01/10300100CBAF7D00-visual.tif\n",
      "To: /home/jupyter/DR_ML_GEOG761/BDA/10300100CBAF7D00/120202003300.tif\n",
      "100%|██████████| 70.7M/70.7M [00:04<00:00, 15.5MB/s]\n"
     ]
    },
    {
     "name": "stdout",
     "output_type": "stream",
     "text": [
      "Downloading 074 out of 111: 10300100CBAF7D00/120202003301.tif\n"
     ]
    },
    {
     "name": "stderr",
     "output_type": "stream",
     "text": [
      "Downloading...\n",
      "From: https://maxar-opendata.s3.amazonaws.com/events/Morocco-Earthquake-Sept-2023/ard/29/120202003301/2022-01-01/10300100CBAF7D00-visual.tif\n",
      "To: /home/jupyter/DR_ML_GEOG761/BDA/10300100CBAF7D00/120202003301.tif\n",
      "100%|██████████| 68.0M/68.0M [00:04<00:00, 14.9MB/s]\n"
     ]
    },
    {
     "name": "stdout",
     "output_type": "stream",
     "text": [
      "Downloading 075 out of 111: 10300100CBAF7D00/120202003310.tif\n"
     ]
    },
    {
     "name": "stderr",
     "output_type": "stream",
     "text": [
      "Downloading...\n",
      "From: https://maxar-opendata.s3.amazonaws.com/events/Morocco-Earthquake-Sept-2023/ard/29/120202003310/2022-01-01/10300100CBAF7D00-visual.tif\n",
      "To: /home/jupyter/DR_ML_GEOG761/BDA/10300100CBAF7D00/120202003310.tif\n",
      "100%|██████████| 6.43M/6.43M [00:01<00:00, 5.15MB/s]\n"
     ]
    },
    {
     "name": "stdout",
     "output_type": "stream",
     "text": [
      "Downloading 076 out of 111: 10300100CBAF7D00/120202003302.tif\n"
     ]
    },
    {
     "name": "stderr",
     "output_type": "stream",
     "text": [
      "Downloading...\n",
      "From: https://maxar-opendata.s3.amazonaws.com/events/Morocco-Earthquake-Sept-2023/ard/29/120202003302/2022-01-01/10300100CBAF7D00-visual.tif\n",
      "To: /home/jupyter/DR_ML_GEOG761/BDA/10300100CBAF7D00/120202003302.tif\n",
      "100%|██████████| 85.4M/85.4M [00:05<00:00, 15.6MB/s]\n"
     ]
    },
    {
     "name": "stdout",
     "output_type": "stream",
     "text": [
      "Downloading 077 out of 111: 10300100CBAF7D00/120202003303.tif\n"
     ]
    },
    {
     "name": "stderr",
     "output_type": "stream",
     "text": [
      "Downloading...\n",
      "From: https://maxar-opendata.s3.amazonaws.com/events/Morocco-Earthquake-Sept-2023/ard/29/120202003303/2022-01-01/10300100CBAF7D00-visual.tif\n",
      "To: /home/jupyter/DR_ML_GEOG761/BDA/10300100CBAF7D00/120202003303.tif\n",
      "100%|██████████| 83.4M/83.4M [00:05<00:00, 15.4MB/s]\n"
     ]
    },
    {
     "name": "stdout",
     "output_type": "stream",
     "text": [
      "Downloading 078 out of 111: 10300100CBAF7D00/120202003312.tif\n"
     ]
    },
    {
     "name": "stderr",
     "output_type": "stream",
     "text": [
      "Downloading...\n",
      "From: https://maxar-opendata.s3.amazonaws.com/events/Morocco-Earthquake-Sept-2023/ard/29/120202003312/2022-01-01/10300100CBAF7D00-visual.tif\n",
      "To: /home/jupyter/DR_ML_GEOG761/BDA/10300100CBAF7D00/120202003312.tif\n",
      "100%|██████████| 6.80M/6.80M [00:01<00:00, 5.41MB/s]\n"
     ]
    },
    {
     "name": "stdout",
     "output_type": "stream",
     "text": [
      "Downloading 079 out of 111: 10300100CBAF7D00/120202003320.tif\n"
     ]
    },
    {
     "name": "stderr",
     "output_type": "stream",
     "text": [
      "Downloading...\n",
      "From: https://maxar-opendata.s3.amazonaws.com/events/Morocco-Earthquake-Sept-2023/ard/29/120202003320/2022-01-01/10300100CBAF7D00-visual.tif\n",
      "To: /home/jupyter/DR_ML_GEOG761/BDA/10300100CBAF7D00/120202003320.tif\n",
      "100%|██████████| 91.1M/91.1M [00:05<00:00, 15.9MB/s]\n"
     ]
    },
    {
     "name": "stdout",
     "output_type": "stream",
     "text": [
      "Downloading 080 out of 111: 10300100CBAF7D00/120202003321.tif\n"
     ]
    },
    {
     "name": "stderr",
     "output_type": "stream",
     "text": [
      "Downloading...\n",
      "From: https://maxar-opendata.s3.amazonaws.com/events/Morocco-Earthquake-Sept-2023/ard/29/120202003321/2022-01-01/10300100CBAF7D00-visual.tif\n",
      "To: /home/jupyter/DR_ML_GEOG761/BDA/10300100CBAF7D00/120202003321.tif\n",
      "100%|██████████| 91.7M/91.7M [00:06<00:00, 14.9MB/s]\n"
     ]
    },
    {
     "name": "stdout",
     "output_type": "stream",
     "text": [
      "Downloading 081 out of 111: 10300100CBAF7D00/120202003330.tif\n"
     ]
    },
    {
     "name": "stderr",
     "output_type": "stream",
     "text": [
      "Downloading...\n",
      "From: https://maxar-opendata.s3.amazonaws.com/events/Morocco-Earthquake-Sept-2023/ard/29/120202003330/2022-01-01/10300100CBAF7D00-visual.tif\n",
      "To: /home/jupyter/DR_ML_GEOG761/BDA/10300100CBAF7D00/120202003330.tif\n",
      "100%|██████████| 7.59M/7.59M [00:01<00:00, 6.03MB/s]\n"
     ]
    },
    {
     "name": "stdout",
     "output_type": "stream",
     "text": [
      "Downloading 082 out of 111: 10400100797DAC00/120202003120.tif\n"
     ]
    },
    {
     "name": "stderr",
     "output_type": "stream",
     "text": [
      "Downloading...\n",
      "From: https://maxar-opendata.s3.amazonaws.com/events/Morocco-Earthquake-Sept-2023/ard/29/120202003120/2022-05-12/10400100797DAC00-visual.tif\n",
      "To: /home/jupyter/DR_ML_GEOG761/BDA/10400100797DAC00/120202003120.tif\n",
      "100%|██████████| 63.3M/63.3M [00:04<00:00, 14.9MB/s]\n"
     ]
    },
    {
     "name": "stdout",
     "output_type": "stream",
     "text": [
      "Downloading 083 out of 111: 10400100797DAC00/120202003121.tif\n"
     ]
    },
    {
     "name": "stderr",
     "output_type": "stream",
     "text": [
      "Downloading...\n",
      "From: https://maxar-opendata.s3.amazonaws.com/events/Morocco-Earthquake-Sept-2023/ard/29/120202003121/2022-05-12/10400100797DAC00-visual.tif\n",
      "To: /home/jupyter/DR_ML_GEOG761/BDA/10400100797DAC00/120202003121.tif\n",
      "100%|██████████| 64.7M/64.7M [00:04<00:00, 14.5MB/s]\n"
     ]
    },
    {
     "name": "stdout",
     "output_type": "stream",
     "text": [
      "Downloading 084 out of 111: 10400100797DAC00/120202003123.tif\n"
     ]
    },
    {
     "name": "stderr",
     "output_type": "stream",
     "text": [
      "Downloading...\n",
      "From: https://maxar-opendata.s3.amazonaws.com/events/Morocco-Earthquake-Sept-2023/ard/29/120202003123/2022-05-12/10400100797DAC00-visual.tif\n",
      "To: /home/jupyter/DR_ML_GEOG761/BDA/10400100797DAC00/120202003123.tif\n",
      "100%|██████████| 64.2M/64.2M [00:04<00:00, 14.7MB/s]\n"
     ]
    },
    {
     "name": "stdout",
     "output_type": "stream",
     "text": [
      "Downloading 085 out of 111: 10400100797DAC00/120202003130.tif\n"
     ]
    },
    {
     "name": "stderr",
     "output_type": "stream",
     "text": [
      "Downloading...\n",
      "From: https://maxar-opendata.s3.amazonaws.com/events/Morocco-Earthquake-Sept-2023/ard/29/120202003130/2022-05-12/10400100797DAC00-visual.tif\n",
      "To: /home/jupyter/DR_ML_GEOG761/BDA/10400100797DAC00/120202003130.tif\n",
      "100%|██████████| 54.1M/54.1M [00:03<00:00, 14.4MB/s]\n"
     ]
    },
    {
     "name": "stdout",
     "output_type": "stream",
     "text": [
      "Downloading 086 out of 111: 10400100797DAC00/120202003132.tif\n"
     ]
    },
    {
     "name": "stderr",
     "output_type": "stream",
     "text": [
      "Downloading...\n",
      "From: https://maxar-opendata.s3.amazonaws.com/events/Morocco-Earthquake-Sept-2023/ard/29/120202003132/2022-05-12/10400100797DAC00-visual.tif\n",
      "To: /home/jupyter/DR_ML_GEOG761/BDA/10400100797DAC00/120202003132.tif\n",
      "100%|██████████| 63.5M/63.5M [00:04<00:00, 14.8MB/s]\n"
     ]
    },
    {
     "name": "stdout",
     "output_type": "stream",
     "text": [
      "Downloading 087 out of 111: 10400100797DAC00/120202003122.tif\n"
     ]
    },
    {
     "name": "stderr",
     "output_type": "stream",
     "text": [
      "Downloading...\n",
      "From: https://maxar-opendata.s3.amazonaws.com/events/Morocco-Earthquake-Sept-2023/ard/29/120202003122/2022-05-12/10400100797DAC00-visual.tif\n",
      "To: /home/jupyter/DR_ML_GEOG761/BDA/10400100797DAC00/120202003122.tif\n",
      "100%|██████████| 60.4M/60.4M [00:04<00:00, 14.8MB/s]\n"
     ]
    },
    {
     "name": "stdout",
     "output_type": "stream",
     "text": [
      "Downloading 088 out of 111: 10400100797DAC00/120202003300.tif\n"
     ]
    },
    {
     "name": "stderr",
     "output_type": "stream",
     "text": [
      "Downloading...\n",
      "From: https://maxar-opendata.s3.amazonaws.com/events/Morocco-Earthquake-Sept-2023/ard/29/120202003300/2022-05-12/10400100797DAC00-visual.tif\n",
      "To: /home/jupyter/DR_ML_GEOG761/BDA/10400100797DAC00/120202003300.tif\n",
      "100%|██████████| 73.6M/73.6M [00:04<00:00, 14.9MB/s]\n"
     ]
    },
    {
     "name": "stdout",
     "output_type": "stream",
     "text": [
      "Downloading 089 out of 111: 10400100797DAC00/120202003301.tif\n"
     ]
    },
    {
     "name": "stderr",
     "output_type": "stream",
     "text": [
      "Downloading...\n",
      "From: https://maxar-opendata.s3.amazonaws.com/events/Morocco-Earthquake-Sept-2023/ard/29/120202003301/2022-05-12/10400100797DAC00-visual.tif\n",
      "To: /home/jupyter/DR_ML_GEOG761/BDA/10400100797DAC00/120202003301.tif\n",
      "100%|██████████| 74.9M/74.9M [00:04<00:00, 15.4MB/s]\n"
     ]
    },
    {
     "name": "stdout",
     "output_type": "stream",
     "text": [
      "Downloading 090 out of 111: 10400100797DAC00/120202003310.tif\n"
     ]
    },
    {
     "name": "stderr",
     "output_type": "stream",
     "text": [
      "Downloading...\n",
      "From: https://maxar-opendata.s3.amazonaws.com/events/Morocco-Earthquake-Sept-2023/ard/29/120202003310/2022-05-12/10400100797DAC00-visual.tif\n",
      "To: /home/jupyter/DR_ML_GEOG761/BDA/10400100797DAC00/120202003310.tif\n",
      "100%|██████████| 70.2M/70.2M [00:04<00:00, 15.3MB/s]\n"
     ]
    },
    {
     "name": "stdout",
     "output_type": "stream",
     "text": [
      "Downloading 091 out of 111: 10400100797DAC00/120202003302.tif\n"
     ]
    },
    {
     "name": "stderr",
     "output_type": "stream",
     "text": [
      "Downloading...\n",
      "From: https://maxar-opendata.s3.amazonaws.com/events/Morocco-Earthquake-Sept-2023/ard/29/120202003302/2022-05-12/10400100797DAC00-visual.tif\n",
      "To: /home/jupyter/DR_ML_GEOG761/BDA/10400100797DAC00/120202003302.tif\n",
      "100%|██████████| 85.3M/85.3M [00:05<00:00, 15.7MB/s]\n"
     ]
    },
    {
     "name": "stdout",
     "output_type": "stream",
     "text": [
      "Downloading 092 out of 111: 10400100797DAC00/120202003303.tif\n"
     ]
    },
    {
     "name": "stderr",
     "output_type": "stream",
     "text": [
      "Downloading...\n",
      "From: https://maxar-opendata.s3.amazonaws.com/events/Morocco-Earthquake-Sept-2023/ard/29/120202003303/2022-05-12/10400100797DAC00-visual.tif\n",
      "To: /home/jupyter/DR_ML_GEOG761/BDA/10400100797DAC00/120202003303.tif\n",
      "100%|██████████| 89.8M/89.8M [00:06<00:00, 14.6MB/s]\n"
     ]
    },
    {
     "name": "stdout",
     "output_type": "stream",
     "text": [
      "Downloading 093 out of 111: 10400100797DAC00/120202003312.tif\n"
     ]
    },
    {
     "name": "stderr",
     "output_type": "stream",
     "text": [
      "Downloading...\n",
      "From: https://maxar-opendata.s3.amazonaws.com/events/Morocco-Earthquake-Sept-2023/ard/29/120202003312/2022-05-12/10400100797DAC00-visual.tif\n",
      "To: /home/jupyter/DR_ML_GEOG761/BDA/10400100797DAC00/120202003312.tif\n",
      "100%|██████████| 81.1M/81.1M [00:05<00:00, 15.1MB/s]\n"
     ]
    },
    {
     "name": "stdout",
     "output_type": "stream",
     "text": [
      "Downloading 094 out of 111: 10400100797DAC00/120202003321.tif\n"
     ]
    },
    {
     "name": "stderr",
     "output_type": "stream",
     "text": [
      "Downloading...\n",
      "From: https://maxar-opendata.s3.amazonaws.com/events/Morocco-Earthquake-Sept-2023/ard/29/120202003321/2022-05-12/10400100797DAC00-visual.tif\n",
      "To: /home/jupyter/DR_ML_GEOG761/BDA/10400100797DAC00/120202003321.tif\n",
      "100%|██████████| 100M/100M [00:06<00:00, 16.1MB/s] \n"
     ]
    },
    {
     "name": "stdout",
     "output_type": "stream",
     "text": [
      "Downloading 095 out of 111: 10400100797DAC00/120202003330.tif\n"
     ]
    },
    {
     "name": "stderr",
     "output_type": "stream",
     "text": [
      "Downloading...\n",
      "From: https://maxar-opendata.s3.amazonaws.com/events/Morocco-Earthquake-Sept-2023/ard/29/120202003330/2022-05-12/10400100797DAC00-visual.tif\n",
      "To: /home/jupyter/DR_ML_GEOG761/BDA/10400100797DAC00/120202003330.tif\n",
      "100%|██████████| 85.5M/85.5M [00:05<00:00, 15.8MB/s]\n"
     ]
    },
    {
     "name": "stdout",
     "output_type": "stream",
     "text": [
      "Downloading 096 out of 111: 10400100797DAC00/120202003320.tif\n"
     ]
    },
    {
     "name": "stderr",
     "output_type": "stream",
     "text": [
      "Downloading...\n",
      "From: https://maxar-opendata.s3.amazonaws.com/events/Morocco-Earthquake-Sept-2023/ard/29/120202003320/2022-05-12/10400100797DAC00-visual.tif\n",
      "To: /home/jupyter/DR_ML_GEOG761/BDA/10400100797DAC00/120202003320.tif\n",
      "100%|██████████| 90.8M/90.8M [00:05<00:00, 15.7MB/s]\n"
     ]
    },
    {
     "name": "stdout",
     "output_type": "stream",
     "text": [
      "Downloading 097 out of 111: 1040010083289000/120202003120.tif\n"
     ]
    },
    {
     "name": "stderr",
     "output_type": "stream",
     "text": [
      "Downloading...\n",
      "From: https://maxar-opendata.s3.amazonaws.com/events/Morocco-Earthquake-Sept-2023/ard/29/120202003120/2023-04-17/1040010083289000-visual.tif\n",
      "To: /home/jupyter/DR_ML_GEOG761/BDA/1040010083289000/120202003120.tif\n",
      "100%|██████████| 49.2M/49.2M [00:03<00:00, 13.5MB/s]\n"
     ]
    },
    {
     "name": "stdout",
     "output_type": "stream",
     "text": [
      "Downloading 098 out of 111: 1040010083289000/120202003121.tif\n"
     ]
    },
    {
     "name": "stderr",
     "output_type": "stream",
     "text": [
      "Downloading...\n",
      "From: https://maxar-opendata.s3.amazonaws.com/events/Morocco-Earthquake-Sept-2023/ard/29/120202003121/2023-04-17/1040010083289000-visual.tif\n",
      "To: /home/jupyter/DR_ML_GEOG761/BDA/1040010083289000/120202003121.tif\n",
      "100%|██████████| 58.8M/58.8M [00:04<00:00, 14.2MB/s]\n"
     ]
    },
    {
     "name": "stdout",
     "output_type": "stream",
     "text": [
      "Downloading 099 out of 111: 1040010083289000/120202003122.tif\n"
     ]
    },
    {
     "name": "stderr",
     "output_type": "stream",
     "text": [
      "Downloading...\n",
      "From: https://maxar-opendata.s3.amazonaws.com/events/Morocco-Earthquake-Sept-2023/ard/29/120202003122/2023-04-17/1040010083289000-visual.tif\n",
      "To: /home/jupyter/DR_ML_GEOG761/BDA/1040010083289000/120202003122.tif\n",
      "100%|██████████| 52.6M/52.6M [00:03<00:00, 14.1MB/s]\n"
     ]
    },
    {
     "name": "stdout",
     "output_type": "stream",
     "text": [
      "Downloading 100 out of 111: 1040010083289000/120202003123.tif\n"
     ]
    },
    {
     "name": "stderr",
     "output_type": "stream",
     "text": [
      "Downloading...\n",
      "From: https://maxar-opendata.s3.amazonaws.com/events/Morocco-Earthquake-Sept-2023/ard/29/120202003123/2023-04-17/1040010083289000-visual.tif\n",
      "To: /home/jupyter/DR_ML_GEOG761/BDA/1040010083289000/120202003123.tif\n",
      "100%|██████████| 64.0M/64.0M [00:04<00:00, 15.0MB/s]\n"
     ]
    },
    {
     "name": "stdout",
     "output_type": "stream",
     "text": [
      "Downloading 101 out of 111: 1040010083289000/120202003130.tif\n"
     ]
    },
    {
     "name": "stderr",
     "output_type": "stream",
     "text": [
      "Downloading...\n",
      "From: https://maxar-opendata.s3.amazonaws.com/events/Morocco-Earthquake-Sept-2023/ard/29/120202003130/2023-04-17/1040010083289000-visual.tif\n",
      "To: /home/jupyter/DR_ML_GEOG761/BDA/1040010083289000/120202003130.tif\n",
      "100%|██████████| 40.9M/40.9M [00:03<00:00, 13.0MB/s]\n"
     ]
    },
    {
     "name": "stdout",
     "output_type": "stream",
     "text": [
      "Downloading 102 out of 111: 1040010083289000/120202003132.tif\n"
     ]
    },
    {
     "name": "stderr",
     "output_type": "stream",
     "text": [
      "Downloading...\n",
      "From: https://maxar-opendata.s3.amazonaws.com/events/Morocco-Earthquake-Sept-2023/ard/29/120202003132/2023-04-17/1040010083289000-visual.tif\n",
      "To: /home/jupyter/DR_ML_GEOG761/BDA/1040010083289000/120202003132.tif\n",
      "100%|██████████| 46.8M/46.8M [00:03<00:00, 13.7MB/s]\n"
     ]
    },
    {
     "name": "stdout",
     "output_type": "stream",
     "text": [
      "Downloading 103 out of 111: 1040010083289000/120202003300.tif\n"
     ]
    },
    {
     "name": "stderr",
     "output_type": "stream",
     "text": [
      "Downloading...\n",
      "From: https://maxar-opendata.s3.amazonaws.com/events/Morocco-Earthquake-Sept-2023/ard/29/120202003300/2023-04-17/1040010083289000-visual.tif\n",
      "To: /home/jupyter/DR_ML_GEOG761/BDA/1040010083289000/120202003300.tif\n",
      "100%|██████████| 50.1M/50.1M [00:03<00:00, 13.8MB/s]\n"
     ]
    },
    {
     "name": "stdout",
     "output_type": "stream",
     "text": [
      "Downloading 104 out of 111: 1040010083289000/120202003301.tif\n"
     ]
    },
    {
     "name": "stderr",
     "output_type": "stream",
     "text": [
      "Downloading...\n",
      "From: https://maxar-opendata.s3.amazonaws.com/events/Morocco-Earthquake-Sept-2023/ard/29/120202003301/2023-04-17/1040010083289000-visual.tif\n",
      "To: /home/jupyter/DR_ML_GEOG761/BDA/1040010083289000/120202003301.tif\n",
      "100%|██████████| 54.7M/54.7M [00:03<00:00, 14.4MB/s]\n"
     ]
    },
    {
     "name": "stdout",
     "output_type": "stream",
     "text": [
      "Downloading 105 out of 111: 1040010083289000/120202003310.tif\n"
     ]
    },
    {
     "name": "stderr",
     "output_type": "stream",
     "text": [
      "Downloading...\n",
      "From: https://maxar-opendata.s3.amazonaws.com/events/Morocco-Earthquake-Sept-2023/ard/29/120202003310/2023-04-17/1040010083289000-visual.tif\n",
      "To: /home/jupyter/DR_ML_GEOG761/BDA/1040010083289000/120202003310.tif\n",
      "100%|██████████| 41.9M/41.9M [00:03<00:00, 13.4MB/s]\n"
     ]
    },
    {
     "name": "stdout",
     "output_type": "stream",
     "text": [
      "Downloading 106 out of 111: 1040010083289000/120202003302.tif\n"
     ]
    },
    {
     "name": "stderr",
     "output_type": "stream",
     "text": [
      "Downloading...\n",
      "From: https://maxar-opendata.s3.amazonaws.com/events/Morocco-Earthquake-Sept-2023/ard/29/120202003302/2023-04-17/1040010083289000-visual.tif\n",
      "To: /home/jupyter/DR_ML_GEOG761/BDA/1040010083289000/120202003302.tif\n",
      "100%|██████████| 47.6M/47.6M [00:03<00:00, 13.7MB/s]\n"
     ]
    },
    {
     "name": "stdout",
     "output_type": "stream",
     "text": [
      "Downloading 107 out of 111: 1040010083289000/120202003303.tif\n"
     ]
    },
    {
     "name": "stderr",
     "output_type": "stream",
     "text": [
      "Downloading...\n",
      "From: https://maxar-opendata.s3.amazonaws.com/events/Morocco-Earthquake-Sept-2023/ard/29/120202003303/2023-04-17/1040010083289000-visual.tif\n",
      "To: /home/jupyter/DR_ML_GEOG761/BDA/1040010083289000/120202003303.tif\n",
      "100%|██████████| 65.3M/65.3M [00:04<00:00, 14.9MB/s]\n"
     ]
    },
    {
     "name": "stdout",
     "output_type": "stream",
     "text": [
      "Downloading 108 out of 111: 1040010083289000/120202003312.tif\n"
     ]
    },
    {
     "name": "stderr",
     "output_type": "stream",
     "text": [
      "Downloading...\n",
      "From: https://maxar-opendata.s3.amazonaws.com/events/Morocco-Earthquake-Sept-2023/ard/29/120202003312/2023-04-17/1040010083289000-visual.tif\n",
      "To: /home/jupyter/DR_ML_GEOG761/BDA/1040010083289000/120202003312.tif\n",
      "100%|██████████| 26.9M/26.9M [00:02<00:00, 11.4MB/s]\n"
     ]
    },
    {
     "name": "stdout",
     "output_type": "stream",
     "text": [
      "Downloading 109 out of 111: 1040010083289000/120202003321.tif\n"
     ]
    },
    {
     "name": "stderr",
     "output_type": "stream",
     "text": [
      "Downloading...\n",
      "From: https://maxar-opendata.s3.amazonaws.com/events/Morocco-Earthquake-Sept-2023/ard/29/120202003321/2023-04-17/1040010083289000-visual.tif\n",
      "To: /home/jupyter/DR_ML_GEOG761/BDA/1040010083289000/120202003321.tif\n",
      "100%|██████████| 60.3M/60.3M [00:04<00:00, 14.5MB/s]\n"
     ]
    },
    {
     "name": "stdout",
     "output_type": "stream",
     "text": [
      "Downloading 110 out of 111: 1040010083289000/120202003330.tif\n"
     ]
    },
    {
     "name": "stderr",
     "output_type": "stream",
     "text": [
      "Downloading...\n",
      "From: https://maxar-opendata.s3.amazonaws.com/events/Morocco-Earthquake-Sept-2023/ard/29/120202003330/2023-04-17/1040010083289000-visual.tif\n",
      "To: /home/jupyter/DR_ML_GEOG761/BDA/1040010083289000/120202003330.tif\n",
      "100%|██████████| 25.5M/25.5M [00:02<00:00, 11.5MB/s]\n"
     ]
    },
    {
     "name": "stdout",
     "output_type": "stream",
     "text": [
      "Downloading 111 out of 111: 1040010083289000/120202003320.tif\n"
     ]
    },
    {
     "name": "stderr",
     "output_type": "stream",
     "text": [
      "Downloading...\n",
      "From: https://maxar-opendata.s3.amazonaws.com/events/Morocco-Earthquake-Sept-2023/ard/29/120202003320/2023-04-17/1040010083289000-visual.tif\n",
      "To: /home/jupyter/DR_ML_GEOG761/BDA/1040010083289000/120202003320.tif\n",
      "100%|██████████| 45.6M/45.6M [00:03<00:00, 13.6MB/s]\n"
     ]
    }
   ],
   "source": [
    "leafmap.maxar_download(pre_images)"
   ]
  },
  {
   "cell_type": "code",
   "execution_count": 19,
   "id": "26362c9d",
   "metadata": {},
   "outputs": [
    {
     "name": "stdout",
     "output_type": "stream",
     "text": [
      "Downloading 01 out of 66: 104001008A8E9800/120202003300.tif\n"
     ]
    },
    {
     "name": "stderr",
     "output_type": "stream",
     "text": [
      "Downloading...\n",
      "From: https://maxar-opendata.s3.amazonaws.com/events/Morocco-Earthquake-Sept-2023/ard/29/120202003300/2023-09-10/104001008A8E9800-visual.tif\n",
      "To: /home/jupyter/DR_ML_GEOG761/BDA/104001008A8E9800/120202003300.tif\n",
      "100%|██████████| 67.3M/67.3M [00:04<00:00, 15.2MB/s]\n"
     ]
    },
    {
     "name": "stdout",
     "output_type": "stream",
     "text": [
      "Downloading 02 out of 66: 104001008A8E9800/120202003301.tif\n"
     ]
    },
    {
     "name": "stderr",
     "output_type": "stream",
     "text": [
      "Downloading...\n",
      "From: https://maxar-opendata.s3.amazonaws.com/events/Morocco-Earthquake-Sept-2023/ard/29/120202003301/2023-09-10/104001008A8E9800-visual.tif\n",
      "To: /home/jupyter/DR_ML_GEOG761/BDA/104001008A8E9800/120202003301.tif\n",
      "100%|██████████| 6.08M/6.08M [00:01<00:00, 4.75MB/s]\n"
     ]
    },
    {
     "name": "stdout",
     "output_type": "stream",
     "text": [
      "Downloading 03 out of 66: 104001008A8E9800/120202003302.tif\n"
     ]
    },
    {
     "name": "stderr",
     "output_type": "stream",
     "text": [
      "Downloading...\n",
      "From: https://maxar-opendata.s3.amazonaws.com/events/Morocco-Earthquake-Sept-2023/ard/29/120202003302/2023-09-10/104001008A8E9800-visual.tif\n",
      "To: /home/jupyter/DR_ML_GEOG761/BDA/104001008A8E9800/120202003302.tif\n",
      "100%|██████████| 24.0M/24.0M [00:02<00:00, 11.0MB/s]\n"
     ]
    },
    {
     "name": "stdout",
     "output_type": "stream",
     "text": [
      "Downloading 04 out of 66: 104001008A8E9800/120202003120.tif\n"
     ]
    },
    {
     "name": "stderr",
     "output_type": "stream",
     "text": [
      "Downloading...\n",
      "From: https://maxar-opendata.s3.amazonaws.com/events/Morocco-Earthquake-Sept-2023/ard/29/120202003120/2023-09-10/104001008A8E9800-visual.tif\n",
      "To: /home/jupyter/DR_ML_GEOG761/BDA/104001008A8E9800/120202003120.tif\n",
      "100%|██████████| 64.7M/64.7M [00:04<00:00, 14.7MB/s]\n"
     ]
    },
    {
     "name": "stdout",
     "output_type": "stream",
     "text": [
      "Downloading 05 out of 66: 104001008A8E9800/120202003121.tif\n"
     ]
    },
    {
     "name": "stderr",
     "output_type": "stream",
     "text": [
      "Downloading...\n",
      "From: https://maxar-opendata.s3.amazonaws.com/events/Morocco-Earthquake-Sept-2023/ard/29/120202003121/2023-09-10/104001008A8E9800-visual.tif\n",
      "To: /home/jupyter/DR_ML_GEOG761/BDA/104001008A8E9800/120202003121.tif\n",
      "100%|██████████| 7.03M/7.03M [00:01<00:00, 5.54MB/s]\n"
     ]
    },
    {
     "name": "stdout",
     "output_type": "stream",
     "text": [
      "Downloading 06 out of 66: 104001008A8E9800/120202003122.tif\n"
     ]
    },
    {
     "name": "stderr",
     "output_type": "stream",
     "text": [
      "Downloading...\n",
      "From: https://maxar-opendata.s3.amazonaws.com/events/Morocco-Earthquake-Sept-2023/ard/29/120202003122/2023-09-10/104001008A8E9800-visual.tif\n",
      "To: /home/jupyter/DR_ML_GEOG761/BDA/104001008A8E9800/120202003122.tif\n",
      "100%|██████████| 56.3M/56.3M [00:03<00:00, 14.2MB/s]\n"
     ]
    },
    {
     "name": "stdout",
     "output_type": "stream",
     "text": [
      "Downloading 07 out of 66: 104001008A8E9800/120202003123.tif\n"
     ]
    },
    {
     "name": "stderr",
     "output_type": "stream",
     "text": [
      "Downloading...\n",
      "From: https://maxar-opendata.s3.amazonaws.com/events/Morocco-Earthquake-Sept-2023/ard/29/120202003123/2023-09-10/104001008A8E9800-visual.tif\n",
      "To: /home/jupyter/DR_ML_GEOG761/BDA/104001008A8E9800/120202003123.tif\n",
      "100%|██████████| 6.09M/6.09M [00:01<00:00, 4.86MB/s]\n"
     ]
    },
    {
     "name": "stdout",
     "output_type": "stream",
     "text": [
      "Downloading 08 out of 66: 10300500E4F91700/120202012023.tif\n"
     ]
    },
    {
     "name": "stderr",
     "output_type": "stream",
     "text": [
      "Downloading...\n",
      "From: https://maxar-opendata.s3.amazonaws.com/events/Morocco-Earthquake-Sept-2023/ard/29/120202012023/2023-09-10/10300500E4F91700-visual.tif\n",
      "To: /home/jupyter/DR_ML_GEOG761/BDA/10300500E4F91700/120202012023.tif\n",
      "100%|██████████| 54.1M/54.1M [00:03<00:00, 14.0MB/s]\n"
     ]
    },
    {
     "name": "stdout",
     "output_type": "stream",
     "text": [
      "Downloading 09 out of 66: 10300500E4F91700/120202012201.tif\n"
     ]
    },
    {
     "name": "stderr",
     "output_type": "stream",
     "text": [
      "Downloading...\n",
      "From: https://maxar-opendata.s3.amazonaws.com/events/Morocco-Earthquake-Sept-2023/ard/29/120202012201/2023-09-10/10300500E4F91700-visual.tif\n",
      "To: /home/jupyter/DR_ML_GEOG761/BDA/10300500E4F91700/120202012201.tif\n",
      "100%|██████████| 67.0M/67.0M [00:04<00:00, 15.0MB/s]\n"
     ]
    },
    {
     "name": "stdout",
     "output_type": "stream",
     "text": [
      "Downloading 10 out of 66: 10300500E4F91700/120202012203.tif\n"
     ]
    },
    {
     "name": "stderr",
     "output_type": "stream",
     "text": [
      "Downloading...\n",
      "From: https://maxar-opendata.s3.amazonaws.com/events/Morocco-Earthquake-Sept-2023/ard/29/120202012203/2023-09-10/10300500E4F91700-visual.tif\n",
      "To: /home/jupyter/DR_ML_GEOG761/BDA/10300500E4F91700/120202012203.tif\n",
      "100%|██████████| 69.5M/69.5M [00:04<00:00, 15.3MB/s]\n"
     ]
    },
    {
     "name": "stdout",
     "output_type": "stream",
     "text": [
      "Downloading 11 out of 66: 10300500E4F91700/120202012202.tif\n"
     ]
    },
    {
     "name": "stderr",
     "output_type": "stream",
     "text": [
      "Downloading...\n",
      "From: https://maxar-opendata.s3.amazonaws.com/events/Morocco-Earthquake-Sept-2023/ard/29/120202012202/2023-09-10/10300500E4F91700-visual.tif\n",
      "To: /home/jupyter/DR_ML_GEOG761/BDA/10300500E4F91700/120202012202.tif\n",
      "100%|██████████| 4.88M/4.88M [00:01<00:00, 3.92MB/s]\n"
     ]
    },
    {
     "name": "stdout",
     "output_type": "stream",
     "text": [
      "Downloading 12 out of 66: 10300100ED11EA00/120202003120.tif\n"
     ]
    },
    {
     "name": "stderr",
     "output_type": "stream",
     "text": [
      "Downloading...\n",
      "From: https://maxar-opendata.s3.amazonaws.com/events/Morocco-Earthquake-Sept-2023/ard/29/120202003120/2023-09-10/10300100ED11EA00-visual.tif\n",
      "To: /home/jupyter/DR_ML_GEOG761/BDA/10300100ED11EA00/120202003120.tif\n",
      "100%|██████████| 34.1M/34.1M [00:02<00:00, 12.8MB/s]\n"
     ]
    },
    {
     "name": "stdout",
     "output_type": "stream",
     "text": [
      "Downloading 13 out of 66: 10300100ED11EA00/120202003121.tif\n"
     ]
    },
    {
     "name": "stderr",
     "output_type": "stream",
     "text": [
      "Downloading...\n",
      "From: https://maxar-opendata.s3.amazonaws.com/events/Morocco-Earthquake-Sept-2023/ard/29/120202003121/2023-09-10/10300100ED11EA00-visual.tif\n",
      "To: /home/jupyter/DR_ML_GEOG761/BDA/10300100ED11EA00/120202003121.tif\n",
      "100%|██████████| 45.4M/45.4M [00:03<00:00, 13.1MB/s]\n"
     ]
    },
    {
     "name": "stdout",
     "output_type": "stream",
     "text": [
      "Downloading 14 out of 66: 10300100ED11EA00/120202003122.tif\n"
     ]
    },
    {
     "name": "stderr",
     "output_type": "stream",
     "text": [
      "Downloading...\n",
      "From: https://maxar-opendata.s3.amazonaws.com/events/Morocco-Earthquake-Sept-2023/ard/29/120202003122/2023-09-10/10300100ED11EA00-visual.tif\n",
      "To: /home/jupyter/DR_ML_GEOG761/BDA/10300100ED11EA00/120202003122.tif\n",
      "100%|██████████| 45.4M/45.4M [00:03<00:00, 13.6MB/s]\n"
     ]
    },
    {
     "name": "stdout",
     "output_type": "stream",
     "text": [
      "Downloading 15 out of 66: 10300100ED11EA00/120202003123.tif\n"
     ]
    },
    {
     "name": "stderr",
     "output_type": "stream",
     "text": [
      "Downloading...\n",
      "From: https://maxar-opendata.s3.amazonaws.com/events/Morocco-Earthquake-Sept-2023/ard/29/120202003123/2023-09-10/10300100ED11EA00-visual.tif\n",
      "To: /home/jupyter/DR_ML_GEOG761/BDA/10300100ED11EA00/120202003123.tif\n",
      "100%|██████████| 46.7M/46.7M [00:03<00:00, 13.5MB/s]\n"
     ]
    },
    {
     "name": "stdout",
     "output_type": "stream",
     "text": [
      "Downloading 16 out of 66: 10300100ED11EA00/120202003130.tif\n"
     ]
    },
    {
     "name": "stderr",
     "output_type": "stream",
     "text": [
      "Downloading...\n",
      "From: https://maxar-opendata.s3.amazonaws.com/events/Morocco-Earthquake-Sept-2023/ard/29/120202003130/2023-09-10/10300100ED11EA00-visual.tif\n",
      "To: /home/jupyter/DR_ML_GEOG761/BDA/10300100ED11EA00/120202003130.tif\n",
      "100%|██████████| 44.3M/44.3M [00:03<00:00, 13.6MB/s]\n"
     ]
    },
    {
     "name": "stdout",
     "output_type": "stream",
     "text": [
      "Downloading 17 out of 66: 10300100ED11EA00/120202003131.tif\n"
     ]
    },
    {
     "name": "stderr",
     "output_type": "stream",
     "text": [
      "Downloading...\n",
      "From: https://maxar-opendata.s3.amazonaws.com/events/Morocco-Earthquake-Sept-2023/ard/29/120202003131/2023-09-10/10300100ED11EA00-visual.tif\n",
      "To: /home/jupyter/DR_ML_GEOG761/BDA/10300100ED11EA00/120202003131.tif\n",
      "100%|██████████| 52.3M/52.3M [00:03<00:00, 13.9MB/s]\n"
     ]
    },
    {
     "name": "stdout",
     "output_type": "stream",
     "text": [
      "Downloading 18 out of 66: 10300100ED11EA00/120202003132.tif\n"
     ]
    },
    {
     "name": "stderr",
     "output_type": "stream",
     "text": [
      "Downloading...\n",
      "From: https://maxar-opendata.s3.amazonaws.com/events/Morocco-Earthquake-Sept-2023/ard/29/120202003132/2023-09-10/10300100ED11EA00-visual.tif\n",
      "To: /home/jupyter/DR_ML_GEOG761/BDA/10300100ED11EA00/120202003132.tif\n",
      "100%|██████████| 48.5M/48.5M [00:03<00:00, 14.0MB/s]\n"
     ]
    },
    {
     "name": "stdout",
     "output_type": "stream",
     "text": [
      "Downloading 19 out of 66: 10300100ED11EA00/120202003133.tif\n"
     ]
    },
    {
     "name": "stderr",
     "output_type": "stream",
     "text": [
      "Downloading...\n",
      "From: https://maxar-opendata.s3.amazonaws.com/events/Morocco-Earthquake-Sept-2023/ard/29/120202003133/2023-09-10/10300100ED11EA00-visual.tif\n",
      "To: /home/jupyter/DR_ML_GEOG761/BDA/10300100ED11EA00/120202003133.tif\n",
      "100%|██████████| 45.3M/45.3M [00:03<00:00, 13.2MB/s]\n"
     ]
    },
    {
     "name": "stdout",
     "output_type": "stream",
     "text": [
      "Downloading 20 out of 66: 10300100ED11EA00/120202003300.tif\n"
     ]
    },
    {
     "name": "stderr",
     "output_type": "stream",
     "text": [
      "Downloading...\n",
      "From: https://maxar-opendata.s3.amazonaws.com/events/Morocco-Earthquake-Sept-2023/ard/29/120202003300/2023-09-10/10300100ED11EA00-visual.tif\n",
      "To: /home/jupyter/DR_ML_GEOG761/BDA/10300100ED11EA00/120202003300.tif\n",
      "100%|██████████| 52.3M/52.3M [00:03<00:00, 14.3MB/s]\n"
     ]
    },
    {
     "name": "stdout",
     "output_type": "stream",
     "text": [
      "Downloading 21 out of 66: 10300100ED11EA00/120202003301.tif\n"
     ]
    },
    {
     "name": "stderr",
     "output_type": "stream",
     "text": [
      "Downloading...\n",
      "From: https://maxar-opendata.s3.amazonaws.com/events/Morocco-Earthquake-Sept-2023/ard/29/120202003301/2023-09-10/10300100ED11EA00-visual.tif\n",
      "To: /home/jupyter/DR_ML_GEOG761/BDA/10300100ED11EA00/120202003301.tif\n",
      "100%|██████████| 54.1M/54.1M [00:04<00:00, 13.2MB/s]\n"
     ]
    },
    {
     "name": "stdout",
     "output_type": "stream",
     "text": [
      "Downloading 22 out of 66: 10300100ED11EA00/120202012020.tif\n"
     ]
    },
    {
     "name": "stderr",
     "output_type": "stream",
     "text": [
      "Downloading...\n",
      "From: https://maxar-opendata.s3.amazonaws.com/events/Morocco-Earthquake-Sept-2023/ard/29/120202012020/2023-09-10/10300100ED11EA00-visual.tif\n",
      "To: /home/jupyter/DR_ML_GEOG761/BDA/10300100ED11EA00/120202012020.tif\n",
      "100%|██████████| 51.6M/51.6M [00:03<00:00, 14.1MB/s]\n"
     ]
    },
    {
     "name": "stdout",
     "output_type": "stream",
     "text": [
      "Downloading 23 out of 66: 10300100ED11EA00/120202012021.tif\n"
     ]
    },
    {
     "name": "stderr",
     "output_type": "stream",
     "text": [
      "Downloading...\n",
      "From: https://maxar-opendata.s3.amazonaws.com/events/Morocco-Earthquake-Sept-2023/ard/29/120202012021/2023-09-10/10300100ED11EA00-visual.tif\n",
      "To: /home/jupyter/DR_ML_GEOG761/BDA/10300100ED11EA00/120202012021.tif\n",
      "100%|██████████| 29.3M/29.3M [00:02<00:00, 11.6MB/s]\n"
     ]
    },
    {
     "name": "stdout",
     "output_type": "stream",
     "text": [
      "Downloading 24 out of 66: 10300100ED11EA00/120202012022.tif\n"
     ]
    },
    {
     "name": "stderr",
     "output_type": "stream",
     "text": [
      "Downloading...\n",
      "From: https://maxar-opendata.s3.amazonaws.com/events/Morocco-Earthquake-Sept-2023/ard/29/120202012022/2023-09-10/10300100ED11EA00-visual.tif\n",
      "To: /home/jupyter/DR_ML_GEOG761/BDA/10300100ED11EA00/120202012022.tif\n",
      "100%|██████████| 49.0M/49.0M [00:03<00:00, 13.9MB/s]\n"
     ]
    },
    {
     "name": "stdout",
     "output_type": "stream",
     "text": [
      "Downloading 25 out of 66: 10300100ED11EA00/120202003302.tif\n"
     ]
    },
    {
     "name": "stderr",
     "output_type": "stream",
     "text": [
      "Downloading...\n",
      "From: https://maxar-opendata.s3.amazonaws.com/events/Morocco-Earthquake-Sept-2023/ard/29/120202003302/2023-09-10/10300100ED11EA00-visual.tif\n",
      "To: /home/jupyter/DR_ML_GEOG761/BDA/10300100ED11EA00/120202003302.tif\n",
      "100%|██████████| 61.8M/61.8M [00:04<00:00, 14.6MB/s]\n"
     ]
    },
    {
     "name": "stdout",
     "output_type": "stream",
     "text": [
      "Downloading 26 out of 66: 10300100ED11EA00/120202003303.tif\n"
     ]
    },
    {
     "name": "stderr",
     "output_type": "stream",
     "text": [
      "Downloading...\n",
      "From: https://maxar-opendata.s3.amazonaws.com/events/Morocco-Earthquake-Sept-2023/ard/29/120202003303/2023-09-10/10300100ED11EA00-visual.tif\n",
      "To: /home/jupyter/DR_ML_GEOG761/BDA/10300100ED11EA00/120202003303.tif\n",
      "100%|██████████| 62.7M/62.7M [00:04<00:00, 13.5MB/s]\n"
     ]
    },
    {
     "name": "stdout",
     "output_type": "stream",
     "text": [
      "Downloading 27 out of 66: 10300100ED11EA00/120202003310.tif\n"
     ]
    },
    {
     "name": "stderr",
     "output_type": "stream",
     "text": [
      "Downloading...\n",
      "From: https://maxar-opendata.s3.amazonaws.com/events/Morocco-Earthquake-Sept-2023/ard/29/120202003310/2023-09-10/10300100ED11EA00-visual.tif\n",
      "To: /home/jupyter/DR_ML_GEOG761/BDA/10300100ED11EA00/120202003310.tif\n",
      "100%|██████████| 53.2M/53.2M [00:03<00:00, 14.0MB/s]\n"
     ]
    },
    {
     "name": "stdout",
     "output_type": "stream",
     "text": [
      "Downloading 28 out of 66: 10300100ED11EA00/120202003311.tif\n"
     ]
    },
    {
     "name": "stderr",
     "output_type": "stream",
     "text": [
      "Downloading...\n",
      "From: https://maxar-opendata.s3.amazonaws.com/events/Morocco-Earthquake-Sept-2023/ard/29/120202003311/2023-09-10/10300100ED11EA00-visual.tif\n",
      "To: /home/jupyter/DR_ML_GEOG761/BDA/10300100ED11EA00/120202003311.tif\n",
      "100%|██████████| 47.9M/47.9M [00:03<00:00, 13.2MB/s]\n"
     ]
    },
    {
     "name": "stdout",
     "output_type": "stream",
     "text": [
      "Downloading 29 out of 66: 10300100ED11EA00/120202003312.tif\n"
     ]
    },
    {
     "name": "stderr",
     "output_type": "stream",
     "text": [
      "Downloading...\n",
      "From: https://maxar-opendata.s3.amazonaws.com/events/Morocco-Earthquake-Sept-2023/ard/29/120202003312/2023-09-10/10300100ED11EA00-visual.tif\n",
      "To: /home/jupyter/DR_ML_GEOG761/BDA/10300100ED11EA00/120202003312.tif\n",
      "100%|██████████| 60.8M/60.8M [00:04<00:00, 14.7MB/s]\n"
     ]
    },
    {
     "name": "stdout",
     "output_type": "stream",
     "text": [
      "Downloading 30 out of 66: 10300100ED11EA00/120202003313.tif\n"
     ]
    },
    {
     "name": "stderr",
     "output_type": "stream",
     "text": [
      "Downloading...\n",
      "From: https://maxar-opendata.s3.amazonaws.com/events/Morocco-Earthquake-Sept-2023/ard/29/120202003313/2023-09-10/10300100ED11EA00-visual.tif\n",
      "To: /home/jupyter/DR_ML_GEOG761/BDA/10300100ED11EA00/120202003313.tif\n",
      "100%|██████████| 58.6M/58.6M [00:04<00:00, 14.1MB/s]\n"
     ]
    },
    {
     "name": "stdout",
     "output_type": "stream",
     "text": [
      "Downloading 31 out of 66: 10300100ED11EA00/120202003320.tif\n"
     ]
    },
    {
     "name": "stderr",
     "output_type": "stream",
     "text": [
      "Downloading...\n",
      "From: https://maxar-opendata.s3.amazonaws.com/events/Morocco-Earthquake-Sept-2023/ard/29/120202003320/2023-09-10/10300100ED11EA00-visual.tif\n",
      "To: /home/jupyter/DR_ML_GEOG761/BDA/10300100ED11EA00/120202003320.tif\n",
      "100%|██████████| 63.4M/63.4M [00:04<00:00, 15.1MB/s]\n"
     ]
    },
    {
     "name": "stdout",
     "output_type": "stream",
     "text": [
      "Downloading 32 out of 66: 10300100ED11EA00/120202003321.tif\n"
     ]
    },
    {
     "name": "stderr",
     "output_type": "stream",
     "text": [
      "Downloading...\n",
      "From: https://maxar-opendata.s3.amazonaws.com/events/Morocco-Earthquake-Sept-2023/ard/29/120202003321/2023-09-10/10300100ED11EA00-visual.tif\n",
      "To: /home/jupyter/DR_ML_GEOG761/BDA/10300100ED11EA00/120202003321.tif\n",
      "100%|██████████| 70.6M/70.6M [00:04<00:00, 15.2MB/s]\n"
     ]
    },
    {
     "name": "stdout",
     "output_type": "stream",
     "text": [
      "Downloading 33 out of 66: 10300100ED11EA00/120202003330.tif\n"
     ]
    },
    {
     "name": "stderr",
     "output_type": "stream",
     "text": [
      "Downloading...\n",
      "From: https://maxar-opendata.s3.amazonaws.com/events/Morocco-Earthquake-Sept-2023/ard/29/120202003330/2023-09-10/10300100ED11EA00-visual.tif\n",
      "To: /home/jupyter/DR_ML_GEOG761/BDA/10300100ED11EA00/120202003330.tif\n",
      "100%|██████████| 66.4M/66.4M [00:04<00:00, 15.2MB/s]\n"
     ]
    },
    {
     "name": "stdout",
     "output_type": "stream",
     "text": [
      "Downloading 34 out of 66: 10300100ED11EA00/120202003331.tif\n"
     ]
    },
    {
     "name": "stderr",
     "output_type": "stream",
     "text": [
      "Downloading...\n",
      "From: https://maxar-opendata.s3.amazonaws.com/events/Morocco-Earthquake-Sept-2023/ard/29/120202003331/2023-09-10/10300100ED11EA00-visual.tif\n",
      "To: /home/jupyter/DR_ML_GEOG761/BDA/10300100ED11EA00/120202003331.tif\n",
      "100%|██████████| 60.1M/60.1M [00:04<00:00, 14.6MB/s]\n"
     ]
    },
    {
     "name": "stdout",
     "output_type": "stream",
     "text": [
      "Downloading 35 out of 66: 10300100ED11EA00/120202012023.tif\n"
     ]
    },
    {
     "name": "stderr",
     "output_type": "stream",
     "text": [
      "Downloading...\n",
      "From: https://maxar-opendata.s3.amazonaws.com/events/Morocco-Earthquake-Sept-2023/ard/29/120202012023/2023-09-10/10300100ED11EA00-visual.tif\n",
      "To: /home/jupyter/DR_ML_GEOG761/BDA/10300100ED11EA00/120202012023.tif\n",
      "100%|██████████| 35.0M/35.0M [00:02<00:00, 12.4MB/s]\n"
     ]
    },
    {
     "name": "stdout",
     "output_type": "stream",
     "text": [
      "Downloading 36 out of 66: 10300100ED11EA00/120202012200.tif\n"
     ]
    },
    {
     "name": "stderr",
     "output_type": "stream",
     "text": [
      "Downloading...\n",
      "From: https://maxar-opendata.s3.amazonaws.com/events/Morocco-Earthquake-Sept-2023/ard/29/120202012200/2023-09-10/10300100ED11EA00-visual.tif\n",
      "To: /home/jupyter/DR_ML_GEOG761/BDA/10300100ED11EA00/120202012200.tif\n",
      "100%|██████████| 51.9M/51.9M [00:03<00:00, 14.3MB/s]\n"
     ]
    },
    {
     "name": "stdout",
     "output_type": "stream",
     "text": [
      "Downloading 37 out of 66: 10300100ED11EA00/120202012201.tif\n"
     ]
    },
    {
     "name": "stderr",
     "output_type": "stream",
     "text": [
      "Downloading...\n",
      "From: https://maxar-opendata.s3.amazonaws.com/events/Morocco-Earthquake-Sept-2023/ard/29/120202012201/2023-09-10/10300100ED11EA00-visual.tif\n",
      "To: /home/jupyter/DR_ML_GEOG761/BDA/10300100ED11EA00/120202012201.tif\n",
      "100%|██████████| 35.8M/35.8M [00:02<00:00, 12.6MB/s]\n"
     ]
    },
    {
     "name": "stdout",
     "output_type": "stream",
     "text": [
      "Downloading 38 out of 66: 10300100ED11EA00/120202012202.tif\n"
     ]
    },
    {
     "name": "stderr",
     "output_type": "stream",
     "text": [
      "Downloading...\n",
      "From: https://maxar-opendata.s3.amazonaws.com/events/Morocco-Earthquake-Sept-2023/ard/29/120202012202/2023-09-10/10300100ED11EA00-visual.tif\n",
      "To: /home/jupyter/DR_ML_GEOG761/BDA/10300100ED11EA00/120202012202.tif\n",
      "100%|██████████| 57.1M/57.1M [00:03<00:00, 14.6MB/s]\n"
     ]
    },
    {
     "name": "stdout",
     "output_type": "stream",
     "text": [
      "Downloading 39 out of 66: 10300100ED11EA00/120202012203.tif\n"
     ]
    },
    {
     "name": "stderr",
     "output_type": "stream",
     "text": [
      "Downloading...\n",
      "From: https://maxar-opendata.s3.amazonaws.com/events/Morocco-Earthquake-Sept-2023/ard/29/120202012203/2023-09-10/10300100ED11EA00-visual.tif\n",
      "To: /home/jupyter/DR_ML_GEOG761/BDA/10300100ED11EA00/120202012203.tif\n",
      "100%|██████████| 38.9M/38.9M [00:02<00:00, 13.0MB/s]\n"
     ]
    },
    {
     "name": "stdout",
     "output_type": "stream",
     "text": [
      "Downloading 40 out of 66: 10300100ED11EA00/120202012220.tif\n"
     ]
    },
    {
     "name": "stderr",
     "output_type": "stream",
     "text": [
      "Downloading...\n",
      "From: https://maxar-opendata.s3.amazonaws.com/events/Morocco-Earthquake-Sept-2023/ard/29/120202012220/2023-09-10/10300100ED11EA00-visual.tif\n",
      "To: /home/jupyter/DR_ML_GEOG761/BDA/10300100ED11EA00/120202012220.tif\n",
      "100%|██████████| 59.9M/59.9M [00:04<00:00, 14.6MB/s]\n"
     ]
    },
    {
     "name": "stdout",
     "output_type": "stream",
     "text": [
      "Downloading 41 out of 66: 10300100ED11EA00/120202012221.tif\n"
     ]
    },
    {
     "name": "stderr",
     "output_type": "stream",
     "text": [
      "Downloading...\n",
      "From: https://maxar-opendata.s3.amazonaws.com/events/Morocco-Earthquake-Sept-2023/ard/29/120202012221/2023-09-10/10300100ED11EA00-visual.tif\n",
      "To: /home/jupyter/DR_ML_GEOG761/BDA/10300100ED11EA00/120202012221.tif\n",
      "100%|██████████| 35.9M/35.9M [00:02<00:00, 12.4MB/s]\n"
     ]
    },
    {
     "name": "stdout",
     "output_type": "stream",
     "text": [
      "Downloading 42 out of 66: 10300500E4F92300/120202003121.tif\n"
     ]
    },
    {
     "name": "stderr",
     "output_type": "stream",
     "text": [
      "Downloading...\n",
      "From: https://maxar-opendata.s3.amazonaws.com/events/Morocco-Earthquake-Sept-2023/ard/29/120202003121/2023-09-11/10300500E4F92300-visual.tif\n",
      "To: /home/jupyter/DR_ML_GEOG761/BDA/10300500E4F92300/120202003121.tif\n",
      "100%|██████████| 34.6M/34.6M [00:02<00:00, 12.3MB/s]\n"
     ]
    },
    {
     "name": "stdout",
     "output_type": "stream",
     "text": [
      "Downloading 43 out of 66: 10300500E4F92300/120202003130.tif\n"
     ]
    },
    {
     "name": "stderr",
     "output_type": "stream",
     "text": [
      "Downloading...\n",
      "From: https://maxar-opendata.s3.amazonaws.com/events/Morocco-Earthquake-Sept-2023/ard/29/120202003130/2023-09-11/10300500E4F92300-visual.tif\n",
      "To: /home/jupyter/DR_ML_GEOG761/BDA/10300500E4F92300/120202003130.tif\n",
      "100%|██████████| 51.7M/51.7M [00:03<00:00, 13.7MB/s]\n"
     ]
    },
    {
     "name": "stdout",
     "output_type": "stream",
     "text": [
      "Downloading 44 out of 66: 10300500E4F92300/120202003131.tif\n"
     ]
    },
    {
     "name": "stderr",
     "output_type": "stream",
     "text": [
      "Downloading...\n",
      "From: https://maxar-opendata.s3.amazonaws.com/events/Morocco-Earthquake-Sept-2023/ard/29/120202003131/2023-09-11/10300500E4F92300-visual.tif\n",
      "To: /home/jupyter/DR_ML_GEOG761/BDA/10300500E4F92300/120202003131.tif\n",
      "100%|██████████| 61.5M/61.5M [00:04<00:00, 14.9MB/s]\n"
     ]
    },
    {
     "name": "stdout",
     "output_type": "stream",
     "text": [
      "Downloading 45 out of 66: 10300500E4F92300/120202003133.tif\n"
     ]
    },
    {
     "name": "stderr",
     "output_type": "stream",
     "text": [
      "Downloading...\n",
      "From: https://maxar-opendata.s3.amazonaws.com/events/Morocco-Earthquake-Sept-2023/ard/29/120202003133/2023-09-11/10300500E4F92300-visual.tif\n",
      "To: /home/jupyter/DR_ML_GEOG761/BDA/10300500E4F92300/120202003133.tif\n",
      "100%|██████████| 52.2M/52.2M [00:03<00:00, 14.0MB/s]\n"
     ]
    },
    {
     "name": "stdout",
     "output_type": "stream",
     "text": [
      "Downloading 46 out of 66: 10300500E4F92300/120202012020.tif\n"
     ]
    },
    {
     "name": "stderr",
     "output_type": "stream",
     "text": [
      "Downloading...\n",
      "From: https://maxar-opendata.s3.amazonaws.com/events/Morocco-Earthquake-Sept-2023/ard/29/120202012020/2023-09-11/10300500E4F92300-visual.tif\n",
      "To: /home/jupyter/DR_ML_GEOG761/BDA/10300500E4F92300/120202012020.tif\n",
      "100%|██████████| 58.8M/58.8M [00:04<00:00, 14.6MB/s]\n"
     ]
    },
    {
     "name": "stdout",
     "output_type": "stream",
     "text": [
      "Downloading 47 out of 66: 10300500E4F92300/120202012021.tif\n"
     ]
    },
    {
     "name": "stderr",
     "output_type": "stream",
     "text": [
      "Downloading...\n",
      "From: https://maxar-opendata.s3.amazonaws.com/events/Morocco-Earthquake-Sept-2023/ard/29/120202012021/2023-09-11/10300500E4F92300-visual.tif\n",
      "To: /home/jupyter/DR_ML_GEOG761/BDA/10300500E4F92300/120202012021.tif\n",
      "100%|██████████| 22.8M/22.8M [00:02<00:00, 10.2MB/s]\n"
     ]
    },
    {
     "name": "stdout",
     "output_type": "stream",
     "text": [
      "Downloading 48 out of 66: 10300500E4F92300/120202012022.tif\n"
     ]
    },
    {
     "name": "stderr",
     "output_type": "stream",
     "text": [
      "Downloading...\n",
      "From: https://maxar-opendata.s3.amazonaws.com/events/Morocco-Earthquake-Sept-2023/ard/29/120202012022/2023-09-11/10300500E4F92300-visual.tif\n",
      "To: /home/jupyter/DR_ML_GEOG761/BDA/10300500E4F92300/120202012022.tif\n",
      "100%|██████████| 54.8M/54.8M [00:03<00:00, 13.8MB/s]\n"
     ]
    },
    {
     "name": "stdout",
     "output_type": "stream",
     "text": [
      "Downloading 49 out of 66: 10300500E4F92300/120202012023.tif\n"
     ]
    },
    {
     "name": "stderr",
     "output_type": "stream",
     "text": [
      "Downloading...\n",
      "From: https://maxar-opendata.s3.amazonaws.com/events/Morocco-Earthquake-Sept-2023/ard/29/120202012023/2023-09-11/10300500E4F92300-visual.tif\n",
      "To: /home/jupyter/DR_ML_GEOG761/BDA/10300500E4F92300/120202012023.tif\n",
      "100%|██████████| 28.0M/28.0M [00:02<00:00, 11.1MB/s]\n"
     ]
    },
    {
     "name": "stdout",
     "output_type": "stream",
     "text": [
      "Downloading 50 out of 66: 10300500E4F92300/120202003123.tif\n"
     ]
    },
    {
     "name": "stderr",
     "output_type": "stream",
     "text": [
      "Downloading...\n",
      "From: https://maxar-opendata.s3.amazonaws.com/events/Morocco-Earthquake-Sept-2023/ard/29/120202003123/2023-09-11/10300500E4F92300-visual.tif\n",
      "To: /home/jupyter/DR_ML_GEOG761/BDA/10300500E4F92300/120202003123.tif\n",
      "100%|██████████| 32.6M/32.6M [00:02<00:00, 12.1MB/s]\n"
     ]
    },
    {
     "name": "stdout",
     "output_type": "stream",
     "text": [
      "Downloading 51 out of 66: 10300500E4F92300/120202003132.tif\n"
     ]
    },
    {
     "name": "stderr",
     "output_type": "stream",
     "text": [
      "Downloading...\n",
      "From: https://maxar-opendata.s3.amazonaws.com/events/Morocco-Earthquake-Sept-2023/ard/29/120202003132/2023-09-11/10300500E4F92300-visual.tif\n",
      "To: /home/jupyter/DR_ML_GEOG761/BDA/10300500E4F92300/120202003132.tif\n",
      "100%|██████████| 55.3M/55.3M [00:03<00:00, 14.0MB/s]\n"
     ]
    },
    {
     "name": "stdout",
     "output_type": "stream",
     "text": [
      "Downloading 52 out of 66: 10300500E4F92300/120202003301.tif\n"
     ]
    },
    {
     "name": "stderr",
     "output_type": "stream",
     "text": [
      "Downloading...\n",
      "From: https://maxar-opendata.s3.amazonaws.com/events/Morocco-Earthquake-Sept-2023/ard/29/120202003301/2023-09-11/10300500E4F92300-visual.tif\n",
      "To: /home/jupyter/DR_ML_GEOG761/BDA/10300500E4F92300/120202003301.tif\n",
      "100%|██████████| 37.1M/37.1M [00:02<00:00, 12.4MB/s]\n"
     ]
    },
    {
     "name": "stdout",
     "output_type": "stream",
     "text": [
      "Downloading 53 out of 66: 10300500E4F92300/120202003303.tif\n"
     ]
    },
    {
     "name": "stderr",
     "output_type": "stream",
     "text": [
      "Downloading...\n",
      "From: https://maxar-opendata.s3.amazonaws.com/events/Morocco-Earthquake-Sept-2023/ard/29/120202003303/2023-09-11/10300500E4F92300-visual.tif\n",
      "To: /home/jupyter/DR_ML_GEOG761/BDA/10300500E4F92300/120202003303.tif\n",
      "100%|██████████| 44.1M/44.1M [00:03<00:00, 13.3MB/s]\n"
     ]
    },
    {
     "name": "stdout",
     "output_type": "stream",
     "text": [
      "Downloading 54 out of 66: 10300500E4F92300/120202003310.tif\n"
     ]
    },
    {
     "name": "stderr",
     "output_type": "stream",
     "text": [
      "Downloading...\n",
      "From: https://maxar-opendata.s3.amazonaws.com/events/Morocco-Earthquake-Sept-2023/ard/29/120202003310/2023-09-11/10300500E4F92300-visual.tif\n",
      "To: /home/jupyter/DR_ML_GEOG761/BDA/10300500E4F92300/120202003310.tif\n",
      "100%|██████████| 62.9M/62.9M [00:04<00:00, 14.8MB/s]\n"
     ]
    },
    {
     "name": "stdout",
     "output_type": "stream",
     "text": [
      "Downloading 55 out of 66: 10300500E4F92300/120202003311.tif\n"
     ]
    },
    {
     "name": "stderr",
     "output_type": "stream",
     "text": [
      "Downloading...\n",
      "From: https://maxar-opendata.s3.amazonaws.com/events/Morocco-Earthquake-Sept-2023/ard/29/120202003311/2023-09-11/10300500E4F92300-visual.tif\n",
      "To: /home/jupyter/DR_ML_GEOG761/BDA/10300500E4F92300/120202003311.tif\n",
      "100%|██████████| 55.4M/55.4M [00:03<00:00, 14.1MB/s]\n"
     ]
    },
    {
     "name": "stdout",
     "output_type": "stream",
     "text": [
      "Downloading 56 out of 66: 10300500E4F92300/120202003312.tif\n"
     ]
    },
    {
     "name": "stderr",
     "output_type": "stream",
     "text": [
      "Downloading...\n",
      "From: https://maxar-opendata.s3.amazonaws.com/events/Morocco-Earthquake-Sept-2023/ard/29/120202003312/2023-09-11/10300500E4F92300-visual.tif\n",
      "To: /home/jupyter/DR_ML_GEOG761/BDA/10300500E4F92300/120202003312.tif\n",
      "100%|██████████| 75.7M/75.7M [00:05<00:00, 14.7MB/s]\n"
     ]
    },
    {
     "name": "stdout",
     "output_type": "stream",
     "text": [
      "Downloading 57 out of 66: 10300500E4F92300/120202003313.tif\n"
     ]
    },
    {
     "name": "stderr",
     "output_type": "stream",
     "text": [
      "Downloading...\n",
      "From: https://maxar-opendata.s3.amazonaws.com/events/Morocco-Earthquake-Sept-2023/ard/29/120202003313/2023-09-11/10300500E4F92300-visual.tif\n",
      "To: /home/jupyter/DR_ML_GEOG761/BDA/10300500E4F92300/120202003313.tif\n",
      "100%|██████████| 71.3M/71.3M [00:04<00:00, 15.2MB/s]\n"
     ]
    },
    {
     "name": "stdout",
     "output_type": "stream",
     "text": [
      "Downloading 58 out of 66: 10300500E4F92300/120202012200.tif\n"
     ]
    },
    {
     "name": "stderr",
     "output_type": "stream",
     "text": [
      "Downloading...\n",
      "From: https://maxar-opendata.s3.amazonaws.com/events/Morocco-Earthquake-Sept-2023/ard/29/120202012200/2023-09-11/10300500E4F92300-visual.tif\n",
      "To: /home/jupyter/DR_ML_GEOG761/BDA/10300500E4F92300/120202012200.tif\n",
      "100%|██████████| 59.0M/59.0M [00:04<00:00, 14.3MB/s]\n"
     ]
    },
    {
     "name": "stdout",
     "output_type": "stream",
     "text": [
      "Downloading 59 out of 66: 10300500E4F92300/120202012201.tif\n"
     ]
    },
    {
     "name": "stderr",
     "output_type": "stream",
     "text": [
      "Downloading...\n",
      "From: https://maxar-opendata.s3.amazonaws.com/events/Morocco-Earthquake-Sept-2023/ard/29/120202012201/2023-09-11/10300500E4F92300-visual.tif\n",
      "To: /home/jupyter/DR_ML_GEOG761/BDA/10300500E4F92300/120202012201.tif\n",
      "100%|██████████| 32.8M/32.8M [00:02<00:00, 12.2MB/s]\n"
     ]
    },
    {
     "name": "stdout",
     "output_type": "stream",
     "text": [
      "Downloading 60 out of 66: 10300500E4F92300/120202012202.tif\n"
     ]
    },
    {
     "name": "stderr",
     "output_type": "stream",
     "text": [
      "Downloading...\n",
      "From: https://maxar-opendata.s3.amazonaws.com/events/Morocco-Earthquake-Sept-2023/ard/29/120202012202/2023-09-11/10300500E4F92300-visual.tif\n",
      "To: /home/jupyter/DR_ML_GEOG761/BDA/10300500E4F92300/120202012202.tif\n",
      "100%|██████████| 70.2M/70.2M [00:04<00:00, 14.9MB/s]\n"
     ]
    },
    {
     "name": "stdout",
     "output_type": "stream",
     "text": [
      "Downloading 61 out of 66: 10300500E4F92300/120202012203.tif\n"
     ]
    },
    {
     "name": "stderr",
     "output_type": "stream",
     "text": [
      "Downloading...\n",
      "From: https://maxar-opendata.s3.amazonaws.com/events/Morocco-Earthquake-Sept-2023/ard/29/120202012203/2023-09-11/10300500E4F92300-visual.tif\n",
      "To: /home/jupyter/DR_ML_GEOG761/BDA/10300500E4F92300/120202012203.tif\n",
      "100%|██████████| 35.6M/35.6M [00:03<00:00, 8.98MB/s]\n"
     ]
    },
    {
     "name": "stdout",
     "output_type": "stream",
     "text": [
      "Downloading 62 out of 66: 10300500E4F92300/120202003321.tif\n"
     ]
    },
    {
     "name": "stderr",
     "output_type": "stream",
     "text": [
      "Downloading...\n",
      "From: https://maxar-opendata.s3.amazonaws.com/events/Morocco-Earthquake-Sept-2023/ard/29/120202003321/2023-09-11/10300500E4F92300-visual.tif\n",
      "To: /home/jupyter/DR_ML_GEOG761/BDA/10300500E4F92300/120202003321.tif\n",
      "100%|██████████| 48.3M/48.3M [00:03<00:00, 14.1MB/s]\n"
     ]
    },
    {
     "name": "stdout",
     "output_type": "stream",
     "text": [
      "Downloading 63 out of 66: 10300500E4F92300/120202003330.tif\n"
     ]
    },
    {
     "name": "stderr",
     "output_type": "stream",
     "text": [
      "Downloading...\n",
      "From: https://maxar-opendata.s3.amazonaws.com/events/Morocco-Earthquake-Sept-2023/ard/29/120202003330/2023-09-11/10300500E4F92300-visual.tif\n",
      "To: /home/jupyter/DR_ML_GEOG761/BDA/10300500E4F92300/120202003330.tif\n",
      "100%|██████████| 78.8M/78.8M [00:05<00:00, 15.2MB/s]\n"
     ]
    },
    {
     "name": "stdout",
     "output_type": "stream",
     "text": [
      "Downloading 64 out of 66: 10300500E4F92300/120202003331.tif\n"
     ]
    },
    {
     "name": "stderr",
     "output_type": "stream",
     "text": [
      "Downloading...\n",
      "From: https://maxar-opendata.s3.amazonaws.com/events/Morocco-Earthquake-Sept-2023/ard/29/120202003331/2023-09-11/10300500E4F92300-visual.tif\n",
      "To: /home/jupyter/DR_ML_GEOG761/BDA/10300500E4F92300/120202003331.tif\n",
      "100%|██████████| 72.4M/72.4M [00:04<00:00, 14.8MB/s]\n"
     ]
    },
    {
     "name": "stdout",
     "output_type": "stream",
     "text": [
      "Downloading 65 out of 66: 10300500E4F92300/120202012220.tif\n"
     ]
    },
    {
     "name": "stderr",
     "output_type": "stream",
     "text": [
      "Downloading...\n",
      "From: https://maxar-opendata.s3.amazonaws.com/events/Morocco-Earthquake-Sept-2023/ard/29/120202012220/2023-09-11/10300500E4F92300-visual.tif\n",
      "To: /home/jupyter/DR_ML_GEOG761/BDA/10300500E4F92300/120202012220.tif\n",
      "100%|██████████| 77.7M/77.7M [00:05<00:00, 15.2MB/s]\n"
     ]
    },
    {
     "name": "stdout",
     "output_type": "stream",
     "text": [
      "Downloading 66 out of 66: 10300500E4F92300/120202012221.tif\n"
     ]
    },
    {
     "name": "stderr",
     "output_type": "stream",
     "text": [
      "Downloading...\n",
      "From: https://maxar-opendata.s3.amazonaws.com/events/Morocco-Earthquake-Sept-2023/ard/29/120202012221/2023-09-11/10300500E4F92300-visual.tif\n",
      "To: /home/jupyter/DR_ML_GEOG761/BDA/10300500E4F92300/120202012221.tif\n",
      "100%|██████████| 35.5M/35.5M [00:02<00:00, 12.4MB/s]\n"
     ]
    }
   ],
   "source": [
    "leafmap.maxar_download(post_images)"
   ]
  }
 ],
 "metadata": {
  "environment": {
   "kernel": "conda-root-py",
   "name": "workbench-notebooks.m111",
   "type": "gcloud",
   "uri": "gcr.io/deeplearning-platform-release/workbench-notebooks:m111"
  },
  "kernelspec": {
   "display_name": "Python 3",
   "language": "python",
   "name": "conda-root-py"
  },
  "language_info": {
   "codemirror_mode": {
    "name": "ipython",
    "version": 3
   },
   "file_extension": ".py",
   "mimetype": "text/x-python",
   "name": "python",
   "nbconvert_exporter": "python",
   "pygments_lexer": "ipython3",
   "version": "3.10.12"
  }
 },
 "nbformat": 4,
 "nbformat_minor": 5
}
