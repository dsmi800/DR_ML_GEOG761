{
 "cells": [
  {
   "cell_type": "code",
   "execution_count": 2,
   "id": "5acaf16b-84df-4600-a53d-22795fc49ce4",
   "metadata": {},
   "outputs": [
    {
     "name": "stdout",
     "output_type": "stream",
     "text": [
      "/bin/bash: line 1: python--version: command not found\n"
     ]
    }
   ],
   "source": [
    "# GEOG 761 Project\n",
    "# group 2\n",
    "\n",
    "! python--version\n"
   ]
  },
  {
   "cell_type": "code",
   "execution_count": 1,
   "id": "06ad90e5-4195-4b36-b5f0-218d2267c2be",
   "metadata": {},
   "outputs": [
    {
     "name": "stdout",
     "output_type": "stream",
     "text": [
      "Collecting changeos\n",
      "  Using cached changeos-0.2-py3-none-any.whl (3.2 kB)\n",
      "Requirement already satisfied: numpy in /opt/conda/lib/python3.10/site-packages (from changeos) (1.23.5)\n",
      "Requirement already satisfied: Pillow in /opt/conda/lib/python3.10/site-packages (from changeos) (10.0.0)\n",
      "Requirement already satisfied: scikit-image in /opt/conda/lib/python3.10/site-packages (from changeos) (0.21.0)\n",
      "Collecting torch (from changeos)\n",
      "  Using cached torch-2.0.1-cp310-cp310-manylinux1_x86_64.whl (619.9 MB)\n",
      "Collecting torchvision (from changeos)\n",
      "  Using cached torchvision-0.15.2-cp310-cp310-manylinux1_x86_64.whl (6.0 MB)\n",
      "Requirement already satisfied: scipy>=1.8 in /opt/conda/lib/python3.10/site-packages (from scikit-image->changeos) (1.11.2)\n",
      "Requirement already satisfied: networkx>=2.8 in /opt/conda/lib/python3.10/site-packages (from scikit-image->changeos) (3.1)\n",
      "Requirement already satisfied: imageio>=2.27 in /opt/conda/lib/python3.10/site-packages (from scikit-image->changeos) (2.31.1)\n",
      "Requirement already satisfied: tifffile>=2022.8.12 in /opt/conda/lib/python3.10/site-packages (from scikit-image->changeos) (2023.8.12)\n",
      "Requirement already satisfied: PyWavelets>=1.1.1 in /opt/conda/lib/python3.10/site-packages (from scikit-image->changeos) (1.4.1)\n",
      "Requirement already satisfied: packaging>=21 in /opt/conda/lib/python3.10/site-packages (from scikit-image->changeos) (23.1)\n",
      "Requirement already satisfied: lazy_loader>=0.2 in /opt/conda/lib/python3.10/site-packages (from scikit-image->changeos) (0.3)\n",
      "Requirement already satisfied: filelock in /opt/conda/lib/python3.10/site-packages (from torch->changeos) (3.12.2)\n",
      "Requirement already satisfied: typing-extensions in /opt/conda/lib/python3.10/site-packages (from torch->changeos) (4.7.1)\n",
      "Collecting sympy (from torch->changeos)\n",
      "  Using cached sympy-1.12-py3-none-any.whl (5.7 MB)\n",
      "Requirement already satisfied: jinja2 in /opt/conda/lib/python3.10/site-packages (from torch->changeos) (3.1.2)\n",
      "Collecting nvidia-cuda-nvrtc-cu11==11.7.99 (from torch->changeos)\n",
      "  Using cached nvidia_cuda_nvrtc_cu11-11.7.99-2-py3-none-manylinux1_x86_64.whl (21.0 MB)\n",
      "Collecting nvidia-cuda-runtime-cu11==11.7.99 (from torch->changeos)\n",
      "  Using cached nvidia_cuda_runtime_cu11-11.7.99-py3-none-manylinux1_x86_64.whl (849 kB)\n",
      "Collecting nvidia-cuda-cupti-cu11==11.7.101 (from torch->changeos)\n",
      "  Using cached nvidia_cuda_cupti_cu11-11.7.101-py3-none-manylinux1_x86_64.whl (11.8 MB)\n",
      "Collecting nvidia-cudnn-cu11==8.5.0.96 (from torch->changeos)\n",
      "  Using cached nvidia_cudnn_cu11-8.5.0.96-2-py3-none-manylinux1_x86_64.whl (557.1 MB)\n",
      "Collecting nvidia-cublas-cu11==11.10.3.66 (from torch->changeos)\n",
      "  Using cached nvidia_cublas_cu11-11.10.3.66-py3-none-manylinux1_x86_64.whl (317.1 MB)\n",
      "Collecting nvidia-cufft-cu11==10.9.0.58 (from torch->changeos)\n",
      "  Using cached nvidia_cufft_cu11-10.9.0.58-py3-none-manylinux1_x86_64.whl (168.4 MB)\n",
      "Collecting nvidia-curand-cu11==10.2.10.91 (from torch->changeos)\n",
      "  Using cached nvidia_curand_cu11-10.2.10.91-py3-none-manylinux1_x86_64.whl (54.6 MB)\n",
      "Collecting nvidia-cusolver-cu11==11.4.0.1 (from torch->changeos)\n",
      "  Using cached nvidia_cusolver_cu11-11.4.0.1-2-py3-none-manylinux1_x86_64.whl (102.6 MB)\n",
      "Collecting nvidia-cusparse-cu11==11.7.4.91 (from torch->changeos)\n",
      "  Using cached nvidia_cusparse_cu11-11.7.4.91-py3-none-manylinux1_x86_64.whl (173.2 MB)\n",
      "Collecting nvidia-nccl-cu11==2.14.3 (from torch->changeos)\n",
      "  Using cached nvidia_nccl_cu11-2.14.3-py3-none-manylinux1_x86_64.whl (177.1 MB)\n",
      "Collecting nvidia-nvtx-cu11==11.7.91 (from torch->changeos)\n",
      "  Using cached nvidia_nvtx_cu11-11.7.91-py3-none-manylinux1_x86_64.whl (98 kB)\n",
      "Collecting triton==2.0.0 (from torch->changeos)\n",
      "  Using cached triton-2.0.0-1-cp310-cp310-manylinux2014_x86_64.manylinux_2_17_x86_64.whl (63.3 MB)\n",
      "Requirement already satisfied: setuptools in /opt/conda/lib/python3.10/site-packages (from nvidia-cublas-cu11==11.10.3.66->torch->changeos) (68.1.2)\n",
      "Requirement already satisfied: wheel in /opt/conda/lib/python3.10/site-packages (from nvidia-cublas-cu11==11.10.3.66->torch->changeos) (0.41.2)\n",
      "Collecting cmake (from triton==2.0.0->torch->changeos)\n",
      "  Obtaining dependency information for cmake from https://files.pythonhosted.org/packages/de/94/cba4b3ddc0d4555967cce8fd6e9fbced98a6bf62857db71c2400a7b6e183/cmake-3.27.5-py2.py3-none-manylinux2014_x86_64.manylinux_2_17_x86_64.whl.metadata\n",
      "  Using cached cmake-3.27.5-py2.py3-none-manylinux2014_x86_64.manylinux_2_17_x86_64.whl.metadata (6.7 kB)\n",
      "Collecting lit (from triton==2.0.0->torch->changeos)\n",
      "  Using cached lit-16.0.6-py3-none-any.whl\n",
      "Requirement already satisfied: requests in /opt/conda/lib/python3.10/site-packages (from torchvision->changeos) (2.31.0)\n",
      "Requirement already satisfied: MarkupSafe>=2.0 in /opt/conda/lib/python3.10/site-packages (from jinja2->torch->changeos) (2.1.3)\n",
      "Requirement already satisfied: charset-normalizer<4,>=2 in /opt/conda/lib/python3.10/site-packages (from requests->torchvision->changeos) (3.2.0)\n",
      "Requirement already satisfied: idna<4,>=2.5 in /opt/conda/lib/python3.10/site-packages (from requests->torchvision->changeos) (3.4)\n",
      "Requirement already satisfied: urllib3<3,>=1.21.1 in /opt/conda/lib/python3.10/site-packages (from requests->torchvision->changeos) (1.26.16)\n",
      "Requirement already satisfied: certifi>=2017.4.17 in /opt/conda/lib/python3.10/site-packages (from requests->torchvision->changeos) (2023.7.22)\n",
      "Collecting mpmath>=0.19 (from sympy->torch->changeos)\n",
      "  Using cached mpmath-1.3.0-py3-none-any.whl (536 kB)\n",
      "Using cached cmake-3.27.5-py2.py3-none-manylinux2014_x86_64.manylinux_2_17_x86_64.whl (26.1 MB)\n",
      "Installing collected packages: mpmath, lit, cmake, sympy, nvidia-nvtx-cu11, nvidia-nccl-cu11, nvidia-cusparse-cu11, nvidia-curand-cu11, nvidia-cufft-cu11, nvidia-cuda-runtime-cu11, nvidia-cuda-nvrtc-cu11, nvidia-cuda-cupti-cu11, nvidia-cublas-cu11, nvidia-cusolver-cu11, nvidia-cudnn-cu11, triton, torch, torchvision, changeos\n",
      "Successfully installed changeos-0.2 cmake-3.27.5 lit-16.0.6 mpmath-1.3.0 nvidia-cublas-cu11-11.10.3.66 nvidia-cuda-cupti-cu11-11.7.101 nvidia-cuda-nvrtc-cu11-11.7.99 nvidia-cuda-runtime-cu11-11.7.99 nvidia-cudnn-cu11-8.5.0.96 nvidia-cufft-cu11-10.9.0.58 nvidia-curand-cu11-10.2.10.91 nvidia-cusolver-cu11-11.4.0.1 nvidia-cusparse-cu11-11.7.4.91 nvidia-nccl-cu11-2.14.3 nvidia-nvtx-cu11-11.7.91 sympy-1.12 torch-2.0.1 torchvision-0.15.2 triton-2.0.0\n"
     ]
    }
   ],
   "source": [
    "!pip install changeos"
   ]
  },
  {
   "cell_type": "code",
   "execution_count": 3,
   "id": "a00059e0-a343-47c5-93e4-6f8b18f3ace0",
   "metadata": {},
   "outputs": [
    {
     "name": "stdout",
     "output_type": "stream",
     "text": [
      "[[[ 67  72  55]\n",
      "  [ 64  70  53]\n",
      "  [ 65  73  55]\n",
      "  ...\n",
      "  [ 44  57  39]\n",
      "  [ 47  61  42]\n",
      "  [ 46  60  42]]\n",
      "\n",
      " [[ 58  63  48]\n",
      "  [ 64  69  53]\n",
      "  [ 60  65  49]\n",
      "  ...\n",
      "  [ 52  67  45]\n",
      "  [ 39  52  35]\n",
      "  [ 45  61  41]]\n",
      "\n",
      " [[ 52  56  43]\n",
      "  [ 50  54  41]\n",
      "  [ 44  49  37]\n",
      "  ...\n",
      "  [ 68  86  58]\n",
      "  [ 54  72  47]\n",
      "  [ 53  72  47]]\n",
      "\n",
      " ...\n",
      "\n",
      " [[205 206 195]\n",
      "  [195 199 187]\n",
      "  [171 175 164]\n",
      "  ...\n",
      "  [ 91  91  69]\n",
      "  [ 94  94  72]\n",
      "  [101 101  78]]\n",
      "\n",
      " [[196 198 187]\n",
      "  [189 191 180]\n",
      "  [165 169 157]\n",
      "  ...\n",
      "  [ 91  91  69]\n",
      "  [ 94  94  72]\n",
      "  [101 101  78]]\n",
      "\n",
      " [[194 194 184]\n",
      "  [191 191 180]\n",
      "  [177 179 166]\n",
      "  ...\n",
      "  [ 96  95  74]\n",
      "  [ 99  98  76]\n",
      "  [ 99  99  76]]]\n"
     ]
    },
    {
     "ename": "RuntimeError",
     "evalue": "The following operation failed in the TorchScript interpreter.\nTraceback of TorchScript, serialized code (most recent call last):\n  File \"code/__torch__/module/arch_encoder_decoder.py\", line 15, in forward\n    encoder = self.encoder\n    _0, _1, _2, _3, _4, _5, _6, _7, = (encoder).forward(x, )\n    _8 = (decoder).forward(_0, _1, _2, _3, _4, _5, _6, _7, )\n          ~~~~~~~~~~~~~~~~ <--- HERE\n    _9, _10, _11, = _8\n    _12, _13, = (head).forward(_9, _10, _11, )\n  File \"code/__torch__/module/changeos_decoder.py\", line 22, in forward\n    loc_neck = self.loc_neck\n    _0 = (loc_neck).forward(argument_1, argument_2, argument_3, argument_4, )\n    _1 = (dam_neck).forward(argument_5, argument_6, argument_7, argument_8, )\n          ~~~~~~~~~~~~~~~~~ <--- HERE\n    input = torch.cat([_0, _1], 1)\n    _2 = (_0, _0, (fuse_conv).forward(input, ))\n  File \"code/__torch__/torch/nn/modules/container/___torch_mangle_421.py\", line 17, in forward\n    _2 = (_0).forward(argument_1, argument_2, argument_3, argument_4, )\n    _3, _4, _5, _6, = _2\n    return (_1).forward(_3, _4, _5, _6, )\n            ~~~~~~~~~~~ <--- HERE\n  File \"code/__torch__/ever/module/fpn/___torch_mangle_420.py\", line 24, in forward\n    _6 = (_2).forward(argument_3, )\n    _7 = (_3).forward(argument_4, )\n    _8 = torch.add(torch.add(_4, CONSTANTS.c2), _5)\n                   ~~~~~~~~~ <--- HERE\n    t2_features = torch.div(torch.add(torch.add(_8, _6), _7), CONSTANTS.c3)\n    return t2_features\n\nTraceback of TorchScript, original code (most recent call last):\n/home/zz/anaconda3/envs/th110/lib/python3.9/site-packages/ever/module/fpn.py(182): forward\n/home/zz/anaconda3/envs/th110/lib/python3.9/site-packages/torch/nn/modules/module.py(1090): _slow_forward\n/home/zz/anaconda3/envs/th110/lib/python3.9/site-packages/torch/nn/modules/module.py(1102): _call_impl\n/home/zz/anaconda3/envs/th110/lib/python3.9/site-packages/torch/nn/modules/container.py(141): forward\n/home/zz/anaconda3/envs/th110/lib/python3.9/site-packages/torch/nn/modules/module.py(1090): _slow_forward\n/home/zz/anaconda3/envs/th110/lib/python3.9/site-packages/torch/nn/modules/module.py(1102): _call_impl\n/home/zz/wow21/reproduce_changeos/module/changeos_decoder.py(43): forward\n/home/zz/anaconda3/envs/th110/lib/python3.9/site-packages/torch/nn/modules/module.py(1090): _slow_forward\n/home/zz/anaconda3/envs/th110/lib/python3.9/site-packages/torch/nn/modules/module.py(1102): _call_impl\n/home/zz/wow21/reproduce_changeos/module/arch_encoder_decoder.py(15): forward\n/home/zz/anaconda3/envs/th110/lib/python3.9/site-packages/torch/nn/modules/module.py(1090): _slow_forward\n/home/zz/anaconda3/envs/th110/lib/python3.9/site-packages/torch/nn/modules/module.py(1102): _call_impl\n/home/zz/anaconda3/envs/th110/lib/python3.9/site-packages/torch/jit/_trace.py(958): trace_module\n/home/zz/anaconda3/envs/th110/lib/python3.9/site-packages/torch/jit/_trace.py(741): trace\n/home/zz/wow21/reproduce_changeos/jit_tool.py(11): <module>\nRuntimeError: CUDA out of memory. Tried to allocate 64.00 MiB (GPU 0; 7.43 GiB total capacity; 6.61 GiB already allocated; 42.00 MiB free; 6.69 GiB reserved in total by PyTorch) If reserved memory is >> allocated memory try setting max_split_size_mb to avoid fragmentation.  See documentation for Memory Management and PYTORCH_CUDA_ALLOC_CONF\n",
     "output_type": "error",
     "traceback": [
      "\u001b[0;31m---------------------------------------------------------------------------\u001b[0m",
      "\u001b[0;31mRuntimeError\u001b[0m                              Traceback (most recent call last)",
      "Cell \u001b[0;32mIn[3], line 17\u001b[0m\n\u001b[1;32m     14\u001b[0m \u001b[38;5;28mprint\u001b[39m(pre_disaster_image)\n\u001b[1;32m     16\u001b[0m \u001b[38;5;66;03m# model inference\u001b[39;00m\n\u001b[0;32m---> 17\u001b[0m loc, dam \u001b[38;5;241m=\u001b[39m \u001b[43mmodel\u001b[49m\u001b[43m(\u001b[49m\u001b[43mpre_disaster_image\u001b[49m\u001b[43m,\u001b[49m\u001b[43m \u001b[49m\u001b[43mpost_disaster_image\u001b[49m\u001b[43m)\u001b[49m\n\u001b[1;32m     19\u001b[0m \u001b[38;5;66;03m# put color map on raw prediction\u001b[39;00m\n\u001b[1;32m     20\u001b[0m loc, dam \u001b[38;5;241m=\u001b[39m changeos\u001b[38;5;241m.\u001b[39mvisualize(loc, dam)\n",
      "File \u001b[0;32m/opt/conda/lib/python3.10/site-packages/changeos/__init__.py:40\u001b[0m, in \u001b[0;36mChangeOS.__call__\u001b[0;34m(self, pre_disaster_image, post_disaster_image)\u001b[0m\n\u001b[1;32m     34\u001b[0m image \u001b[38;5;241m=\u001b[39m F\u001b[38;5;241m.\u001b[39mnormalize(image,\n\u001b[1;32m     35\u001b[0m                     mean\u001b[38;5;241m=\u001b[39m[\u001b[38;5;241m123.675\u001b[39m, \u001b[38;5;241m116.28\u001b[39m, \u001b[38;5;241m103.53\u001b[39m, \u001b[38;5;241m123.675\u001b[39m, \u001b[38;5;241m116.28\u001b[39m, \u001b[38;5;241m103.53\u001b[39m],\n\u001b[1;32m     36\u001b[0m                     std\u001b[38;5;241m=\u001b[39m[\u001b[38;5;241m58.395\u001b[39m, \u001b[38;5;241m57.12\u001b[39m, \u001b[38;5;241m57.375\u001b[39m, \u001b[38;5;241m58.395\u001b[39m, \u001b[38;5;241m57.12\u001b[39m, \u001b[38;5;241m57.375\u001b[39m],\n\u001b[1;32m     37\u001b[0m                     inplace\u001b[38;5;241m=\u001b[39m\u001b[38;5;28;01mTrue\u001b[39;00m)\n\u001b[1;32m     39\u001b[0m image \u001b[38;5;241m=\u001b[39m image\u001b[38;5;241m.\u001b[39munsqueeze(\u001b[38;5;241m0\u001b[39m)\u001b[38;5;241m.\u001b[39mto(\u001b[38;5;28mself\u001b[39m\u001b[38;5;241m.\u001b[39mdevice)\n\u001b[0;32m---> 40\u001b[0m loc, dam \u001b[38;5;241m=\u001b[39m \u001b[38;5;28;43mself\u001b[39;49m\u001b[38;5;241;43m.\u001b[39;49m\u001b[43mmodel\u001b[49m\u001b[43m(\u001b[49m\u001b[43mimage\u001b[49m\u001b[43m)\u001b[49m\n\u001b[1;32m     42\u001b[0m loc, dam \u001b[38;5;241m=\u001b[39m object_based_infer(loc, dam)\n\u001b[1;32m     43\u001b[0m loc \u001b[38;5;241m=\u001b[39m loc\u001b[38;5;241m.\u001b[39msqueeze()\u001b[38;5;241m.\u001b[39mastype(np\u001b[38;5;241m.\u001b[39muint8)\n",
      "File \u001b[0;32m/opt/conda/lib/python3.10/site-packages/torch/nn/modules/module.py:1501\u001b[0m, in \u001b[0;36mModule._call_impl\u001b[0;34m(self, *args, **kwargs)\u001b[0m\n\u001b[1;32m   1496\u001b[0m \u001b[38;5;66;03m# If we don't have any hooks, we want to skip the rest of the logic in\u001b[39;00m\n\u001b[1;32m   1497\u001b[0m \u001b[38;5;66;03m# this function, and just call forward.\u001b[39;00m\n\u001b[1;32m   1498\u001b[0m \u001b[38;5;28;01mif\u001b[39;00m \u001b[38;5;129;01mnot\u001b[39;00m (\u001b[38;5;28mself\u001b[39m\u001b[38;5;241m.\u001b[39m_backward_hooks \u001b[38;5;129;01mor\u001b[39;00m \u001b[38;5;28mself\u001b[39m\u001b[38;5;241m.\u001b[39m_backward_pre_hooks \u001b[38;5;129;01mor\u001b[39;00m \u001b[38;5;28mself\u001b[39m\u001b[38;5;241m.\u001b[39m_forward_hooks \u001b[38;5;129;01mor\u001b[39;00m \u001b[38;5;28mself\u001b[39m\u001b[38;5;241m.\u001b[39m_forward_pre_hooks\n\u001b[1;32m   1499\u001b[0m         \u001b[38;5;129;01mor\u001b[39;00m _global_backward_pre_hooks \u001b[38;5;129;01mor\u001b[39;00m _global_backward_hooks\n\u001b[1;32m   1500\u001b[0m         \u001b[38;5;129;01mor\u001b[39;00m _global_forward_hooks \u001b[38;5;129;01mor\u001b[39;00m _global_forward_pre_hooks):\n\u001b[0;32m-> 1501\u001b[0m     \u001b[38;5;28;01mreturn\u001b[39;00m \u001b[43mforward_call\u001b[49m\u001b[43m(\u001b[49m\u001b[38;5;241;43m*\u001b[39;49m\u001b[43margs\u001b[49m\u001b[43m,\u001b[49m\u001b[43m \u001b[49m\u001b[38;5;241;43m*\u001b[39;49m\u001b[38;5;241;43m*\u001b[39;49m\u001b[43mkwargs\u001b[49m\u001b[43m)\u001b[49m\n\u001b[1;32m   1502\u001b[0m \u001b[38;5;66;03m# Do not call functions when jit is used\u001b[39;00m\n\u001b[1;32m   1503\u001b[0m full_backward_hooks, non_full_backward_hooks \u001b[38;5;241m=\u001b[39m [], []\n",
      "\u001b[0;31mRuntimeError\u001b[0m: The following operation failed in the TorchScript interpreter.\nTraceback of TorchScript, serialized code (most recent call last):\n  File \"code/__torch__/module/arch_encoder_decoder.py\", line 15, in forward\n    encoder = self.encoder\n    _0, _1, _2, _3, _4, _5, _6, _7, = (encoder).forward(x, )\n    _8 = (decoder).forward(_0, _1, _2, _3, _4, _5, _6, _7, )\n          ~~~~~~~~~~~~~~~~ <--- HERE\n    _9, _10, _11, = _8\n    _12, _13, = (head).forward(_9, _10, _11, )\n  File \"code/__torch__/module/changeos_decoder.py\", line 22, in forward\n    loc_neck = self.loc_neck\n    _0 = (loc_neck).forward(argument_1, argument_2, argument_3, argument_4, )\n    _1 = (dam_neck).forward(argument_5, argument_6, argument_7, argument_8, )\n          ~~~~~~~~~~~~~~~~~ <--- HERE\n    input = torch.cat([_0, _1], 1)\n    _2 = (_0, _0, (fuse_conv).forward(input, ))\n  File \"code/__torch__/torch/nn/modules/container/___torch_mangle_421.py\", line 17, in forward\n    _2 = (_0).forward(argument_1, argument_2, argument_3, argument_4, )\n    _3, _4, _5, _6, = _2\n    return (_1).forward(_3, _4, _5, _6, )\n            ~~~~~~~~~~~ <--- HERE\n  File \"code/__torch__/ever/module/fpn/___torch_mangle_420.py\", line 24, in forward\n    _6 = (_2).forward(argument_3, )\n    _7 = (_3).forward(argument_4, )\n    _8 = torch.add(torch.add(_4, CONSTANTS.c2), _5)\n                   ~~~~~~~~~ <--- HERE\n    t2_features = torch.div(torch.add(torch.add(_8, _6), _7), CONSTANTS.c3)\n    return t2_features\n\nTraceback of TorchScript, original code (most recent call last):\n/home/zz/anaconda3/envs/th110/lib/python3.9/site-packages/ever/module/fpn.py(182): forward\n/home/zz/anaconda3/envs/th110/lib/python3.9/site-packages/torch/nn/modules/module.py(1090): _slow_forward\n/home/zz/anaconda3/envs/th110/lib/python3.9/site-packages/torch/nn/modules/module.py(1102): _call_impl\n/home/zz/anaconda3/envs/th110/lib/python3.9/site-packages/torch/nn/modules/container.py(141): forward\n/home/zz/anaconda3/envs/th110/lib/python3.9/site-packages/torch/nn/modules/module.py(1090): _slow_forward\n/home/zz/anaconda3/envs/th110/lib/python3.9/site-packages/torch/nn/modules/module.py(1102): _call_impl\n/home/zz/wow21/reproduce_changeos/module/changeos_decoder.py(43): forward\n/home/zz/anaconda3/envs/th110/lib/python3.9/site-packages/torch/nn/modules/module.py(1090): _slow_forward\n/home/zz/anaconda3/envs/th110/lib/python3.9/site-packages/torch/nn/modules/module.py(1102): _call_impl\n/home/zz/wow21/reproduce_changeos/module/arch_encoder_decoder.py(15): forward\n/home/zz/anaconda3/envs/th110/lib/python3.9/site-packages/torch/nn/modules/module.py(1090): _slow_forward\n/home/zz/anaconda3/envs/th110/lib/python3.9/site-packages/torch/nn/modules/module.py(1102): _call_impl\n/home/zz/anaconda3/envs/th110/lib/python3.9/site-packages/torch/jit/_trace.py(958): trace_module\n/home/zz/anaconda3/envs/th110/lib/python3.9/site-packages/torch/jit/_trace.py(741): trace\n/home/zz/wow21/reproduce_changeos/jit_tool.py(11): <module>\nRuntimeError: CUDA out of memory. Tried to allocate 64.00 MiB (GPU 0; 7.43 GiB total capacity; 6.61 GiB already allocated; 42.00 MiB free; 6.69 GiB reserved in total by PyTorch) If reserved memory is >> allocated memory try setting max_split_size_mb to avoid fragmentation.  See documentation for Memory Management and PYTORCH_CUDA_ALLOC_CONF\n"
     ]
    }
   ],
   "source": [
    "# changeos has four APIs\n",
    "# (e.g., 'list_available_models', 'from_name', 'visualize', 'demo_data')\n",
    "import changeos\n",
    "\n",
    "\n",
    "# constructing ChangeOS model\n",
    "# support 'changeos_r18', 'changeos_r34', 'changeos_r50', 'changeos_r101'\n",
    "model = changeos.from_name('changeos_r101') # take 'changeos_r101' as example\n",
    "\n",
    "# load your data or our prepared demo data\n",
    "# numpy array of shape [1024, 1024, 3], [1024, 1024, 3]\n",
    "pre_disaster_image, post_disaster_image = changeos.demo_data()\n",
    "\n",
    "print(pre_disaster_image)\n",
    "\n",
    "# model inference\n",
    "loc, dam = model(pre_disaster_image, post_disaster_image)\n",
    "\n",
    "# put color map on raw prediction\n",
    "loc, dam = changeos.visualize(loc, dam)\n",
    "\n",
    "# visualize by matplotlib\n",
    "import matplotlib.pyplot as plt\n",
    "plt.subplot(121)\n",
    "plt.imshow(loc)\n",
    "plt.subplot(122)\n",
    "plt.imshow(dam)\n",
    "plt.show()"
   ]
  },
  {
   "cell_type": "code",
   "execution_count": null,
   "id": "26f905df-e066-4b0c-aa28-070265673d69",
   "metadata": {},
   "outputs": [],
   "source": []
  }
 ],
 "metadata": {
  "environment": {
   "kernel": "conda-root-py",
   "name": "workbench-notebooks.m111",
   "type": "gcloud",
   "uri": "gcr.io/deeplearning-platform-release/workbench-notebooks:m111"
  },
  "kernelspec": {
   "display_name": "Python 3",
   "language": "python",
   "name": "conda-root-py"
  },
  "language_info": {
   "codemirror_mode": {
    "name": "ipython",
    "version": 3
   },
   "file_extension": ".py",
   "mimetype": "text/x-python",
   "name": "python",
   "nbconvert_exporter": "python",
   "pygments_lexer": "ipython3",
   "version": "3.10.12"
  }
 },
 "nbformat": 4,
 "nbformat_minor": 5
}
